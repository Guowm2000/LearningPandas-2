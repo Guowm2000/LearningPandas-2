{
 "cells": [
  {
   "cell_type": "markdown",
   "id": "5a92c157-d381-49bf-a04d-901d98c359f7",
   "metadata": {},
   "source": [
    "## loc函数的使用"
   ]
  },
  {
   "cell_type": "code",
   "execution_count": null,
   "id": "862757d6-d9be-4a5d-90e7-cc495b145ed9",
   "metadata": {},
   "outputs": [],
   "source": []
  }
 ],
 "metadata": {
  "kernelspec": {
   "display_name": "Python 3 (ipykernel)",
   "language": "python",
   "name": "python3"
  },
  "language_info": {
   "codemirror_mode": {
    "name": "ipython",
    "version": 3
   },
   "file_extension": ".py",
   "mimetype": "text/x-python",
   "name": "python",
   "nbconvert_exporter": "python",
   "pygments_lexer": "ipython3",
   "version": "3.9.9"
  }
 },
 "nbformat": 4,
 "nbformat_minor": 5
}
