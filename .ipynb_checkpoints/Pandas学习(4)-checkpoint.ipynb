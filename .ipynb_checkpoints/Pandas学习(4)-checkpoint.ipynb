{
 "cells": [
  {
   "cell_type": "markdown",
   "id": "8dcb380e-0cf3-44e9-9516-77a004ec4103",
   "metadata": {},
   "source": [
    "## **15. Pandas怎样实现 group by 分组数据统计**  "
   ]
  },
  {
   "cell_type": "markdown",
   "id": "951f6bf7-898f-4e05-ad9b-100e40ed20cb",
   "metadata": {},
   "source": [
    "### group by 先对数据分组，然后在各个分组上应用聚合函数、转换函数。与SQL Select 中的 group by 子句类似"
   ]
  },
  {
   "cell_type": "markdown",
   "id": "6f9643ad-c426-4449-831e-83bd4dfe193e",
   "metadata": {},
   "source": [
    "**本章重要内容：**\n",
    "\n",
    "1. 分组使用聚合函数做数据统计\n",
    "2. 遍历 group by 结果，理解执行流程\n",
    "3. 实例分组，探索数据"
   ]
  },
  {
   "cell_type": "code",
   "execution_count": 2,
   "id": "0d313e0c-27d4-40fe-a0ec-ab9af1bc79ca",
   "metadata": {
    "tags": []
   },
   "outputs": [],
   "source": [
    "import pandas as pd\n",
    "import numpy as np"
   ]
  },
  {
   "cell_type": "code",
   "execution_count": 3,
   "id": "49efcbc6-e95b-423b-9b60-f3926f98a417",
   "metadata": {
    "tags": []
   },
   "outputs": [],
   "source": [
    "#以下语句使得jupyter notebook能够展示matplot图标\n",
    "%matplotlib inline"
   ]
  },
  {
   "cell_type": "code",
   "execution_count": 230,
   "id": "544c149a-23b9-4288-af49-ccf1c0455264",
   "metadata": {
    "tags": []
   },
   "outputs": [],
   "source": [
    "df=pd.DataFrame({\n",
    "        'A':['foo','bar','foo','bar','foo','bar','foo','foo'],\n",
    "        'B':['one','one','two','three','two','two','one','three'],\n",
    "        'C':np.random.randn(8),\n",
    "        'D':np.random.randn(8)\n",
    "})"
   ]
  },
  {
   "cell_type": "code",
   "execution_count": 231,
   "id": "981d1dd1-d7c9-4cf5-bab7-415d7fcf18b0",
   "metadata": {
    "tags": []
   },
   "outputs": [
    {
     "data": {
      "text/html": [
       "<div>\n",
       "<style scoped>\n",
       "    .dataframe tbody tr th:only-of-type {\n",
       "        vertical-align: middle;\n",
       "    }\n",
       "\n",
       "    .dataframe tbody tr th {\n",
       "        vertical-align: top;\n",
       "    }\n",
       "\n",
       "    .dataframe thead th {\n",
       "        text-align: right;\n",
       "    }\n",
       "</style>\n",
       "<table border=\"1\" class=\"dataframe\">\n",
       "  <thead>\n",
       "    <tr style=\"text-align: right;\">\n",
       "      <th></th>\n",
       "      <th>A</th>\n",
       "      <th>B</th>\n",
       "      <th>C</th>\n",
       "      <th>D</th>\n",
       "    </tr>\n",
       "  </thead>\n",
       "  <tbody>\n",
       "    <tr>\n",
       "      <th>0</th>\n",
       "      <td>foo</td>\n",
       "      <td>one</td>\n",
       "      <td>1.607244</td>\n",
       "      <td>-0.484185</td>\n",
       "    </tr>\n",
       "    <tr>\n",
       "      <th>1</th>\n",
       "      <td>bar</td>\n",
       "      <td>one</td>\n",
       "      <td>0.939612</td>\n",
       "      <td>-0.163602</td>\n",
       "    </tr>\n",
       "    <tr>\n",
       "      <th>2</th>\n",
       "      <td>foo</td>\n",
       "      <td>two</td>\n",
       "      <td>-0.157027</td>\n",
       "      <td>-0.090537</td>\n",
       "    </tr>\n",
       "    <tr>\n",
       "      <th>3</th>\n",
       "      <td>bar</td>\n",
       "      <td>three</td>\n",
       "      <td>2.108325</td>\n",
       "      <td>0.209951</td>\n",
       "    </tr>\n",
       "    <tr>\n",
       "      <th>4</th>\n",
       "      <td>foo</td>\n",
       "      <td>two</td>\n",
       "      <td>-1.093747</td>\n",
       "      <td>0.282443</td>\n",
       "    </tr>\n",
       "    <tr>\n",
       "      <th>5</th>\n",
       "      <td>bar</td>\n",
       "      <td>two</td>\n",
       "      <td>-1.146026</td>\n",
       "      <td>-0.112424</td>\n",
       "    </tr>\n",
       "    <tr>\n",
       "      <th>6</th>\n",
       "      <td>foo</td>\n",
       "      <td>one</td>\n",
       "      <td>0.229108</td>\n",
       "      <td>-0.870564</td>\n",
       "    </tr>\n",
       "    <tr>\n",
       "      <th>7</th>\n",
       "      <td>foo</td>\n",
       "      <td>three</td>\n",
       "      <td>-1.138436</td>\n",
       "      <td>-1.446859</td>\n",
       "    </tr>\n",
       "  </tbody>\n",
       "</table>\n",
       "</div>"
      ],
      "text/plain": [
       "     A      B         C         D\n",
       "0  foo    one  1.607244 -0.484185\n",
       "1  bar    one  0.939612 -0.163602\n",
       "2  foo    two -0.157027 -0.090537\n",
       "3  bar  three  2.108325  0.209951\n",
       "4  foo    two -1.093747  0.282443\n",
       "5  bar    two -1.146026 -0.112424\n",
       "6  foo    one  0.229108 -0.870564\n",
       "7  foo  three -1.138436 -1.446859"
      ]
     },
     "execution_count": 231,
     "metadata": {},
     "output_type": "execute_result"
    }
   ],
   "source": [
    "df"
   ]
  },
  {
   "cell_type": "markdown",
   "id": "2370501f-11c9-4b28-a5b0-9f200538892c",
   "metadata": {},
   "source": [
    "### **15.1 分组使用聚合函数进行数据统计**"
   ]
  },
  {
   "cell_type": "markdown",
   "id": "e0a70d52-2cb4-45b5-8506-f14898608fd3",
   "metadata": {},
   "source": [
    "#### **15.1.1 单个列group by，对所有数据列进行聚合**"
   ]
  },
  {
   "cell_type": "code",
   "execution_count": 232,
   "id": "90e9f0be-bb0b-4298-b149-ff3b01ddf905",
   "metadata": {
    "tags": []
   },
   "outputs": [
    {
     "name": "stderr",
     "output_type": "stream",
     "text": [
      "/tmp/ipykernel_8849/1885751491.py:1: FutureWarning: The default value of numeric_only in DataFrameGroupBy.sum is deprecated. In a future version, numeric_only will default to False. Either specify numeric_only or select only columns which should be valid for the function.\n",
      "  df.groupby('A').sum()\n"
     ]
    },
    {
     "data": {
      "text/html": [
       "<div>\n",
       "<style scoped>\n",
       "    .dataframe tbody tr th:only-of-type {\n",
       "        vertical-align: middle;\n",
       "    }\n",
       "\n",
       "    .dataframe tbody tr th {\n",
       "        vertical-align: top;\n",
       "    }\n",
       "\n",
       "    .dataframe thead th {\n",
       "        text-align: right;\n",
       "    }\n",
       "</style>\n",
       "<table border=\"1\" class=\"dataframe\">\n",
       "  <thead>\n",
       "    <tr style=\"text-align: right;\">\n",
       "      <th></th>\n",
       "      <th>C</th>\n",
       "      <th>D</th>\n",
       "    </tr>\n",
       "    <tr>\n",
       "      <th>A</th>\n",
       "      <th></th>\n",
       "      <th></th>\n",
       "    </tr>\n",
       "  </thead>\n",
       "  <tbody>\n",
       "    <tr>\n",
       "      <th>bar</th>\n",
       "      <td>1.901911</td>\n",
       "      <td>-0.066075</td>\n",
       "    </tr>\n",
       "    <tr>\n",
       "      <th>foo</th>\n",
       "      <td>-0.552859</td>\n",
       "      <td>-2.609702</td>\n",
       "    </tr>\n",
       "  </tbody>\n",
       "</table>\n",
       "</div>"
      ],
      "text/plain": [
       "            C         D\n",
       "A                      \n",
       "bar  1.901911 -0.066075\n",
       "foo -0.552859 -2.609702"
      ]
     },
     "execution_count": 232,
     "metadata": {},
     "output_type": "execute_result"
    }
   ],
   "source": [
    "df.groupby('A').sum()"
   ]
  },
  {
   "cell_type": "code",
   "execution_count": 233,
   "id": "2c5dac4e-3995-4b6d-880d-f30e87e8b5f3",
   "metadata": {
    "tags": []
   },
   "outputs": [
    {
     "data": {
      "text/html": [
       "<div>\n",
       "<style scoped>\n",
       "    .dataframe tbody tr th:only-of-type {\n",
       "        vertical-align: middle;\n",
       "    }\n",
       "\n",
       "    .dataframe tbody tr th {\n",
       "        vertical-align: top;\n",
       "    }\n",
       "\n",
       "    .dataframe thead th {\n",
       "        text-align: right;\n",
       "    }\n",
       "</style>\n",
       "<table border=\"1\" class=\"dataframe\">\n",
       "  <thead>\n",
       "    <tr style=\"text-align: right;\">\n",
       "      <th></th>\n",
       "      <th>C</th>\n",
       "      <th>D</th>\n",
       "    </tr>\n",
       "    <tr>\n",
       "      <th>A</th>\n",
       "      <th></th>\n",
       "      <th></th>\n",
       "    </tr>\n",
       "  </thead>\n",
       "  <tbody>\n",
       "    <tr>\n",
       "      <th>bar</th>\n",
       "      <td>1.901911</td>\n",
       "      <td>-0.066075</td>\n",
       "    </tr>\n",
       "    <tr>\n",
       "      <th>foo</th>\n",
       "      <td>-0.552859</td>\n",
       "      <td>-2.609702</td>\n",
       "    </tr>\n",
       "  </tbody>\n",
       "</table>\n",
       "</div>"
      ],
      "text/plain": [
       "            C         D\n",
       "A                      \n",
       "bar  1.901911 -0.066075\n",
       "foo -0.552859 -2.609702"
      ]
     },
     "execution_count": 233,
     "metadata": {},
     "output_type": "execute_result"
    }
   ],
   "source": [
    "df.groupby('A').sum(numeric_only=True)"
   ]
  },
  {
   "cell_type": "markdown",
   "id": "10200925-98ae-4351-b63a-3992680129e4",
   "metadata": {},
   "source": [
    "从以上可以看到：  \n",
    "\n",
    "1. 分组列A在结果集中变成了索引列\n",
    "2. 由于B列不是数字列，自动被忽略了\n",
    "3. 不设置numeric_only参数时会出现警告信息。"
   ]
  },
  {
   "cell_type": "markdown",
   "id": "f8c34acc-03d5-42a3-ba97-1f323e95a42c",
   "metadata": {},
   "source": [
    "#### **15.1.2 多个列group by，对所有数据列进行聚合**"
   ]
  },
  {
   "cell_type": "code",
   "execution_count": 234,
   "id": "34f8e0d3-12dd-45fc-b96b-8fcb5b2664c8",
   "metadata": {
    "tags": []
   },
   "outputs": [
    {
     "data": {
      "text/html": [
       "<div>\n",
       "<style scoped>\n",
       "    .dataframe tbody tr th:only-of-type {\n",
       "        vertical-align: middle;\n",
       "    }\n",
       "\n",
       "    .dataframe tbody tr th {\n",
       "        vertical-align: top;\n",
       "    }\n",
       "\n",
       "    .dataframe thead th {\n",
       "        text-align: right;\n",
       "    }\n",
       "</style>\n",
       "<table border=\"1\" class=\"dataframe\">\n",
       "  <thead>\n",
       "    <tr style=\"text-align: right;\">\n",
       "      <th></th>\n",
       "      <th></th>\n",
       "      <th>C</th>\n",
       "      <th>D</th>\n",
       "    </tr>\n",
       "    <tr>\n",
       "      <th>A</th>\n",
       "      <th>B</th>\n",
       "      <th></th>\n",
       "      <th></th>\n",
       "    </tr>\n",
       "  </thead>\n",
       "  <tbody>\n",
       "    <tr>\n",
       "      <th rowspan=\"3\" valign=\"top\">bar</th>\n",
       "      <th>one</th>\n",
       "      <td>0.939612</td>\n",
       "      <td>-0.163602</td>\n",
       "    </tr>\n",
       "    <tr>\n",
       "      <th>three</th>\n",
       "      <td>2.108325</td>\n",
       "      <td>0.209951</td>\n",
       "    </tr>\n",
       "    <tr>\n",
       "      <th>two</th>\n",
       "      <td>-1.146026</td>\n",
       "      <td>-0.112424</td>\n",
       "    </tr>\n",
       "    <tr>\n",
       "      <th rowspan=\"3\" valign=\"top\">foo</th>\n",
       "      <th>one</th>\n",
       "      <td>0.918176</td>\n",
       "      <td>-0.677375</td>\n",
       "    </tr>\n",
       "    <tr>\n",
       "      <th>three</th>\n",
       "      <td>-1.138436</td>\n",
       "      <td>-1.446859</td>\n",
       "    </tr>\n",
       "    <tr>\n",
       "      <th>two</th>\n",
       "      <td>-0.625387</td>\n",
       "      <td>0.095953</td>\n",
       "    </tr>\n",
       "  </tbody>\n",
       "</table>\n",
       "</div>"
      ],
      "text/plain": [
       "                  C         D\n",
       "A   B                        \n",
       "bar one    0.939612 -0.163602\n",
       "    three  2.108325  0.209951\n",
       "    two   -1.146026 -0.112424\n",
       "foo one    0.918176 -0.677375\n",
       "    three -1.138436 -1.446859\n",
       "    two   -0.625387  0.095953"
      ]
     },
     "execution_count": 234,
     "metadata": {},
     "output_type": "execute_result"
    }
   ],
   "source": [
    "df.groupby(['A','B']).mean()"
   ]
  },
  {
   "cell_type": "markdown",
   "id": "e7525dd3-bb9f-4349-8ae3-ed63ea8ffb85",
   "metadata": {},
   "source": [
    "**注意结果集中的组合索引（二级索引）**"
   ]
  },
  {
   "cell_type": "code",
   "execution_count": 235,
   "id": "01c7d14b-ddcc-4a01-8b41-dc3e2e62dd1b",
   "metadata": {
    "tags": []
   },
   "outputs": [
    {
     "data": {
      "text/html": [
       "<div>\n",
       "<style scoped>\n",
       "    .dataframe tbody tr th:only-of-type {\n",
       "        vertical-align: middle;\n",
       "    }\n",
       "\n",
       "    .dataframe tbody tr th {\n",
       "        vertical-align: top;\n",
       "    }\n",
       "\n",
       "    .dataframe thead th {\n",
       "        text-align: right;\n",
       "    }\n",
       "</style>\n",
       "<table border=\"1\" class=\"dataframe\">\n",
       "  <thead>\n",
       "    <tr style=\"text-align: right;\">\n",
       "      <th></th>\n",
       "      <th>A</th>\n",
       "      <th>B</th>\n",
       "      <th>C</th>\n",
       "      <th>D</th>\n",
       "    </tr>\n",
       "  </thead>\n",
       "  <tbody>\n",
       "    <tr>\n",
       "      <th>0</th>\n",
       "      <td>bar</td>\n",
       "      <td>one</td>\n",
       "      <td>0.939612</td>\n",
       "      <td>-0.163602</td>\n",
       "    </tr>\n",
       "    <tr>\n",
       "      <th>1</th>\n",
       "      <td>bar</td>\n",
       "      <td>three</td>\n",
       "      <td>2.108325</td>\n",
       "      <td>0.209951</td>\n",
       "    </tr>\n",
       "    <tr>\n",
       "      <th>2</th>\n",
       "      <td>bar</td>\n",
       "      <td>two</td>\n",
       "      <td>-1.146026</td>\n",
       "      <td>-0.112424</td>\n",
       "    </tr>\n",
       "    <tr>\n",
       "      <th>3</th>\n",
       "      <td>foo</td>\n",
       "      <td>one</td>\n",
       "      <td>0.918176</td>\n",
       "      <td>-0.677375</td>\n",
       "    </tr>\n",
       "    <tr>\n",
       "      <th>4</th>\n",
       "      <td>foo</td>\n",
       "      <td>three</td>\n",
       "      <td>-1.138436</td>\n",
       "      <td>-1.446859</td>\n",
       "    </tr>\n",
       "    <tr>\n",
       "      <th>5</th>\n",
       "      <td>foo</td>\n",
       "      <td>two</td>\n",
       "      <td>-0.625387</td>\n",
       "      <td>0.095953</td>\n",
       "    </tr>\n",
       "  </tbody>\n",
       "</table>\n",
       "</div>"
      ],
      "text/plain": [
       "     A      B         C         D\n",
       "0  bar    one  0.939612 -0.163602\n",
       "1  bar  three  2.108325  0.209951\n",
       "2  bar    two -1.146026 -0.112424\n",
       "3  foo    one  0.918176 -0.677375\n",
       "4  foo  three -1.138436 -1.446859\n",
       "5  foo    two -0.625387  0.095953"
      ]
     },
     "execution_count": 235,
     "metadata": {},
     "output_type": "execute_result"
    }
   ],
   "source": [
    "df.groupby(['A','B'],as_index=False).mean()"
   ]
  },
  {
   "cell_type": "markdown",
   "id": "362b6e43-e807-4774-ba24-cc3f94a2ade1",
   "metadata": {},
   "source": [
    "**注意结果集中的索引，与as_index=True时不同。列‘A'和列‘B’没有成为索引**"
   ]
  },
  {
   "cell_type": "markdown",
   "id": "c10d7ac1-742f-4939-a166-a5a8883b00b7",
   "metadata": {},
   "source": [
    "#### **15.1.3 对每一列同时进行多种聚合（使用agg函数）**"
   ]
  },
  {
   "cell_type": "code",
   "execution_count": 236,
   "id": "15573cbb-3e51-4c4a-a186-afc477cc4d5e",
   "metadata": {
    "tags": []
   },
   "outputs": [
    {
     "name": "stderr",
     "output_type": "stream",
     "text": [
      "/tmp/ipykernel_8849/3143353297.py:2: FutureWarning: ['B'] did not aggregate successfully. If any error is raised this will raise in a future version of pandas. Drop these columns/ops to avoid this warning.\n",
      "  df.groupby('A').agg([np.sum,np.mean,np.std])\n"
     ]
    },
    {
     "data": {
      "text/html": [
       "<div>\n",
       "<style scoped>\n",
       "    .dataframe tbody tr th:only-of-type {\n",
       "        vertical-align: middle;\n",
       "    }\n",
       "\n",
       "    .dataframe tbody tr th {\n",
       "        vertical-align: top;\n",
       "    }\n",
       "\n",
       "    .dataframe thead tr th {\n",
       "        text-align: left;\n",
       "    }\n",
       "\n",
       "    .dataframe thead tr:last-of-type th {\n",
       "        text-align: right;\n",
       "    }\n",
       "</style>\n",
       "<table border=\"1\" class=\"dataframe\">\n",
       "  <thead>\n",
       "    <tr>\n",
       "      <th></th>\n",
       "      <th colspan=\"3\" halign=\"left\">C</th>\n",
       "      <th colspan=\"3\" halign=\"left\">D</th>\n",
       "    </tr>\n",
       "    <tr>\n",
       "      <th></th>\n",
       "      <th>sum</th>\n",
       "      <th>mean</th>\n",
       "      <th>std</th>\n",
       "      <th>sum</th>\n",
       "      <th>mean</th>\n",
       "      <th>std</th>\n",
       "    </tr>\n",
       "    <tr>\n",
       "      <th>A</th>\n",
       "      <th></th>\n",
       "      <th></th>\n",
       "      <th></th>\n",
       "      <th></th>\n",
       "      <th></th>\n",
       "      <th></th>\n",
       "    </tr>\n",
       "  </thead>\n",
       "  <tbody>\n",
       "    <tr>\n",
       "      <th>bar</th>\n",
       "      <td>1.901911</td>\n",
       "      <td>0.633970</td>\n",
       "      <td>1.648563</td>\n",
       "      <td>-0.066075</td>\n",
       "      <td>-0.022025</td>\n",
       "      <td>0.202520</td>\n",
       "    </tr>\n",
       "    <tr>\n",
       "      <th>foo</th>\n",
       "      <td>-0.552859</td>\n",
       "      <td>-0.110572</td>\n",
       "      <td>1.128225</td>\n",
       "      <td>-2.609702</td>\n",
       "      <td>-0.521940</td>\n",
       "      <td>0.672975</td>\n",
       "    </tr>\n",
       "  </tbody>\n",
       "</table>\n",
       "</div>"
      ],
      "text/plain": [
       "            C                             D                    \n",
       "          sum      mean       std       sum      mean       std\n",
       "A                                                              \n",
       "bar  1.901911  0.633970  1.648563 -0.066075 -0.022025  0.202520\n",
       "foo -0.552859 -0.110572  1.128225 -2.609702 -0.521940  0.672975"
      ]
     },
     "execution_count": 236,
     "metadata": {},
     "output_type": "execute_result"
    }
   ],
   "source": [
    "#这里应该是一个链式操作，先groupby，然后在agg.注意，各种聚合函数是以列表的形式提供给agg函数的\n",
    "df.groupby('A').agg([np.sum,np.mean,np.std])"
   ]
  },
  {
   "cell_type": "markdown",
   "id": "f451f06c-2cde-4055-8b38-6bd388030603",
   "metadata": {},
   "source": [
    "**此时，列变成了多级索引（二级索引）**"
   ]
  },
  {
   "cell_type": "markdown",
   "id": "d84a9254-61d0-4c48-96ee-09c1274c5f41",
   "metadata": {},
   "source": [
    "#### **15.1.4 对各列使用不同的聚合函数**"
   ]
  },
  {
   "cell_type": "code",
   "execution_count": 238,
   "id": "d745f1cc-2a99-44be-b87a-52cb9fae1363",
   "metadata": {
    "tags": []
   },
   "outputs": [
    {
     "data": {
      "text/html": [
       "<div>\n",
       "<style scoped>\n",
       "    .dataframe tbody tr th:only-of-type {\n",
       "        vertical-align: middle;\n",
       "    }\n",
       "\n",
       "    .dataframe tbody tr th {\n",
       "        vertical-align: top;\n",
       "    }\n",
       "\n",
       "    .dataframe thead tr th {\n",
       "        text-align: left;\n",
       "    }\n",
       "\n",
       "    .dataframe thead tr:last-of-type th {\n",
       "        text-align: right;\n",
       "    }\n",
       "</style>\n",
       "<table border=\"1\" class=\"dataframe\">\n",
       "  <thead>\n",
       "    <tr>\n",
       "      <th></th>\n",
       "      <th></th>\n",
       "      <th colspan=\"2\" halign=\"left\">C</th>\n",
       "      <th colspan=\"2\" halign=\"left\">D</th>\n",
       "    </tr>\n",
       "    <tr>\n",
       "      <th></th>\n",
       "      <th></th>\n",
       "      <th>sum</th>\n",
       "      <th>mean</th>\n",
       "      <th>min</th>\n",
       "      <th>max</th>\n",
       "    </tr>\n",
       "    <tr>\n",
       "      <th>A</th>\n",
       "      <th>B</th>\n",
       "      <th></th>\n",
       "      <th></th>\n",
       "      <th></th>\n",
       "      <th></th>\n",
       "    </tr>\n",
       "  </thead>\n",
       "  <tbody>\n",
       "    <tr>\n",
       "      <th rowspan=\"3\" valign=\"top\">bar</th>\n",
       "      <th>one</th>\n",
       "      <td>0.939612</td>\n",
       "      <td>0.939612</td>\n",
       "      <td>-0.163602</td>\n",
       "      <td>-0.163602</td>\n",
       "    </tr>\n",
       "    <tr>\n",
       "      <th>three</th>\n",
       "      <td>2.108325</td>\n",
       "      <td>2.108325</td>\n",
       "      <td>0.209951</td>\n",
       "      <td>0.209951</td>\n",
       "    </tr>\n",
       "    <tr>\n",
       "      <th>two</th>\n",
       "      <td>-1.146026</td>\n",
       "      <td>-1.146026</td>\n",
       "      <td>-0.112424</td>\n",
       "      <td>-0.112424</td>\n",
       "    </tr>\n",
       "    <tr>\n",
       "      <th rowspan=\"3\" valign=\"top\">foo</th>\n",
       "      <th>one</th>\n",
       "      <td>1.836352</td>\n",
       "      <td>0.918176</td>\n",
       "      <td>-0.870564</td>\n",
       "      <td>-0.484185</td>\n",
       "    </tr>\n",
       "    <tr>\n",
       "      <th>three</th>\n",
       "      <td>-1.138436</td>\n",
       "      <td>-1.138436</td>\n",
       "      <td>-1.446859</td>\n",
       "      <td>-1.446859</td>\n",
       "    </tr>\n",
       "    <tr>\n",
       "      <th>two</th>\n",
       "      <td>-1.250774</td>\n",
       "      <td>-0.625387</td>\n",
       "      <td>-0.090537</td>\n",
       "      <td>0.282443</td>\n",
       "    </tr>\n",
       "  </tbody>\n",
       "</table>\n",
       "</div>"
      ],
      "text/plain": [
       "                  C                   D          \n",
       "                sum      mean       min       max\n",
       "A   B                                            \n",
       "bar one    0.939612  0.939612 -0.163602 -0.163602\n",
       "    three  2.108325  2.108325  0.209951  0.209951\n",
       "    two   -1.146026 -1.146026 -0.112424 -0.112424\n",
       "foo one    1.836352  0.918176 -0.870564 -0.484185\n",
       "    three -1.138436 -1.138436 -1.446859 -1.446859\n",
       "    two   -1.250774 -0.625387 -0.090537  0.282443"
      ]
     },
     "execution_count": 238,
     "metadata": {},
     "output_type": "execute_result"
    }
   ],
   "source": [
    "#很强大的功能，单个SQL语句做不到。注意：此时使用字典的形式提供参数！！！\n",
    "df.groupby(['A','B']).agg({'C':['sum','mean'],'D':['min','max']})"
   ]
  },
  {
   "cell_type": "markdown",
   "id": "0926e2b5-93c4-4022-b587-ad960737986b",
   "metadata": {},
   "source": [
    "**很强大的功能！！！**"
   ]
  },
  {
   "cell_type": "markdown",
   "id": "c5bae89a-3cee-43b8-a0a2-851e277bbb6e",
   "metadata": {},
   "source": [
    "#### **15.1.5 在列上聚合不同的函数，并重命名生成的DataFrame的索引。**"
   ]
  },
  {
   "cell_type": "code",
   "execution_count": 239,
   "id": "d0e43480-f7a3-441c-b609-f09249bb5e12",
   "metadata": {
    "tags": []
   },
   "outputs": [],
   "source": [
    "df1=df.agg(x=('C',max),y=('D',min),z=('B',max))"
   ]
  },
  {
   "cell_type": "code",
   "execution_count": 240,
   "id": "73bde80b-3bca-4b6e-aa93-47da432cd5f3",
   "metadata": {
    "tags": []
   },
   "outputs": [],
   "source": [
    "df1.fillna(value='',inplace=True)"
   ]
  },
  {
   "cell_type": "code",
   "execution_count": 241,
   "id": "b558a4f4-f881-44a2-9f3a-2158a7b9ec2d",
   "metadata": {
    "tags": []
   },
   "outputs": [
    {
     "data": {
      "text/html": [
       "<div>\n",
       "<style scoped>\n",
       "    .dataframe tbody tr th:only-of-type {\n",
       "        vertical-align: middle;\n",
       "    }\n",
       "\n",
       "    .dataframe tbody tr th {\n",
       "        vertical-align: top;\n",
       "    }\n",
       "\n",
       "    .dataframe thead th {\n",
       "        text-align: right;\n",
       "    }\n",
       "</style>\n",
       "<table border=\"1\" class=\"dataframe\">\n",
       "  <thead>\n",
       "    <tr style=\"text-align: right;\">\n",
       "      <th></th>\n",
       "      <th>C</th>\n",
       "      <th>D</th>\n",
       "      <th>B</th>\n",
       "    </tr>\n",
       "  </thead>\n",
       "  <tbody>\n",
       "    <tr>\n",
       "      <th>x</th>\n",
       "      <td>2.108325</td>\n",
       "      <td></td>\n",
       "      <td></td>\n",
       "    </tr>\n",
       "    <tr>\n",
       "      <th>y</th>\n",
       "      <td></td>\n",
       "      <td>-1.446859</td>\n",
       "      <td></td>\n",
       "    </tr>\n",
       "    <tr>\n",
       "      <th>z</th>\n",
       "      <td></td>\n",
       "      <td></td>\n",
       "      <td>two</td>\n",
       "    </tr>\n",
       "  </tbody>\n",
       "</table>\n",
       "</div>"
      ],
      "text/plain": [
       "          C         D    B\n",
       "x  2.108325               \n",
       "y           -1.446859     \n",
       "z                      two"
      ]
     },
     "execution_count": 241,
     "metadata": {},
     "output_type": "execute_result"
    }
   ],
   "source": [
    "df1"
   ]
  },
  {
   "cell_type": "markdown",
   "id": "51dd43fa-8b6e-4cf9-89f8-0d07a848a05f",
   "metadata": {},
   "source": [
    "#### **15.1.6 使用自定义聚合函数**"
   ]
  },
  {
   "cell_type": "code",
   "execution_count": 242,
   "id": "624ce57b-85a8-4282-8176-b1980797b5e5",
   "metadata": {
    "tags": []
   },
   "outputs": [
    {
     "data": {
      "text/html": [
       "<div>\n",
       "<style scoped>\n",
       "    .dataframe tbody tr th:only-of-type {\n",
       "        vertical-align: middle;\n",
       "    }\n",
       "\n",
       "    .dataframe tbody tr th {\n",
       "        vertical-align: top;\n",
       "    }\n",
       "\n",
       "    .dataframe thead tr th {\n",
       "        text-align: left;\n",
       "    }\n",
       "\n",
       "    .dataframe thead tr:last-of-type th {\n",
       "        text-align: right;\n",
       "    }\n",
       "</style>\n",
       "<table border=\"1\" class=\"dataframe\">\n",
       "  <thead>\n",
       "    <tr>\n",
       "      <th></th>\n",
       "      <th></th>\n",
       "      <th colspan=\"2\" halign=\"left\">C</th>\n",
       "      <th colspan=\"2\" halign=\"left\">D</th>\n",
       "    </tr>\n",
       "    <tr>\n",
       "      <th></th>\n",
       "      <th></th>\n",
       "      <th>fun1</th>\n",
       "      <th>sum</th>\n",
       "      <th>fun1</th>\n",
       "      <th>sum</th>\n",
       "    </tr>\n",
       "    <tr>\n",
       "      <th>A</th>\n",
       "      <th>B</th>\n",
       "      <th></th>\n",
       "      <th></th>\n",
       "      <th></th>\n",
       "      <th></th>\n",
       "    </tr>\n",
       "  </thead>\n",
       "  <tbody>\n",
       "    <tr>\n",
       "      <th rowspan=\"3\" valign=\"top\">bar</th>\n",
       "      <th>one</th>\n",
       "      <td>0.939612</td>\n",
       "      <td>0.939612</td>\n",
       "      <td>-0.163602</td>\n",
       "      <td>-0.163602</td>\n",
       "    </tr>\n",
       "    <tr>\n",
       "      <th>three</th>\n",
       "      <td>2.108325</td>\n",
       "      <td>2.108325</td>\n",
       "      <td>0.209951</td>\n",
       "      <td>0.209951</td>\n",
       "    </tr>\n",
       "    <tr>\n",
       "      <th>two</th>\n",
       "      <td>-1.146026</td>\n",
       "      <td>-1.146026</td>\n",
       "      <td>-0.112424</td>\n",
       "      <td>-0.112424</td>\n",
       "    </tr>\n",
       "    <tr>\n",
       "      <th rowspan=\"3\" valign=\"top\">foo</th>\n",
       "      <th>one</th>\n",
       "      <td>1.836352</td>\n",
       "      <td>1.836352</td>\n",
       "      <td>-1.354749</td>\n",
       "      <td>-1.354749</td>\n",
       "    </tr>\n",
       "    <tr>\n",
       "      <th>three</th>\n",
       "      <td>-1.138436</td>\n",
       "      <td>-1.138436</td>\n",
       "      <td>-1.446859</td>\n",
       "      <td>-1.446859</td>\n",
       "    </tr>\n",
       "    <tr>\n",
       "      <th>two</th>\n",
       "      <td>-1.250774</td>\n",
       "      <td>-1.250774</td>\n",
       "      <td>0.191907</td>\n",
       "      <td>0.191907</td>\n",
       "    </tr>\n",
       "  </tbody>\n",
       "</table>\n",
       "</div>"
      ],
      "text/plain": [
       "                  C                   D          \n",
       "               fun1       sum      fun1       sum\n",
       "A   B                                            \n",
       "bar one    0.939612  0.939612 -0.163602 -0.163602\n",
       "    three  2.108325  2.108325  0.209951  0.209951\n",
       "    two   -1.146026 -1.146026 -0.112424 -0.112424\n",
       "foo one    1.836352  1.836352 -1.354749 -1.354749\n",
       "    three -1.138436 -1.138436 -1.446859 -1.446859\n",
       "    two   -1.250774 -1.250774  0.191907  0.191907"
      ]
     },
     "execution_count": 242,
     "metadata": {},
     "output_type": "execute_result"
    }
   ],
   "source": [
    "def fun1(x):\n",
    "    r=0\n",
    "    for i in x:\n",
    "       r=r+i\n",
    "    return r\n",
    "\n",
    "df.groupby(['A','B']).agg({'C':[fun1,sum],'D':[fun1,sum]})"
   ]
  },
  {
   "cell_type": "markdown",
   "id": "16e502df-174c-47cc-a57f-3df7fcef468d",
   "metadata": {},
   "source": [
    "#### **15.1.7 查看单列的结果数据统计**"
   ]
  },
  {
   "cell_type": "code",
   "execution_count": 243,
   "id": "14e0ff8c-a47b-4fbd-80e0-d95b7e2e646b",
   "metadata": {
    "tags": []
   },
   "outputs": [
    {
     "data": {
      "text/html": [
       "<div>\n",
       "<style scoped>\n",
       "    .dataframe tbody tr th:only-of-type {\n",
       "        vertical-align: middle;\n",
       "    }\n",
       "\n",
       "    .dataframe tbody tr th {\n",
       "        vertical-align: top;\n",
       "    }\n",
       "\n",
       "    .dataframe thead th {\n",
       "        text-align: right;\n",
       "    }\n",
       "</style>\n",
       "<table border=\"1\" class=\"dataframe\">\n",
       "  <thead>\n",
       "    <tr style=\"text-align: right;\">\n",
       "      <th></th>\n",
       "      <th>max</th>\n",
       "      <th>min</th>\n",
       "      <th>std</th>\n",
       "    </tr>\n",
       "    <tr>\n",
       "      <th>A</th>\n",
       "      <th></th>\n",
       "      <th></th>\n",
       "      <th></th>\n",
       "    </tr>\n",
       "  </thead>\n",
       "  <tbody>\n",
       "    <tr>\n",
       "      <th>bar</th>\n",
       "      <td>2.108325</td>\n",
       "      <td>-1.146026</td>\n",
       "      <td>1.648563</td>\n",
       "    </tr>\n",
       "    <tr>\n",
       "      <th>foo</th>\n",
       "      <td>1.607244</td>\n",
       "      <td>-1.138436</td>\n",
       "      <td>1.128225</td>\n",
       "    </tr>\n",
       "  </tbody>\n",
       "</table>\n",
       "</div>"
      ],
      "text/plain": [
       "          max       min       std\n",
       "A                                \n",
       "bar  2.108325 -1.146026  1.648563\n",
       "foo  1.607244 -1.138436  1.128225"
      ]
     },
     "execution_count": 243,
     "metadata": {},
     "output_type": "execute_result"
    }
   ],
   "source": [
    "#方法1，预先过滤，性能更好\n",
    "df.groupby('A')['C'].agg([max,min,np.std])"
   ]
  },
  {
   "cell_type": "code",
   "execution_count": 244,
   "id": "9e26b765-7c2b-4cfb-ae51-28ca7e65c5d1",
   "metadata": {
    "tags": []
   },
   "outputs": [
    {
     "data": {
      "text/html": [
       "<div>\n",
       "<style scoped>\n",
       "    .dataframe tbody tr th:only-of-type {\n",
       "        vertical-align: middle;\n",
       "    }\n",
       "\n",
       "    .dataframe tbody tr th {\n",
       "        vertical-align: top;\n",
       "    }\n",
       "\n",
       "    .dataframe thead th {\n",
       "        text-align: right;\n",
       "    }\n",
       "</style>\n",
       "<table border=\"1\" class=\"dataframe\">\n",
       "  <thead>\n",
       "    <tr style=\"text-align: right;\">\n",
       "      <th></th>\n",
       "      <th></th>\n",
       "      <th>max</th>\n",
       "      <th>min</th>\n",
       "      <th>std</th>\n",
       "    </tr>\n",
       "    <tr>\n",
       "      <th>A</th>\n",
       "      <th>B</th>\n",
       "      <th></th>\n",
       "      <th></th>\n",
       "      <th></th>\n",
       "    </tr>\n",
       "  </thead>\n",
       "  <tbody>\n",
       "    <tr>\n",
       "      <th rowspan=\"3\" valign=\"top\">bar</th>\n",
       "      <th>one</th>\n",
       "      <td>0.939612</td>\n",
       "      <td>0.939612</td>\n",
       "      <td>NaN</td>\n",
       "    </tr>\n",
       "    <tr>\n",
       "      <th>three</th>\n",
       "      <td>2.108325</td>\n",
       "      <td>2.108325</td>\n",
       "      <td>NaN</td>\n",
       "    </tr>\n",
       "    <tr>\n",
       "      <th>two</th>\n",
       "      <td>-1.146026</td>\n",
       "      <td>-1.146026</td>\n",
       "      <td>NaN</td>\n",
       "    </tr>\n",
       "    <tr>\n",
       "      <th rowspan=\"3\" valign=\"top\">foo</th>\n",
       "      <th>one</th>\n",
       "      <td>1.607244</td>\n",
       "      <td>0.229108</td>\n",
       "      <td>0.974489</td>\n",
       "    </tr>\n",
       "    <tr>\n",
       "      <th>three</th>\n",
       "      <td>-1.138436</td>\n",
       "      <td>-1.138436</td>\n",
       "      <td>NaN</td>\n",
       "    </tr>\n",
       "    <tr>\n",
       "      <th>two</th>\n",
       "      <td>-0.157027</td>\n",
       "      <td>-1.093747</td>\n",
       "      <td>0.662361</td>\n",
       "    </tr>\n",
       "  </tbody>\n",
       "</table>\n",
       "</div>"
      ],
      "text/plain": [
       "                max       min       std\n",
       "A   B                                  \n",
       "bar one    0.939612  0.939612       NaN\n",
       "    three  2.108325  2.108325       NaN\n",
       "    two   -1.146026 -1.146026       NaN\n",
       "foo one    1.607244  0.229108  0.974489\n",
       "    three -1.138436 -1.138436       NaN\n",
       "    two   -0.157027 -1.093747  0.662361"
      ]
     },
     "execution_count": 244,
     "metadata": {},
     "output_type": "execute_result"
    }
   ],
   "source": [
    "#方法2，先对全部列聚合，再过滤\n",
    "df.groupby(['A','B']).agg([max,min,np.std])['C']"
   ]
  },
  {
   "cell_type": "code",
   "execution_count": null,
   "id": "2952ba9d-2654-479e-b992-31869fa0f05d",
   "metadata": {},
   "outputs": [],
   "source": []
  },
  {
   "cell_type": "markdown",
   "id": "71c8feff-d102-479b-9816-076295d8d2c7",
   "metadata": {},
   "source": [
    "### **15.2 遍历groupby的结果，理解执行过程**"
   ]
  },
  {
   "cell_type": "markdown",
   "id": "2701a6d2-eca9-4bab-b8d0-a18d2d292915",
   "metadata": {},
   "source": [
    "**方法：用for循环遍历每个group**"
   ]
  },
  {
   "cell_type": "markdown",
   "id": "80543414-2805-4594-ab1d-01d50f728288",
   "metadata": {},
   "source": [
    "#### **15.2.1 遍历单个列聚合的分组**"
   ]
  },
  {
   "cell_type": "code",
   "execution_count": 245,
   "id": "519f8b0f-bdf5-4eaf-9fb7-f8e7f7e37d68",
   "metadata": {
    "tags": []
   },
   "outputs": [],
   "source": [
    "g=df.groupby('A')"
   ]
  },
  {
   "cell_type": "code",
   "execution_count": 246,
   "id": "679da7c6-3e0c-497c-ab2d-4d4fd6aa9c8b",
   "metadata": {
    "tags": []
   },
   "outputs": [
    {
     "data": {
      "text/plain": [
       "<pandas.core.groupby.generic.DataFrameGroupBy object at 0x7f5e41fcd0>"
      ]
     },
     "execution_count": 246,
     "metadata": {},
     "output_type": "execute_result"
    }
   ],
   "source": [
    "g"
   ]
  },
  {
   "cell_type": "markdown",
   "id": "249afcbc-3106-4e22-8e74-5a9609827c4d",
   "metadata": {},
   "source": [
    "**可见结果是DataFrameGroupBy对象**"
   ]
  },
  {
   "cell_type": "code",
   "execution_count": 247,
   "id": "0e5e3228-6254-44fd-85b6-a18e6175e524",
   "metadata": {
    "tags": []
   },
   "outputs": [
    {
     "name": "stdout",
     "output_type": "stream",
     "text": [
      "bar\n",
      "     A      B         C         D\n",
      "1  bar    one  0.939612 -0.163602\n",
      "3  bar  three  2.108325  0.209951\n",
      "5  bar    two -1.146026 -0.112424\n",
      "\n",
      "foo\n",
      "     A      B         C         D\n",
      "0  foo    one  1.607244 -0.484185\n",
      "2  foo    two -0.157027 -0.090537\n",
      "4  foo    two -1.093747  0.282443\n",
      "6  foo    one  0.229108 -0.870564\n",
      "7  foo  three -1.138436 -1.446859\n",
      "\n"
     ]
    }
   ],
   "source": [
    "#使用for循环遍历\n",
    "for name,group in g:\n",
    "    print(name)\n",
    "    print(group)\n",
    "    print()"
   ]
  },
  {
   "cell_type": "markdown",
   "id": "d4a92a2c-fe34-4917-b588-e5cc58e551d4",
   "metadata": {},
   "source": [
    "**可以单独获取某个分组的数据**"
   ]
  },
  {
   "cell_type": "code",
   "execution_count": 248,
   "id": "3b4dbb34-ffe3-458d-872e-0dde55e33aaa",
   "metadata": {
    "tags": []
   },
   "outputs": [
    {
     "data": {
      "text/html": [
       "<div>\n",
       "<style scoped>\n",
       "    .dataframe tbody tr th:only-of-type {\n",
       "        vertical-align: middle;\n",
       "    }\n",
       "\n",
       "    .dataframe tbody tr th {\n",
       "        vertical-align: top;\n",
       "    }\n",
       "\n",
       "    .dataframe thead th {\n",
       "        text-align: right;\n",
       "    }\n",
       "</style>\n",
       "<table border=\"1\" class=\"dataframe\">\n",
       "  <thead>\n",
       "    <tr style=\"text-align: right;\">\n",
       "      <th></th>\n",
       "      <th>A</th>\n",
       "      <th>B</th>\n",
       "      <th>C</th>\n",
       "      <th>D</th>\n",
       "    </tr>\n",
       "  </thead>\n",
       "  <tbody>\n",
       "    <tr>\n",
       "      <th>1</th>\n",
       "      <td>bar</td>\n",
       "      <td>one</td>\n",
       "      <td>0.939612</td>\n",
       "      <td>-0.163602</td>\n",
       "    </tr>\n",
       "    <tr>\n",
       "      <th>3</th>\n",
       "      <td>bar</td>\n",
       "      <td>three</td>\n",
       "      <td>2.108325</td>\n",
       "      <td>0.209951</td>\n",
       "    </tr>\n",
       "    <tr>\n",
       "      <th>5</th>\n",
       "      <td>bar</td>\n",
       "      <td>two</td>\n",
       "      <td>-1.146026</td>\n",
       "      <td>-0.112424</td>\n",
       "    </tr>\n",
       "  </tbody>\n",
       "</table>\n",
       "</div>"
      ],
      "text/plain": [
       "     A      B         C         D\n",
       "1  bar    one  0.939612 -0.163602\n",
       "3  bar  three  2.108325  0.209951\n",
       "5  bar    two -1.146026 -0.112424"
      ]
     },
     "execution_count": 248,
     "metadata": {},
     "output_type": "execute_result"
    }
   ],
   "source": [
    "#单独获取某个分组的数据\n",
    "g.get_group('bar')"
   ]
  },
  {
   "cell_type": "markdown",
   "id": "dc3598e1-221b-4324-8070-d941b69318e9",
   "metadata": {},
   "source": [
    "#### **15.2.2 遍历多个列聚合的分组**"
   ]
  },
  {
   "cell_type": "code",
   "execution_count": 249,
   "id": "313e8be1-9ed4-4c83-a34b-0c7493cb1fa4",
   "metadata": {
    "tags": []
   },
   "outputs": [],
   "source": [
    "g=df.groupby(['A','B'])"
   ]
  },
  {
   "cell_type": "code",
   "execution_count": 250,
   "id": "142190ec-984f-46d5-9b43-84ed04d053a2",
   "metadata": {
    "tags": []
   },
   "outputs": [
    {
     "name": "stdout",
     "output_type": "stream",
     "text": [
      "('bar', 'one')\n",
      "     A    B         C         D\n",
      "1  bar  one  0.939612 -0.163602\n",
      "\n",
      "('bar', 'three')\n",
      "     A      B         C         D\n",
      "3  bar  three  2.108325  0.209951\n",
      "\n",
      "('bar', 'two')\n",
      "     A    B         C         D\n",
      "5  bar  two -1.146026 -0.112424\n",
      "\n",
      "('foo', 'one')\n",
      "     A    B         C         D\n",
      "0  foo  one  1.607244 -0.484185\n",
      "6  foo  one  0.229108 -0.870564\n",
      "\n",
      "('foo', 'three')\n",
      "     A      B         C         D\n",
      "7  foo  three -1.138436 -1.446859\n",
      "\n",
      "('foo', 'two')\n",
      "     A    B         C         D\n",
      "2  foo  two -0.157027 -0.090537\n",
      "4  foo  two -1.093747  0.282443\n",
      "\n"
     ]
    }
   ],
   "source": [
    "for name,group in g:\n",
    "    print(name)\n",
    "    print(group)\n",
    "    print()"
   ]
  },
  {
   "cell_type": "markdown",
   "id": "4f2d0d30-3530-4d33-8909-d42df8259013",
   "metadata": {},
   "source": [
    "**可以看到name是一个二元的tuple,代表不同的列**"
   ]
  },
  {
   "cell_type": "code",
   "execution_count": 251,
   "id": "8fe9ce7b-cb42-4d94-a2e7-d208220f72c1",
   "metadata": {},
   "outputs": [
    {
     "data": {
      "text/html": [
       "<div>\n",
       "<style scoped>\n",
       "    .dataframe tbody tr th:only-of-type {\n",
       "        vertical-align: middle;\n",
       "    }\n",
       "\n",
       "    .dataframe tbody tr th {\n",
       "        vertical-align: top;\n",
       "    }\n",
       "\n",
       "    .dataframe thead th {\n",
       "        text-align: right;\n",
       "    }\n",
       "</style>\n",
       "<table border=\"1\" class=\"dataframe\">\n",
       "  <thead>\n",
       "    <tr style=\"text-align: right;\">\n",
       "      <th></th>\n",
       "      <th>A</th>\n",
       "      <th>B</th>\n",
       "      <th>C</th>\n",
       "      <th>D</th>\n",
       "    </tr>\n",
       "  </thead>\n",
       "  <tbody>\n",
       "    <tr>\n",
       "      <th>2</th>\n",
       "      <td>foo</td>\n",
       "      <td>two</td>\n",
       "      <td>-0.157027</td>\n",
       "      <td>-0.090537</td>\n",
       "    </tr>\n",
       "    <tr>\n",
       "      <th>4</th>\n",
       "      <td>foo</td>\n",
       "      <td>two</td>\n",
       "      <td>-1.093747</td>\n",
       "      <td>0.282443</td>\n",
       "    </tr>\n",
       "  </tbody>\n",
       "</table>\n",
       "</div>"
      ],
      "text/plain": [
       "     A    B         C         D\n",
       "2  foo  two -0.157027 -0.090537\n",
       "4  foo  two -1.093747  0.282443"
      ]
     },
     "execution_count": 251,
     "metadata": {},
     "output_type": "execute_result"
    }
   ],
   "source": [
    "#获取某个分组的数据\n",
    "g.get_group(('foo','two'))"
   ]
  },
  {
   "cell_type": "markdown",
   "id": "d375a749-2c46-48d6-ba04-be80a49ac3cd",
   "metadata": {},
   "source": [
    "### **可以直接查看groupby后的某列或某几列，生成Series或者子DataFrame**"
   ]
  },
  {
   "cell_type": "code",
   "execution_count": 252,
   "id": "7ea05fb7-e55b-4896-a1ba-88bcfd2676e3",
   "metadata": {
    "tags": []
   },
   "outputs": [
    {
     "data": {
      "text/plain": [
       "<pandas.core.groupby.generic.SeriesGroupBy object at 0x7f5e495cd0>"
      ]
     },
     "execution_count": 252,
     "metadata": {},
     "output_type": "execute_result"
    }
   ],
   "source": [
    "g['C']"
   ]
  },
  {
   "cell_type": "markdown",
   "id": "a88d45ae-723f-4d5b-b809-69ec040898d6",
   "metadata": {},
   "source": [
    "**此时是一个 SeriesGroupBy 对象**"
   ]
  },
  {
   "cell_type": "code",
   "execution_count": 253,
   "id": "246a61b1-2564-4ddd-8e70-9ac11d99e613",
   "metadata": {
    "tags": []
   },
   "outputs": [
    {
     "name": "stdout",
     "output_type": "stream",
     "text": [
      "('bar', 'one')\n",
      "1    0.939612\n",
      "Name: C, dtype: float64\n",
      "\n",
      "<class 'tuple'>\n",
      "<class 'pandas.core.series.Series'>\n",
      "----------------------------------------------------\n",
      "('bar', 'three')\n",
      "3    2.108325\n",
      "Name: C, dtype: float64\n",
      "\n",
      "<class 'tuple'>\n",
      "<class 'pandas.core.series.Series'>\n",
      "----------------------------------------------------\n",
      "('bar', 'two')\n",
      "5   -1.146026\n",
      "Name: C, dtype: float64\n",
      "\n",
      "<class 'tuple'>\n",
      "<class 'pandas.core.series.Series'>\n",
      "----------------------------------------------------\n",
      "('foo', 'one')\n",
      "0    1.607244\n",
      "6    0.229108\n",
      "Name: C, dtype: float64\n",
      "\n",
      "<class 'tuple'>\n",
      "<class 'pandas.core.series.Series'>\n",
      "----------------------------------------------------\n",
      "('foo', 'three')\n",
      "7   -1.138436\n",
      "Name: C, dtype: float64\n",
      "\n",
      "<class 'tuple'>\n",
      "<class 'pandas.core.series.Series'>\n",
      "----------------------------------------------------\n",
      "('foo', 'two')\n",
      "2   -0.157027\n",
      "4   -1.093747\n",
      "Name: C, dtype: float64\n",
      "\n",
      "<class 'tuple'>\n",
      "<class 'pandas.core.series.Series'>\n",
      "----------------------------------------------------\n"
     ]
    }
   ],
   "source": [
    "#也可以用for循环对SeriesGroupBy对象进行遍历\n",
    "for name,group in g['C']:\n",
    "    print(name)\n",
    "    print(group)\n",
    "    print()\n",
    "    print(type(name))\n",
    "    print(type(group))\n",
    "    print('----------------------------------------------------')"
   ]
  },
  {
   "cell_type": "markdown",
   "id": "8ce99860-66c9-4f99-958e-7fc561a9d3b8",
   "metadata": {},
   "source": [
    "**可以看到，此时的name是一个tuple，group是一个Series**"
   ]
  },
  {
   "cell_type": "markdown",
   "id": "db1e6214-da29-4778-9402-830fe81a0632",
   "metadata": {},
   "source": [
    "### **所有的聚合，都是在DataFrame或者Series上进行的**"
   ]
  },
  {
   "cell_type": "code",
   "execution_count": null,
   "id": "3baee10c-8fcb-4b3a-adfc-0f16f51066b6",
   "metadata": {},
   "outputs": [],
   "source": []
  },
  {
   "cell_type": "markdown",
   "id": "78dd659c-3981-4d30-9c54-1849d88e828b",
   "metadata": {},
   "source": [
    "### **15.3 实例分组，探索数据**"
   ]
  },
  {
   "cell_type": "code",
   "execution_count": 254,
   "id": "61fab630-ecb4-4aea-8ada-78455267552e",
   "metadata": {
    "tags": []
   },
   "outputs": [],
   "source": [
    "#读取文件的同时指定各列的数据类型！！！！\n",
    "df=pd.read_csv('gy202302.csv',dtype={'NF':np.str_,'YF':np.str_,'LEV':np.str_,'A07_2017':np.str_,\n",
    "                                     'A18':np.str_,'A19':np.str_,'A09':np.str_,'A10':np.str_,\n",
    "                                     'A341':np.str_,'A342':np.str_,'A343':np.str_,'B93':np.str_,\n",
    "                                     'DZX':np.str_,'A14':np.str_,'A052':np.str_})"
   ]
  },
  {
   "cell_type": "code",
   "execution_count": 255,
   "id": "b17d0453-0d34-4224-808a-aca89dc2084b",
   "metadata": {
    "tags": []
   },
   "outputs": [],
   "source": [
    "df.set_index(['NF','YF'],inplace=True,drop=False)"
   ]
  },
  {
   "cell_type": "code",
   "execution_count": 256,
   "id": "f2927e20-ce0e-4e98-8bb2-d720acc3705b",
   "metadata": {
    "tags": []
   },
   "outputs": [
    {
     "data": {
      "text/html": [
       "<div>\n",
       "<style scoped>\n",
       "    .dataframe tbody tr th:only-of-type {\n",
       "        vertical-align: middle;\n",
       "    }\n",
       "\n",
       "    .dataframe tbody tr th {\n",
       "        vertical-align: top;\n",
       "    }\n",
       "\n",
       "    .dataframe thead th {\n",
       "        text-align: right;\n",
       "    }\n",
       "</style>\n",
       "<table border=\"1\" class=\"dataframe\">\n",
       "  <thead>\n",
       "    <tr style=\"text-align: right;\">\n",
       "      <th></th>\n",
       "      <th></th>\n",
       "      <th>A01</th>\n",
       "      <th>DZX</th>\n",
       "    </tr>\n",
       "    <tr>\n",
       "      <th>NF</th>\n",
       "      <th>YF</th>\n",
       "      <th></th>\n",
       "      <th></th>\n",
       "    </tr>\n",
       "  </thead>\n",
       "  <tbody>\n",
       "    <tr>\n",
       "      <th>2023</th>\n",
       "      <th>02</th>\n",
       "      <td>057686533</td>\n",
       "      <td>3</td>\n",
       "    </tr>\n",
       "  </tbody>\n",
       "</table>\n",
       "</div>"
      ],
      "text/plain": [
       "               A01 DZX\n",
       "NF   YF               \n",
       "2023 02  057686533   3"
      ]
     },
     "execution_count": 256,
     "metadata": {},
     "output_type": "execute_result"
    }
   ],
   "source": [
    "df.loc[df['A01']=='057686533',['A01','DZX']]"
   ]
  },
  {
   "cell_type": "markdown",
   "id": "0473f726-36be-426b-aa71-00ba0dc4172d",
   "metadata": {},
   "source": [
    "### **1. 查各街镇产值最高、最低的的企业产值，各街镇平均产值**"
   ]
  },
  {
   "cell_type": "code",
   "execution_count": null,
   "id": "9fea6f2b-1a1b-486d-9308-8d785ebd2fc1",
   "metadata": {},
   "outputs": [],
   "source": []
  },
  {
   "cell_type": "code",
   "execution_count": 275,
   "id": "b60fb8ea-beff-4647-bbae-c31bea30fbe9",
   "metadata": {},
   "outputs": [],
   "source": [
    "g1=df.groupby(df['LEV'].str[6:9])"
   ]
  },
  {
   "cell_type": "code",
   "execution_count": 276,
   "id": "c76627a3-09b8-4c5f-91a1-3bbb9e1c8a91",
   "metadata": {},
   "outputs": [
    {
     "data": {
      "text/html": [
       "<div>\n",
       "<style scoped>\n",
       "    .dataframe tbody tr th:only-of-type {\n",
       "        vertical-align: middle;\n",
       "    }\n",
       "\n",
       "    .dataframe tbody tr th {\n",
       "        vertical-align: top;\n",
       "    }\n",
       "\n",
       "    .dataframe thead th {\n",
       "        text-align: right;\n",
       "    }\n",
       "</style>\n",
       "<table border=\"1\" class=\"dataframe\">\n",
       "  <thead>\n",
       "    <tr style=\"text-align: right;\">\n",
       "      <th></th>\n",
       "      <th></th>\n",
       "      <th>H02</th>\n",
       "      <th>LEV</th>\n",
       "      <th>N2000_2</th>\n",
       "    </tr>\n",
       "    <tr>\n",
       "      <th>NF</th>\n",
       "      <th>YF</th>\n",
       "      <th></th>\n",
       "      <th></th>\n",
       "      <th></th>\n",
       "    </tr>\n",
       "  </thead>\n",
       "  <tbody>\n",
       "    <tr>\n",
       "      <th rowspan=\"2\" valign=\"top\">2023</th>\n",
       "      <th>02</th>\n",
       "      <td>上海壹徕科技股份有限公司</td>\n",
       "      <td>310112501804</td>\n",
       "      <td>6627</td>\n",
       "    </tr>\n",
       "    <tr>\n",
       "      <th>02</th>\n",
       "      <td>上海玖广兴塑胶制品有限公司</td>\n",
       "      <td>310112501803</td>\n",
       "      <td>4266</td>\n",
       "    </tr>\n",
       "  </tbody>\n",
       "</table>\n",
       "</div>"
      ],
      "text/plain": [
       "                   H02           LEV  N2000_2\n",
       "NF   YF                                      \n",
       "2023 02   上海壹徕科技股份有限公司  310112501804     6627\n",
       "     02  上海玖广兴塑胶制品有限公司  310112501803     4266"
      ]
     },
     "execution_count": 276,
     "metadata": {},
     "output_type": "execute_result"
    }
   ],
   "source": [
    "g1.get_group('501')[['H02','LEV','N2000_2']].head(2)"
   ]
  },
  {
   "cell_type": "code",
   "execution_count": 289,
   "id": "13d0af62-9da1-4b33-bc53-d87a23962bf0",
   "metadata": {
    "tags": []
   },
   "outputs": [
    {
     "data": {
      "text/plain": [
       "a    -6\n",
       "b    -9\n",
       "c     9\n",
       "d     4\n",
       "e   -10\n",
       "dtype: int64"
      ]
     },
     "execution_count": 289,
     "metadata": {},
     "output_type": "execute_result"
    }
   ],
   "source": [
    "# todo 将自定义的函数作用到dataframe的行和列 或者Serise的行上\n",
    "ser1 = pd.Series(np.random.randint(-10,10,5),index=list('abcde'))\n",
    "ser1"
   ]
  },
  {
   "cell_type": "code",
   "execution_count": 294,
   "id": "ece73df8-558c-49a7-8aef-493f6ac3a3aa",
   "metadata": {
    "tags": []
   },
   "outputs": [
    {
     "name": "stdout",
     "output_type": "stream",
     "text": [
      "0\n",
      "0\n",
      "0\n",
      "0\n",
      "0\n",
      "a     36\n",
      "b     81\n",
      "c     81\n",
      "d     16\n",
      "e    100\n",
      "dtype: int64\n"
     ]
    }
   ],
   "source": [
    "# todo 定义一个函数，求其和，绝对值，最大值减最小值的差值，平方\n",
    "def func(x):\n",
    " num= np.max(x)-np.min(x)\n",
    " print(num)\n",
    " a = abs(x)\n",
    " b= x**2\n",
    " return b\n",
    "\n",
    "print(ser1.apply(func))"
   ]
  },
  {
   "cell_type": "code",
   "execution_count": 288,
   "id": "508f1b08-ba0e-4965-9a84-9acaa4f07971",
   "metadata": {
    "tags": []
   },
   "outputs": [
    {
     "data": {
      "text/html": [
       "<div>\n",
       "<style scoped>\n",
       "    .dataframe tbody tr th:only-of-type {\n",
       "        vertical-align: middle;\n",
       "    }\n",
       "\n",
       "    .dataframe tbody tr th {\n",
       "        vertical-align: top;\n",
       "    }\n",
       "\n",
       "    .dataframe thead th {\n",
       "        text-align: right;\n",
       "    }\n",
       "</style>\n",
       "<table border=\"1\" class=\"dataframe\">\n",
       "  <thead>\n",
       "    <tr style=\"text-align: right;\">\n",
       "      <th></th>\n",
       "      <th>a</th>\n",
       "      <th>b</th>\n",
       "      <th>c</th>\n",
       "      <th>d</th>\n",
       "      <th>e</th>\n",
       "    </tr>\n",
       "  </thead>\n",
       "  <tbody>\n",
       "    <tr>\n",
       "      <th>A</th>\n",
       "      <td>-3</td>\n",
       "      <td>0</td>\n",
       "      <td>-5</td>\n",
       "      <td>3</td>\n",
       "      <td>8</td>\n",
       "    </tr>\n",
       "    <tr>\n",
       "      <th>C</th>\n",
       "      <td>-2</td>\n",
       "      <td>0</td>\n",
       "      <td>-5</td>\n",
       "      <td>-10</td>\n",
       "      <td>4</td>\n",
       "    </tr>\n",
       "    <tr>\n",
       "      <th>B</th>\n",
       "      <td>1</td>\n",
       "      <td>4</td>\n",
       "      <td>9</td>\n",
       "      <td>-1</td>\n",
       "      <td>4</td>\n",
       "    </tr>\n",
       "    <tr>\n",
       "      <th>D</th>\n",
       "      <td>9</td>\n",
       "      <td>-1</td>\n",
       "      <td>-6</td>\n",
       "      <td>9</td>\n",
       "      <td>8</td>\n",
       "    </tr>\n",
       "  </tbody>\n",
       "</table>\n",
       "</div>"
      ],
      "text/plain": [
       "   a  b  c   d  e\n",
       "A -3  0 -5   3  8\n",
       "C -2  0 -5 -10  4\n",
       "B  1  4  9  -1  4\n",
       "D  9 -1 -6   9  8"
      ]
     },
     "execution_count": 288,
     "metadata": {},
     "output_type": "execute_result"
    }
   ],
   "source": [
    "df1 = pd.DataFrame(np.random.randint(-10,10,(4,5)),index=list('ACBD'),columns=list('abcde'))\n",
    "df1"
   ]
  },
  {
   "cell_type": "code",
   "execution_count": 298,
   "id": "c7eefab5-7f03-491e-be8e-b78107cd7cc6",
   "metadata": {
    "tags": []
   },
   "outputs": [
    {
     "name": "stdout",
     "output_type": "stream",
     "text": [
      "A       ([3, 0, 5, 3, 8], [9, 0, 25, 9, 64], 13)\n",
      "C    ([2, 0, 5, 10, 4], [4, 0, 25, 100, 16], 14)\n",
      "B      ([1, 4, 9, 1, 4], [1, 16, 81, 1, 16], 10)\n",
      "D     ([9, 1, 6, 9, 8], [81, 1, 36, 81, 64], 15)\n",
      "dtype: object\n"
     ]
    }
   ],
   "source": [
    "def func1(x):\n",
    " # print(x)\n",
    " #print('--------------')\n",
    " num= np.max(x)-np.min(x)\n",
    " a = abs(x)\n",
    " b= x**2\n",
    " # return num\n",
    " # return a\n",
    " return a,b,num\n",
    "print(df1.apply(func1,axis = 1))"
   ]
  },
  {
   "cell_type": "code",
   "execution_count": null,
   "id": "cf8d5f6c-c9f9-4ccd-bb4d-0e2a2565a2b3",
   "metadata": {},
   "outputs": [],
   "source": [
    "# todo 使用匿名函数实现----求其和，绝对值，最大值减最小值的差值，\n",
    "print(df1.apply(lambda x:x**2,axis=1))\n",
    "print('------')\n",
    "print(df1.apply(lambda x:np.max(x)-np.min(x),axis=1))\n",
    "print('---------')\n",
    "print(df1.apply(lambda x:abs(x),axis=1))\n",
    "# applymap的使用\n",
    "# todo 使用applymap 因为applymap作用在每个元素上，所以不需要指定axis\n",
    "print(df1.applymap(lambda x:x**2))\n",
    "print('---------')\n",
    "print(df1.applymap(lambda x:abs(x)))"
   ]
  },
  {
   "cell_type": "code",
   "execution_count": 285,
   "id": "14299b22-84fe-4013-aa87-2c722f1c98c0",
   "metadata": {},
   "outputs": [
    {
     "name": "stderr",
     "output_type": "stream",
     "text": [
      "/tmp/ipykernel_8849/769281808.py:5: FutureWarning: Dropping invalid columns in SeriesGroupBy.agg is deprecated. In a future version, a TypeError will be raised. Before calling .agg, select only columns which should be valid for the function.\n",
      "  g1.agg({'N2000_2':[max1('N2000_2','H02'),min,np.mean]})\n"
     ]
    },
    {
     "ename": "TypeError",
     "evalue": "'int' object is not callable",
     "output_type": "error",
     "traceback": [
      "\u001b[0;31m---------------------------------------------------------------------------\u001b[0m",
      "\u001b[0;31mTypeError\u001b[0m                                 Traceback (most recent call last)",
      "Cell \u001b[0;32mIn[285], line 5\u001b[0m\n\u001b[1;32m      2\u001b[0m \u001b[38;5;28;01mdef\u001b[39;00m \u001b[38;5;21mmax1\u001b[39m(x,y):\n\u001b[1;32m      3\u001b[0m \u001b[38;5;66;03m#    print(x)\u001b[39;00m\n\u001b[1;32m      4\u001b[0m     \u001b[38;5;28;01mreturn\u001b[39;00m \u001b[38;5;241m0\u001b[39m\n\u001b[0;32m----> 5\u001b[0m \u001b[43mg1\u001b[49m\u001b[38;5;241;43m.\u001b[39;49m\u001b[43magg\u001b[49m\u001b[43m(\u001b[49m\u001b[43m{\u001b[49m\u001b[38;5;124;43m'\u001b[39;49m\u001b[38;5;124;43mN2000_2\u001b[39;49m\u001b[38;5;124;43m'\u001b[39;49m\u001b[43m:\u001b[49m\u001b[43m[\u001b[49m\u001b[43mmax1\u001b[49m\u001b[43m(\u001b[49m\u001b[38;5;124;43m'\u001b[39;49m\u001b[38;5;124;43mN2000_2\u001b[39;49m\u001b[38;5;124;43m'\u001b[39;49m\u001b[43m,\u001b[49m\u001b[38;5;124;43m'\u001b[39;49m\u001b[38;5;124;43mH02\u001b[39;49m\u001b[38;5;124;43m'\u001b[39;49m\u001b[43m)\u001b[49m\u001b[43m,\u001b[49m\u001b[38;5;28;43mmin\u001b[39;49m\u001b[43m,\u001b[49m\u001b[43mnp\u001b[49m\u001b[38;5;241;43m.\u001b[39;49m\u001b[43mmean\u001b[49m\u001b[43m]\u001b[49m\u001b[43m}\u001b[49m\u001b[43m)\u001b[49m\n",
      "File \u001b[0;32m~/.local/lib/python3.9/site-packages/pandas/core/groupby/generic.py:895\u001b[0m, in \u001b[0;36mDataFrameGroupBy.aggregate\u001b[0;34m(self, func, engine, engine_kwargs, *args, **kwargs)\u001b[0m\n\u001b[1;32m    892\u001b[0m func \u001b[38;5;241m=\u001b[39m maybe_mangle_lambdas(func)\n\u001b[1;32m    894\u001b[0m op \u001b[38;5;241m=\u001b[39m GroupByApply(\u001b[38;5;28mself\u001b[39m, func, args, kwargs)\n\u001b[0;32m--> 895\u001b[0m result \u001b[38;5;241m=\u001b[39m \u001b[43mop\u001b[49m\u001b[38;5;241;43m.\u001b[39;49m\u001b[43magg\u001b[49m\u001b[43m(\u001b[49m\u001b[43m)\u001b[49m\n\u001b[1;32m    896\u001b[0m \u001b[38;5;28;01mif\u001b[39;00m \u001b[38;5;129;01mnot\u001b[39;00m is_dict_like(func) \u001b[38;5;129;01mand\u001b[39;00m result \u001b[38;5;129;01mis\u001b[39;00m \u001b[38;5;129;01mnot\u001b[39;00m \u001b[38;5;28;01mNone\u001b[39;00m:\n\u001b[1;32m    897\u001b[0m     \u001b[38;5;28;01mreturn\u001b[39;00m result\n",
      "File \u001b[0;32m~/.local/lib/python3.9/site-packages/pandas/core/apply.py:172\u001b[0m, in \u001b[0;36mApply.agg\u001b[0;34m(self)\u001b[0m\n\u001b[1;32m    169\u001b[0m     \u001b[38;5;28;01mreturn\u001b[39;00m \u001b[38;5;28mself\u001b[39m\u001b[38;5;241m.\u001b[39mapply_str()\n\u001b[1;32m    171\u001b[0m \u001b[38;5;28;01mif\u001b[39;00m is_dict_like(arg):\n\u001b[0;32m--> 172\u001b[0m     \u001b[38;5;28;01mreturn\u001b[39;00m \u001b[38;5;28;43mself\u001b[39;49m\u001b[38;5;241;43m.\u001b[39;49m\u001b[43magg_dict_like\u001b[49m\u001b[43m(\u001b[49m\u001b[43m)\u001b[49m\n\u001b[1;32m    173\u001b[0m \u001b[38;5;28;01melif\u001b[39;00m is_list_like(arg):\n\u001b[1;32m    174\u001b[0m     \u001b[38;5;66;03m# we require a list, but not a 'str'\u001b[39;00m\n\u001b[1;32m    175\u001b[0m     \u001b[38;5;28;01mreturn\u001b[39;00m \u001b[38;5;28mself\u001b[39m\u001b[38;5;241m.\u001b[39magg_list_like()\n",
      "File \u001b[0;32m~/.local/lib/python3.9/site-packages/pandas/core/apply.py:504\u001b[0m, in \u001b[0;36mApply.agg_dict_like\u001b[0;34m(self)\u001b[0m\n\u001b[1;32m    501\u001b[0m     results \u001b[38;5;241m=\u001b[39m {key: colg\u001b[38;5;241m.\u001b[39magg(how) \u001b[38;5;28;01mfor\u001b[39;00m key, how \u001b[38;5;129;01min\u001b[39;00m arg\u001b[38;5;241m.\u001b[39mitems()}\n\u001b[1;32m    502\u001b[0m \u001b[38;5;28;01melse\u001b[39;00m:\n\u001b[1;32m    503\u001b[0m     \u001b[38;5;66;03m# key used for column selection and output\u001b[39;00m\n\u001b[0;32m--> 504\u001b[0m     results \u001b[38;5;241m=\u001b[39m {\n\u001b[1;32m    505\u001b[0m         key: obj\u001b[38;5;241m.\u001b[39m_gotitem(key, ndim\u001b[38;5;241m=\u001b[39m\u001b[38;5;241m1\u001b[39m)\u001b[38;5;241m.\u001b[39magg(how) \u001b[38;5;28;01mfor\u001b[39;00m key, how \u001b[38;5;129;01min\u001b[39;00m arg\u001b[38;5;241m.\u001b[39mitems()\n\u001b[1;32m    506\u001b[0m     }\n\u001b[1;32m    508\u001b[0m \u001b[38;5;66;03m# set the final keys\u001b[39;00m\n\u001b[1;32m    509\u001b[0m keys \u001b[38;5;241m=\u001b[39m \u001b[38;5;28mlist\u001b[39m(arg\u001b[38;5;241m.\u001b[39mkeys())\n",
      "File \u001b[0;32m~/.local/lib/python3.9/site-packages/pandas/core/apply.py:505\u001b[0m, in \u001b[0;36m<dictcomp>\u001b[0;34m(.0)\u001b[0m\n\u001b[1;32m    501\u001b[0m     results \u001b[38;5;241m=\u001b[39m {key: colg\u001b[38;5;241m.\u001b[39magg(how) \u001b[38;5;28;01mfor\u001b[39;00m key, how \u001b[38;5;129;01min\u001b[39;00m arg\u001b[38;5;241m.\u001b[39mitems()}\n\u001b[1;32m    502\u001b[0m \u001b[38;5;28;01melse\u001b[39;00m:\n\u001b[1;32m    503\u001b[0m     \u001b[38;5;66;03m# key used for column selection and output\u001b[39;00m\n\u001b[1;32m    504\u001b[0m     results \u001b[38;5;241m=\u001b[39m {\n\u001b[0;32m--> 505\u001b[0m         key: \u001b[43mobj\u001b[49m\u001b[38;5;241;43m.\u001b[39;49m\u001b[43m_gotitem\u001b[49m\u001b[43m(\u001b[49m\u001b[43mkey\u001b[49m\u001b[43m,\u001b[49m\u001b[43m \u001b[49m\u001b[43mndim\u001b[49m\u001b[38;5;241;43m=\u001b[39;49m\u001b[38;5;241;43m1\u001b[39;49m\u001b[43m)\u001b[49m\u001b[38;5;241;43m.\u001b[39;49m\u001b[43magg\u001b[49m\u001b[43m(\u001b[49m\u001b[43mhow\u001b[49m\u001b[43m)\u001b[49m \u001b[38;5;28;01mfor\u001b[39;00m key, how \u001b[38;5;129;01min\u001b[39;00m arg\u001b[38;5;241m.\u001b[39mitems()\n\u001b[1;32m    506\u001b[0m     }\n\u001b[1;32m    508\u001b[0m \u001b[38;5;66;03m# set the final keys\u001b[39;00m\n\u001b[1;32m    509\u001b[0m keys \u001b[38;5;241m=\u001b[39m \u001b[38;5;28mlist\u001b[39m(arg\u001b[38;5;241m.\u001b[39mkeys())\n",
      "File \u001b[0;32m~/.local/lib/python3.9/site-packages/pandas/core/groupby/generic.py:281\u001b[0m, in \u001b[0;36mSeriesGroupBy.aggregate\u001b[0;34m(self, func, engine, engine_kwargs, *args, **kwargs)\u001b[0m\n\u001b[1;32m    277\u001b[0m \u001b[38;5;28;01melif\u001b[39;00m \u001b[38;5;28misinstance\u001b[39m(func, abc\u001b[38;5;241m.\u001b[39mIterable):\n\u001b[1;32m    278\u001b[0m     \u001b[38;5;66;03m# Catch instances of lists / tuples\u001b[39;00m\n\u001b[1;32m    279\u001b[0m     \u001b[38;5;66;03m# but not the class list / tuple itself.\u001b[39;00m\n\u001b[1;32m    280\u001b[0m     func \u001b[38;5;241m=\u001b[39m maybe_mangle_lambdas(func)\n\u001b[0;32m--> 281\u001b[0m     ret \u001b[38;5;241m=\u001b[39m \u001b[38;5;28;43mself\u001b[39;49m\u001b[38;5;241;43m.\u001b[39;49m\u001b[43m_aggregate_multiple_funcs\u001b[49m\u001b[43m(\u001b[49m\u001b[43mfunc\u001b[49m\u001b[43m)\u001b[49m\n\u001b[1;32m    282\u001b[0m     \u001b[38;5;28;01mif\u001b[39;00m relabeling:\n\u001b[1;32m    283\u001b[0m         \u001b[38;5;66;03m# columns is not narrowed by mypy from relabeling flag\u001b[39;00m\n\u001b[1;32m    284\u001b[0m         \u001b[38;5;28;01massert\u001b[39;00m columns \u001b[38;5;129;01mis\u001b[39;00m \u001b[38;5;129;01mnot\u001b[39;00m \u001b[38;5;28;01mNone\u001b[39;00m  \u001b[38;5;66;03m# for mypy\u001b[39;00m\n",
      "File \u001b[0;32m~/.local/lib/python3.9/site-packages/pandas/core/groupby/generic.py:336\u001b[0m, in \u001b[0;36mSeriesGroupBy._aggregate_multiple_funcs\u001b[0;34m(self, arg)\u001b[0m\n\u001b[1;32m    333\u001b[0m \u001b[38;5;28;01mfor\u001b[39;00m idx, (name, func) \u001b[38;5;129;01min\u001b[39;00m \u001b[38;5;28menumerate\u001b[39m(arg):\n\u001b[1;32m    335\u001b[0m     key \u001b[38;5;241m=\u001b[39m base\u001b[38;5;241m.\u001b[39mOutputKey(label\u001b[38;5;241m=\u001b[39mname, position\u001b[38;5;241m=\u001b[39midx)\n\u001b[0;32m--> 336\u001b[0m     results[key] \u001b[38;5;241m=\u001b[39m \u001b[38;5;28;43mself\u001b[39;49m\u001b[38;5;241;43m.\u001b[39;49m\u001b[43maggregate\u001b[49m\u001b[43m(\u001b[49m\u001b[43mfunc\u001b[49m\u001b[43m)\u001b[49m\n\u001b[1;32m    338\u001b[0m \u001b[38;5;28;01mif\u001b[39;00m \u001b[38;5;28many\u001b[39m(\u001b[38;5;28misinstance\u001b[39m(x, DataFrame) \u001b[38;5;28;01mfor\u001b[39;00m x \u001b[38;5;129;01min\u001b[39;00m results\u001b[38;5;241m.\u001b[39mvalues()):\n\u001b[1;32m    339\u001b[0m     \u001b[38;5;28;01mfrom\u001b[39;00m \u001b[38;5;21;01mpandas\u001b[39;00m \u001b[38;5;28;01mimport\u001b[39;00m concat\n",
      "File \u001b[0;32m~/.local/lib/python3.9/site-packages/pandas/core/groupby/generic.py:297\u001b[0m, in \u001b[0;36mSeriesGroupBy.aggregate\u001b[0;34m(self, func, engine, engine_kwargs, *args, **kwargs)\u001b[0m\n\u001b[1;32m    294\u001b[0m     \u001b[38;5;28;01mreturn\u001b[39;00m \u001b[38;5;28mself\u001b[39m\u001b[38;5;241m.\u001b[39m_python_agg_general(func, \u001b[38;5;241m*\u001b[39margs, \u001b[38;5;241m*\u001b[39m\u001b[38;5;241m*\u001b[39mkwargs)\n\u001b[1;32m    296\u001b[0m \u001b[38;5;28;01mtry\u001b[39;00m:\n\u001b[0;32m--> 297\u001b[0m     \u001b[38;5;28;01mreturn\u001b[39;00m \u001b[38;5;28;43mself\u001b[39;49m\u001b[38;5;241;43m.\u001b[39;49m\u001b[43m_python_agg_general\u001b[49m\u001b[43m(\u001b[49m\u001b[43mfunc\u001b[49m\u001b[43m,\u001b[49m\u001b[43m \u001b[49m\u001b[38;5;241;43m*\u001b[39;49m\u001b[43margs\u001b[49m\u001b[43m,\u001b[49m\u001b[43m \u001b[49m\u001b[38;5;241;43m*\u001b[39;49m\u001b[38;5;241;43m*\u001b[39;49m\u001b[43mkwargs\u001b[49m\u001b[43m)\u001b[49m\n\u001b[1;32m    298\u001b[0m \u001b[38;5;28;01mexcept\u001b[39;00m \u001b[38;5;167;01mKeyError\u001b[39;00m:\n\u001b[1;32m    299\u001b[0m     \u001b[38;5;66;03m# TODO: KeyError is raised in _python_agg_general,\u001b[39;00m\n\u001b[1;32m    300\u001b[0m     \u001b[38;5;66;03m#  see test_groupby.test_basic\u001b[39;00m\n\u001b[1;32m    301\u001b[0m     result \u001b[38;5;241m=\u001b[39m \u001b[38;5;28mself\u001b[39m\u001b[38;5;241m.\u001b[39m_aggregate_named(func, \u001b[38;5;241m*\u001b[39margs, \u001b[38;5;241m*\u001b[39m\u001b[38;5;241m*\u001b[39mkwargs)\n",
      "File \u001b[0;32m~/.local/lib/python3.9/site-packages/pandas/core/groupby/groupby.py:1695\u001b[0m, in \u001b[0;36mGroupBy._python_agg_general\u001b[0;34m(self, func, raise_on_typeerror, *args, **kwargs)\u001b[0m\n\u001b[1;32m   1692\u001b[0m     output[key] \u001b[38;5;241m=\u001b[39m result\n\u001b[1;32m   1694\u001b[0m \u001b[38;5;28;01mif\u001b[39;00m \u001b[38;5;129;01mnot\u001b[39;00m output:\n\u001b[0;32m-> 1695\u001b[0m     \u001b[38;5;28;01mreturn\u001b[39;00m \u001b[38;5;28;43mself\u001b[39;49m\u001b[38;5;241;43m.\u001b[39;49m\u001b[43m_python_apply_general\u001b[49m\u001b[43m(\u001b[49m\u001b[43mf\u001b[49m\u001b[43m,\u001b[49m\u001b[43m \u001b[49m\u001b[38;5;28;43mself\u001b[39;49m\u001b[38;5;241;43m.\u001b[39;49m\u001b[43m_selected_obj\u001b[49m\u001b[43m)\u001b[49m\n\u001b[1;32m   1697\u001b[0m \u001b[38;5;28;01mreturn\u001b[39;00m \u001b[38;5;28mself\u001b[39m\u001b[38;5;241m.\u001b[39m_wrap_aggregated_output(output)\n",
      "File \u001b[0;32m~/.local/lib/python3.9/site-packages/pandas/core/groupby/groupby.py:1629\u001b[0m, in \u001b[0;36mGroupBy._python_apply_general\u001b[0;34m(self, f, data, not_indexed_same, is_transform, is_agg)\u001b[0m\n\u001b[1;32m   1592\u001b[0m \u001b[38;5;129m@final\u001b[39m\n\u001b[1;32m   1593\u001b[0m \u001b[38;5;28;01mdef\u001b[39;00m \u001b[38;5;21m_python_apply_general\u001b[39m(\n\u001b[1;32m   1594\u001b[0m     \u001b[38;5;28mself\u001b[39m,\n\u001b[0;32m   (...)\u001b[0m\n\u001b[1;32m   1599\u001b[0m     is_agg: \u001b[38;5;28mbool\u001b[39m \u001b[38;5;241m=\u001b[39m \u001b[38;5;28;01mFalse\u001b[39;00m,\n\u001b[1;32m   1600\u001b[0m ) \u001b[38;5;241m-\u001b[39m\u001b[38;5;241m>\u001b[39m NDFrameT:\n\u001b[1;32m   1601\u001b[0m \u001b[38;5;250m    \u001b[39m\u001b[38;5;124;03m\"\"\"\u001b[39;00m\n\u001b[1;32m   1602\u001b[0m \u001b[38;5;124;03m    Apply function f in python space\u001b[39;00m\n\u001b[1;32m   1603\u001b[0m \n\u001b[0;32m   (...)\u001b[0m\n\u001b[1;32m   1627\u001b[0m \u001b[38;5;124;03m        data after applying f\u001b[39;00m\n\u001b[1;32m   1628\u001b[0m \u001b[38;5;124;03m    \"\"\"\u001b[39;00m\n\u001b[0;32m-> 1629\u001b[0m     values, mutated \u001b[38;5;241m=\u001b[39m \u001b[38;5;28;43mself\u001b[39;49m\u001b[38;5;241;43m.\u001b[39;49m\u001b[43mgrouper\u001b[49m\u001b[38;5;241;43m.\u001b[39;49m\u001b[43mapply\u001b[49m\u001b[43m(\u001b[49m\u001b[43mf\u001b[49m\u001b[43m,\u001b[49m\u001b[43m \u001b[49m\u001b[43mdata\u001b[49m\u001b[43m,\u001b[49m\u001b[43m \u001b[49m\u001b[38;5;28;43mself\u001b[39;49m\u001b[38;5;241;43m.\u001b[39;49m\u001b[43maxis\u001b[49m\u001b[43m)\u001b[49m\n\u001b[1;32m   1630\u001b[0m     \u001b[38;5;28;01mif\u001b[39;00m not_indexed_same \u001b[38;5;129;01mis\u001b[39;00m \u001b[38;5;28;01mNone\u001b[39;00m:\n\u001b[1;32m   1631\u001b[0m         not_indexed_same \u001b[38;5;241m=\u001b[39m mutated \u001b[38;5;129;01mor\u001b[39;00m \u001b[38;5;28mself\u001b[39m\u001b[38;5;241m.\u001b[39mmutated\n",
      "File \u001b[0;32m~/.local/lib/python3.9/site-packages/pandas/core/groupby/ops.py:839\u001b[0m, in \u001b[0;36mBaseGrouper.apply\u001b[0;34m(self, f, data, axis)\u001b[0m\n\u001b[1;32m    837\u001b[0m \u001b[38;5;66;03m# group might be modified\u001b[39;00m\n\u001b[1;32m    838\u001b[0m group_axes \u001b[38;5;241m=\u001b[39m group\u001b[38;5;241m.\u001b[39maxes\n\u001b[0;32m--> 839\u001b[0m res \u001b[38;5;241m=\u001b[39m \u001b[43mf\u001b[49m\u001b[43m(\u001b[49m\u001b[43mgroup\u001b[49m\u001b[43m)\u001b[49m\n\u001b[1;32m    840\u001b[0m \u001b[38;5;28;01mif\u001b[39;00m \u001b[38;5;129;01mnot\u001b[39;00m mutated \u001b[38;5;129;01mand\u001b[39;00m \u001b[38;5;129;01mnot\u001b[39;00m _is_indexed_like(res, group_axes, axis):\n\u001b[1;32m    841\u001b[0m     mutated \u001b[38;5;241m=\u001b[39m \u001b[38;5;28;01mTrue\u001b[39;00m\n",
      "File \u001b[0;32m~/.local/lib/python3.9/site-packages/pandas/core/groupby/groupby.py:1668\u001b[0m, in \u001b[0;36mGroupBy._python_agg_general.<locals>.<lambda>\u001b[0;34m(x)\u001b[0m\n\u001b[1;32m   1665\u001b[0m \u001b[38;5;129m@final\u001b[39m\n\u001b[1;32m   1666\u001b[0m \u001b[38;5;28;01mdef\u001b[39;00m \u001b[38;5;21m_python_agg_general\u001b[39m(\u001b[38;5;28mself\u001b[39m, func, \u001b[38;5;241m*\u001b[39margs, raise_on_typeerror\u001b[38;5;241m=\u001b[39m\u001b[38;5;28;01mFalse\u001b[39;00m, \u001b[38;5;241m*\u001b[39m\u001b[38;5;241m*\u001b[39mkwargs):\n\u001b[1;32m   1667\u001b[0m     func \u001b[38;5;241m=\u001b[39m com\u001b[38;5;241m.\u001b[39mis_builtin_func(func)\n\u001b[0;32m-> 1668\u001b[0m     f \u001b[38;5;241m=\u001b[39m \u001b[38;5;28;01mlambda\u001b[39;00m x: \u001b[43mfunc\u001b[49m\u001b[43m(\u001b[49m\u001b[43mx\u001b[49m\u001b[43m,\u001b[49m\u001b[43m \u001b[49m\u001b[38;5;241;43m*\u001b[39;49m\u001b[43margs\u001b[49m\u001b[43m,\u001b[49m\u001b[43m \u001b[49m\u001b[38;5;241;43m*\u001b[39;49m\u001b[38;5;241;43m*\u001b[39;49m\u001b[43mkwargs\u001b[49m\u001b[43m)\u001b[49m\n\u001b[1;32m   1670\u001b[0m     \u001b[38;5;66;03m# iterate through \"columns\" ex exclusions to populate output dict\u001b[39;00m\n\u001b[1;32m   1671\u001b[0m     output: \u001b[38;5;28mdict\u001b[39m[base\u001b[38;5;241m.\u001b[39mOutputKey, ArrayLike] \u001b[38;5;241m=\u001b[39m {}\n",
      "\u001b[0;31mTypeError\u001b[0m: 'int' object is not callable"
     ]
    }
   ],
   "source": [
    "#{'C':[fun1,sum],'D':[fun1,sum]}\n",
    "def max1(x,y):\n",
    "#    print(x)\n",
    "    return 0\n",
    "g1.agg({'N2000_2':[max1('N2000_2','H02'),min,np.mean]})"
   ]
  },
  {
   "cell_type": "code",
   "execution_count": null,
   "id": "c3a34f86-e300-4872-86b5-6b390425bd1f",
   "metadata": {},
   "outputs": [],
   "source": []
  }
 ],
 "metadata": {
  "kernelspec": {
   "display_name": "Python 3 (ipykernel)",
   "language": "python",
   "name": "python3"
  },
  "language_info": {
   "codemirror_mode": {
    "name": "ipython",
    "version": 3
   },
   "file_extension": ".py",
   "mimetype": "text/x-python",
   "name": "python",
   "nbconvert_exporter": "python",
   "pygments_lexer": "ipython3",
   "version": "3.9.9"
  }
 },
 "nbformat": 4,
 "nbformat_minor": 5
}
