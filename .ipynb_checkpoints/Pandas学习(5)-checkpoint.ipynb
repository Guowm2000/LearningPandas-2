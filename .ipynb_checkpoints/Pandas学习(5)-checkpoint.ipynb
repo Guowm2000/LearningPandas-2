{
 "cells": [
  {
   "cell_type": "markdown",
   "id": "8a7ac2fa-6f80-4e64-8dfa-e90b81a8ed02",
   "metadata": {},
   "source": [
    "## **17. Pandas的数据转换函数 map, apply, applymap**"
   ]
  },
  {
   "cell_type": "markdown",
   "id": "239a9455-df44-46a0-8dd3-1af738bb0135",
   "metadata": {},
   "source": [
    "### 数据转换函数对比："
   ]
  },
  {
   "cell_type": "markdown",
   "id": "f1bc54f1-dbd0-42a2-8a57-5f44c43a0471",
   "metadata": {},
   "source": [
    "- map: 只适用于Series,实现每个值-->值的映射\n",
    "- apply: 用于Series时，实现每个值的处理；用于DataFrame时，实现某个轴的Series的处理\n",
    "- applymap: 只能用于DataFrame,用于该DataFrame的每个值的处理（所有元素同时处理）"
   ]
  },
  {
   "cell_type": "markdown",
   "id": "2291a91b-1261-4a21-92b0-53c389db4586",
   "metadata": {
    "tags": []
   },
   "source": [
    "### **17.0 准备数据**"
   ]
  },
  {
   "cell_type": "code",
   "execution_count": 1,
   "id": "495267df-f855-4b31-aee0-132d753a09c1",
   "metadata": {
    "tags": []
   },
   "outputs": [],
   "source": [
    "import pandas as pd\n",
    "import numpy as np\n",
    "%matplotlib inline"
   ]
  },
  {
   "cell_type": "code",
   "execution_count": 2,
   "id": "c5cbf330-a555-437a-9b1d-5f3d6bb8cbe0",
   "metadata": {
    "tags": []
   },
   "outputs": [],
   "source": [
    "df000651=pd.read_csv('./stocks/000651.csv',dtype={'SaleOrderID':'object','BuyOrderID':'object'})\n",
    "df000651['Code']='000651'\n",
    "\n",
    "df601012=pd.read_csv('./stocks/601012.csv',dtype={'SaleOrderID':'object','BuyOrderID':'object'})\n",
    "df601012['Code']='601012'\n",
    "\n",
    "df601288=pd.read_csv('./stocks/601288.csv',dtype={'SaleOrderID':'object','BuyOrderID':'object'})\n",
    "df601288['Code']='601288'\n",
    "\n",
    "df601318=pd.read_csv('./stocks/601318.csv',dtype={'SaleOrderID':'object','BuyOrderID':'object'})\n",
    "df601318['Code']='601318'\n",
    "\n",
    "#合并，生成大的DataFrame\n",
    "df=pd.concat([df000651,df601012,df601288,df601318])"
   ]
  },
  {
   "cell_type": "code",
   "execution_count": 3,
   "id": "5d752f25-8b4d-43d4-b731-972bba4e65c8",
   "metadata": {
    "tags": []
   },
   "outputs": [
    {
     "data": {
      "text/html": [
       "<div>\n",
       "<style scoped>\n",
       "    .dataframe tbody tr th:only-of-type {\n",
       "        vertical-align: middle;\n",
       "    }\n",
       "\n",
       "    .dataframe tbody tr th {\n",
       "        vertical-align: top;\n",
       "    }\n",
       "\n",
       "    .dataframe thead th {\n",
       "        text-align: right;\n",
       "    }\n",
       "</style>\n",
       "<table border=\"1\" class=\"dataframe\">\n",
       "  <thead>\n",
       "    <tr style=\"text-align: right;\">\n",
       "      <th></th>\n",
       "      <th>TranID</th>\n",
       "      <th>Time</th>\n",
       "      <th>Price</th>\n",
       "      <th>Volume</th>\n",
       "      <th>SaleOrderVolume</th>\n",
       "      <th>BuyOrderVolume</th>\n",
       "      <th>Type</th>\n",
       "      <th>SaleOrderID</th>\n",
       "      <th>SaleOrderPrice</th>\n",
       "      <th>BuyOrderID</th>\n",
       "      <th>BuyOrderPrice</th>\n",
       "      <th>Code</th>\n",
       "    </tr>\n",
       "  </thead>\n",
       "  <tbody>\n",
       "    <tr>\n",
       "      <th>0</th>\n",
       "      <td>1</td>\n",
       "      <td>09:25:00</td>\n",
       "      <td>59.10</td>\n",
       "      <td>400</td>\n",
       "      <td>400</td>\n",
       "      <td>1400</td>\n",
       "      <td>S</td>\n",
       "      <td>1</td>\n",
       "      <td>53.87</td>\n",
       "      <td>1</td>\n",
       "      <td>65.84</td>\n",
       "      <td>000651</td>\n",
       "    </tr>\n",
       "    <tr>\n",
       "      <th>1</th>\n",
       "      <td>2</td>\n",
       "      <td>09:25:00</td>\n",
       "      <td>59.10</td>\n",
       "      <td>300</td>\n",
       "      <td>300</td>\n",
       "      <td>1400</td>\n",
       "      <td>S</td>\n",
       "      <td>2</td>\n",
       "      <td>53.87</td>\n",
       "      <td>1</td>\n",
       "      <td>65.84</td>\n",
       "      <td>000651</td>\n",
       "    </tr>\n",
       "    <tr>\n",
       "      <th>2</th>\n",
       "      <td>3</td>\n",
       "      <td>09:25:00</td>\n",
       "      <td>59.10</td>\n",
       "      <td>200</td>\n",
       "      <td>200</td>\n",
       "      <td>1400</td>\n",
       "      <td>S</td>\n",
       "      <td>3</td>\n",
       "      <td>53.87</td>\n",
       "      <td>1</td>\n",
       "      <td>65.84</td>\n",
       "      <td>000651</td>\n",
       "    </tr>\n",
       "    <tr>\n",
       "      <th>3</th>\n",
       "      <td>4</td>\n",
       "      <td>09:25:00</td>\n",
       "      <td>59.10</td>\n",
       "      <td>200</td>\n",
       "      <td>200</td>\n",
       "      <td>1400</td>\n",
       "      <td>S</td>\n",
       "      <td>4</td>\n",
       "      <td>53.87</td>\n",
       "      <td>1</td>\n",
       "      <td>65.84</td>\n",
       "      <td>000651</td>\n",
       "    </tr>\n",
       "    <tr>\n",
       "      <th>4</th>\n",
       "      <td>5</td>\n",
       "      <td>09:25:00</td>\n",
       "      <td>59.10</td>\n",
       "      <td>300</td>\n",
       "      <td>5900</td>\n",
       "      <td>1400</td>\n",
       "      <td>S</td>\n",
       "      <td>5</td>\n",
       "      <td>53.87</td>\n",
       "      <td>1</td>\n",
       "      <td>65.84</td>\n",
       "      <td>000651</td>\n",
       "    </tr>\n",
       "    <tr>\n",
       "      <th>...</th>\n",
       "      <td>...</td>\n",
       "      <td>...</td>\n",
       "      <td>...</td>\n",
       "      <td>...</td>\n",
       "      <td>...</td>\n",
       "      <td>...</td>\n",
       "      <td>...</td>\n",
       "      <td>...</td>\n",
       "      <td>...</td>\n",
       "      <td>...</td>\n",
       "      <td>...</td>\n",
       "      <td>...</td>\n",
       "    </tr>\n",
       "    <tr>\n",
       "      <th>196762</th>\n",
       "      <td>196763</td>\n",
       "      <td>15:00:00</td>\n",
       "      <td>85.18</td>\n",
       "      <td>100</td>\n",
       "      <td>243258</td>\n",
       "      <td>100</td>\n",
       "      <td>S</td>\n",
       "      <td>8493946</td>\n",
       "      <td>85.18</td>\n",
       "      <td>8461234</td>\n",
       "      <td>85.18</td>\n",
       "      <td>601318</td>\n",
       "    </tr>\n",
       "    <tr>\n",
       "      <th>196763</th>\n",
       "      <td>196764</td>\n",
       "      <td>15:00:00</td>\n",
       "      <td>85.18</td>\n",
       "      <td>100</td>\n",
       "      <td>243258</td>\n",
       "      <td>100</td>\n",
       "      <td>S</td>\n",
       "      <td>8493946</td>\n",
       "      <td>85.18</td>\n",
       "      <td>8474391</td>\n",
       "      <td>85.18</td>\n",
       "      <td>601318</td>\n",
       "    </tr>\n",
       "    <tr>\n",
       "      <th>196764</th>\n",
       "      <td>196765</td>\n",
       "      <td>15:00:00</td>\n",
       "      <td>85.18</td>\n",
       "      <td>25500</td>\n",
       "      <td>243258</td>\n",
       "      <td>25500</td>\n",
       "      <td>S</td>\n",
       "      <td>8493946</td>\n",
       "      <td>85.18</td>\n",
       "      <td>8492769</td>\n",
       "      <td>85.18</td>\n",
       "      <td>601318</td>\n",
       "    </tr>\n",
       "    <tr>\n",
       "      <th>196765</th>\n",
       "      <td>196766</td>\n",
       "      <td>15:00:00</td>\n",
       "      <td>85.18</td>\n",
       "      <td>1000</td>\n",
       "      <td>262500</td>\n",
       "      <td>1000</td>\n",
       "      <td>B</td>\n",
       "      <td>8493946</td>\n",
       "      <td>85.18</td>\n",
       "      <td>8498955</td>\n",
       "      <td>85.18</td>\n",
       "      <td>601318</td>\n",
       "    </tr>\n",
       "    <tr>\n",
       "      <th>196766</th>\n",
       "      <td>196766</td>\n",
       "      <td>15:00:00</td>\n",
       "      <td>85.18</td>\n",
       "      <td>1000</td>\n",
       "      <td>262500</td>\n",
       "      <td>1000</td>\n",
       "      <td>B</td>\n",
       "      <td>8493946</td>\n",
       "      <td>85.18</td>\n",
       "      <td>8498955</td>\n",
       "      <td>85.18</td>\n",
       "      <td>601318</td>\n",
       "    </tr>\n",
       "  </tbody>\n",
       "</table>\n",
       "<p>534037 rows × 12 columns</p>\n",
       "</div>"
      ],
      "text/plain": [
       "        TranID      Time  Price  Volume  SaleOrderVolume  BuyOrderVolume Type  \\\n",
       "0            1  09:25:00  59.10     400              400            1400    S   \n",
       "1            2  09:25:00  59.10     300              300            1400    S   \n",
       "2            3  09:25:00  59.10     200              200            1400    S   \n",
       "3            4  09:25:00  59.10     200              200            1400    S   \n",
       "4            5  09:25:00  59.10     300             5900            1400    S   \n",
       "...        ...       ...    ...     ...              ...             ...  ...   \n",
       "196762  196763  15:00:00  85.18     100           243258             100    S   \n",
       "196763  196764  15:00:00  85.18     100           243258             100    S   \n",
       "196764  196765  15:00:00  85.18   25500           243258           25500    S   \n",
       "196765  196766  15:00:00  85.18    1000           262500            1000    B   \n",
       "196766  196766  15:00:00  85.18    1000           262500            1000    B   \n",
       "\n",
       "       SaleOrderID  SaleOrderPrice BuyOrderID  BuyOrderPrice    Code  \n",
       "0                1           53.87          1          65.84  000651  \n",
       "1                2           53.87          1          65.84  000651  \n",
       "2                3           53.87          1          65.84  000651  \n",
       "3                4           53.87          1          65.84  000651  \n",
       "4                5           53.87          1          65.84  000651  \n",
       "...            ...             ...        ...            ...     ...  \n",
       "196762     8493946           85.18    8461234          85.18  601318  \n",
       "196763     8493946           85.18    8474391          85.18  601318  \n",
       "196764     8493946           85.18    8492769          85.18  601318  \n",
       "196765     8493946           85.18    8498955          85.18  601318  \n",
       "196766     8493946           85.18    8498955          85.18  601318  \n",
       "\n",
       "[534037 rows x 12 columns]"
      ]
     },
     "execution_count": 3,
     "metadata": {},
     "output_type": "execute_result"
    }
   ],
   "source": [
    "df"
   ]
  },
  {
   "cell_type": "code",
   "execution_count": 4,
   "id": "eb0594ff-19cb-47fd-bfae-105efd2b07bb",
   "metadata": {
    "tags": []
   },
   "outputs": [
    {
     "data": {
      "text/plain": [
       "array(['000651', '601012', '601288', '601318'], dtype=object)"
      ]
     },
     "execution_count": 4,
     "metadata": {},
     "output_type": "execute_result"
    }
   ],
   "source": [
    "df['Code'].unique()"
   ]
  },
  {
   "cell_type": "markdown",
   "id": "c5e03995-c573-45e9-afbb-f0414d1c12ed",
   "metadata": {},
   "source": [
    "### **17.1 map只能用于Series值的处理**"
   ]
  },
  {
   "cell_type": "markdown",
   "id": "839a71e0-3657-4745-9cf0-34aa7efdae28",
   "metadata": {},
   "source": [
    "#### Series.map(dict)或者Series.map(fun)均可"
   ]
  },
  {
   "cell_type": "code",
   "execution_count": 6,
   "id": "29c3fe73-d800-49e2-9129-85e8e275656a",
   "metadata": {
    "tags": []
   },
   "outputs": [],
   "source": [
    "#将代码映射成中文\n",
    "#定义一个字典\n",
    "dict_name={'000651':'格力电气', '601012':'隆基绿能', '601288':'农业银行', '601318':'中国平安'}"
   ]
  },
  {
   "cell_type": "markdown",
   "id": "4c6f837f-fc44-4227-82e8-62a186258b3d",
   "metadata": {},
   "source": [
    "#### **方法1:Series.map(dict)**"
   ]
  },
  {
   "cell_type": "code",
   "execution_count": 13,
   "id": "2f98521d-0967-4b29-8107-20aa0bbc3f54",
   "metadata": {
    "tags": []
   },
   "outputs": [],
   "source": [
    "#以DataFrame中的Code的字段值为key,返回字典的Value值，自动根据key取value\n",
    "#Name1为新增的字段。df['Code']是一个Series，而map函数只能作用于Series.\n",
    "df['Name1']=df['Code'].map(dict_name)  #注意这里的映射方式，与通常的理解不同"
   ]
  },
  {
   "cell_type": "code",
   "execution_count": 14,
   "id": "e284082c-2f90-495c-8ff5-af7871d1b009",
   "metadata": {
    "tags": []
   },
   "outputs": [
    {
     "data": {
      "text/html": [
       "<div>\n",
       "<style scoped>\n",
       "    .dataframe tbody tr th:only-of-type {\n",
       "        vertical-align: middle;\n",
       "    }\n",
       "\n",
       "    .dataframe tbody tr th {\n",
       "        vertical-align: top;\n",
       "    }\n",
       "\n",
       "    .dataframe thead th {\n",
       "        text-align: right;\n",
       "    }\n",
       "</style>\n",
       "<table border=\"1\" class=\"dataframe\">\n",
       "  <thead>\n",
       "    <tr style=\"text-align: right;\">\n",
       "      <th></th>\n",
       "      <th>TranID</th>\n",
       "      <th>Time</th>\n",
       "      <th>Price</th>\n",
       "      <th>Volume</th>\n",
       "      <th>SaleOrderVolume</th>\n",
       "      <th>BuyOrderVolume</th>\n",
       "      <th>Type</th>\n",
       "      <th>SaleOrderID</th>\n",
       "      <th>SaleOrderPrice</th>\n",
       "      <th>BuyOrderID</th>\n",
       "      <th>BuyOrderPrice</th>\n",
       "      <th>Code</th>\n",
       "      <th>Name1</th>\n",
       "      <th>name2</th>\n",
       "      <th>name_fun1</th>\n",
       "    </tr>\n",
       "  </thead>\n",
       "  <tbody>\n",
       "    <tr>\n",
       "      <th>0</th>\n",
       "      <td>1</td>\n",
       "      <td>09:25:00</td>\n",
       "      <td>59.1</td>\n",
       "      <td>400</td>\n",
       "      <td>400</td>\n",
       "      <td>1400</td>\n",
       "      <td>S</td>\n",
       "      <td>1</td>\n",
       "      <td>53.87</td>\n",
       "      <td>1</td>\n",
       "      <td>65.84</td>\n",
       "      <td>000651</td>\n",
       "      <td>格力电气</td>\n",
       "      <td>格力电气</td>\n",
       "      <td>格力电气**</td>\n",
       "    </tr>\n",
       "  </tbody>\n",
       "</table>\n",
       "</div>"
      ],
      "text/plain": [
       "   TranID      Time  Price  Volume  SaleOrderVolume  BuyOrderVolume Type  \\\n",
       "0       1  09:25:00   59.1     400              400            1400    S   \n",
       "\n",
       "  SaleOrderID  SaleOrderPrice BuyOrderID  BuyOrderPrice    Code Name1 name2  \\\n",
       "0           1           53.87          1          65.84  000651  格力电气  格力电气   \n",
       "\n",
       "  name_fun1  \n",
       "0    格力电气**  "
      ]
     },
     "execution_count": 14,
     "metadata": {},
     "output_type": "execute_result"
    }
   ],
   "source": [
    "df.head(1)"
   ]
  },
  {
   "cell_type": "markdown",
   "id": "14e9f118-cad1-44ca-8546-f53bab7798e1",
   "metadata": {},
   "source": [
    "#### **方法2：Series.map(fun)**\n",
    "**此时，fun的参数是Series的每个元素的值**"
   ]
  },
  {
   "cell_type": "code",
   "execution_count": 15,
   "id": "b891eb71-5af3-4e21-888b-734b8081a250",
   "metadata": {
    "tags": []
   },
   "outputs": [],
   "source": [
    "#这里，fun是一个lambda函数\n",
    "#df['Code']是一个Series，而map函数只能作用于Series\n",
    "df['name2']=df['Code'].map(lambda x:dict_name[x]) #fun的参数自动设置为Series(这里是df['Code'])的每个元素的值"
   ]
  },
  {
   "cell_type": "code",
   "execution_count": 16,
   "id": "7510ee54-3192-43e9-abdb-76f0ac2d9a47",
   "metadata": {
    "tags": []
   },
   "outputs": [
    {
     "data": {
      "text/html": [
       "<div>\n",
       "<style scoped>\n",
       "    .dataframe tbody tr th:only-of-type {\n",
       "        vertical-align: middle;\n",
       "    }\n",
       "\n",
       "    .dataframe tbody tr th {\n",
       "        vertical-align: top;\n",
       "    }\n",
       "\n",
       "    .dataframe thead th {\n",
       "        text-align: right;\n",
       "    }\n",
       "</style>\n",
       "<table border=\"1\" class=\"dataframe\">\n",
       "  <thead>\n",
       "    <tr style=\"text-align: right;\">\n",
       "      <th></th>\n",
       "      <th>TranID</th>\n",
       "      <th>Time</th>\n",
       "      <th>Price</th>\n",
       "      <th>Volume</th>\n",
       "      <th>SaleOrderVolume</th>\n",
       "      <th>BuyOrderVolume</th>\n",
       "      <th>Type</th>\n",
       "      <th>SaleOrderID</th>\n",
       "      <th>SaleOrderPrice</th>\n",
       "      <th>BuyOrderID</th>\n",
       "      <th>BuyOrderPrice</th>\n",
       "      <th>Code</th>\n",
       "      <th>Name1</th>\n",
       "      <th>name2</th>\n",
       "      <th>name_fun1</th>\n",
       "    </tr>\n",
       "  </thead>\n",
       "  <tbody>\n",
       "    <tr>\n",
       "      <th>0</th>\n",
       "      <td>1</td>\n",
       "      <td>09:25:00</td>\n",
       "      <td>59.1</td>\n",
       "      <td>400</td>\n",
       "      <td>400</td>\n",
       "      <td>1400</td>\n",
       "      <td>S</td>\n",
       "      <td>1</td>\n",
       "      <td>53.87</td>\n",
       "      <td>1</td>\n",
       "      <td>65.84</td>\n",
       "      <td>000651</td>\n",
       "      <td>格力电气</td>\n",
       "      <td>格力电气</td>\n",
       "      <td>格力电气**</td>\n",
       "    </tr>\n",
       "  </tbody>\n",
       "</table>\n",
       "</div>"
      ],
      "text/plain": [
       "   TranID      Time  Price  Volume  SaleOrderVolume  BuyOrderVolume Type  \\\n",
       "0       1  09:25:00   59.1     400              400            1400    S   \n",
       "\n",
       "  SaleOrderID  SaleOrderPrice BuyOrderID  BuyOrderPrice    Code Name1 name2  \\\n",
       "0           1           53.87          1          65.84  000651  格力电气  格力电气   \n",
       "\n",
       "  name_fun1  \n",
       "0    格力电气**  "
      ]
     },
     "execution_count": 16,
     "metadata": {},
     "output_type": "execute_result"
    }
   ],
   "source": [
    "df.head(1)"
   ]
  },
  {
   "cell_type": "code",
   "execution_count": 17,
   "id": "c5abdf22-85bc-4ad7-8680-a5df1d2605ca",
   "metadata": {
    "tags": []
   },
   "outputs": [],
   "source": [
    "#使用一个自定义的标准函数。df['Code']是一个Series，函数fun1(x)的入口参数是这个Series的每个元素值，参数的赋值过程是自动进行的\n",
    "def fun1(x):\n",
    "    return dict_name[x]+'**'\n",
    "df['name_fun1']=df['Code'].map(fun1)"
   ]
  },
  {
   "cell_type": "code",
   "execution_count": 18,
   "id": "342874b1-316e-4303-9fd3-1b7fc2b0a37e",
   "metadata": {
    "tags": []
   },
   "outputs": [
    {
     "data": {
      "text/html": [
       "<div>\n",
       "<style scoped>\n",
       "    .dataframe tbody tr th:only-of-type {\n",
       "        vertical-align: middle;\n",
       "    }\n",
       "\n",
       "    .dataframe tbody tr th {\n",
       "        vertical-align: top;\n",
       "    }\n",
       "\n",
       "    .dataframe thead th {\n",
       "        text-align: right;\n",
       "    }\n",
       "</style>\n",
       "<table border=\"1\" class=\"dataframe\">\n",
       "  <thead>\n",
       "    <tr style=\"text-align: right;\">\n",
       "      <th></th>\n",
       "      <th>TranID</th>\n",
       "      <th>Time</th>\n",
       "      <th>Price</th>\n",
       "      <th>Volume</th>\n",
       "      <th>SaleOrderVolume</th>\n",
       "      <th>BuyOrderVolume</th>\n",
       "      <th>Type</th>\n",
       "      <th>SaleOrderID</th>\n",
       "      <th>SaleOrderPrice</th>\n",
       "      <th>BuyOrderID</th>\n",
       "      <th>BuyOrderPrice</th>\n",
       "      <th>Code</th>\n",
       "      <th>Name1</th>\n",
       "      <th>name2</th>\n",
       "      <th>name_fun1</th>\n",
       "    </tr>\n",
       "  </thead>\n",
       "  <tbody>\n",
       "    <tr>\n",
       "      <th>0</th>\n",
       "      <td>1</td>\n",
       "      <td>09:25:00</td>\n",
       "      <td>59.1</td>\n",
       "      <td>400</td>\n",
       "      <td>400</td>\n",
       "      <td>1400</td>\n",
       "      <td>S</td>\n",
       "      <td>1</td>\n",
       "      <td>53.87</td>\n",
       "      <td>1</td>\n",
       "      <td>65.84</td>\n",
       "      <td>000651</td>\n",
       "      <td>格力电气</td>\n",
       "      <td>格力电气</td>\n",
       "      <td>格力电气**</td>\n",
       "    </tr>\n",
       "  </tbody>\n",
       "</table>\n",
       "</div>"
      ],
      "text/plain": [
       "   TranID      Time  Price  Volume  SaleOrderVolume  BuyOrderVolume Type  \\\n",
       "0       1  09:25:00   59.1     400              400            1400    S   \n",
       "\n",
       "  SaleOrderID  SaleOrderPrice BuyOrderID  BuyOrderPrice    Code Name1 name2  \\\n",
       "0           1           53.87          1          65.84  000651  格力电气  格力电气   \n",
       "\n",
       "  name_fun1  \n",
       "0    格力电气**  "
      ]
     },
     "execution_count": 18,
     "metadata": {},
     "output_type": "execute_result"
    }
   ],
   "source": [
    "df.head(1)"
   ]
  },
  {
   "cell_type": "markdown",
   "id": "de2e4f82-0d5d-41f7-b20a-f388205670ad",
   "metadata": {},
   "source": [
    "### **17.2 apply既可用于Series，也可用于DataFrame的转换**"
   ]
  },
  {
   "cell_type": "markdown",
   "id": "c5a813a5-a2f8-4042-afd3-71e585fcc328",
   "metadata": {},
   "source": [
    "#### 1. apply(function)只能使用fun作为参数，不能使用dict作为参数\n",
    "#### 2. Series.apply(function),function的参数是Series的每个值\n",
    "#### 3. DataFrame.apply(function),function的参数是DataFrame对应轴的Series"
   ]
  },
  {
   "cell_type": "markdown",
   "id": "4dfe32bf-2be3-4ecf-89e7-1eaa9c03366d",
   "metadata": {},
   "source": [
    "### **17.2.1 Series.apply(fun)**\n",
    "#### fun的参数是Series的每个值"
   ]
  },
  {
   "cell_type": "code",
   "execution_count": 19,
   "id": "b8b476e9-a4c1-4cb5-aca3-b2351bdf21b4",
   "metadata": {
    "tags": []
   },
   "outputs": [],
   "source": [
    "#适用lambda函数\n",
    "#与Series.map(fun)相似\n",
    "df['name3']=df['Code'].apply(lambda x:dict_name[x])"
   ]
  },
  {
   "cell_type": "code",
   "execution_count": 20,
   "id": "036a86d0-0042-4300-832b-4049deb2ca35",
   "metadata": {
    "tags": []
   },
   "outputs": [
    {
     "data": {
      "text/html": [
       "<div>\n",
       "<style scoped>\n",
       "    .dataframe tbody tr th:only-of-type {\n",
       "        vertical-align: middle;\n",
       "    }\n",
       "\n",
       "    .dataframe tbody tr th {\n",
       "        vertical-align: top;\n",
       "    }\n",
       "\n",
       "    .dataframe thead th {\n",
       "        text-align: right;\n",
       "    }\n",
       "</style>\n",
       "<table border=\"1\" class=\"dataframe\">\n",
       "  <thead>\n",
       "    <tr style=\"text-align: right;\">\n",
       "      <th></th>\n",
       "      <th>TranID</th>\n",
       "      <th>Time</th>\n",
       "      <th>Price</th>\n",
       "      <th>Volume</th>\n",
       "      <th>SaleOrderVolume</th>\n",
       "      <th>BuyOrderVolume</th>\n",
       "      <th>Type</th>\n",
       "      <th>SaleOrderID</th>\n",
       "      <th>SaleOrderPrice</th>\n",
       "      <th>BuyOrderID</th>\n",
       "      <th>BuyOrderPrice</th>\n",
       "      <th>Code</th>\n",
       "      <th>Name1</th>\n",
       "      <th>name2</th>\n",
       "      <th>name_fun1</th>\n",
       "      <th>name3</th>\n",
       "    </tr>\n",
       "  </thead>\n",
       "  <tbody>\n",
       "    <tr>\n",
       "      <th>0</th>\n",
       "      <td>1</td>\n",
       "      <td>09:25:00</td>\n",
       "      <td>59.1</td>\n",
       "      <td>400</td>\n",
       "      <td>400</td>\n",
       "      <td>1400</td>\n",
       "      <td>S</td>\n",
       "      <td>1</td>\n",
       "      <td>53.87</td>\n",
       "      <td>1</td>\n",
       "      <td>65.84</td>\n",
       "      <td>000651</td>\n",
       "      <td>格力电气</td>\n",
       "      <td>格力电气</td>\n",
       "      <td>格力电气**</td>\n",
       "      <td>格力电气</td>\n",
       "    </tr>\n",
       "  </tbody>\n",
       "</table>\n",
       "</div>"
      ],
      "text/plain": [
       "   TranID      Time  Price  Volume  SaleOrderVolume  BuyOrderVolume Type  \\\n",
       "0       1  09:25:00   59.1     400              400            1400    S   \n",
       "\n",
       "  SaleOrderID  SaleOrderPrice BuyOrderID  BuyOrderPrice    Code Name1 name2  \\\n",
       "0           1           53.87          1          65.84  000651  格力电气  格力电气   \n",
       "\n",
       "  name_fun1 name3  \n",
       "0    格力电气**  格力电气  "
      ]
     },
     "execution_count": 20,
     "metadata": {},
     "output_type": "execute_result"
    }
   ],
   "source": [
    "df.head(1)"
   ]
  },
  {
   "cell_type": "code",
   "execution_count": 24,
   "id": "c7fbe7b5-b1c0-4777-b5a7-c19e83bded60",
   "metadata": {
    "tags": []
   },
   "outputs": [],
   "source": [
    "#使用标准行数fun2。Series df['Code']的每个值作为参数传递给函数fun2(x)\n",
    "def fun2(x):\n",
    "    return dict_name[x]+'=='\n",
    "df['name_fun2']=df['Code'].apply(fun2)"
   ]
  },
  {
   "cell_type": "code",
   "execution_count": 25,
   "id": "c83a4868-d110-4533-a726-5cef7fde455e",
   "metadata": {
    "tags": []
   },
   "outputs": [
    {
     "data": {
      "text/html": [
       "<div>\n",
       "<style scoped>\n",
       "    .dataframe tbody tr th:only-of-type {\n",
       "        vertical-align: middle;\n",
       "    }\n",
       "\n",
       "    .dataframe tbody tr th {\n",
       "        vertical-align: top;\n",
       "    }\n",
       "\n",
       "    .dataframe thead th {\n",
       "        text-align: right;\n",
       "    }\n",
       "</style>\n",
       "<table border=\"1\" class=\"dataframe\">\n",
       "  <thead>\n",
       "    <tr style=\"text-align: right;\">\n",
       "      <th></th>\n",
       "      <th>TranID</th>\n",
       "      <th>Time</th>\n",
       "      <th>Price</th>\n",
       "      <th>Volume</th>\n",
       "      <th>SaleOrderVolume</th>\n",
       "      <th>BuyOrderVolume</th>\n",
       "      <th>Type</th>\n",
       "      <th>SaleOrderID</th>\n",
       "      <th>SaleOrderPrice</th>\n",
       "      <th>BuyOrderID</th>\n",
       "      <th>BuyOrderPrice</th>\n",
       "      <th>Code</th>\n",
       "      <th>Name1</th>\n",
       "      <th>name2</th>\n",
       "      <th>name_fun1</th>\n",
       "      <th>name3</th>\n",
       "      <th>name_fun2</th>\n",
       "    </tr>\n",
       "  </thead>\n",
       "  <tbody>\n",
       "    <tr>\n",
       "      <th>0</th>\n",
       "      <td>1</td>\n",
       "      <td>09:25:00</td>\n",
       "      <td>59.1</td>\n",
       "      <td>400</td>\n",
       "      <td>400</td>\n",
       "      <td>1400</td>\n",
       "      <td>S</td>\n",
       "      <td>1</td>\n",
       "      <td>53.87</td>\n",
       "      <td>1</td>\n",
       "      <td>65.84</td>\n",
       "      <td>000651</td>\n",
       "      <td>格力电气</td>\n",
       "      <td>格力电气</td>\n",
       "      <td>格力电气**</td>\n",
       "      <td>格力电气</td>\n",
       "      <td>格力电气==</td>\n",
       "    </tr>\n",
       "  </tbody>\n",
       "</table>\n",
       "</div>"
      ],
      "text/plain": [
       "   TranID      Time  Price  Volume  SaleOrderVolume  BuyOrderVolume Type  \\\n",
       "0       1  09:25:00   59.1     400              400            1400    S   \n",
       "\n",
       "  SaleOrderID  SaleOrderPrice BuyOrderID  BuyOrderPrice    Code Name1 name2  \\\n",
       "0           1           53.87          1          65.84  000651  格力电气  格力电气   \n",
       "\n",
       "  name_fun1 name3 name_fun2  \n",
       "0    格力电气**  格力电气    格力电气==  "
      ]
     },
     "execution_count": 25,
     "metadata": {},
     "output_type": "execute_result"
    }
   ],
   "source": [
    "df.head(1)"
   ]
  },
  {
   "cell_type": "markdown",
   "id": "02a1b270-ede0-4bc6-aef4-66d877947c71",
   "metadata": {},
   "source": [
    "### **17.2.2 DataFrame.apply(fun)**\n",
    "**fun的参数是DataFrame对应轴的Serie**"
   ]
  },
  {
   "cell_type": "code",
   "execution_count": 26,
   "id": "6de7df64-f858-4412-b936-bba7592e84b4",
   "metadata": {
    "tags": []
   },
   "outputs": [],
   "source": [
    "#执行速度慢，此时apply函数作用于DataFrame\n",
    "df['name4']=df.apply(lambda x:dict_name[x['Code']],axis=1)"
   ]
  },
  {
   "cell_type": "markdown",
   "id": "2930c40a-c38a-4c05-b248-de46256d3d8a",
   "metadata": {},
   "source": [
    "注意：\n",
    "- apply函数是在df这个DataFrame上调用的\n",
    "- lambda x 中的 x 是一个Series，因为指定了axis=1，所以Series的key是df的列名，可以用df['Code']获取列的值"
   ]
  },
  {
   "cell_type": "code",
   "execution_count": 27,
   "id": "423b4652-98b3-4166-b7eb-60b65518e131",
   "metadata": {
    "tags": []
   },
   "outputs": [
    {
     "data": {
      "text/html": [
       "<div>\n",
       "<style scoped>\n",
       "    .dataframe tbody tr th:only-of-type {\n",
       "        vertical-align: middle;\n",
       "    }\n",
       "\n",
       "    .dataframe tbody tr th {\n",
       "        vertical-align: top;\n",
       "    }\n",
       "\n",
       "    .dataframe thead th {\n",
       "        text-align: right;\n",
       "    }\n",
       "</style>\n",
       "<table border=\"1\" class=\"dataframe\">\n",
       "  <thead>\n",
       "    <tr style=\"text-align: right;\">\n",
       "      <th></th>\n",
       "      <th>TranID</th>\n",
       "      <th>Time</th>\n",
       "      <th>Price</th>\n",
       "      <th>Volume</th>\n",
       "      <th>SaleOrderVolume</th>\n",
       "      <th>BuyOrderVolume</th>\n",
       "      <th>Type</th>\n",
       "      <th>SaleOrderID</th>\n",
       "      <th>SaleOrderPrice</th>\n",
       "      <th>BuyOrderID</th>\n",
       "      <th>BuyOrderPrice</th>\n",
       "      <th>Code</th>\n",
       "      <th>Name1</th>\n",
       "      <th>name2</th>\n",
       "      <th>name_fun1</th>\n",
       "      <th>name3</th>\n",
       "      <th>name_fun2</th>\n",
       "      <th>name4</th>\n",
       "    </tr>\n",
       "  </thead>\n",
       "  <tbody>\n",
       "    <tr>\n",
       "      <th>0</th>\n",
       "      <td>1</td>\n",
       "      <td>09:25:00</td>\n",
       "      <td>59.1</td>\n",
       "      <td>400</td>\n",
       "      <td>400</td>\n",
       "      <td>1400</td>\n",
       "      <td>S</td>\n",
       "      <td>1</td>\n",
       "      <td>53.87</td>\n",
       "      <td>1</td>\n",
       "      <td>65.84</td>\n",
       "      <td>000651</td>\n",
       "      <td>格力电气</td>\n",
       "      <td>格力电气</td>\n",
       "      <td>格力电气**</td>\n",
       "      <td>格力电气</td>\n",
       "      <td>格力电气==</td>\n",
       "      <td>格力电气</td>\n",
       "    </tr>\n",
       "  </tbody>\n",
       "</table>\n",
       "</div>"
      ],
      "text/plain": [
       "   TranID      Time  Price  Volume  SaleOrderVolume  BuyOrderVolume Type  \\\n",
       "0       1  09:25:00   59.1     400              400            1400    S   \n",
       "\n",
       "  SaleOrderID  SaleOrderPrice BuyOrderID  BuyOrderPrice    Code Name1 name2  \\\n",
       "0           1           53.87          1          65.84  000651  格力电气  格力电气   \n",
       "\n",
       "  name_fun1 name3 name_fun2 name4  \n",
       "0    格力电气**  格力电气    格力电气==  格力电气  "
      ]
     },
     "execution_count": 27,
     "metadata": {},
     "output_type": "execute_result"
    }
   ],
   "source": [
    "df.head(1)"
   ]
  },
  {
   "cell_type": "markdown",
   "id": "83a4cfab-5b37-48e7-89d5-78d3f1d48cdd",
   "metadata": {},
   "source": [
    "### **17.3 applymap用于DataFrame所有值的转换**"
   ]
  },
  {
   "cell_type": "code",
   "execution_count": 28,
   "id": "efc24310-8d4b-4fe8-ab36-0bc7bca24465",
   "metadata": {
    "tags": []
   },
   "outputs": [],
   "source": [
    "df_sub=df[['Price','SaleOrderPrice','BuyOrderPrice','SaleOrderVolume','BuyOrderVolume']]"
   ]
  },
  {
   "cell_type": "code",
   "execution_count": 44,
   "id": "c2baa511-c591-4037-9358-03640022820c",
   "metadata": {
    "tags": []
   },
   "outputs": [],
   "source": [
    "df_sub.reset_index(inplace=True)"
   ]
  },
  {
   "cell_type": "code",
   "execution_count": 57,
   "id": "f86ba90a-8136-45d8-ac7d-5b99d93b6e25",
   "metadata": {
    "tags": []
   },
   "outputs": [
    {
     "data": {
      "text/html": [
       "<div>\n",
       "<style scoped>\n",
       "    .dataframe tbody tr th:only-of-type {\n",
       "        vertical-align: middle;\n",
       "    }\n",
       "\n",
       "    .dataframe tbody tr th {\n",
       "        vertical-align: top;\n",
       "    }\n",
       "\n",
       "    .dataframe thead th {\n",
       "        text-align: right;\n",
       "    }\n",
       "</style>\n",
       "<table border=\"1\" class=\"dataframe\">\n",
       "  <thead>\n",
       "    <tr style=\"text-align: right;\">\n",
       "      <th></th>\n",
       "      <th>index</th>\n",
       "      <th>Price</th>\n",
       "      <th>SaleOrderPrice</th>\n",
       "      <th>BuyOrderPrice</th>\n",
       "      <th>SaleOrderVolume</th>\n",
       "      <th>BuyOrderVolume</th>\n",
       "    </tr>\n",
       "  </thead>\n",
       "  <tbody>\n",
       "    <tr>\n",
       "      <th>0</th>\n",
       "      <td>0</td>\n",
       "      <td>59.1</td>\n",
       "      <td>53.87</td>\n",
       "      <td>65.84</td>\n",
       "      <td>400</td>\n",
       "      <td>1400</td>\n",
       "    </tr>\n",
       "    <tr>\n",
       "      <th>1</th>\n",
       "      <td>1</td>\n",
       "      <td>59.1</td>\n",
       "      <td>53.87</td>\n",
       "      <td>65.84</td>\n",
       "      <td>300</td>\n",
       "      <td>1400</td>\n",
       "    </tr>\n",
       "    <tr>\n",
       "      <th>2</th>\n",
       "      <td>2</td>\n",
       "      <td>59.1</td>\n",
       "      <td>53.87</td>\n",
       "      <td>65.84</td>\n",
       "      <td>200</td>\n",
       "      <td>1400</td>\n",
       "    </tr>\n",
       "    <tr>\n",
       "      <th>3</th>\n",
       "      <td>3</td>\n",
       "      <td>59.1</td>\n",
       "      <td>53.87</td>\n",
       "      <td>65.84</td>\n",
       "      <td>200</td>\n",
       "      <td>1400</td>\n",
       "    </tr>\n",
       "    <tr>\n",
       "      <th>4</th>\n",
       "      <td>4</td>\n",
       "      <td>59.1</td>\n",
       "      <td>53.87</td>\n",
       "      <td>65.84</td>\n",
       "      <td>5900</td>\n",
       "      <td>1400</td>\n",
       "    </tr>\n",
       "  </tbody>\n",
       "</table>\n",
       "</div>"
      ],
      "text/plain": [
       "   index  Price  SaleOrderPrice  BuyOrderPrice  SaleOrderVolume  \\\n",
       "0      0   59.1           53.87          65.84              400   \n",
       "1      1   59.1           53.87          65.84              300   \n",
       "2      2   59.1           53.87          65.84              200   \n",
       "3      3   59.1           53.87          65.84              200   \n",
       "4      4   59.1           53.87          65.84             5900   \n",
       "\n",
       "   BuyOrderVolume  \n",
       "0            1400  \n",
       "1            1400  \n",
       "2            1400  \n",
       "3            1400  \n",
       "4            1400  "
      ]
     },
     "execution_count": 57,
     "metadata": {},
     "output_type": "execute_result"
    }
   ],
   "source": [
    "df_sub.head(5)"
   ]
  },
  {
   "cell_type": "code",
   "execution_count": 58,
   "id": "1867b4ae-714f-4575-b4f1-663bab66f68a",
   "metadata": {
    "tags": []
   },
   "outputs": [
    {
     "data": {
      "text/html": [
       "<div>\n",
       "<style scoped>\n",
       "    .dataframe tbody tr th:only-of-type {\n",
       "        vertical-align: middle;\n",
       "    }\n",
       "\n",
       "    .dataframe tbody tr th {\n",
       "        vertical-align: top;\n",
       "    }\n",
       "\n",
       "    .dataframe thead th {\n",
       "        text-align: right;\n",
       "    }\n",
       "</style>\n",
       "<table border=\"1\" class=\"dataframe\">\n",
       "  <thead>\n",
       "    <tr style=\"text-align: right;\">\n",
       "      <th></th>\n",
       "      <th>index</th>\n",
       "      <th>Price</th>\n",
       "      <th>SaleOrderPrice</th>\n",
       "      <th>BuyOrderPrice</th>\n",
       "      <th>SaleOrderVolume</th>\n",
       "      <th>BuyOrderVolume</th>\n",
       "    </tr>\n",
       "  </thead>\n",
       "  <tbody>\n",
       "    <tr>\n",
       "      <th>0</th>\n",
       "      <td>0</td>\n",
       "      <td>59</td>\n",
       "      <td>53</td>\n",
       "      <td>65</td>\n",
       "      <td>400</td>\n",
       "      <td>1400</td>\n",
       "    </tr>\n",
       "    <tr>\n",
       "      <th>1</th>\n",
       "      <td>1</td>\n",
       "      <td>59</td>\n",
       "      <td>53</td>\n",
       "      <td>65</td>\n",
       "      <td>300</td>\n",
       "      <td>1400</td>\n",
       "    </tr>\n",
       "    <tr>\n",
       "      <th>2</th>\n",
       "      <td>2</td>\n",
       "      <td>59</td>\n",
       "      <td>53</td>\n",
       "      <td>65</td>\n",
       "      <td>200</td>\n",
       "      <td>1400</td>\n",
       "    </tr>\n",
       "    <tr>\n",
       "      <th>3</th>\n",
       "      <td>3</td>\n",
       "      <td>59</td>\n",
       "      <td>53</td>\n",
       "      <td>65</td>\n",
       "      <td>200</td>\n",
       "      <td>1400</td>\n",
       "    </tr>\n",
       "    <tr>\n",
       "      <th>4</th>\n",
       "      <td>4</td>\n",
       "      <td>59</td>\n",
       "      <td>53</td>\n",
       "      <td>65</td>\n",
       "      <td>5900</td>\n",
       "      <td>1400</td>\n",
       "    </tr>\n",
       "    <tr>\n",
       "      <th>...</th>\n",
       "      <td>...</td>\n",
       "      <td>...</td>\n",
       "      <td>...</td>\n",
       "      <td>...</td>\n",
       "      <td>...</td>\n",
       "      <td>...</td>\n",
       "    </tr>\n",
       "    <tr>\n",
       "      <th>534032</th>\n",
       "      <td>196762</td>\n",
       "      <td>85</td>\n",
       "      <td>85</td>\n",
       "      <td>85</td>\n",
       "      <td>243258</td>\n",
       "      <td>100</td>\n",
       "    </tr>\n",
       "    <tr>\n",
       "      <th>534033</th>\n",
       "      <td>196763</td>\n",
       "      <td>85</td>\n",
       "      <td>85</td>\n",
       "      <td>85</td>\n",
       "      <td>243258</td>\n",
       "      <td>100</td>\n",
       "    </tr>\n",
       "    <tr>\n",
       "      <th>534034</th>\n",
       "      <td>196764</td>\n",
       "      <td>85</td>\n",
       "      <td>85</td>\n",
       "      <td>85</td>\n",
       "      <td>243258</td>\n",
       "      <td>25500</td>\n",
       "    </tr>\n",
       "    <tr>\n",
       "      <th>534035</th>\n",
       "      <td>196765</td>\n",
       "      <td>85</td>\n",
       "      <td>85</td>\n",
       "      <td>85</td>\n",
       "      <td>262500</td>\n",
       "      <td>1000</td>\n",
       "    </tr>\n",
       "    <tr>\n",
       "      <th>534036</th>\n",
       "      <td>196766</td>\n",
       "      <td>85</td>\n",
       "      <td>85</td>\n",
       "      <td>85</td>\n",
       "      <td>262500</td>\n",
       "      <td>1000</td>\n",
       "    </tr>\n",
       "  </tbody>\n",
       "</table>\n",
       "<p>534037 rows × 6 columns</p>\n",
       "</div>"
      ],
      "text/plain": [
       "         index  Price  SaleOrderPrice  BuyOrderPrice  SaleOrderVolume  \\\n",
       "0            0     59              53             65              400   \n",
       "1            1     59              53             65              300   \n",
       "2            2     59              53             65              200   \n",
       "3            3     59              53             65              200   \n",
       "4            4     59              53             65             5900   \n",
       "...        ...    ...             ...            ...              ...   \n",
       "534032  196762     85              85             85           243258   \n",
       "534033  196763     85              85             85           243258   \n",
       "534034  196764     85              85             85           243258   \n",
       "534035  196765     85              85             85           262500   \n",
       "534036  196766     85              85             85           262500   \n",
       "\n",
       "        BuyOrderVolume  \n",
       "0                 1400  \n",
       "1                 1400  \n",
       "2                 1400  \n",
       "3                 1400  \n",
       "4                 1400  \n",
       "...                ...  \n",
       "534032             100  \n",
       "534033             100  \n",
       "534034           25500  \n",
       "534035            1000  \n",
       "534036            1000  \n",
       "\n",
       "[534037 rows x 6 columns]"
      ]
     },
     "execution_count": 58,
     "metadata": {},
     "output_type": "execute_result"
    }
   ],
   "source": [
    "#将数据取整，应用于所有元素\n",
    "df_sub.applymap(lambda x:int(x))"
   ]
  },
  {
   "cell_type": "code",
   "execution_count": 61,
   "id": "57ac20b7-6cd4-4c5c-a7a9-83da0dd2d029",
   "metadata": {
    "tags": []
   },
   "outputs": [],
   "source": [
    "df_sub.drop(columns=['index'],inplace=True)"
   ]
  },
  {
   "cell_type": "code",
   "execution_count": null,
   "id": "b38d1359-5981-4509-920c-c2961d328300",
   "metadata": {},
   "outputs": [],
   "source": []
  },
  {
   "cell_type": "markdown",
   "id": "eb3410ee-412b-479c-a319-a88a8c976305",
   "metadata": {},
   "source": [
    "----"
   ]
  },
  {
   "cell_type": "code",
   "execution_count": null,
   "id": "40a73342-aa7f-4745-8ddd-60fdd91fb939",
   "metadata": {},
   "outputs": [],
   "source": []
  },
  {
   "cell_type": "markdown",
   "id": "1c85b4c4-15b6-4c6d-9cdb-b9d56bff25b1",
   "metadata": {},
   "source": [
    "## **18. Pandas怎样对每个groupby分组应用apply**"
   ]
  },
  {
   "cell_type": "markdown",
   "id": "34f444a5-3f31-43ed-b388-97aac5488b3e",
   "metadata": {},
   "source": [
    "### **18.0 准备数据**"
   ]
  },
  {
   "cell_type": "code",
   "execution_count": 1,
   "id": "1cbd76dd-456f-4562-ac84-af7bebe99f73",
   "metadata": {
    "tags": []
   },
   "outputs": [],
   "source": [
    "import pandas as pd"
   ]
  },
  {
   "cell_type": "code",
   "execution_count": 2,
   "id": "9f2fa772-e40c-4036-9d5d-de7a1680c6b6",
   "metadata": {
    "tags": []
   },
   "outputs": [],
   "source": [
    "df=pd.read_csv('./movielens/ml-latest-small/ratings.csv')"
   ]
  },
  {
   "cell_type": "code",
   "execution_count": 3,
   "id": "bc400c1b-0703-446e-8e6a-e2f8e2a1fef8",
   "metadata": {
    "tags": []
   },
   "outputs": [
    {
     "data": {
      "text/html": [
       "<div>\n",
       "<style scoped>\n",
       "    .dataframe tbody tr th:only-of-type {\n",
       "        vertical-align: middle;\n",
       "    }\n",
       "\n",
       "    .dataframe tbody tr th {\n",
       "        vertical-align: top;\n",
       "    }\n",
       "\n",
       "    .dataframe thead th {\n",
       "        text-align: right;\n",
       "    }\n",
       "</style>\n",
       "<table border=\"1\" class=\"dataframe\">\n",
       "  <thead>\n",
       "    <tr style=\"text-align: right;\">\n",
       "      <th></th>\n",
       "      <th>userId</th>\n",
       "      <th>movieId</th>\n",
       "      <th>rating</th>\n",
       "      <th>timestamp</th>\n",
       "    </tr>\n",
       "  </thead>\n",
       "  <tbody>\n",
       "    <tr>\n",
       "      <th>0</th>\n",
       "      <td>1</td>\n",
       "      <td>1</td>\n",
       "      <td>4.0</td>\n",
       "      <td>964982703</td>\n",
       "    </tr>\n",
       "    <tr>\n",
       "      <th>1</th>\n",
       "      <td>1</td>\n",
       "      <td>3</td>\n",
       "      <td>4.0</td>\n",
       "      <td>964981247</td>\n",
       "    </tr>\n",
       "    <tr>\n",
       "      <th>2</th>\n",
       "      <td>1</td>\n",
       "      <td>6</td>\n",
       "      <td>4.0</td>\n",
       "      <td>964982224</td>\n",
       "    </tr>\n",
       "    <tr>\n",
       "      <th>3</th>\n",
       "      <td>1</td>\n",
       "      <td>47</td>\n",
       "      <td>5.0</td>\n",
       "      <td>964983815</td>\n",
       "    </tr>\n",
       "    <tr>\n",
       "      <th>4</th>\n",
       "      <td>1</td>\n",
       "      <td>50</td>\n",
       "      <td>5.0</td>\n",
       "      <td>964982931</td>\n",
       "    </tr>\n",
       "    <tr>\n",
       "      <th>...</th>\n",
       "      <td>...</td>\n",
       "      <td>...</td>\n",
       "      <td>...</td>\n",
       "      <td>...</td>\n",
       "    </tr>\n",
       "    <tr>\n",
       "      <th>100831</th>\n",
       "      <td>610</td>\n",
       "      <td>166534</td>\n",
       "      <td>4.0</td>\n",
       "      <td>1493848402</td>\n",
       "    </tr>\n",
       "    <tr>\n",
       "      <th>100832</th>\n",
       "      <td>610</td>\n",
       "      <td>168248</td>\n",
       "      <td>5.0</td>\n",
       "      <td>1493850091</td>\n",
       "    </tr>\n",
       "    <tr>\n",
       "      <th>100833</th>\n",
       "      <td>610</td>\n",
       "      <td>168250</td>\n",
       "      <td>5.0</td>\n",
       "      <td>1494273047</td>\n",
       "    </tr>\n",
       "    <tr>\n",
       "      <th>100834</th>\n",
       "      <td>610</td>\n",
       "      <td>168252</td>\n",
       "      <td>5.0</td>\n",
       "      <td>1493846352</td>\n",
       "    </tr>\n",
       "    <tr>\n",
       "      <th>100835</th>\n",
       "      <td>610</td>\n",
       "      <td>170875</td>\n",
       "      <td>3.0</td>\n",
       "      <td>1493846415</td>\n",
       "    </tr>\n",
       "  </tbody>\n",
       "</table>\n",
       "<p>100836 rows × 4 columns</p>\n",
       "</div>"
      ],
      "text/plain": [
       "        userId  movieId  rating   timestamp\n",
       "0            1        1     4.0   964982703\n",
       "1            1        3     4.0   964981247\n",
       "2            1        6     4.0   964982224\n",
       "3            1       47     5.0   964983815\n",
       "4            1       50     5.0   964982931\n",
       "...        ...      ...     ...         ...\n",
       "100831     610   166534     4.0  1493848402\n",
       "100832     610   168248     5.0  1493850091\n",
       "100833     610   168250     5.0  1494273047\n",
       "100834     610   168252     5.0  1493846352\n",
       "100835     610   170875     3.0  1493846415\n",
       "\n",
       "[100836 rows x 4 columns]"
      ]
     },
     "execution_count": 3,
     "metadata": {},
     "output_type": "execute_result"
    }
   ],
   "source": [
    "df"
   ]
  },
  {
   "cell_type": "markdown",
   "id": "3ef49eee-23f9-4354-bb6a-0a5356f8a404",
   "metadata": {},
   "source": [
    "### **18.1 知识**"
   ]
  },
  {
   "cell_type": "markdown",
   "id": "351ea7a7-ce5a-46dc-a8cf-b59dc1b27098",
   "metadata": {},
   "source": [
    "#### **Pandas对每个groupby分组应用apply的执行过程如下：**"
   ]
  },
  {
   "cell_type": "markdown",
   "id": "d543493e-0a00-4d9b-a179-5b04765e6241",
   "metadata": {},
   "source": [
    "#### **这个过程分为三个步骤，分别是：split-->apply-->combine，如图所示：**"
   ]
  },
  {
   "cell_type": "markdown",
   "id": "b967780e-dd68-479a-8485-8b5bba77590f",
   "metadata": {},
   "source": [
    "![GroupBy模式](groupby.png)"
   ]
  },
  {
   "cell_type": "markdown",
   "id": "3f1e9a85-2261-4f5c-b440-3c2a6cf51464",
   "metadata": {},
   "source": [
    "#### 第一步：split。具体就是执行pandas的groupby；\n",
    "#### 第二步：apply。具体就是通过apply函数在各个分组上执行我们需要的函数（这个函数可以是系统定义的，也可以是自定义的）；\n",
    "#### 第三步：combine。具体就是由Pandas将各个分组apply后的结果组装起来，形成一个结果集并返回。"
   ]
  },
  {
   "cell_type": "markdown",
   "id": "fa8cc852-ad4c-474b-8715-4bdd85e6fcfc",
   "metadata": {},
   "source": [
    "#### **GroupBy.apply(function)**\n",
    "#### 1 function的第一个参数是DataFrame\n",
    "#### 2 function的返回结果可以是：DataFrame、Series、单个值，甚至是和输入的参数DataFrame没有任何关系的值"
   ]
  },
  {
   "cell_type": "markdown",
   "id": "33cc0b23-f169-4082-b465-6191256a3acc",
   "metadata": {},
   "source": [
    "### **实例1. 对数值按分组进行归一化处理**"
   ]
  },
  {
   "cell_type": "markdown",
   "id": "479a6e9d-829a-4f8a-be9b-2481edf2807d",
   "metadata": {},
   "source": [
    "#### 将不同取值范围的数值列进行归一化处理，映射到[0,1]区间"
   ]
  },
  {
   "cell_type": "markdown",
   "id": "ad071c4a-daad-4d3c-933a-c6a8e8892149",
   "metadata": {},
   "source": [
    "#### 归一化处理的好处：\n",
    "#### 1. 更容易进行数值的横向比对。比如价格取值是几百到几千，增幅字段是0到100\n",
    "#### 2. 机器学习模型学得更快、性能更好"
   ]
  },
  {
   "cell_type": "markdown",
   "id": "a093bd69-a6a8-4989-8d57-50687e813e1f",
   "metadata": {},
   "source": [
    "#### 归一化的公式："
   ]
  },
  {
   "cell_type": "markdown",
   "id": "a0fbfb7a-7c2d-47f8-87e4-12f0d2e9312a",
   "metadata": {},
   "source": [
    "![guiyihua](normalization.png)"
   ]
  },
  {
   "cell_type": "markdown",
   "id": "c1d828fe-b8f5-4576-9a04-766a8b34faab",
   "metadata": {},
   "source": [
    "#### **按userId字段分组，在对rating字段进行归一化。做法是：先分组，然后用apply执行一个自定义的归一化函数normal(x)**"
   ]
  },
  {
   "cell_type": "code",
   "execution_count": 66,
   "id": "6dded295-b174-495b-b83b-81cae3e49ae6",
   "metadata": {
    "tags": []
   },
   "outputs": [
    {
     "data": {
      "text/html": [
       "<div>\n",
       "<style scoped>\n",
       "    .dataframe tbody tr th:only-of-type {\n",
       "        vertical-align: middle;\n",
       "    }\n",
       "\n",
       "    .dataframe tbody tr th {\n",
       "        vertical-align: top;\n",
       "    }\n",
       "\n",
       "    .dataframe thead th {\n",
       "        text-align: right;\n",
       "    }\n",
       "</style>\n",
       "<table border=\"1\" class=\"dataframe\">\n",
       "  <thead>\n",
       "    <tr style=\"text-align: right;\">\n",
       "      <th></th>\n",
       "      <th></th>\n",
       "      <th>userId</th>\n",
       "      <th>movieId</th>\n",
       "      <th>rating</th>\n",
       "      <th>timestamp</th>\n",
       "      <th>normal_rating</th>\n",
       "    </tr>\n",
       "    <tr>\n",
       "      <th>userId</th>\n",
       "      <th></th>\n",
       "      <th></th>\n",
       "      <th></th>\n",
       "      <th></th>\n",
       "      <th></th>\n",
       "      <th></th>\n",
       "    </tr>\n",
       "  </thead>\n",
       "  <tbody>\n",
       "    <tr>\n",
       "      <th rowspan=\"5\" valign=\"top\">1</th>\n",
       "      <th>0</th>\n",
       "      <td>1</td>\n",
       "      <td>1</td>\n",
       "      <td>4.0</td>\n",
       "      <td>964982703</td>\n",
       "      <td>0.750000</td>\n",
       "    </tr>\n",
       "    <tr>\n",
       "      <th>1</th>\n",
       "      <td>1</td>\n",
       "      <td>3</td>\n",
       "      <td>4.0</td>\n",
       "      <td>964981247</td>\n",
       "      <td>0.750000</td>\n",
       "    </tr>\n",
       "    <tr>\n",
       "      <th>2</th>\n",
       "      <td>1</td>\n",
       "      <td>6</td>\n",
       "      <td>4.0</td>\n",
       "      <td>964982224</td>\n",
       "      <td>0.750000</td>\n",
       "    </tr>\n",
       "    <tr>\n",
       "      <th>3</th>\n",
       "      <td>1</td>\n",
       "      <td>47</td>\n",
       "      <td>5.0</td>\n",
       "      <td>964983815</td>\n",
       "      <td>1.000000</td>\n",
       "    </tr>\n",
       "    <tr>\n",
       "      <th>4</th>\n",
       "      <td>1</td>\n",
       "      <td>50</td>\n",
       "      <td>5.0</td>\n",
       "      <td>964982931</td>\n",
       "      <td>1.000000</td>\n",
       "    </tr>\n",
       "    <tr>\n",
       "      <th>...</th>\n",
       "      <th>...</th>\n",
       "      <td>...</td>\n",
       "      <td>...</td>\n",
       "      <td>...</td>\n",
       "      <td>...</td>\n",
       "      <td>...</td>\n",
       "    </tr>\n",
       "    <tr>\n",
       "      <th rowspan=\"5\" valign=\"top\">610</th>\n",
       "      <th>100831</th>\n",
       "      <td>610</td>\n",
       "      <td>166534</td>\n",
       "      <td>4.0</td>\n",
       "      <td>1493848402</td>\n",
       "      <td>0.777778</td>\n",
       "    </tr>\n",
       "    <tr>\n",
       "      <th>100832</th>\n",
       "      <td>610</td>\n",
       "      <td>168248</td>\n",
       "      <td>5.0</td>\n",
       "      <td>1493850091</td>\n",
       "      <td>1.000000</td>\n",
       "    </tr>\n",
       "    <tr>\n",
       "      <th>100833</th>\n",
       "      <td>610</td>\n",
       "      <td>168250</td>\n",
       "      <td>5.0</td>\n",
       "      <td>1494273047</td>\n",
       "      <td>1.000000</td>\n",
       "    </tr>\n",
       "    <tr>\n",
       "      <th>100834</th>\n",
       "      <td>610</td>\n",
       "      <td>168252</td>\n",
       "      <td>5.0</td>\n",
       "      <td>1493846352</td>\n",
       "      <td>1.000000</td>\n",
       "    </tr>\n",
       "    <tr>\n",
       "      <th>100835</th>\n",
       "      <td>610</td>\n",
       "      <td>170875</td>\n",
       "      <td>3.0</td>\n",
       "      <td>1493846415</td>\n",
       "      <td>0.555556</td>\n",
       "    </tr>\n",
       "  </tbody>\n",
       "</table>\n",
       "<p>100836 rows × 5 columns</p>\n",
       "</div>"
      ],
      "text/plain": [
       "               userId  movieId  rating   timestamp  normal_rating\n",
       "userId                                                           \n",
       "1      0            1        1     4.0   964982703       0.750000\n",
       "       1            1        3     4.0   964981247       0.750000\n",
       "       2            1        6     4.0   964982224       0.750000\n",
       "       3            1       47     5.0   964983815       1.000000\n",
       "       4            1       50     5.0   964982931       1.000000\n",
       "...               ...      ...     ...         ...            ...\n",
       "610    100831     610   166534     4.0  1493848402       0.777778\n",
       "       100832     610   168248     5.0  1493850091       1.000000\n",
       "       100833     610   168250     5.0  1494273047       1.000000\n",
       "       100834     610   168252     5.0  1493846352       1.000000\n",
       "       100835     610   170875     3.0  1493846415       0.555556\n",
       "\n",
       "[100836 rows x 5 columns]"
      ]
     },
     "execution_count": 66,
     "metadata": {},
     "output_type": "execute_result"
    }
   ],
   "source": [
    "def normal(x): #参数x是DataFrame，这里就是groupby后的各个分组\n",
    "    max_value=x['rating'].max()\n",
    "    min_value=x['rating'].min()\n",
    "    #新增一列normal_rating。在Series x['rating']上通过apply执行自定义的lambda函数，实现分组内的归一化处理\n",
    "    x['normal_rating']=x['rating'].apply(lambda y:(y-min_value)/(max_value-min_value))\n",
    "    return x\n",
    "\n",
    "#以下一句，执行了三步，（1）进行分组，（2）调用组内归一化处理函数，（3）组装处理后的结果\n",
    "df.groupby('userId',group_keys=True).apply(normal) #group_keys=True表示将分组标识添加到结果集的索引中"
   ]
  },
  {
   "cell_type": "code",
   "execution_count": null,
   "id": "fb798bdc-7877-4efc-8aeb-337ad8571c33",
   "metadata": {},
   "outputs": [],
   "source": []
  },
  {
   "cell_type": "markdown",
   "id": "e12bbfee-7c0c-43b5-96b0-91a9469d75e1",
   "metadata": {},
   "source": [
    "### **实例2. 取每个分组的TOPn数据**"
   ]
  },
  {
   "cell_type": "markdown",
   "id": "728deed5-1ca1-40b6-9e1f-3f157c5e6ab0",
   "metadata": {
    "tags": []
   },
   "source": [
    "#### 本例获取每个用户（userId）打分最高的两部电影信息"
   ]
  },
  {
   "cell_type": "code",
   "execution_count": 4,
   "id": "79a7cfef-f169-452f-b5c1-1a47afd2e97f",
   "metadata": {
    "tags": []
   },
   "outputs": [
    {
     "data": {
      "text/html": [
       "<div>\n",
       "<style scoped>\n",
       "    .dataframe tbody tr th:only-of-type {\n",
       "        vertical-align: middle;\n",
       "    }\n",
       "\n",
       "    .dataframe tbody tr th {\n",
       "        vertical-align: top;\n",
       "    }\n",
       "\n",
       "    .dataframe thead th {\n",
       "        text-align: right;\n",
       "    }\n",
       "</style>\n",
       "<table border=\"1\" class=\"dataframe\">\n",
       "  <thead>\n",
       "    <tr style=\"text-align: right;\">\n",
       "      <th></th>\n",
       "      <th>userId</th>\n",
       "      <th>movieId</th>\n",
       "      <th>rating</th>\n",
       "      <th>timestamp</th>\n",
       "    </tr>\n",
       "  </thead>\n",
       "  <tbody>\n",
       "    <tr>\n",
       "      <th>0</th>\n",
       "      <td>1</td>\n",
       "      <td>1</td>\n",
       "      <td>4.0</td>\n",
       "      <td>964982703</td>\n",
       "    </tr>\n",
       "    <tr>\n",
       "      <th>1</th>\n",
       "      <td>1</td>\n",
       "      <td>3</td>\n",
       "      <td>4.0</td>\n",
       "      <td>964981247</td>\n",
       "    </tr>\n",
       "    <tr>\n",
       "      <th>2</th>\n",
       "      <td>1</td>\n",
       "      <td>6</td>\n",
       "      <td>4.0</td>\n",
       "      <td>964982224</td>\n",
       "    </tr>\n",
       "  </tbody>\n",
       "</table>\n",
       "</div>"
      ],
      "text/plain": [
       "   userId  movieId  rating  timestamp\n",
       "0       1        1     4.0  964982703\n",
       "1       1        3     4.0  964981247\n",
       "2       1        6     4.0  964982224"
      ]
     },
     "execution_count": 4,
     "metadata": {},
     "output_type": "execute_result"
    }
   ],
   "source": [
    "df.head(3)"
   ]
  },
  {
   "cell_type": "code",
   "execution_count": 73,
   "id": "537bb481-aa3b-482a-9979-b85c94b17d94",
   "metadata": {
    "tags": []
   },
   "outputs": [
    {
     "data": {
      "text/plain": [
       "userId         int64\n",
       "movieId        int64\n",
       "rating       float64\n",
       "timestamp      int64\n",
       "dtype: object"
      ]
     },
     "execution_count": 73,
     "metadata": {},
     "output_type": "execute_result"
    }
   ],
   "source": [
    "df.dtypes"
   ]
  },
  {
   "cell_type": "code",
   "execution_count": 83,
   "id": "97559ebe-b3fb-4549-ae7e-63ff3897f665",
   "metadata": {
    "tags": []
   },
   "outputs": [
    {
     "data": {
      "text/html": [
       "<div>\n",
       "<style scoped>\n",
       "    .dataframe tbody tr th:only-of-type {\n",
       "        vertical-align: middle;\n",
       "    }\n",
       "\n",
       "    .dataframe tbody tr th {\n",
       "        vertical-align: top;\n",
       "    }\n",
       "\n",
       "    .dataframe thead tr th {\n",
       "        text-align: left;\n",
       "    }\n",
       "\n",
       "    .dataframe thead tr:last-of-type th {\n",
       "        text-align: right;\n",
       "    }\n",
       "</style>\n",
       "<table border=\"1\" class=\"dataframe\">\n",
       "  <thead>\n",
       "    <tr>\n",
       "      <th></th>\n",
       "      <th colspan=\"3\" halign=\"left\">rating</th>\n",
       "    </tr>\n",
       "    <tr>\n",
       "      <th></th>\n",
       "      <th>sum</th>\n",
       "      <th>max</th>\n",
       "      <th>min</th>\n",
       "    </tr>\n",
       "    <tr>\n",
       "      <th>userId</th>\n",
       "      <th></th>\n",
       "      <th></th>\n",
       "      <th></th>\n",
       "    </tr>\n",
       "  </thead>\n",
       "  <tbody>\n",
       "    <tr>\n",
       "      <th>1</th>\n",
       "      <td>1013.0</td>\n",
       "      <td>5.0</td>\n",
       "      <td>1.0</td>\n",
       "    </tr>\n",
       "    <tr>\n",
       "      <th>2</th>\n",
       "      <td>114.5</td>\n",
       "      <td>5.0</td>\n",
       "      <td>2.0</td>\n",
       "    </tr>\n",
       "    <tr>\n",
       "      <th>3</th>\n",
       "      <td>95.0</td>\n",
       "      <td>5.0</td>\n",
       "      <td>0.5</td>\n",
       "    </tr>\n",
       "    <tr>\n",
       "      <th>4</th>\n",
       "      <td>768.0</td>\n",
       "      <td>5.0</td>\n",
       "      <td>1.0</td>\n",
       "    </tr>\n",
       "    <tr>\n",
       "      <th>5</th>\n",
       "      <td>160.0</td>\n",
       "      <td>5.0</td>\n",
       "      <td>1.0</td>\n",
       "    </tr>\n",
       "    <tr>\n",
       "      <th>...</th>\n",
       "      <td>...</td>\n",
       "      <td>...</td>\n",
       "      <td>...</td>\n",
       "    </tr>\n",
       "    <tr>\n",
       "      <th>606</th>\n",
       "      <td>4078.0</td>\n",
       "      <td>5.0</td>\n",
       "      <td>0.5</td>\n",
       "    </tr>\n",
       "    <tr>\n",
       "      <th>607</th>\n",
       "      <td>708.0</td>\n",
       "      <td>5.0</td>\n",
       "      <td>1.0</td>\n",
       "    </tr>\n",
       "    <tr>\n",
       "      <th>608</th>\n",
       "      <td>2604.5</td>\n",
       "      <td>5.0</td>\n",
       "      <td>0.5</td>\n",
       "    </tr>\n",
       "    <tr>\n",
       "      <th>609</th>\n",
       "      <td>121.0</td>\n",
       "      <td>4.0</td>\n",
       "      <td>3.0</td>\n",
       "    </tr>\n",
       "    <tr>\n",
       "      <th>610</th>\n",
       "      <td>4802.5</td>\n",
       "      <td>5.0</td>\n",
       "      <td>0.5</td>\n",
       "    </tr>\n",
       "  </tbody>\n",
       "</table>\n",
       "<p>610 rows × 3 columns</p>\n",
       "</div>"
      ],
      "text/plain": [
       "        rating          \n",
       "           sum  max  min\n",
       "userId                  \n",
       "1       1013.0  5.0  1.0\n",
       "2        114.5  5.0  2.0\n",
       "3         95.0  5.0  0.5\n",
       "4        768.0  5.0  1.0\n",
       "5        160.0  5.0  1.0\n",
       "...        ...  ...  ...\n",
       "606     4078.0  5.0  0.5\n",
       "607      708.0  5.0  1.0\n",
       "608     2604.5  5.0  0.5\n",
       "609      121.0  4.0  3.0\n",
       "610     4802.5  5.0  0.5\n",
       "\n",
       "[610 rows x 3 columns]"
      ]
     },
     "execution_count": 83,
     "metadata": {},
     "output_type": "execute_result"
    }
   ],
   "source": [
    "df.groupby(by='userId').agg({'rating':[sum,max,min]})"
   ]
  },
  {
   "cell_type": "code",
   "execution_count": null,
   "id": "f429a6c2-77b9-4591-a73c-a8aef6fc0829",
   "metadata": {},
   "outputs": [],
   "source": [
    "def gettopn(df1,topn):\n",
    "    return df1.\n",
    "df.groupby(by='userId').apply(gettopn(gettopn,topn=2))"
   ]
  }
 ],
 "metadata": {
  "kernelspec": {
   "display_name": "Python 3 (ipykernel)",
   "language": "python",
   "name": "python3"
  },
  "language_info": {
   "codemirror_mode": {
    "name": "ipython",
    "version": 3
   },
   "file_extension": ".py",
   "mimetype": "text/x-python",
   "name": "python",
   "nbconvert_exporter": "python",
   "pygments_lexer": "ipython3",
   "version": "3.9.9"
  }
 },
 "nbformat": 4,
 "nbformat_minor": 5
}
