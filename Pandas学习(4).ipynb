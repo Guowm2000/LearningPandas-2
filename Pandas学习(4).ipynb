{
 "cells": [
  {
   "cell_type": "markdown",
   "id": "8dcb380e-0cf3-44e9-9516-77a004ec4103",
   "metadata": {},
   "source": [
    "## **15. Pandas怎样实现 group by 分组数据统计**  "
   ]
  },
  {
   "cell_type": "markdown",
   "id": "951f6bf7-898f-4e05-ad9b-100e40ed20cb",
   "metadata": {},
   "source": [
    "### group by 先对数据分组，然后在各个分组上应用聚合函数、转换函数。与SQL Select 中的 group by 子句类似"
   ]
  },
  {
   "cell_type": "markdown",
   "id": "6f9643ad-c426-4449-831e-83bd4dfe193e",
   "metadata": {},
   "source": [
    "**本章重要内容：**\n",
    "\n",
    "1. 分组使用聚合函数做数据统计\n",
    "2. 遍历 group by 结果，理解执行流程\n",
    "3. 实例分组，探索数据"
   ]
  },
  {
   "cell_type": "code",
   "execution_count": 2,
   "id": "0d313e0c-27d4-40fe-a0ec-ab9af1bc79ca",
   "metadata": {
    "tags": []
   },
   "outputs": [],
   "source": [
    "import pandas as pd\n",
    "import numpy as np"
   ]
  },
  {
   "cell_type": "code",
   "execution_count": 30,
   "id": "49efcbc6-e95b-423b-9b60-f3926f98a417",
   "metadata": {
    "tags": []
   },
   "outputs": [],
   "source": [
    "#以下语句使得jupyter notebook能够展示matplot图标\n",
    "%matplotlib inline"
   ]
  },
  {
   "cell_type": "code",
   "execution_count": 230,
   "id": "544c149a-23b9-4288-af49-ccf1c0455264",
   "metadata": {
    "tags": []
   },
   "outputs": [],
   "source": [
    "df=pd.DataFrame({\n",
    "        'A':['foo','bar','foo','bar','foo','bar','foo','foo'],\n",
    "        'B':['one','one','two','three','two','two','one','three'],\n",
    "        'C':np.random.randn(8),\n",
    "        'D':np.random.randn(8)\n",
    "})"
   ]
  },
  {
   "cell_type": "code",
   "execution_count": 231,
   "id": "981d1dd1-d7c9-4cf5-bab7-415d7fcf18b0",
   "metadata": {
    "tags": []
   },
   "outputs": [
    {
     "data": {
      "text/html": [
       "<div>\n",
       "<style scoped>\n",
       "    .dataframe tbody tr th:only-of-type {\n",
       "        vertical-align: middle;\n",
       "    }\n",
       "\n",
       "    .dataframe tbody tr th {\n",
       "        vertical-align: top;\n",
       "    }\n",
       "\n",
       "    .dataframe thead th {\n",
       "        text-align: right;\n",
       "    }\n",
       "</style>\n",
       "<table border=\"1\" class=\"dataframe\">\n",
       "  <thead>\n",
       "    <tr style=\"text-align: right;\">\n",
       "      <th></th>\n",
       "      <th>A</th>\n",
       "      <th>B</th>\n",
       "      <th>C</th>\n",
       "      <th>D</th>\n",
       "    </tr>\n",
       "  </thead>\n",
       "  <tbody>\n",
       "    <tr>\n",
       "      <th>0</th>\n",
       "      <td>foo</td>\n",
       "      <td>one</td>\n",
       "      <td>1.607244</td>\n",
       "      <td>-0.484185</td>\n",
       "    </tr>\n",
       "    <tr>\n",
       "      <th>1</th>\n",
       "      <td>bar</td>\n",
       "      <td>one</td>\n",
       "      <td>0.939612</td>\n",
       "      <td>-0.163602</td>\n",
       "    </tr>\n",
       "    <tr>\n",
       "      <th>2</th>\n",
       "      <td>foo</td>\n",
       "      <td>two</td>\n",
       "      <td>-0.157027</td>\n",
       "      <td>-0.090537</td>\n",
       "    </tr>\n",
       "    <tr>\n",
       "      <th>3</th>\n",
       "      <td>bar</td>\n",
       "      <td>three</td>\n",
       "      <td>2.108325</td>\n",
       "      <td>0.209951</td>\n",
       "    </tr>\n",
       "    <tr>\n",
       "      <th>4</th>\n",
       "      <td>foo</td>\n",
       "      <td>two</td>\n",
       "      <td>-1.093747</td>\n",
       "      <td>0.282443</td>\n",
       "    </tr>\n",
       "    <tr>\n",
       "      <th>5</th>\n",
       "      <td>bar</td>\n",
       "      <td>two</td>\n",
       "      <td>-1.146026</td>\n",
       "      <td>-0.112424</td>\n",
       "    </tr>\n",
       "    <tr>\n",
       "      <th>6</th>\n",
       "      <td>foo</td>\n",
       "      <td>one</td>\n",
       "      <td>0.229108</td>\n",
       "      <td>-0.870564</td>\n",
       "    </tr>\n",
       "    <tr>\n",
       "      <th>7</th>\n",
       "      <td>foo</td>\n",
       "      <td>three</td>\n",
       "      <td>-1.138436</td>\n",
       "      <td>-1.446859</td>\n",
       "    </tr>\n",
       "  </tbody>\n",
       "</table>\n",
       "</div>"
      ],
      "text/plain": [
       "     A      B         C         D\n",
       "0  foo    one  1.607244 -0.484185\n",
       "1  bar    one  0.939612 -0.163602\n",
       "2  foo    two -0.157027 -0.090537\n",
       "3  bar  three  2.108325  0.209951\n",
       "4  foo    two -1.093747  0.282443\n",
       "5  bar    two -1.146026 -0.112424\n",
       "6  foo    one  0.229108 -0.870564\n",
       "7  foo  three -1.138436 -1.446859"
      ]
     },
     "execution_count": 231,
     "metadata": {},
     "output_type": "execute_result"
    }
   ],
   "source": [
    "df"
   ]
  },
  {
   "cell_type": "markdown",
   "id": "2370501f-11c9-4b28-a5b0-9f200538892c",
   "metadata": {},
   "source": [
    "### **15.1 分组使用聚合函数进行数据统计**"
   ]
  },
  {
   "cell_type": "markdown",
   "id": "e0a70d52-2cb4-45b5-8506-f14898608fd3",
   "metadata": {},
   "source": [
    "#### **15.1.1 单个列group by，对所有数据列进行聚合**"
   ]
  },
  {
   "cell_type": "code",
   "execution_count": 232,
   "id": "90e9f0be-bb0b-4298-b149-ff3b01ddf905",
   "metadata": {
    "tags": []
   },
   "outputs": [
    {
     "name": "stderr",
     "output_type": "stream",
     "text": [
      "/tmp/ipykernel_8849/1885751491.py:1: FutureWarning: The default value of numeric_only in DataFrameGroupBy.sum is deprecated. In a future version, numeric_only will default to False. Either specify numeric_only or select only columns which should be valid for the function.\n",
      "  df.groupby('A').sum()\n"
     ]
    },
    {
     "data": {
      "text/html": [
       "<div>\n",
       "<style scoped>\n",
       "    .dataframe tbody tr th:only-of-type {\n",
       "        vertical-align: middle;\n",
       "    }\n",
       "\n",
       "    .dataframe tbody tr th {\n",
       "        vertical-align: top;\n",
       "    }\n",
       "\n",
       "    .dataframe thead th {\n",
       "        text-align: right;\n",
       "    }\n",
       "</style>\n",
       "<table border=\"1\" class=\"dataframe\">\n",
       "  <thead>\n",
       "    <tr style=\"text-align: right;\">\n",
       "      <th></th>\n",
       "      <th>C</th>\n",
       "      <th>D</th>\n",
       "    </tr>\n",
       "    <tr>\n",
       "      <th>A</th>\n",
       "      <th></th>\n",
       "      <th></th>\n",
       "    </tr>\n",
       "  </thead>\n",
       "  <tbody>\n",
       "    <tr>\n",
       "      <th>bar</th>\n",
       "      <td>1.901911</td>\n",
       "      <td>-0.066075</td>\n",
       "    </tr>\n",
       "    <tr>\n",
       "      <th>foo</th>\n",
       "      <td>-0.552859</td>\n",
       "      <td>-2.609702</td>\n",
       "    </tr>\n",
       "  </tbody>\n",
       "</table>\n",
       "</div>"
      ],
      "text/plain": [
       "            C         D\n",
       "A                      \n",
       "bar  1.901911 -0.066075\n",
       "foo -0.552859 -2.609702"
      ]
     },
     "execution_count": 232,
     "metadata": {},
     "output_type": "execute_result"
    }
   ],
   "source": [
    "df.groupby('A').sum()"
   ]
  },
  {
   "cell_type": "code",
   "execution_count": 233,
   "id": "2c5dac4e-3995-4b6d-880d-f30e87e8b5f3",
   "metadata": {
    "tags": []
   },
   "outputs": [
    {
     "data": {
      "text/html": [
       "<div>\n",
       "<style scoped>\n",
       "    .dataframe tbody tr th:only-of-type {\n",
       "        vertical-align: middle;\n",
       "    }\n",
       "\n",
       "    .dataframe tbody tr th {\n",
       "        vertical-align: top;\n",
       "    }\n",
       "\n",
       "    .dataframe thead th {\n",
       "        text-align: right;\n",
       "    }\n",
       "</style>\n",
       "<table border=\"1\" class=\"dataframe\">\n",
       "  <thead>\n",
       "    <tr style=\"text-align: right;\">\n",
       "      <th></th>\n",
       "      <th>C</th>\n",
       "      <th>D</th>\n",
       "    </tr>\n",
       "    <tr>\n",
       "      <th>A</th>\n",
       "      <th></th>\n",
       "      <th></th>\n",
       "    </tr>\n",
       "  </thead>\n",
       "  <tbody>\n",
       "    <tr>\n",
       "      <th>bar</th>\n",
       "      <td>1.901911</td>\n",
       "      <td>-0.066075</td>\n",
       "    </tr>\n",
       "    <tr>\n",
       "      <th>foo</th>\n",
       "      <td>-0.552859</td>\n",
       "      <td>-2.609702</td>\n",
       "    </tr>\n",
       "  </tbody>\n",
       "</table>\n",
       "</div>"
      ],
      "text/plain": [
       "            C         D\n",
       "A                      \n",
       "bar  1.901911 -0.066075\n",
       "foo -0.552859 -2.609702"
      ]
     },
     "execution_count": 233,
     "metadata": {},
     "output_type": "execute_result"
    }
   ],
   "source": [
    "df.groupby('A').sum(numeric_only=True)"
   ]
  },
  {
   "cell_type": "markdown",
   "id": "10200925-98ae-4351-b63a-3992680129e4",
   "metadata": {},
   "source": [
    "从以上可以看到：  \n",
    "\n",
    "1. 分组列A在结果集中变成了索引列\n",
    "2. 由于B列不是数字列，自动被忽略了\n",
    "3. 不设置numeric_only参数时会出现警告信息。"
   ]
  },
  {
   "cell_type": "markdown",
   "id": "f8c34acc-03d5-42a3-ba97-1f323e95a42c",
   "metadata": {},
   "source": [
    "#### **15.1.2 多个列group by，对所有数据列进行聚合**"
   ]
  },
  {
   "cell_type": "code",
   "execution_count": 234,
   "id": "34f8e0d3-12dd-45fc-b96b-8fcb5b2664c8",
   "metadata": {
    "tags": []
   },
   "outputs": [
    {
     "data": {
      "text/html": [
       "<div>\n",
       "<style scoped>\n",
       "    .dataframe tbody tr th:only-of-type {\n",
       "        vertical-align: middle;\n",
       "    }\n",
       "\n",
       "    .dataframe tbody tr th {\n",
       "        vertical-align: top;\n",
       "    }\n",
       "\n",
       "    .dataframe thead th {\n",
       "        text-align: right;\n",
       "    }\n",
       "</style>\n",
       "<table border=\"1\" class=\"dataframe\">\n",
       "  <thead>\n",
       "    <tr style=\"text-align: right;\">\n",
       "      <th></th>\n",
       "      <th></th>\n",
       "      <th>C</th>\n",
       "      <th>D</th>\n",
       "    </tr>\n",
       "    <tr>\n",
       "      <th>A</th>\n",
       "      <th>B</th>\n",
       "      <th></th>\n",
       "      <th></th>\n",
       "    </tr>\n",
       "  </thead>\n",
       "  <tbody>\n",
       "    <tr>\n",
       "      <th rowspan=\"3\" valign=\"top\">bar</th>\n",
       "      <th>one</th>\n",
       "      <td>0.939612</td>\n",
       "      <td>-0.163602</td>\n",
       "    </tr>\n",
       "    <tr>\n",
       "      <th>three</th>\n",
       "      <td>2.108325</td>\n",
       "      <td>0.209951</td>\n",
       "    </tr>\n",
       "    <tr>\n",
       "      <th>two</th>\n",
       "      <td>-1.146026</td>\n",
       "      <td>-0.112424</td>\n",
       "    </tr>\n",
       "    <tr>\n",
       "      <th rowspan=\"3\" valign=\"top\">foo</th>\n",
       "      <th>one</th>\n",
       "      <td>0.918176</td>\n",
       "      <td>-0.677375</td>\n",
       "    </tr>\n",
       "    <tr>\n",
       "      <th>three</th>\n",
       "      <td>-1.138436</td>\n",
       "      <td>-1.446859</td>\n",
       "    </tr>\n",
       "    <tr>\n",
       "      <th>two</th>\n",
       "      <td>-0.625387</td>\n",
       "      <td>0.095953</td>\n",
       "    </tr>\n",
       "  </tbody>\n",
       "</table>\n",
       "</div>"
      ],
      "text/plain": [
       "                  C         D\n",
       "A   B                        \n",
       "bar one    0.939612 -0.163602\n",
       "    three  2.108325  0.209951\n",
       "    two   -1.146026 -0.112424\n",
       "foo one    0.918176 -0.677375\n",
       "    three -1.138436 -1.446859\n",
       "    two   -0.625387  0.095953"
      ]
     },
     "execution_count": 234,
     "metadata": {},
     "output_type": "execute_result"
    }
   ],
   "source": [
    "df.groupby(['A','B']).mean()"
   ]
  },
  {
   "cell_type": "markdown",
   "id": "e7525dd3-bb9f-4349-8ae3-ed63ea8ffb85",
   "metadata": {},
   "source": [
    "**注意结果集中的组合索引（二级索引）**"
   ]
  },
  {
   "cell_type": "code",
   "execution_count": 235,
   "id": "01c7d14b-ddcc-4a01-8b41-dc3e2e62dd1b",
   "metadata": {
    "tags": []
   },
   "outputs": [
    {
     "data": {
      "text/html": [
       "<div>\n",
       "<style scoped>\n",
       "    .dataframe tbody tr th:only-of-type {\n",
       "        vertical-align: middle;\n",
       "    }\n",
       "\n",
       "    .dataframe tbody tr th {\n",
       "        vertical-align: top;\n",
       "    }\n",
       "\n",
       "    .dataframe thead th {\n",
       "        text-align: right;\n",
       "    }\n",
       "</style>\n",
       "<table border=\"1\" class=\"dataframe\">\n",
       "  <thead>\n",
       "    <tr style=\"text-align: right;\">\n",
       "      <th></th>\n",
       "      <th>A</th>\n",
       "      <th>B</th>\n",
       "      <th>C</th>\n",
       "      <th>D</th>\n",
       "    </tr>\n",
       "  </thead>\n",
       "  <tbody>\n",
       "    <tr>\n",
       "      <th>0</th>\n",
       "      <td>bar</td>\n",
       "      <td>one</td>\n",
       "      <td>0.939612</td>\n",
       "      <td>-0.163602</td>\n",
       "    </tr>\n",
       "    <tr>\n",
       "      <th>1</th>\n",
       "      <td>bar</td>\n",
       "      <td>three</td>\n",
       "      <td>2.108325</td>\n",
       "      <td>0.209951</td>\n",
       "    </tr>\n",
       "    <tr>\n",
       "      <th>2</th>\n",
       "      <td>bar</td>\n",
       "      <td>two</td>\n",
       "      <td>-1.146026</td>\n",
       "      <td>-0.112424</td>\n",
       "    </tr>\n",
       "    <tr>\n",
       "      <th>3</th>\n",
       "      <td>foo</td>\n",
       "      <td>one</td>\n",
       "      <td>0.918176</td>\n",
       "      <td>-0.677375</td>\n",
       "    </tr>\n",
       "    <tr>\n",
       "      <th>4</th>\n",
       "      <td>foo</td>\n",
       "      <td>three</td>\n",
       "      <td>-1.138436</td>\n",
       "      <td>-1.446859</td>\n",
       "    </tr>\n",
       "    <tr>\n",
       "      <th>5</th>\n",
       "      <td>foo</td>\n",
       "      <td>two</td>\n",
       "      <td>-0.625387</td>\n",
       "      <td>0.095953</td>\n",
       "    </tr>\n",
       "  </tbody>\n",
       "</table>\n",
       "</div>"
      ],
      "text/plain": [
       "     A      B         C         D\n",
       "0  bar    one  0.939612 -0.163602\n",
       "1  bar  three  2.108325  0.209951\n",
       "2  bar    two -1.146026 -0.112424\n",
       "3  foo    one  0.918176 -0.677375\n",
       "4  foo  three -1.138436 -1.446859\n",
       "5  foo    two -0.625387  0.095953"
      ]
     },
     "execution_count": 235,
     "metadata": {},
     "output_type": "execute_result"
    }
   ],
   "source": [
    "df.groupby(['A','B'],as_index=False).mean()"
   ]
  },
  {
   "cell_type": "markdown",
   "id": "362b6e43-e807-4774-ba24-cc3f94a2ade1",
   "metadata": {},
   "source": [
    "**注意结果集中的索引，与as_index=True时不同。列‘A'和列‘B’没有成为索引**"
   ]
  },
  {
   "cell_type": "markdown",
   "id": "c10d7ac1-742f-4939-a166-a5a8883b00b7",
   "metadata": {},
   "source": [
    "#### **15.1.3 对每一列同时进行多种聚合（使用agg函数）**"
   ]
  },
  {
   "cell_type": "code",
   "execution_count": 236,
   "id": "15573cbb-3e51-4c4a-a186-afc477cc4d5e",
   "metadata": {
    "tags": []
   },
   "outputs": [
    {
     "name": "stderr",
     "output_type": "stream",
     "text": [
      "/tmp/ipykernel_8849/3143353297.py:2: FutureWarning: ['B'] did not aggregate successfully. If any error is raised this will raise in a future version of pandas. Drop these columns/ops to avoid this warning.\n",
      "  df.groupby('A').agg([np.sum,np.mean,np.std])\n"
     ]
    },
    {
     "data": {
      "text/html": [
       "<div>\n",
       "<style scoped>\n",
       "    .dataframe tbody tr th:only-of-type {\n",
       "        vertical-align: middle;\n",
       "    }\n",
       "\n",
       "    .dataframe tbody tr th {\n",
       "        vertical-align: top;\n",
       "    }\n",
       "\n",
       "    .dataframe thead tr th {\n",
       "        text-align: left;\n",
       "    }\n",
       "\n",
       "    .dataframe thead tr:last-of-type th {\n",
       "        text-align: right;\n",
       "    }\n",
       "</style>\n",
       "<table border=\"1\" class=\"dataframe\">\n",
       "  <thead>\n",
       "    <tr>\n",
       "      <th></th>\n",
       "      <th colspan=\"3\" halign=\"left\">C</th>\n",
       "      <th colspan=\"3\" halign=\"left\">D</th>\n",
       "    </tr>\n",
       "    <tr>\n",
       "      <th></th>\n",
       "      <th>sum</th>\n",
       "      <th>mean</th>\n",
       "      <th>std</th>\n",
       "      <th>sum</th>\n",
       "      <th>mean</th>\n",
       "      <th>std</th>\n",
       "    </tr>\n",
       "    <tr>\n",
       "      <th>A</th>\n",
       "      <th></th>\n",
       "      <th></th>\n",
       "      <th></th>\n",
       "      <th></th>\n",
       "      <th></th>\n",
       "      <th></th>\n",
       "    </tr>\n",
       "  </thead>\n",
       "  <tbody>\n",
       "    <tr>\n",
       "      <th>bar</th>\n",
       "      <td>1.901911</td>\n",
       "      <td>0.633970</td>\n",
       "      <td>1.648563</td>\n",
       "      <td>-0.066075</td>\n",
       "      <td>-0.022025</td>\n",
       "      <td>0.202520</td>\n",
       "    </tr>\n",
       "    <tr>\n",
       "      <th>foo</th>\n",
       "      <td>-0.552859</td>\n",
       "      <td>-0.110572</td>\n",
       "      <td>1.128225</td>\n",
       "      <td>-2.609702</td>\n",
       "      <td>-0.521940</td>\n",
       "      <td>0.672975</td>\n",
       "    </tr>\n",
       "  </tbody>\n",
       "</table>\n",
       "</div>"
      ],
      "text/plain": [
       "            C                             D                    \n",
       "          sum      mean       std       sum      mean       std\n",
       "A                                                              \n",
       "bar  1.901911  0.633970  1.648563 -0.066075 -0.022025  0.202520\n",
       "foo -0.552859 -0.110572  1.128225 -2.609702 -0.521940  0.672975"
      ]
     },
     "execution_count": 236,
     "metadata": {},
     "output_type": "execute_result"
    }
   ],
   "source": [
    "#这里应该是一个链式操作，先groupby，然后在agg.注意，各种聚合函数是以列表的形式提供给agg函数的\n",
    "df.groupby('A').agg([np.sum,np.mean,np.std])"
   ]
  },
  {
   "cell_type": "markdown",
   "id": "f451f06c-2cde-4055-8b38-6bd388030603",
   "metadata": {},
   "source": [
    "**此时，列变成了多级索引（二级索引）**"
   ]
  },
  {
   "cell_type": "markdown",
   "id": "d84a9254-61d0-4c48-96ee-09c1274c5f41",
   "metadata": {},
   "source": [
    "#### **15.1.4 对各列使用不同的聚合函数**"
   ]
  },
  {
   "cell_type": "code",
   "execution_count": 238,
   "id": "d745f1cc-2a99-44be-b87a-52cb9fae1363",
   "metadata": {
    "tags": []
   },
   "outputs": [
    {
     "data": {
      "text/html": [
       "<div>\n",
       "<style scoped>\n",
       "    .dataframe tbody tr th:only-of-type {\n",
       "        vertical-align: middle;\n",
       "    }\n",
       "\n",
       "    .dataframe tbody tr th {\n",
       "        vertical-align: top;\n",
       "    }\n",
       "\n",
       "    .dataframe thead tr th {\n",
       "        text-align: left;\n",
       "    }\n",
       "\n",
       "    .dataframe thead tr:last-of-type th {\n",
       "        text-align: right;\n",
       "    }\n",
       "</style>\n",
       "<table border=\"1\" class=\"dataframe\">\n",
       "  <thead>\n",
       "    <tr>\n",
       "      <th></th>\n",
       "      <th></th>\n",
       "      <th colspan=\"2\" halign=\"left\">C</th>\n",
       "      <th colspan=\"2\" halign=\"left\">D</th>\n",
       "    </tr>\n",
       "    <tr>\n",
       "      <th></th>\n",
       "      <th></th>\n",
       "      <th>sum</th>\n",
       "      <th>mean</th>\n",
       "      <th>min</th>\n",
       "      <th>max</th>\n",
       "    </tr>\n",
       "    <tr>\n",
       "      <th>A</th>\n",
       "      <th>B</th>\n",
       "      <th></th>\n",
       "      <th></th>\n",
       "      <th></th>\n",
       "      <th></th>\n",
       "    </tr>\n",
       "  </thead>\n",
       "  <tbody>\n",
       "    <tr>\n",
       "      <th rowspan=\"3\" valign=\"top\">bar</th>\n",
       "      <th>one</th>\n",
       "      <td>0.939612</td>\n",
       "      <td>0.939612</td>\n",
       "      <td>-0.163602</td>\n",
       "      <td>-0.163602</td>\n",
       "    </tr>\n",
       "    <tr>\n",
       "      <th>three</th>\n",
       "      <td>2.108325</td>\n",
       "      <td>2.108325</td>\n",
       "      <td>0.209951</td>\n",
       "      <td>0.209951</td>\n",
       "    </tr>\n",
       "    <tr>\n",
       "      <th>two</th>\n",
       "      <td>-1.146026</td>\n",
       "      <td>-1.146026</td>\n",
       "      <td>-0.112424</td>\n",
       "      <td>-0.112424</td>\n",
       "    </tr>\n",
       "    <tr>\n",
       "      <th rowspan=\"3\" valign=\"top\">foo</th>\n",
       "      <th>one</th>\n",
       "      <td>1.836352</td>\n",
       "      <td>0.918176</td>\n",
       "      <td>-0.870564</td>\n",
       "      <td>-0.484185</td>\n",
       "    </tr>\n",
       "    <tr>\n",
       "      <th>three</th>\n",
       "      <td>-1.138436</td>\n",
       "      <td>-1.138436</td>\n",
       "      <td>-1.446859</td>\n",
       "      <td>-1.446859</td>\n",
       "    </tr>\n",
       "    <tr>\n",
       "      <th>two</th>\n",
       "      <td>-1.250774</td>\n",
       "      <td>-0.625387</td>\n",
       "      <td>-0.090537</td>\n",
       "      <td>0.282443</td>\n",
       "    </tr>\n",
       "  </tbody>\n",
       "</table>\n",
       "</div>"
      ],
      "text/plain": [
       "                  C                   D          \n",
       "                sum      mean       min       max\n",
       "A   B                                            \n",
       "bar one    0.939612  0.939612 -0.163602 -0.163602\n",
       "    three  2.108325  2.108325  0.209951  0.209951\n",
       "    two   -1.146026 -1.146026 -0.112424 -0.112424\n",
       "foo one    1.836352  0.918176 -0.870564 -0.484185\n",
       "    three -1.138436 -1.138436 -1.446859 -1.446859\n",
       "    two   -1.250774 -0.625387 -0.090537  0.282443"
      ]
     },
     "execution_count": 238,
     "metadata": {},
     "output_type": "execute_result"
    }
   ],
   "source": [
    "#很强大的功能，单个SQL语句做不到。注意：此时使用字典的形式提供参数！！！\n",
    "df.groupby(['A','B']).agg({'C':['sum','mean'],'D':['min','max']})"
   ]
  },
  {
   "cell_type": "markdown",
   "id": "0926e2b5-93c4-4022-b587-ad960737986b",
   "metadata": {},
   "source": [
    "**很强大的功能！！！**"
   ]
  },
  {
   "cell_type": "markdown",
   "id": "c5bae89a-3cee-43b8-a0a2-851e277bbb6e",
   "metadata": {},
   "source": [
    "#### **15.1.5 在列上聚合不同的函数，并重命名生成的DataFrame的索引。**"
   ]
  },
  {
   "cell_type": "code",
   "execution_count": 239,
   "id": "d0e43480-f7a3-441c-b609-f09249bb5e12",
   "metadata": {
    "tags": []
   },
   "outputs": [],
   "source": [
    "df1=df.agg(x=('C',max),y=('D',min),z=('B',max))"
   ]
  },
  {
   "cell_type": "code",
   "execution_count": 240,
   "id": "73bde80b-3bca-4b6e-aa93-47da432cd5f3",
   "metadata": {
    "tags": []
   },
   "outputs": [],
   "source": [
    "df1.fillna(value='',inplace=True)"
   ]
  },
  {
   "cell_type": "code",
   "execution_count": 241,
   "id": "b558a4f4-f881-44a2-9f3a-2158a7b9ec2d",
   "metadata": {
    "tags": []
   },
   "outputs": [
    {
     "data": {
      "text/html": [
       "<div>\n",
       "<style scoped>\n",
       "    .dataframe tbody tr th:only-of-type {\n",
       "        vertical-align: middle;\n",
       "    }\n",
       "\n",
       "    .dataframe tbody tr th {\n",
       "        vertical-align: top;\n",
       "    }\n",
       "\n",
       "    .dataframe thead th {\n",
       "        text-align: right;\n",
       "    }\n",
       "</style>\n",
       "<table border=\"1\" class=\"dataframe\">\n",
       "  <thead>\n",
       "    <tr style=\"text-align: right;\">\n",
       "      <th></th>\n",
       "      <th>C</th>\n",
       "      <th>D</th>\n",
       "      <th>B</th>\n",
       "    </tr>\n",
       "  </thead>\n",
       "  <tbody>\n",
       "    <tr>\n",
       "      <th>x</th>\n",
       "      <td>2.108325</td>\n",
       "      <td></td>\n",
       "      <td></td>\n",
       "    </tr>\n",
       "    <tr>\n",
       "      <th>y</th>\n",
       "      <td></td>\n",
       "      <td>-1.446859</td>\n",
       "      <td></td>\n",
       "    </tr>\n",
       "    <tr>\n",
       "      <th>z</th>\n",
       "      <td></td>\n",
       "      <td></td>\n",
       "      <td>two</td>\n",
       "    </tr>\n",
       "  </tbody>\n",
       "</table>\n",
       "</div>"
      ],
      "text/plain": [
       "          C         D    B\n",
       "x  2.108325               \n",
       "y           -1.446859     \n",
       "z                      two"
      ]
     },
     "execution_count": 241,
     "metadata": {},
     "output_type": "execute_result"
    }
   ],
   "source": [
    "df1"
   ]
  },
  {
   "cell_type": "markdown",
   "id": "51dd43fa-8b6e-4cf9-89f8-0d07a848a05f",
   "metadata": {},
   "source": [
    "#### **15.1.6 使用自定义聚合函数**"
   ]
  },
  {
   "cell_type": "code",
   "execution_count": 242,
   "id": "624ce57b-85a8-4282-8176-b1980797b5e5",
   "metadata": {
    "tags": []
   },
   "outputs": [
    {
     "data": {
      "text/html": [
       "<div>\n",
       "<style scoped>\n",
       "    .dataframe tbody tr th:only-of-type {\n",
       "        vertical-align: middle;\n",
       "    }\n",
       "\n",
       "    .dataframe tbody tr th {\n",
       "        vertical-align: top;\n",
       "    }\n",
       "\n",
       "    .dataframe thead tr th {\n",
       "        text-align: left;\n",
       "    }\n",
       "\n",
       "    .dataframe thead tr:last-of-type th {\n",
       "        text-align: right;\n",
       "    }\n",
       "</style>\n",
       "<table border=\"1\" class=\"dataframe\">\n",
       "  <thead>\n",
       "    <tr>\n",
       "      <th></th>\n",
       "      <th></th>\n",
       "      <th colspan=\"2\" halign=\"left\">C</th>\n",
       "      <th colspan=\"2\" halign=\"left\">D</th>\n",
       "    </tr>\n",
       "    <tr>\n",
       "      <th></th>\n",
       "      <th></th>\n",
       "      <th>fun1</th>\n",
       "      <th>sum</th>\n",
       "      <th>fun1</th>\n",
       "      <th>sum</th>\n",
       "    </tr>\n",
       "    <tr>\n",
       "      <th>A</th>\n",
       "      <th>B</th>\n",
       "      <th></th>\n",
       "      <th></th>\n",
       "      <th></th>\n",
       "      <th></th>\n",
       "    </tr>\n",
       "  </thead>\n",
       "  <tbody>\n",
       "    <tr>\n",
       "      <th rowspan=\"3\" valign=\"top\">bar</th>\n",
       "      <th>one</th>\n",
       "      <td>0.939612</td>\n",
       "      <td>0.939612</td>\n",
       "      <td>-0.163602</td>\n",
       "      <td>-0.163602</td>\n",
       "    </tr>\n",
       "    <tr>\n",
       "      <th>three</th>\n",
       "      <td>2.108325</td>\n",
       "      <td>2.108325</td>\n",
       "      <td>0.209951</td>\n",
       "      <td>0.209951</td>\n",
       "    </tr>\n",
       "    <tr>\n",
       "      <th>two</th>\n",
       "      <td>-1.146026</td>\n",
       "      <td>-1.146026</td>\n",
       "      <td>-0.112424</td>\n",
       "      <td>-0.112424</td>\n",
       "    </tr>\n",
       "    <tr>\n",
       "      <th rowspan=\"3\" valign=\"top\">foo</th>\n",
       "      <th>one</th>\n",
       "      <td>1.836352</td>\n",
       "      <td>1.836352</td>\n",
       "      <td>-1.354749</td>\n",
       "      <td>-1.354749</td>\n",
       "    </tr>\n",
       "    <tr>\n",
       "      <th>three</th>\n",
       "      <td>-1.138436</td>\n",
       "      <td>-1.138436</td>\n",
       "      <td>-1.446859</td>\n",
       "      <td>-1.446859</td>\n",
       "    </tr>\n",
       "    <tr>\n",
       "      <th>two</th>\n",
       "      <td>-1.250774</td>\n",
       "      <td>-1.250774</td>\n",
       "      <td>0.191907</td>\n",
       "      <td>0.191907</td>\n",
       "    </tr>\n",
       "  </tbody>\n",
       "</table>\n",
       "</div>"
      ],
      "text/plain": [
       "                  C                   D          \n",
       "               fun1       sum      fun1       sum\n",
       "A   B                                            \n",
       "bar one    0.939612  0.939612 -0.163602 -0.163602\n",
       "    three  2.108325  2.108325  0.209951  0.209951\n",
       "    two   -1.146026 -1.146026 -0.112424 -0.112424\n",
       "foo one    1.836352  1.836352 -1.354749 -1.354749\n",
       "    three -1.138436 -1.138436 -1.446859 -1.446859\n",
       "    two   -1.250774 -1.250774  0.191907  0.191907"
      ]
     },
     "execution_count": 242,
     "metadata": {},
     "output_type": "execute_result"
    }
   ],
   "source": [
    "def fun1(x):\n",
    "    r=0\n",
    "    for i in x:\n",
    "       r=r+i\n",
    "    return r\n",
    "\n",
    "df.groupby(['A','B']).agg({'C':[fun1,sum],'D':[fun1,sum]})"
   ]
  },
  {
   "cell_type": "markdown",
   "id": "16e502df-174c-47cc-a57f-3df7fcef468d",
   "metadata": {},
   "source": [
    "#### **15.1.7 查看单列的结果数据统计**"
   ]
  },
  {
   "cell_type": "code",
   "execution_count": 243,
   "id": "14e0ff8c-a47b-4fbd-80e0-d95b7e2e646b",
   "metadata": {
    "tags": []
   },
   "outputs": [
    {
     "data": {
      "text/html": [
       "<div>\n",
       "<style scoped>\n",
       "    .dataframe tbody tr th:only-of-type {\n",
       "        vertical-align: middle;\n",
       "    }\n",
       "\n",
       "    .dataframe tbody tr th {\n",
       "        vertical-align: top;\n",
       "    }\n",
       "\n",
       "    .dataframe thead th {\n",
       "        text-align: right;\n",
       "    }\n",
       "</style>\n",
       "<table border=\"1\" class=\"dataframe\">\n",
       "  <thead>\n",
       "    <tr style=\"text-align: right;\">\n",
       "      <th></th>\n",
       "      <th>max</th>\n",
       "      <th>min</th>\n",
       "      <th>std</th>\n",
       "    </tr>\n",
       "    <tr>\n",
       "      <th>A</th>\n",
       "      <th></th>\n",
       "      <th></th>\n",
       "      <th></th>\n",
       "    </tr>\n",
       "  </thead>\n",
       "  <tbody>\n",
       "    <tr>\n",
       "      <th>bar</th>\n",
       "      <td>2.108325</td>\n",
       "      <td>-1.146026</td>\n",
       "      <td>1.648563</td>\n",
       "    </tr>\n",
       "    <tr>\n",
       "      <th>foo</th>\n",
       "      <td>1.607244</td>\n",
       "      <td>-1.138436</td>\n",
       "      <td>1.128225</td>\n",
       "    </tr>\n",
       "  </tbody>\n",
       "</table>\n",
       "</div>"
      ],
      "text/plain": [
       "          max       min       std\n",
       "A                                \n",
       "bar  2.108325 -1.146026  1.648563\n",
       "foo  1.607244 -1.138436  1.128225"
      ]
     },
     "execution_count": 243,
     "metadata": {},
     "output_type": "execute_result"
    }
   ],
   "source": [
    "#方法1，预先过滤，性能更好\n",
    "df.groupby('A')['C'].agg([max,min,np.std])"
   ]
  },
  {
   "cell_type": "code",
   "execution_count": 244,
   "id": "9e26b765-7c2b-4cfb-ae51-28ca7e65c5d1",
   "metadata": {
    "tags": []
   },
   "outputs": [
    {
     "data": {
      "text/html": [
       "<div>\n",
       "<style scoped>\n",
       "    .dataframe tbody tr th:only-of-type {\n",
       "        vertical-align: middle;\n",
       "    }\n",
       "\n",
       "    .dataframe tbody tr th {\n",
       "        vertical-align: top;\n",
       "    }\n",
       "\n",
       "    .dataframe thead th {\n",
       "        text-align: right;\n",
       "    }\n",
       "</style>\n",
       "<table border=\"1\" class=\"dataframe\">\n",
       "  <thead>\n",
       "    <tr style=\"text-align: right;\">\n",
       "      <th></th>\n",
       "      <th></th>\n",
       "      <th>max</th>\n",
       "      <th>min</th>\n",
       "      <th>std</th>\n",
       "    </tr>\n",
       "    <tr>\n",
       "      <th>A</th>\n",
       "      <th>B</th>\n",
       "      <th></th>\n",
       "      <th></th>\n",
       "      <th></th>\n",
       "    </tr>\n",
       "  </thead>\n",
       "  <tbody>\n",
       "    <tr>\n",
       "      <th rowspan=\"3\" valign=\"top\">bar</th>\n",
       "      <th>one</th>\n",
       "      <td>0.939612</td>\n",
       "      <td>0.939612</td>\n",
       "      <td>NaN</td>\n",
       "    </tr>\n",
       "    <tr>\n",
       "      <th>three</th>\n",
       "      <td>2.108325</td>\n",
       "      <td>2.108325</td>\n",
       "      <td>NaN</td>\n",
       "    </tr>\n",
       "    <tr>\n",
       "      <th>two</th>\n",
       "      <td>-1.146026</td>\n",
       "      <td>-1.146026</td>\n",
       "      <td>NaN</td>\n",
       "    </tr>\n",
       "    <tr>\n",
       "      <th rowspan=\"3\" valign=\"top\">foo</th>\n",
       "      <th>one</th>\n",
       "      <td>1.607244</td>\n",
       "      <td>0.229108</td>\n",
       "      <td>0.974489</td>\n",
       "    </tr>\n",
       "    <tr>\n",
       "      <th>three</th>\n",
       "      <td>-1.138436</td>\n",
       "      <td>-1.138436</td>\n",
       "      <td>NaN</td>\n",
       "    </tr>\n",
       "    <tr>\n",
       "      <th>two</th>\n",
       "      <td>-0.157027</td>\n",
       "      <td>-1.093747</td>\n",
       "      <td>0.662361</td>\n",
       "    </tr>\n",
       "  </tbody>\n",
       "</table>\n",
       "</div>"
      ],
      "text/plain": [
       "                max       min       std\n",
       "A   B                                  \n",
       "bar one    0.939612  0.939612       NaN\n",
       "    three  2.108325  2.108325       NaN\n",
       "    two   -1.146026 -1.146026       NaN\n",
       "foo one    1.607244  0.229108  0.974489\n",
       "    three -1.138436 -1.138436       NaN\n",
       "    two   -0.157027 -1.093747  0.662361"
      ]
     },
     "execution_count": 244,
     "metadata": {},
     "output_type": "execute_result"
    }
   ],
   "source": [
    "#方法2，先对全部列聚合，再过滤\n",
    "df.groupby(['A','B']).agg([max,min,np.std])['C']"
   ]
  },
  {
   "cell_type": "code",
   "execution_count": null,
   "id": "2952ba9d-2654-479e-b992-31869fa0f05d",
   "metadata": {},
   "outputs": [],
   "source": []
  },
  {
   "cell_type": "markdown",
   "id": "71c8feff-d102-479b-9816-076295d8d2c7",
   "metadata": {},
   "source": [
    "### **15.2 遍历groupby的结果，理解执行过程**"
   ]
  },
  {
   "cell_type": "markdown",
   "id": "2701a6d2-eca9-4bab-b8d0-a18d2d292915",
   "metadata": {},
   "source": [
    "**方法：用for循环遍历每个group**"
   ]
  },
  {
   "cell_type": "markdown",
   "id": "80543414-2805-4594-ab1d-01d50f728288",
   "metadata": {},
   "source": [
    "#### **15.2.1 遍历单个列聚合的分组**"
   ]
  },
  {
   "cell_type": "code",
   "execution_count": 245,
   "id": "519f8b0f-bdf5-4eaf-9fb7-f8e7f7e37d68",
   "metadata": {
    "tags": []
   },
   "outputs": [],
   "source": [
    "g=df.groupby('A')"
   ]
  },
  {
   "cell_type": "code",
   "execution_count": 246,
   "id": "679da7c6-3e0c-497c-ab2d-4d4fd6aa9c8b",
   "metadata": {
    "tags": []
   },
   "outputs": [
    {
     "data": {
      "text/plain": [
       "<pandas.core.groupby.generic.DataFrameGroupBy object at 0x7f5e41fcd0>"
      ]
     },
     "execution_count": 246,
     "metadata": {},
     "output_type": "execute_result"
    }
   ],
   "source": [
    "g"
   ]
  },
  {
   "cell_type": "markdown",
   "id": "249afcbc-3106-4e22-8e74-5a9609827c4d",
   "metadata": {},
   "source": [
    "**可见结果是DataFrameGroupBy对象**"
   ]
  },
  {
   "cell_type": "code",
   "execution_count": 247,
   "id": "0e5e3228-6254-44fd-85b6-a18e6175e524",
   "metadata": {
    "tags": []
   },
   "outputs": [
    {
     "name": "stdout",
     "output_type": "stream",
     "text": [
      "bar\n",
      "     A      B         C         D\n",
      "1  bar    one  0.939612 -0.163602\n",
      "3  bar  three  2.108325  0.209951\n",
      "5  bar    two -1.146026 -0.112424\n",
      "\n",
      "foo\n",
      "     A      B         C         D\n",
      "0  foo    one  1.607244 -0.484185\n",
      "2  foo    two -0.157027 -0.090537\n",
      "4  foo    two -1.093747  0.282443\n",
      "6  foo    one  0.229108 -0.870564\n",
      "7  foo  three -1.138436 -1.446859\n",
      "\n"
     ]
    }
   ],
   "source": [
    "#使用for循环遍历\n",
    "for name,group in g:\n",
    "    print(name)\n",
    "    print(group)\n",
    "    print()"
   ]
  },
  {
   "cell_type": "markdown",
   "id": "d4a92a2c-fe34-4917-b588-e5cc58e551d4",
   "metadata": {},
   "source": [
    "**可以单独获取某个分组的数据**"
   ]
  },
  {
   "cell_type": "code",
   "execution_count": 248,
   "id": "3b4dbb34-ffe3-458d-872e-0dde55e33aaa",
   "metadata": {
    "tags": []
   },
   "outputs": [
    {
     "data": {
      "text/html": [
       "<div>\n",
       "<style scoped>\n",
       "    .dataframe tbody tr th:only-of-type {\n",
       "        vertical-align: middle;\n",
       "    }\n",
       "\n",
       "    .dataframe tbody tr th {\n",
       "        vertical-align: top;\n",
       "    }\n",
       "\n",
       "    .dataframe thead th {\n",
       "        text-align: right;\n",
       "    }\n",
       "</style>\n",
       "<table border=\"1\" class=\"dataframe\">\n",
       "  <thead>\n",
       "    <tr style=\"text-align: right;\">\n",
       "      <th></th>\n",
       "      <th>A</th>\n",
       "      <th>B</th>\n",
       "      <th>C</th>\n",
       "      <th>D</th>\n",
       "    </tr>\n",
       "  </thead>\n",
       "  <tbody>\n",
       "    <tr>\n",
       "      <th>1</th>\n",
       "      <td>bar</td>\n",
       "      <td>one</td>\n",
       "      <td>0.939612</td>\n",
       "      <td>-0.163602</td>\n",
       "    </tr>\n",
       "    <tr>\n",
       "      <th>3</th>\n",
       "      <td>bar</td>\n",
       "      <td>three</td>\n",
       "      <td>2.108325</td>\n",
       "      <td>0.209951</td>\n",
       "    </tr>\n",
       "    <tr>\n",
       "      <th>5</th>\n",
       "      <td>bar</td>\n",
       "      <td>two</td>\n",
       "      <td>-1.146026</td>\n",
       "      <td>-0.112424</td>\n",
       "    </tr>\n",
       "  </tbody>\n",
       "</table>\n",
       "</div>"
      ],
      "text/plain": [
       "     A      B         C         D\n",
       "1  bar    one  0.939612 -0.163602\n",
       "3  bar  three  2.108325  0.209951\n",
       "5  bar    two -1.146026 -0.112424"
      ]
     },
     "execution_count": 248,
     "metadata": {},
     "output_type": "execute_result"
    }
   ],
   "source": [
    "#单独获取某个分组的数据\n",
    "g.get_group('bar')"
   ]
  },
  {
   "cell_type": "markdown",
   "id": "dc3598e1-221b-4324-8070-d941b69318e9",
   "metadata": {},
   "source": [
    "#### **15.2.2 遍历多个列聚合的分组**"
   ]
  },
  {
   "cell_type": "code",
   "execution_count": 249,
   "id": "313e8be1-9ed4-4c83-a34b-0c7493cb1fa4",
   "metadata": {
    "tags": []
   },
   "outputs": [],
   "source": [
    "g=df.groupby(['A','B'])"
   ]
  },
  {
   "cell_type": "code",
   "execution_count": 250,
   "id": "142190ec-984f-46d5-9b43-84ed04d053a2",
   "metadata": {
    "tags": []
   },
   "outputs": [
    {
     "name": "stdout",
     "output_type": "stream",
     "text": [
      "('bar', 'one')\n",
      "     A    B         C         D\n",
      "1  bar  one  0.939612 -0.163602\n",
      "\n",
      "('bar', 'three')\n",
      "     A      B         C         D\n",
      "3  bar  three  2.108325  0.209951\n",
      "\n",
      "('bar', 'two')\n",
      "     A    B         C         D\n",
      "5  bar  two -1.146026 -0.112424\n",
      "\n",
      "('foo', 'one')\n",
      "     A    B         C         D\n",
      "0  foo  one  1.607244 -0.484185\n",
      "6  foo  one  0.229108 -0.870564\n",
      "\n",
      "('foo', 'three')\n",
      "     A      B         C         D\n",
      "7  foo  three -1.138436 -1.446859\n",
      "\n",
      "('foo', 'two')\n",
      "     A    B         C         D\n",
      "2  foo  two -0.157027 -0.090537\n",
      "4  foo  two -1.093747  0.282443\n",
      "\n"
     ]
    }
   ],
   "source": [
    "for name,group in g:\n",
    "    print(name)\n",
    "    print(group)\n",
    "    print()"
   ]
  },
  {
   "cell_type": "markdown",
   "id": "4f2d0d30-3530-4d33-8909-d42df8259013",
   "metadata": {},
   "source": [
    "**可以看到name是一个二元的tuple,代表不同的列**"
   ]
  },
  {
   "cell_type": "code",
   "execution_count": 251,
   "id": "8fe9ce7b-cb42-4d94-a2e7-d208220f72c1",
   "metadata": {},
   "outputs": [
    {
     "data": {
      "text/html": [
       "<div>\n",
       "<style scoped>\n",
       "    .dataframe tbody tr th:only-of-type {\n",
       "        vertical-align: middle;\n",
       "    }\n",
       "\n",
       "    .dataframe tbody tr th {\n",
       "        vertical-align: top;\n",
       "    }\n",
       "\n",
       "    .dataframe thead th {\n",
       "        text-align: right;\n",
       "    }\n",
       "</style>\n",
       "<table border=\"1\" class=\"dataframe\">\n",
       "  <thead>\n",
       "    <tr style=\"text-align: right;\">\n",
       "      <th></th>\n",
       "      <th>A</th>\n",
       "      <th>B</th>\n",
       "      <th>C</th>\n",
       "      <th>D</th>\n",
       "    </tr>\n",
       "  </thead>\n",
       "  <tbody>\n",
       "    <tr>\n",
       "      <th>2</th>\n",
       "      <td>foo</td>\n",
       "      <td>two</td>\n",
       "      <td>-0.157027</td>\n",
       "      <td>-0.090537</td>\n",
       "    </tr>\n",
       "    <tr>\n",
       "      <th>4</th>\n",
       "      <td>foo</td>\n",
       "      <td>two</td>\n",
       "      <td>-1.093747</td>\n",
       "      <td>0.282443</td>\n",
       "    </tr>\n",
       "  </tbody>\n",
       "</table>\n",
       "</div>"
      ],
      "text/plain": [
       "     A    B         C         D\n",
       "2  foo  two -0.157027 -0.090537\n",
       "4  foo  two -1.093747  0.282443"
      ]
     },
     "execution_count": 251,
     "metadata": {},
     "output_type": "execute_result"
    }
   ],
   "source": [
    "#获取某个分组的数据\n",
    "g.get_group(('foo','two'))"
   ]
  },
  {
   "cell_type": "markdown",
   "id": "d375a749-2c46-48d6-ba04-be80a49ac3cd",
   "metadata": {},
   "source": [
    "### **可以直接查看groupby后的某列或某几列，生成Series或者子DataFrame**"
   ]
  },
  {
   "cell_type": "code",
   "execution_count": 252,
   "id": "7ea05fb7-e55b-4896-a1ba-88bcfd2676e3",
   "metadata": {
    "tags": []
   },
   "outputs": [
    {
     "data": {
      "text/plain": [
       "<pandas.core.groupby.generic.SeriesGroupBy object at 0x7f5e495cd0>"
      ]
     },
     "execution_count": 252,
     "metadata": {},
     "output_type": "execute_result"
    }
   ],
   "source": [
    "g['C']"
   ]
  },
  {
   "cell_type": "markdown",
   "id": "a88d45ae-723f-4d5b-b809-69ec040898d6",
   "metadata": {},
   "source": [
    "**此时是一个 SeriesGroupBy 对象**"
   ]
  },
  {
   "cell_type": "code",
   "execution_count": 253,
   "id": "246a61b1-2564-4ddd-8e70-9ac11d99e613",
   "metadata": {
    "tags": []
   },
   "outputs": [
    {
     "name": "stdout",
     "output_type": "stream",
     "text": [
      "('bar', 'one')\n",
      "1    0.939612\n",
      "Name: C, dtype: float64\n",
      "\n",
      "<class 'tuple'>\n",
      "<class 'pandas.core.series.Series'>\n",
      "----------------------------------------------------\n",
      "('bar', 'three')\n",
      "3    2.108325\n",
      "Name: C, dtype: float64\n",
      "\n",
      "<class 'tuple'>\n",
      "<class 'pandas.core.series.Series'>\n",
      "----------------------------------------------------\n",
      "('bar', 'two')\n",
      "5   -1.146026\n",
      "Name: C, dtype: float64\n",
      "\n",
      "<class 'tuple'>\n",
      "<class 'pandas.core.series.Series'>\n",
      "----------------------------------------------------\n",
      "('foo', 'one')\n",
      "0    1.607244\n",
      "6    0.229108\n",
      "Name: C, dtype: float64\n",
      "\n",
      "<class 'tuple'>\n",
      "<class 'pandas.core.series.Series'>\n",
      "----------------------------------------------------\n",
      "('foo', 'three')\n",
      "7   -1.138436\n",
      "Name: C, dtype: float64\n",
      "\n",
      "<class 'tuple'>\n",
      "<class 'pandas.core.series.Series'>\n",
      "----------------------------------------------------\n",
      "('foo', 'two')\n",
      "2   -0.157027\n",
      "4   -1.093747\n",
      "Name: C, dtype: float64\n",
      "\n",
      "<class 'tuple'>\n",
      "<class 'pandas.core.series.Series'>\n",
      "----------------------------------------------------\n"
     ]
    }
   ],
   "source": [
    "#也可以用for循环对SeriesGroupBy对象进行遍历\n",
    "for name,group in g['C']:\n",
    "    print(name)\n",
    "    print(group)\n",
    "    print()\n",
    "    print(type(name))\n",
    "    print(type(group))\n",
    "    print('----------------------------------------------------')"
   ]
  },
  {
   "cell_type": "markdown",
   "id": "8ce99860-66c9-4f99-958e-7fc561a9d3b8",
   "metadata": {},
   "source": [
    "**可以看到，此时的name是一个tuple，group是一个Series**"
   ]
  },
  {
   "cell_type": "markdown",
   "id": "db1e6214-da29-4778-9402-830fe81a0632",
   "metadata": {},
   "source": [
    "### **所有的聚合，都是在DataFrame或者Series上进行的**"
   ]
  },
  {
   "cell_type": "code",
   "execution_count": null,
   "id": "3baee10c-8fcb-4b3a-adfc-0f16f51066b6",
   "metadata": {},
   "outputs": [],
   "source": []
  },
  {
   "cell_type": "markdown",
   "id": "78dd659c-3981-4d30-9c54-1849d88e828b",
   "metadata": {},
   "source": [
    "### **15.3 实例分组，探索数据**"
   ]
  },
  {
   "cell_type": "code",
   "execution_count": 8,
   "id": "61fab630-ecb4-4aea-8ada-78455267552e",
   "metadata": {
    "tags": []
   },
   "outputs": [],
   "source": [
    "#读取文件的同时指定各列的数据类型！！！！\n",
    "df=pd.read_csv('gy202302.csv',dtype={'NF':np.str_,'YF':np.str_,'LEV':np.str_,'A07_2017':np.str_,\n",
    "                                     'A18':np.str_,'A19':np.str_,'A09':np.str_,'A10':np.str_,\n",
    "                                     'A341':np.str_,'A342':np.str_,'A343':np.str_,'B93':np.str_,\n",
    "                                     'DZX':np.str_,'A14':np.str_,'A052':np.str_})"
   ]
  },
  {
   "cell_type": "code",
   "execution_count": 9,
   "id": "b17d0453-0d34-4224-808a-aca89dc2084b",
   "metadata": {
    "tags": []
   },
   "outputs": [],
   "source": [
    "df.set_index(['NF','YF'],inplace=True,drop=False)"
   ]
  },
  {
   "cell_type": "code",
   "execution_count": 10,
   "id": "f2927e20-ce0e-4e98-8bb2-d720acc3705b",
   "metadata": {
    "tags": []
   },
   "outputs": [
    {
     "data": {
      "text/html": [
       "<div>\n",
       "<style scoped>\n",
       "    .dataframe tbody tr th:only-of-type {\n",
       "        vertical-align: middle;\n",
       "    }\n",
       "\n",
       "    .dataframe tbody tr th {\n",
       "        vertical-align: top;\n",
       "    }\n",
       "\n",
       "    .dataframe thead th {\n",
       "        text-align: right;\n",
       "    }\n",
       "</style>\n",
       "<table border=\"1\" class=\"dataframe\">\n",
       "  <thead>\n",
       "    <tr style=\"text-align: right;\">\n",
       "      <th></th>\n",
       "      <th></th>\n",
       "      <th>A01</th>\n",
       "      <th>DZX</th>\n",
       "    </tr>\n",
       "    <tr>\n",
       "      <th>NF</th>\n",
       "      <th>YF</th>\n",
       "      <th></th>\n",
       "      <th></th>\n",
       "    </tr>\n",
       "  </thead>\n",
       "  <tbody>\n",
       "    <tr>\n",
       "      <th>2023</th>\n",
       "      <th>02</th>\n",
       "      <td>057686533</td>\n",
       "      <td>3</td>\n",
       "    </tr>\n",
       "  </tbody>\n",
       "</table>\n",
       "</div>"
      ],
      "text/plain": [
       "               A01 DZX\n",
       "NF   YF               \n",
       "2023 02  057686533   3"
      ]
     },
     "execution_count": 10,
     "metadata": {},
     "output_type": "execute_result"
    }
   ],
   "source": [
    "df.loc[df['A01']=='057686533',['A01','DZX']]"
   ]
  },
  {
   "cell_type": "markdown",
   "id": "0473f726-36be-426b-aa71-00ba0dc4172d",
   "metadata": {},
   "source": [
    "### **1. 查各街镇产值最高、最低的的企业产值，各街镇平均产值**"
   ]
  },
  {
   "cell_type": "code",
   "execution_count": 26,
   "id": "b60fb8ea-beff-4647-bbae-c31bea30fbe9",
   "metadata": {},
   "outputs": [],
   "source": [
    "#按column的子字符串groupby\n",
    "g1=df.groupby(df['LEV'].str[6:9])"
   ]
  },
  {
   "cell_type": "code",
   "execution_count": 27,
   "id": "c76627a3-09b8-4c5f-91a1-3bbb9e1c8a91",
   "metadata": {},
   "outputs": [
    {
     "data": {
      "text/html": [
       "<div>\n",
       "<style scoped>\n",
       "    .dataframe tbody tr th:only-of-type {\n",
       "        vertical-align: middle;\n",
       "    }\n",
       "\n",
       "    .dataframe tbody tr th {\n",
       "        vertical-align: top;\n",
       "    }\n",
       "\n",
       "    .dataframe thead th {\n",
       "        text-align: right;\n",
       "    }\n",
       "</style>\n",
       "<table border=\"1\" class=\"dataframe\">\n",
       "  <thead>\n",
       "    <tr style=\"text-align: right;\">\n",
       "      <th></th>\n",
       "      <th></th>\n",
       "      <th>H02</th>\n",
       "      <th>LEV</th>\n",
       "      <th>N2000_2</th>\n",
       "    </tr>\n",
       "    <tr>\n",
       "      <th>NF</th>\n",
       "      <th>YF</th>\n",
       "      <th></th>\n",
       "      <th></th>\n",
       "      <th></th>\n",
       "    </tr>\n",
       "  </thead>\n",
       "  <tbody>\n",
       "    <tr>\n",
       "      <th rowspan=\"2\" valign=\"top\">2023</th>\n",
       "      <th>02</th>\n",
       "      <td>上海壹徕科技股份有限公司</td>\n",
       "      <td>310112501804</td>\n",
       "      <td>6627</td>\n",
       "    </tr>\n",
       "    <tr>\n",
       "      <th>02</th>\n",
       "      <td>上海玖广兴塑胶制品有限公司</td>\n",
       "      <td>310112501803</td>\n",
       "      <td>4266</td>\n",
       "    </tr>\n",
       "  </tbody>\n",
       "</table>\n",
       "</div>"
      ],
      "text/plain": [
       "                   H02           LEV  N2000_2\n",
       "NF   YF                                      \n",
       "2023 02   上海壹徕科技股份有限公司  310112501804     6627\n",
       "     02  上海玖广兴塑胶制品有限公司  310112501803     4266"
      ]
     },
     "execution_count": 27,
     "metadata": {},
     "output_type": "execute_result"
    }
   ],
   "source": [
    "g1.get_group('501')[['H02','LEV','N2000_2']].head(2)"
   ]
  },
  {
   "cell_type": "code",
   "execution_count": 31,
   "id": "14299b22-84fe-4013-aa87-2c722f1c98c0",
   "metadata": {},
   "outputs": [],
   "source": [
    "#注意g1的索引LEV的取值\n",
    "g2=g1.agg({'N2000_2':[max,min,np.mean]})"
   ]
  },
  {
   "cell_type": "code",
   "execution_count": 32,
   "id": "c3a34f86-e300-4872-86b5-6b390425bd1f",
   "metadata": {},
   "outputs": [
    {
     "data": {
      "text/html": [
       "<div>\n",
       "<style scoped>\n",
       "    .dataframe tbody tr th:only-of-type {\n",
       "        vertical-align: middle;\n",
       "    }\n",
       "\n",
       "    .dataframe tbody tr th {\n",
       "        vertical-align: top;\n",
       "    }\n",
       "\n",
       "    .dataframe thead tr th {\n",
       "        text-align: left;\n",
       "    }\n",
       "\n",
       "    .dataframe thead tr:last-of-type th {\n",
       "        text-align: right;\n",
       "    }\n",
       "</style>\n",
       "<table border=\"1\" class=\"dataframe\">\n",
       "  <thead>\n",
       "    <tr>\n",
       "      <th></th>\n",
       "      <th colspan=\"3\" halign=\"left\">N2000_2</th>\n",
       "    </tr>\n",
       "    <tr>\n",
       "      <th></th>\n",
       "      <th>max</th>\n",
       "      <th>min</th>\n",
       "      <th>mean</th>\n",
       "    </tr>\n",
       "    <tr>\n",
       "      <th>LEV</th>\n",
       "      <th></th>\n",
       "      <th></th>\n",
       "      <th></th>\n",
       "    </tr>\n",
       "  </thead>\n",
       "  <tbody>\n",
       "    <tr>\n",
       "      <th>001</th>\n",
       "      <td>752926</td>\n",
       "      <td>0</td>\n",
       "      <td>85396.235294</td>\n",
       "    </tr>\n",
       "    <tr>\n",
       "      <th>006</th>\n",
       "      <td>2141</td>\n",
       "      <td>2141</td>\n",
       "      <td>2141.000000</td>\n",
       "    </tr>\n",
       "    <tr>\n",
       "      <th>008</th>\n",
       "      <td>159722</td>\n",
       "      <td>4166</td>\n",
       "      <td>38799.333333</td>\n",
       "    </tr>\n",
       "    <tr>\n",
       "      <th>009</th>\n",
       "      <td>48822</td>\n",
       "      <td>3</td>\n",
       "      <td>19634.857143</td>\n",
       "    </tr>\n",
       "    <tr>\n",
       "      <th>101</th>\n",
       "      <td>253716</td>\n",
       "      <td>0</td>\n",
       "      <td>35986.580000</td>\n",
       "    </tr>\n",
       "    <tr>\n",
       "      <th>102</th>\n",
       "      <td>754029</td>\n",
       "      <td>1091</td>\n",
       "      <td>89870.785714</td>\n",
       "    </tr>\n",
       "    <tr>\n",
       "      <th>103</th>\n",
       "      <td>540653</td>\n",
       "      <td>0</td>\n",
       "      <td>32274.395604</td>\n",
       "    </tr>\n",
       "    <tr>\n",
       "      <th>106</th>\n",
       "      <td>128111</td>\n",
       "      <td>0</td>\n",
       "      <td>14810.428571</td>\n",
       "    </tr>\n",
       "    <tr>\n",
       "      <th>107</th>\n",
       "      <td>854759</td>\n",
       "      <td>0</td>\n",
       "      <td>77444.500000</td>\n",
       "    </tr>\n",
       "    <tr>\n",
       "      <th>108</th>\n",
       "      <td>340670</td>\n",
       "      <td>0</td>\n",
       "      <td>17933.923810</td>\n",
       "    </tr>\n",
       "    <tr>\n",
       "      <th>110</th>\n",
       "      <td>1573473</td>\n",
       "      <td>0</td>\n",
       "      <td>77484.673077</td>\n",
       "    </tr>\n",
       "    <tr>\n",
       "      <th>112</th>\n",
       "      <td>159690</td>\n",
       "      <td>1410</td>\n",
       "      <td>27921.015385</td>\n",
       "    </tr>\n",
       "    <tr>\n",
       "      <th>114</th>\n",
       "      <td>1280006</td>\n",
       "      <td>0</td>\n",
       "      <td>41897.231343</td>\n",
       "    </tr>\n",
       "    <tr>\n",
       "      <th>501</th>\n",
       "      <td>1086694</td>\n",
       "      <td>0</td>\n",
       "      <td>60514.123762</td>\n",
       "    </tr>\n",
       "    <tr>\n",
       "      <th>898</th>\n",
       "      <td>2434437</td>\n",
       "      <td>0</td>\n",
       "      <td>141131.711538</td>\n",
       "    </tr>\n",
       "  </tbody>\n",
       "</table>\n",
       "</div>"
      ],
      "text/plain": [
       "     N2000_2                     \n",
       "         max   min           mean\n",
       "LEV                              \n",
       "001   752926     0   85396.235294\n",
       "006     2141  2141    2141.000000\n",
       "008   159722  4166   38799.333333\n",
       "009    48822     3   19634.857143\n",
       "101   253716     0   35986.580000\n",
       "102   754029  1091   89870.785714\n",
       "103   540653     0   32274.395604\n",
       "106   128111     0   14810.428571\n",
       "107   854759     0   77444.500000\n",
       "108   340670     0   17933.923810\n",
       "110  1573473     0   77484.673077\n",
       "112   159690  1410   27921.015385\n",
       "114  1280006     0   41897.231343\n",
       "501  1086694     0   60514.123762\n",
       "898  2434437     0  141131.711538"
      ]
     },
     "execution_count": 32,
     "metadata": {},
     "output_type": "execute_result"
    }
   ],
   "source": [
    "g2"
   ]
  },
  {
   "cell_type": "code",
   "execution_count": 36,
   "id": "4323d8ce-0266-4c80-bd01-6059b585fc81",
   "metadata": {
    "tags": []
   },
   "outputs": [
    {
     "data": {
      "text/plain": [
       "<Axes: xlabel='LEV'>"
      ]
     },
     "execution_count": 36,
     "metadata": {},
     "output_type": "execute_result"
    },
    {
     "data": {
      "image/png": "[encoded data removed]",
      "text/plain": [
       "<Figure size 640x480 with 1 Axes>"
      ]
     },
     "metadata": {},
     "output_type": "display_data"
    }
   ],
   "source": [
    "g2.plot()"
   ]
  },
  {
   "cell_type": "code",
   "execution_count": 41,
   "id": "5d610e6c-bdde-4c3b-984d-384fc95e34b2",
   "metadata": {
    "tags": []
   },
   "outputs": [],
   "source": [
    "g3=df.groupby([df['A07_2017'].str[0:2]])"
   ]
  },
  {
   "cell_type": "code",
   "execution_count": 44,
   "id": "f7d7ab21-6bd3-431a-b9ca-049f29f02c7b",
   "metadata": {
    "tags": []
   },
   "outputs": [
    {
     "data": {
      "text/html": [
       "<div>\n",
       "<style scoped>\n",
       "    .dataframe tbody tr th:only-of-type {\n",
       "        vertical-align: middle;\n",
       "    }\n",
       "\n",
       "    .dataframe tbody tr th {\n",
       "        vertical-align: top;\n",
       "    }\n",
       "\n",
       "    .dataframe thead tr th {\n",
       "        text-align: left;\n",
       "    }\n",
       "\n",
       "    .dataframe thead tr:last-of-type th {\n",
       "        text-align: right;\n",
       "    }\n",
       "</style>\n",
       "<table border=\"1\" class=\"dataframe\">\n",
       "  <thead>\n",
       "    <tr>\n",
       "      <th></th>\n",
       "      <th colspan=\"2\" halign=\"left\">N2000_2</th>\n",
       "      <th colspan=\"2\" halign=\"left\">N2000_4</th>\n",
       "      <th>A01</th>\n",
       "    </tr>\n",
       "    <tr>\n",
       "      <th></th>\n",
       "      <th>max</th>\n",
       "      <th>min</th>\n",
       "      <th>mean</th>\n",
       "      <th>sum</th>\n",
       "      <th>count_nonzero</th>\n",
       "    </tr>\n",
       "    <tr>\n",
       "      <th>A07_2017</th>\n",
       "      <th></th>\n",
       "      <th></th>\n",
       "      <th></th>\n",
       "      <th></th>\n",
       "      <th></th>\n",
       "    </tr>\n",
       "  </thead>\n",
       "  <tbody>\n",
       "    <tr>\n",
       "      <th>13</th>\n",
       "      <td>200423</td>\n",
       "      <td>0</td>\n",
       "      <td>38111.250000</td>\n",
       "      <td>609780</td>\n",
       "      <td>16</td>\n",
       "    </tr>\n",
       "    <tr>\n",
       "      <th>14</th>\n",
       "      <td>1573473</td>\n",
       "      <td>0</td>\n",
       "      <td>118652.909091</td>\n",
       "      <td>3915546</td>\n",
       "      <td>33</td>\n",
       "    </tr>\n",
       "    <tr>\n",
       "      <th>15</th>\n",
       "      <td>375759</td>\n",
       "      <td>2307</td>\n",
       "      <td>93070.166667</td>\n",
       "      <td>558421</td>\n",
       "      <td>6</td>\n",
       "    </tr>\n",
       "    <tr>\n",
       "      <th>17</th>\n",
       "      <td>92890</td>\n",
       "      <td>0</td>\n",
       "      <td>23030.142857</td>\n",
       "      <td>161211</td>\n",
       "      <td>7</td>\n",
       "    </tr>\n",
       "    <tr>\n",
       "      <th>18</th>\n",
       "      <td>361806</td>\n",
       "      <td>0</td>\n",
       "      <td>24617.034483</td>\n",
       "      <td>713894</td>\n",
       "      <td>29</td>\n",
       "    </tr>\n",
       "    <tr>\n",
       "      <th>19</th>\n",
       "      <td>754029</td>\n",
       "      <td>1569</td>\n",
       "      <td>176845.000000</td>\n",
       "      <td>1061070</td>\n",
       "      <td>6</td>\n",
       "    </tr>\n",
       "    <tr>\n",
       "      <th>20</th>\n",
       "      <td>17984</td>\n",
       "      <td>1543</td>\n",
       "      <td>9550.200000</td>\n",
       "      <td>47751</td>\n",
       "      <td>5</td>\n",
       "    </tr>\n",
       "    <tr>\n",
       "      <th>21</th>\n",
       "      <td>24816</td>\n",
       "      <td>338</td>\n",
       "      <td>12750.000000</td>\n",
       "      <td>89250</td>\n",
       "      <td>7</td>\n",
       "    </tr>\n",
       "    <tr>\n",
       "      <th>22</th>\n",
       "      <td>159690</td>\n",
       "      <td>1083</td>\n",
       "      <td>25102.555556</td>\n",
       "      <td>225923</td>\n",
       "      <td>9</td>\n",
       "    </tr>\n",
       "    <tr>\n",
       "      <th>23</th>\n",
       "      <td>97060</td>\n",
       "      <td>1553</td>\n",
       "      <td>9556.703704</td>\n",
       "      <td>258031</td>\n",
       "      <td>27</td>\n",
       "    </tr>\n",
       "    <tr>\n",
       "      <th>24</th>\n",
       "      <td>17765</td>\n",
       "      <td>0</td>\n",
       "      <td>5929.666667</td>\n",
       "      <td>35578</td>\n",
       "      <td>6</td>\n",
       "    </tr>\n",
       "    <tr>\n",
       "      <th>26</th>\n",
       "      <td>490975</td>\n",
       "      <td>0</td>\n",
       "      <td>59890.434783</td>\n",
       "      <td>4132440</td>\n",
       "      <td>69</td>\n",
       "    </tr>\n",
       "    <tr>\n",
       "      <th>27</th>\n",
       "      <td>730948</td>\n",
       "      <td>2390</td>\n",
       "      <td>98365.465116</td>\n",
       "      <td>4229715</td>\n",
       "      <td>43</td>\n",
       "    </tr>\n",
       "    <tr>\n",
       "      <th>29</th>\n",
       "      <td>549022</td>\n",
       "      <td>0</td>\n",
       "      <td>43634.982759</td>\n",
       "      <td>2530829</td>\n",
       "      <td>58</td>\n",
       "    </tr>\n",
       "    <tr>\n",
       "      <th>30</th>\n",
       "      <td>435023</td>\n",
       "      <td>0</td>\n",
       "      <td>49376.166667</td>\n",
       "      <td>1185028</td>\n",
       "      <td>24</td>\n",
       "    </tr>\n",
       "    <tr>\n",
       "      <th>31</th>\n",
       "      <td>248367</td>\n",
       "      <td>23552</td>\n",
       "      <td>200779.000000</td>\n",
       "      <td>401558</td>\n",
       "      <td>2</td>\n",
       "    </tr>\n",
       "    <tr>\n",
       "      <th>32</th>\n",
       "      <td>216354</td>\n",
       "      <td>1410</td>\n",
       "      <td>470503.500000</td>\n",
       "      <td>941007</td>\n",
       "      <td>2</td>\n",
       "    </tr>\n",
       "    <tr>\n",
       "      <th>33</th>\n",
       "      <td>93083</td>\n",
       "      <td>0</td>\n",
       "      <td>25891.795455</td>\n",
       "      <td>1139239</td>\n",
       "      <td>44</td>\n",
       "    </tr>\n",
       "    <tr>\n",
       "      <th>34</th>\n",
       "      <td>2434437</td>\n",
       "      <td>0</td>\n",
       "      <td>78593.333333</td>\n",
       "      <td>8959640</td>\n",
       "      <td>114</td>\n",
       "    </tr>\n",
       "    <tr>\n",
       "      <th>35</th>\n",
       "      <td>540653</td>\n",
       "      <td>0</td>\n",
       "      <td>31257.825000</td>\n",
       "      <td>2500626</td>\n",
       "      <td>80</td>\n",
       "    </tr>\n",
       "    <tr>\n",
       "      <th>36</th>\n",
       "      <td>340670</td>\n",
       "      <td>489</td>\n",
       "      <td>64415.062500</td>\n",
       "      <td>2061282</td>\n",
       "      <td>32</td>\n",
       "    </tr>\n",
       "    <tr>\n",
       "      <th>37</th>\n",
       "      <td>76968</td>\n",
       "      <td>80</td>\n",
       "      <td>33377.000000</td>\n",
       "      <td>333770</td>\n",
       "      <td>10</td>\n",
       "    </tr>\n",
       "    <tr>\n",
       "      <th>38</th>\n",
       "      <td>399415</td>\n",
       "      <td>0</td>\n",
       "      <td>50666.000000</td>\n",
       "      <td>3901282</td>\n",
       "      <td>77</td>\n",
       "    </tr>\n",
       "    <tr>\n",
       "      <th>39</th>\n",
       "      <td>1280006</td>\n",
       "      <td>0</td>\n",
       "      <td>104662.777778</td>\n",
       "      <td>9419650</td>\n",
       "      <td>90</td>\n",
       "    </tr>\n",
       "    <tr>\n",
       "      <th>40</th>\n",
       "      <td>208510</td>\n",
       "      <td>0</td>\n",
       "      <td>16906.172414</td>\n",
       "      <td>980558</td>\n",
       "      <td>58</td>\n",
       "    </tr>\n",
       "    <tr>\n",
       "      <th>41</th>\n",
       "      <td>28824</td>\n",
       "      <td>1094</td>\n",
       "      <td>13115.200000</td>\n",
       "      <td>65576</td>\n",
       "      <td>5</td>\n",
       "    </tr>\n",
       "    <tr>\n",
       "      <th>43</th>\n",
       "      <td>21847</td>\n",
       "      <td>227</td>\n",
       "      <td>8057.153846</td>\n",
       "      <td>104743</td>\n",
       "      <td>13</td>\n",
       "    </tr>\n",
       "    <tr>\n",
       "      <th>44</th>\n",
       "      <td>348143</td>\n",
       "      <td>29333</td>\n",
       "      <td>220975.750000</td>\n",
       "      <td>883903</td>\n",
       "      <td>4</td>\n",
       "    </tr>\n",
       "    <tr>\n",
       "      <th>45</th>\n",
       "      <td>16000</td>\n",
       "      <td>16000</td>\n",
       "      <td>17799.000000</td>\n",
       "      <td>17799</td>\n",
       "      <td>1</td>\n",
       "    </tr>\n",
       "    <tr>\n",
       "      <th>46</th>\n",
       "      <td>28064</td>\n",
       "      <td>28064</td>\n",
       "      <td>33047.000000</td>\n",
       "      <td>33047</td>\n",
       "      <td>1</td>\n",
       "    </tr>\n",
       "  </tbody>\n",
       "</table>\n",
       "</div>"
      ],
      "text/plain": [
       "          N2000_2               N2000_4                    A01\n",
       "              max    min           mean      sum count_nonzero\n",
       "A07_2017                                                      \n",
       "13         200423      0   38111.250000   609780            16\n",
       "14        1573473      0  118652.909091  3915546            33\n",
       "15         375759   2307   93070.166667   558421             6\n",
       "17          92890      0   23030.142857   161211             7\n",
       "18         361806      0   24617.034483   713894            29\n",
       "19         754029   1569  176845.000000  1061070             6\n",
       "20          17984   1543    9550.200000    47751             5\n",
       "21          24816    338   12750.000000    89250             7\n",
       "22         159690   1083   25102.555556   225923             9\n",
       "23          97060   1553    9556.703704   258031            27\n",
       "24          17765      0    5929.666667    35578             6\n",
       "26         490975      0   59890.434783  4132440            69\n",
       "27         730948   2390   98365.465116  4229715            43\n",
       "29         549022      0   43634.982759  2530829            58\n",
       "30         435023      0   49376.166667  1185028            24\n",
       "31         248367  23552  200779.000000   401558             2\n",
       "32         216354   1410  470503.500000   941007             2\n",
       "33          93083      0   25891.795455  1139239            44\n",
       "34        2434437      0   78593.333333  8959640           114\n",
       "35         540653      0   31257.825000  2500626            80\n",
       "36         340670    489   64415.062500  2061282            32\n",
       "37          76968     80   33377.000000   333770            10\n",
       "38         399415      0   50666.000000  3901282            77\n",
       "39        1280006      0  104662.777778  9419650            90\n",
       "40         208510      0   16906.172414   980558            58\n",
       "41          28824   1094   13115.200000    65576             5\n",
       "43          21847    227    8057.153846   104743            13\n",
       "44         348143  29333  220975.750000   883903             4\n",
       "45          16000  16000   17799.000000    17799             1\n",
       "46          28064  28064   33047.000000    33047             1"
      ]
     },
     "execution_count": 44,
     "metadata": {},
     "output_type": "execute_result"
    }
   ],
   "source": [
    "g3.agg({'N2000_2':[max,min],'N2000_4':[np.mean,sum],'A01':np.count_nonzero})"
   ]
  },
  {
   "cell_type": "code",
   "execution_count": null,
   "id": "dc2cb384-5c81-4201-987a-3ec2147f624c",
   "metadata": {},
   "outputs": [],
   "source": []
  },
  {
   "cell_type": "markdown",
   "id": "0f8023af-7afd-4366-95bd-fc8ef146dba2",
   "metadata": {},
   "source": [
    "----"
   ]
  },
  {
   "cell_type": "code",
   "execution_count": null,
   "id": "eba3c173-5950-440d-b353-8768a8422ed3",
   "metadata": {},
   "outputs": [],
   "source": []
  },
  {
   "cell_type": "markdown",
   "id": "f26cbb4f-549d-4380-8ea3-66a833823b71",
   "metadata": {},
   "source": [
    "## **16. Pandas的分层索引MultiIndex**  "
   ]
  },
  {
   "cell_type": "markdown",
   "id": "19b23fd3-1b63-4cda-b3ec-fb1550aaf1bf",
   "metadata": {},
   "source": [
    "### 为什么要学习分层索引：  \n",
    "- #### 分层索引：在一个轴向上拥有多个索引层级(比如索引('NF','YF')的含义是：先按年份字段'NF'进行索引，然后在此基础上再按月份'YF'进行索引，所以是分层索引)，它可以用于表达更高维度数据\n",
    "- #### 可以更方便地进行数据筛选，如果有序，则性能更好（意思是会自动使用二分查找法进行搜索，搜索量为O(LogN）级别\n",
    "- #### groupby等操作的结果，如果是多key，结果的索引就是分层索引，因此需要会用\n",
    "- #### 一般不需要自己创建分层索引（MultiIndex有构造行数，但一般不用）"
   ]
  },
  {
   "cell_type": "markdown",
   "id": "c1c0bf91-976a-46cd-9f62-3b5588418498",
   "metadata": {},
   "source": [
    "### 本节提纲\n",
    "1. Series的分层索引MultiIndex\n",
    "2. Series的多层索引怎样筛选数据\n",
    "3. DataFrame的分层索引MultiIndex\n",
    "4. DataFrame的多层索引怎样筛选数据"
   ]
  },
  {
   "cell_type": "code",
   "execution_count": 50,
   "id": "65cd6bbf-6d7d-47b7-9e2c-7b6122a5a336",
   "metadata": {
    "tags": []
   },
   "outputs": [],
   "source": [
    "import pandas as pd\n",
    "import numpy as np\n",
    "%matplotlib inline"
   ]
  },
  {
   "cell_type": "code",
   "execution_count": 12,
   "id": "33299da1-d31e-489a-a60d-f727e56b1e0b",
   "metadata": {
    "tags": []
   },
   "outputs": [],
   "source": [
    "df000651=pd.read_csv('./stocks/000651.csv',dtype={'SaleOrderID':'object','BuyOrderID':'object'})\n",
    "df000651['Code']='000651'\n",
    "\n",
    "df601012=pd.read_csv('./stocks/601012.csv',dtype={'SaleOrderID':'object','BuyOrderID':'object'})\n",
    "df601012['Code']='601012'\n",
    "\n",
    "df601288=pd.read_csv('./stocks/601288.csv',dtype={'SaleOrderID':'object','BuyOrderID':'object'})\n",
    "df601288['Code']='601288'\n",
    "\n",
    "df601318=pd.read_csv('./stocks/601318.csv',dtype={'SaleOrderID':'object','BuyOrderID':'object'})\n",
    "df601318['Code']='601318'\n",
    "\n",
    "df=pd.concat([df000651,df601012,df601288,df601318])"
   ]
  },
  {
   "cell_type": "code",
   "execution_count": 11,
   "id": "3db4dee0-94b3-40ed-a287-2674e8170f27",
   "metadata": {
    "tags": []
   },
   "outputs": [
    {
     "data": {
      "text/plain": [
       "array(['000651', '601012', '601288', '601318'], dtype=object)"
      ]
     },
     "execution_count": 11,
     "metadata": {},
     "output_type": "execute_result"
    }
   ],
   "source": [
    "df['Code'].unique()"
   ]
  },
  {
   "cell_type": "code",
   "execution_count": 26,
   "id": "39353505-3c9a-4fea-8106-5971768046f1",
   "metadata": {
    "tags": []
   },
   "outputs": [
    {
     "name": "stdout",
     "output_type": "stream",
     "text": [
      "<class 'pandas.core.frame.DataFrame'>\n",
      "Int64Index: 534037 entries, 0 to 196766\n",
      "Data columns (total 12 columns):\n",
      " #   Column           Non-Null Count   Dtype  \n",
      "---  ------           --------------   -----  \n",
      " 0   TranID           534037 non-null  int64  \n",
      " 1   Time             534037 non-null  object \n",
      " 2   Price            534037 non-null  float64\n",
      " 3   Volume           534037 non-null  int64  \n",
      " 4   SaleOrderVolume  534037 non-null  int64  \n",
      " 5   BuyOrderVolume   534037 non-null  int64  \n",
      " 6   Type             534037 non-null  object \n",
      " 7   SaleOrderID      534037 non-null  object \n",
      " 8   SaleOrderPrice   534037 non-null  float64\n",
      " 9   BuyOrderID       534037 non-null  object \n",
      " 10  BuyOrderPrice    534037 non-null  float64\n",
      " 11  Code             534037 non-null  object \n",
      "dtypes: float64(3), int64(4), object(5)\n",
      "memory usage: 53.0+ MB\n"
     ]
    }
   ],
   "source": [
    "df.info()"
   ]
  },
  {
   "cell_type": "markdown",
   "id": "5da25763-ee51-4613-ba18-ea3d3df16b1e",
   "metadata": {},
   "source": [
    "### **16.1 Series的分层索引MultiIndex**"
   ]
  },
  {
   "cell_type": "code",
   "execution_count": 33,
   "id": "79f053ff-a7cb-4cbf-b86b-eb6d6be4e0d7",
   "metadata": {
    "tags": []
   },
   "outputs": [
    {
     "data": {
      "text/plain": [
       "<pandas.core.groupby.generic.SeriesGroupBy object at 0x7f64699b20>"
      ]
     },
     "execution_count": 33,
     "metadata": {},
     "output_type": "execute_result"
    }
   ],
   "source": [
    "df.groupby(['Code','Type'])['SaleOrderVolume']"
   ]
  },
  {
   "cell_type": "code",
   "execution_count": 14,
   "id": "fe3ecf23-e523-4640-815b-c9d0e6176256",
   "metadata": {
    "tags": []
   },
   "outputs": [],
   "source": [
    "ser=df.groupby(['Code','Type'])['SaleOrderVolume'].max()"
   ]
  },
  {
   "cell_type": "code",
   "execution_count": 15,
   "id": "5c5f459f-0a6f-4ffd-9524-e1384e4cf883",
   "metadata": {
    "tags": []
   },
   "outputs": [
    {
     "data": {
      "text/plain": [
       "Code    Type\n",
       "000651  B        521200\n",
       "        S        521200\n",
       "601012  B        300000\n",
       "        S        292300\n",
       "601288  B       1999800\n",
       "        S       1000000\n",
       "601318  B        450000\n",
       "        S        500000\n",
       "Name: SaleOrderVolume, dtype: int64"
      ]
     },
     "execution_count": 15,
     "metadata": {},
     "output_type": "execute_result"
    }
   ],
   "source": [
    "ser"
   ]
  },
  {
   "cell_type": "code",
   "execution_count": 16,
   "id": "ca25dc43-34c9-4049-abd0-b0ed559080fa",
   "metadata": {
    "tags": []
   },
   "outputs": [
    {
     "data": {
      "text/plain": [
       "MultiIndex([('000651', 'B'),\n",
       "            ('000651', 'S'),\n",
       "            ('601012', 'B'),\n",
       "            ('601012', 'S'),\n",
       "            ('601288', 'B'),\n",
       "            ('601288', 'S'),\n",
       "            ('601318', 'B'),\n",
       "            ('601318', 'S')],\n",
       "           names=['Code', 'Type'])"
      ]
     },
     "execution_count": 16,
     "metadata": {},
     "output_type": "execute_result"
    }
   ],
   "source": [
    "ser.index"
   ]
  },
  {
   "cell_type": "code",
   "execution_count": 45,
   "id": "e6e0ae20-319d-4d9d-876c-879db25c874a",
   "metadata": {
    "tags": []
   },
   "outputs": [
    {
     "data": {
      "text/html": [
       "<div>\n",
       "<style scoped>\n",
       "    .dataframe tbody tr th:only-of-type {\n",
       "        vertical-align: middle;\n",
       "    }\n",
       "\n",
       "    .dataframe tbody tr th {\n",
       "        vertical-align: top;\n",
       "    }\n",
       "\n",
       "    .dataframe thead th {\n",
       "        text-align: right;\n",
       "    }\n",
       "</style>\n",
       "<table border=\"1\" class=\"dataframe\">\n",
       "  <thead>\n",
       "    <tr style=\"text-align: right;\">\n",
       "      <th>Type</th>\n",
       "      <th>B</th>\n",
       "      <th>S</th>\n",
       "    </tr>\n",
       "    <tr>\n",
       "      <th>Code</th>\n",
       "      <th></th>\n",
       "      <th></th>\n",
       "    </tr>\n",
       "  </thead>\n",
       "  <tbody>\n",
       "    <tr>\n",
       "      <th>000651</th>\n",
       "      <td>521200</td>\n",
       "      <td>521200</td>\n",
       "    </tr>\n",
       "    <tr>\n",
       "      <th>601012</th>\n",
       "      <td>300000</td>\n",
       "      <td>292300</td>\n",
       "    </tr>\n",
       "    <tr>\n",
       "      <th>601288</th>\n",
       "      <td>1999800</td>\n",
       "      <td>1000000</td>\n",
       "    </tr>\n",
       "    <tr>\n",
       "      <th>601318</th>\n",
       "      <td>450000</td>\n",
       "      <td>500000</td>\n",
       "    </tr>\n",
       "  </tbody>\n",
       "</table>\n",
       "</div>"
      ],
      "text/plain": [
       "Type          B        S\n",
       "Code                    \n",
       "000651   521200   521200\n",
       "601012   300000   292300\n",
       "601288  1999800  1000000\n",
       "601318   450000   500000"
      ]
     },
     "execution_count": 45,
     "metadata": {},
     "output_type": "execute_result"
    }
   ],
   "source": [
    "#第二级索引（这里是Type）变成了列，索引只剩下Code。实现了降低索引层级的目的\n",
    "ser.unstack()"
   ]
  },
  {
   "cell_type": "code",
   "execution_count": 42,
   "id": "c7bd7f0d-6e36-44e3-b991-82b58b88375a",
   "metadata": {
    "tags": []
   },
   "outputs": [
    {
     "data": {
      "text/plain": [
       "Code    Type\n",
       "000651  B        521200\n",
       "        S        521200\n",
       "601012  B        300000\n",
       "        S        292300\n",
       "601288  B       1999800\n",
       "        S       1000000\n",
       "601318  B        450000\n",
       "        S        500000\n",
       "Name: SaleOrderVolume, dtype: int64"
      ]
     },
     "execution_count": 42,
     "metadata": {},
     "output_type": "execute_result"
    }
   ],
   "source": [
    "#重新回到二级索引\n",
    "ser.reindex()"
   ]
  },
  {
   "cell_type": "code",
   "execution_count": 44,
   "id": "95fb056e-4773-4b21-9575-b845794c0542",
   "metadata": {
    "tags": []
   },
   "outputs": [
    {
     "data": {
      "text/html": [
       "<div>\n",
       "<style scoped>\n",
       "    .dataframe tbody tr th:only-of-type {\n",
       "        vertical-align: middle;\n",
       "    }\n",
       "\n",
       "    .dataframe tbody tr th {\n",
       "        vertical-align: top;\n",
       "    }\n",
       "\n",
       "    .dataframe thead th {\n",
       "        text-align: right;\n",
       "    }\n",
       "</style>\n",
       "<table border=\"1\" class=\"dataframe\">\n",
       "  <thead>\n",
       "    <tr style=\"text-align: right;\">\n",
       "      <th></th>\n",
       "      <th>Code</th>\n",
       "      <th>Type</th>\n",
       "      <th>SaleOrderVolume</th>\n",
       "    </tr>\n",
       "  </thead>\n",
       "  <tbody>\n",
       "    <tr>\n",
       "      <th>0</th>\n",
       "      <td>000651</td>\n",
       "      <td>B</td>\n",
       "      <td>521200</td>\n",
       "    </tr>\n",
       "    <tr>\n",
       "      <th>1</th>\n",
       "      <td>000651</td>\n",
       "      <td>S</td>\n",
       "      <td>521200</td>\n",
       "    </tr>\n",
       "    <tr>\n",
       "      <th>2</th>\n",
       "      <td>601012</td>\n",
       "      <td>B</td>\n",
       "      <td>300000</td>\n",
       "    </tr>\n",
       "    <tr>\n",
       "      <th>3</th>\n",
       "      <td>601012</td>\n",
       "      <td>S</td>\n",
       "      <td>292300</td>\n",
       "    </tr>\n",
       "    <tr>\n",
       "      <th>4</th>\n",
       "      <td>601288</td>\n",
       "      <td>B</td>\n",
       "      <td>1999800</td>\n",
       "    </tr>\n",
       "    <tr>\n",
       "      <th>5</th>\n",
       "      <td>601288</td>\n",
       "      <td>S</td>\n",
       "      <td>1000000</td>\n",
       "    </tr>\n",
       "    <tr>\n",
       "      <th>6</th>\n",
       "      <td>601318</td>\n",
       "      <td>B</td>\n",
       "      <td>450000</td>\n",
       "    </tr>\n",
       "    <tr>\n",
       "      <th>7</th>\n",
       "      <td>601318</td>\n",
       "      <td>S</td>\n",
       "      <td>500000</td>\n",
       "    </tr>\n",
       "  </tbody>\n",
       "</table>\n",
       "</div>"
      ],
      "text/plain": [
       "     Code Type  SaleOrderVolume\n",
       "0  000651    B           521200\n",
       "1  000651    S           521200\n",
       "2  601012    B           300000\n",
       "3  601012    S           292300\n",
       "4  601288    B          1999800\n",
       "5  601288    S          1000000\n",
       "6  601318    B           450000\n",
       "7  601318    S           500000"
      ]
     },
     "execution_count": 44,
     "metadata": {},
     "output_type": "execute_result"
    }
   ],
   "source": [
    "#一二级索引都变成了列。索引变为默认的整形值\n",
    "ser.reset_index()"
   ]
  },
  {
   "cell_type": "markdown",
   "id": "9f3157dc-cb72-40aa-953d-aaa1d8d136c2",
   "metadata": {},
   "source": [
    "### **16.2 Series有多层索引MultiIndex怎样进行数据筛选**"
   ]
  },
  {
   "cell_type": "code",
   "execution_count": 17,
   "id": "b280d373-eaf0-483f-9b80-e11435c65177",
   "metadata": {
    "tags": []
   },
   "outputs": [
    {
     "data": {
      "text/plain": [
       "292300"
      ]
     },
     "execution_count": 17,
     "metadata": {},
     "output_type": "execute_result"
    }
   ],
   "source": [
    "ser[('601012','S')]"
   ]
  },
  {
   "cell_type": "code",
   "execution_count": 18,
   "id": "007d3e9b-0c4a-4f1d-8116-b5d22325f0b7",
   "metadata": {
    "tags": []
   },
   "outputs": [
    {
     "data": {
      "text/plain": [
       "Type\n",
       "B    450000\n",
       "S    500000\n",
       "Name: SaleOrderVolume, dtype: int64"
      ]
     },
     "execution_count": 18,
     "metadata": {},
     "output_type": "execute_result"
    }
   ],
   "source": [
    "ser['601318']"
   ]
  },
  {
   "cell_type": "code",
   "execution_count": 19,
   "id": "fef24756-2e1c-4897-904a-7efd99f2c83a",
   "metadata": {
    "tags": []
   },
   "outputs": [
    {
     "data": {
      "text/plain": [
       "Type\n",
       "B    450000\n",
       "S    500000\n",
       "Name: SaleOrderVolume, dtype: int64"
      ]
     },
     "execution_count": 19,
     "metadata": {},
     "output_type": "execute_result"
    }
   ],
   "source": [
    "ser.loc['601318']"
   ]
  },
  {
   "cell_type": "code",
   "execution_count": 21,
   "id": "bb88dc7f-a73e-495b-a031-c42979b98607",
   "metadata": {
    "tags": []
   },
   "outputs": [
    {
     "data": {
      "text/plain": [
       "292300"
      ]
     },
     "execution_count": 21,
     "metadata": {},
     "output_type": "execute_result"
    }
   ],
   "source": [
    "#多级索引用元组tuple形式表达\n",
    "ser.loc[('601012','S')]"
   ]
  },
  {
   "cell_type": "code",
   "execution_count": 22,
   "id": "5ffbd6c6-a199-4b0e-aa24-624263a2a7ca",
   "metadata": {
    "tags": []
   },
   "outputs": [
    {
     "data": {
      "text/plain": [
       "Code\n",
       "000651     521200\n",
       "601012     300000\n",
       "601288    1999800\n",
       "601318     450000\n",
       "Name: SaleOrderVolume, dtype: int64"
      ]
     },
     "execution_count": 22,
     "metadata": {},
     "output_type": "execute_result"
    }
   ],
   "source": [
    "#多级索引也可以切片\n",
    "ser.loc[:,'B']"
   ]
  },
  {
   "cell_type": "code",
   "execution_count": 23,
   "id": "62411226-d107-40b9-ab1b-fa53e932a6a3",
   "metadata": {
    "tags": []
   },
   "outputs": [
    {
     "data": {
      "text/plain": [
       "Type\n",
       "B    300000\n",
       "S    292300\n",
       "Name: SaleOrderVolume, dtype: int64"
      ]
     },
     "execution_count": 23,
     "metadata": {},
     "output_type": "execute_result"
    }
   ],
   "source": [
    "ser.loc['601012',:]"
   ]
  },
  {
   "cell_type": "markdown",
   "id": "212c039d-d183-4d79-b27d-2e6eda018756",
   "metadata": {},
   "source": [
    "### **16.3 DataFrame的多层索引MultiIndex**"
   ]
  },
  {
   "cell_type": "code",
   "execution_count": 27,
   "id": "63a8dba2-6b8b-4291-b3ce-c384e1a6266c",
   "metadata": {
    "tags": []
   },
   "outputs": [
    {
     "data": {
      "text/html": [
       "<div>\n",
       "<style scoped>\n",
       "    .dataframe tbody tr th:only-of-type {\n",
       "        vertical-align: middle;\n",
       "    }\n",
       "\n",
       "    .dataframe tbody tr th {\n",
       "        vertical-align: top;\n",
       "    }\n",
       "\n",
       "    .dataframe thead th {\n",
       "        text-align: right;\n",
       "    }\n",
       "</style>\n",
       "<table border=\"1\" class=\"dataframe\">\n",
       "  <thead>\n",
       "    <tr style=\"text-align: right;\">\n",
       "      <th></th>\n",
       "      <th>TranID</th>\n",
       "      <th>Time</th>\n",
       "      <th>Price</th>\n",
       "      <th>Volume</th>\n",
       "      <th>SaleOrderVolume</th>\n",
       "      <th>BuyOrderVolume</th>\n",
       "      <th>Type</th>\n",
       "      <th>SaleOrderID</th>\n",
       "      <th>SaleOrderPrice</th>\n",
       "      <th>BuyOrderID</th>\n",
       "      <th>BuyOrderPrice</th>\n",
       "      <th>Code</th>\n",
       "    </tr>\n",
       "  </thead>\n",
       "  <tbody>\n",
       "    <tr>\n",
       "      <th>0</th>\n",
       "      <td>1</td>\n",
       "      <td>09:25:00</td>\n",
       "      <td>59.1</td>\n",
       "      <td>400</td>\n",
       "      <td>400</td>\n",
       "      <td>1400</td>\n",
       "      <td>S</td>\n",
       "      <td>1</td>\n",
       "      <td>53.87</td>\n",
       "      <td>1</td>\n",
       "      <td>65.84</td>\n",
       "      <td>000651</td>\n",
       "    </tr>\n",
       "    <tr>\n",
       "      <th>1</th>\n",
       "      <td>2</td>\n",
       "      <td>09:25:00</td>\n",
       "      <td>59.1</td>\n",
       "      <td>300</td>\n",
       "      <td>300</td>\n",
       "      <td>1400</td>\n",
       "      <td>S</td>\n",
       "      <td>2</td>\n",
       "      <td>53.87</td>\n",
       "      <td>1</td>\n",
       "      <td>65.84</td>\n",
       "      <td>000651</td>\n",
       "    </tr>\n",
       "    <tr>\n",
       "      <th>2</th>\n",
       "      <td>3</td>\n",
       "      <td>09:25:00</td>\n",
       "      <td>59.1</td>\n",
       "      <td>200</td>\n",
       "      <td>200</td>\n",
       "      <td>1400</td>\n",
       "      <td>S</td>\n",
       "      <td>3</td>\n",
       "      <td>53.87</td>\n",
       "      <td>1</td>\n",
       "      <td>65.84</td>\n",
       "      <td>000651</td>\n",
       "    </tr>\n",
       "    <tr>\n",
       "      <th>3</th>\n",
       "      <td>4</td>\n",
       "      <td>09:25:00</td>\n",
       "      <td>59.1</td>\n",
       "      <td>200</td>\n",
       "      <td>200</td>\n",
       "      <td>1400</td>\n",
       "      <td>S</td>\n",
       "      <td>4</td>\n",
       "      <td>53.87</td>\n",
       "      <td>1</td>\n",
       "      <td>65.84</td>\n",
       "      <td>000651</td>\n",
       "    </tr>\n",
       "    <tr>\n",
       "      <th>4</th>\n",
       "      <td>5</td>\n",
       "      <td>09:25:00</td>\n",
       "      <td>59.1</td>\n",
       "      <td>300</td>\n",
       "      <td>5900</td>\n",
       "      <td>1400</td>\n",
       "      <td>S</td>\n",
       "      <td>5</td>\n",
       "      <td>53.87</td>\n",
       "      <td>1</td>\n",
       "      <td>65.84</td>\n",
       "      <td>000651</td>\n",
       "    </tr>\n",
       "  </tbody>\n",
       "</table>\n",
       "</div>"
      ],
      "text/plain": [
       "   TranID      Time  Price  Volume  SaleOrderVolume  BuyOrderVolume Type  \\\n",
       "0       1  09:25:00   59.1     400              400            1400    S   \n",
       "1       2  09:25:00   59.1     300              300            1400    S   \n",
       "2       3  09:25:00   59.1     200              200            1400    S   \n",
       "3       4  09:25:00   59.1     200              200            1400    S   \n",
       "4       5  09:25:00   59.1     300             5900            1400    S   \n",
       "\n",
       "  SaleOrderID  SaleOrderPrice BuyOrderID  BuyOrderPrice    Code  \n",
       "0           1           53.87          1          65.84  000651  \n",
       "1           2           53.87          1          65.84  000651  \n",
       "2           3           53.87          1          65.84  000651  \n",
       "3           4           53.87          1          65.84  000651  \n",
       "4           5           53.87          1          65.84  000651  "
      ]
     },
     "execution_count": 27,
     "metadata": {},
     "output_type": "execute_result"
    }
   ],
   "source": [
    "df.head()"
   ]
  },
  {
   "cell_type": "code",
   "execution_count": 39,
   "id": "c05bc036-41b0-4bb7-a7e1-e484ce5be318",
   "metadata": {
    "tags": []
   },
   "outputs": [],
   "source": [
    "df_setindex=df.set_index(['Code','Type'],drop=True)"
   ]
  },
  {
   "cell_type": "code",
   "execution_count": 40,
   "id": "f0a6f3be-c3ae-4c05-86b8-8cb9ac02f61f",
   "metadata": {
    "tags": []
   },
   "outputs": [
    {
     "data": {
      "text/html": [
       "<div>\n",
       "<style scoped>\n",
       "    .dataframe tbody tr th:only-of-type {\n",
       "        vertical-align: middle;\n",
       "    }\n",
       "\n",
       "    .dataframe tbody tr th {\n",
       "        vertical-align: top;\n",
       "    }\n",
       "\n",
       "    .dataframe thead th {\n",
       "        text-align: right;\n",
       "    }\n",
       "</style>\n",
       "<table border=\"1\" class=\"dataframe\">\n",
       "  <thead>\n",
       "    <tr style=\"text-align: right;\">\n",
       "      <th></th>\n",
       "      <th></th>\n",
       "      <th>TranID</th>\n",
       "      <th>Time</th>\n",
       "      <th>Price</th>\n",
       "      <th>Volume</th>\n",
       "      <th>SaleOrderVolume</th>\n",
       "      <th>BuyOrderVolume</th>\n",
       "      <th>SaleOrderID</th>\n",
       "      <th>SaleOrderPrice</th>\n",
       "      <th>BuyOrderID</th>\n",
       "      <th>BuyOrderPrice</th>\n",
       "    </tr>\n",
       "    <tr>\n",
       "      <th>Code</th>\n",
       "      <th>Type</th>\n",
       "      <th></th>\n",
       "      <th></th>\n",
       "      <th></th>\n",
       "      <th></th>\n",
       "      <th></th>\n",
       "      <th></th>\n",
       "      <th></th>\n",
       "      <th></th>\n",
       "      <th></th>\n",
       "      <th></th>\n",
       "    </tr>\n",
       "  </thead>\n",
       "  <tbody>\n",
       "    <tr>\n",
       "      <th rowspan=\"5\" valign=\"top\">000651</th>\n",
       "      <th>S</th>\n",
       "      <td>1</td>\n",
       "      <td>09:25:00</td>\n",
       "      <td>59.1</td>\n",
       "      <td>400</td>\n",
       "      <td>400</td>\n",
       "      <td>1400</td>\n",
       "      <td>1</td>\n",
       "      <td>53.87</td>\n",
       "      <td>1</td>\n",
       "      <td>65.84</td>\n",
       "    </tr>\n",
       "    <tr>\n",
       "      <th>S</th>\n",
       "      <td>2</td>\n",
       "      <td>09:25:00</td>\n",
       "      <td>59.1</td>\n",
       "      <td>300</td>\n",
       "      <td>300</td>\n",
       "      <td>1400</td>\n",
       "      <td>2</td>\n",
       "      <td>53.87</td>\n",
       "      <td>1</td>\n",
       "      <td>65.84</td>\n",
       "    </tr>\n",
       "    <tr>\n",
       "      <th>S</th>\n",
       "      <td>3</td>\n",
       "      <td>09:25:00</td>\n",
       "      <td>59.1</td>\n",
       "      <td>200</td>\n",
       "      <td>200</td>\n",
       "      <td>1400</td>\n",
       "      <td>3</td>\n",
       "      <td>53.87</td>\n",
       "      <td>1</td>\n",
       "      <td>65.84</td>\n",
       "    </tr>\n",
       "    <tr>\n",
       "      <th>S</th>\n",
       "      <td>4</td>\n",
       "      <td>09:25:00</td>\n",
       "      <td>59.1</td>\n",
       "      <td>200</td>\n",
       "      <td>200</td>\n",
       "      <td>1400</td>\n",
       "      <td>4</td>\n",
       "      <td>53.87</td>\n",
       "      <td>1</td>\n",
       "      <td>65.84</td>\n",
       "    </tr>\n",
       "    <tr>\n",
       "      <th>S</th>\n",
       "      <td>5</td>\n",
       "      <td>09:25:00</td>\n",
       "      <td>59.1</td>\n",
       "      <td>300</td>\n",
       "      <td>5900</td>\n",
       "      <td>1400</td>\n",
       "      <td>5</td>\n",
       "      <td>53.87</td>\n",
       "      <td>1</td>\n",
       "      <td>65.84</td>\n",
       "    </tr>\n",
       "  </tbody>\n",
       "</table>\n",
       "</div>"
      ],
      "text/plain": [
       "             TranID      Time  Price  Volume  SaleOrderVolume  BuyOrderVolume  \\\n",
       "Code   Type                                                                     \n",
       "000651 S          1  09:25:00   59.1     400              400            1400   \n",
       "       S          2  09:25:00   59.1     300              300            1400   \n",
       "       S          3  09:25:00   59.1     200              200            1400   \n",
       "       S          4  09:25:00   59.1     200              200            1400   \n",
       "       S          5  09:25:00   59.1     300             5900            1400   \n",
       "\n",
       "            SaleOrderID  SaleOrderPrice BuyOrderID  BuyOrderPrice  \n",
       "Code   Type                                                        \n",
       "000651 S              1           53.87          1          65.84  \n",
       "       S              2           53.87          1          65.84  \n",
       "       S              3           53.87          1          65.84  \n",
       "       S              4           53.87          1          65.84  \n",
       "       S              5           53.87          1          65.84  "
      ]
     },
     "execution_count": 40,
     "metadata": {},
     "output_type": "execute_result"
    }
   ],
   "source": [
    "df_setindex.head()"
   ]
  },
  {
   "cell_type": "code",
   "execution_count": 43,
   "id": "7a8e1d56-e29e-4a5e-bf48-630ff9f488d7",
   "metadata": {
    "tags": []
   },
   "outputs": [],
   "source": [
    "df_group=df_setindex.groupby(['Code','Type'])"
   ]
  },
  {
   "cell_type": "code",
   "execution_count": 58,
   "id": "de0476e5-1580-465f-9c30-50aaffb9b3d3",
   "metadata": {
    "tags": []
   },
   "outputs": [
    {
     "data": {
      "text/html": [
       "<div>\n",
       "<style scoped>\n",
       "    .dataframe tbody tr th:only-of-type {\n",
       "        vertical-align: middle;\n",
       "    }\n",
       "\n",
       "    .dataframe tbody tr th {\n",
       "        vertical-align: top;\n",
       "    }\n",
       "\n",
       "    .dataframe thead tr th {\n",
       "        text-align: left;\n",
       "    }\n",
       "\n",
       "    .dataframe thead tr:last-of-type th {\n",
       "        text-align: right;\n",
       "    }\n",
       "</style>\n",
       "<table border=\"1\" class=\"dataframe\">\n",
       "  <thead>\n",
       "    <tr>\n",
       "      <th></th>\n",
       "      <th></th>\n",
       "      <th>Volume</th>\n",
       "      <th colspan=\"3\" halign=\"left\">Price</th>\n",
       "      <th colspan=\"3\" halign=\"left\">SaleOrderVolume</th>\n",
       "      <th colspan=\"3\" halign=\"left\">BuyOrderVolume</th>\n",
       "    </tr>\n",
       "    <tr>\n",
       "      <th></th>\n",
       "      <th></th>\n",
       "      <th>sum</th>\n",
       "      <th>max</th>\n",
       "      <th>min</th>\n",
       "      <th>mean</th>\n",
       "      <th>max</th>\n",
       "      <th>min</th>\n",
       "      <th>mean</th>\n",
       "      <th>max</th>\n",
       "      <th>min</th>\n",
       "      <th>mean</th>\n",
       "    </tr>\n",
       "    <tr>\n",
       "      <th>Code</th>\n",
       "      <th>Type</th>\n",
       "      <th></th>\n",
       "      <th></th>\n",
       "      <th></th>\n",
       "      <th></th>\n",
       "      <th></th>\n",
       "      <th></th>\n",
       "      <th></th>\n",
       "      <th></th>\n",
       "      <th></th>\n",
       "      <th></th>\n",
       "    </tr>\n",
       "  </thead>\n",
       "  <tbody>\n",
       "    <tr>\n",
       "      <th rowspan=\"2\" valign=\"top\">000651</th>\n",
       "      <th>B</th>\n",
       "      <td>32927706</td>\n",
       "      <td>60.89</td>\n",
       "      <td>58.89</td>\n",
       "      <td>59.882903</td>\n",
       "      <td>521200</td>\n",
       "      <td>40</td>\n",
       "      <td>10115.856865</td>\n",
       "      <td>502800</td>\n",
       "      <td>100</td>\n",
       "      <td>9298.015934</td>\n",
       "    </tr>\n",
       "    <tr>\n",
       "      <th>S</th>\n",
       "      <td>26204112</td>\n",
       "      <td>60.88</td>\n",
       "      <td>58.88</td>\n",
       "      <td>59.775608</td>\n",
       "      <td>521200</td>\n",
       "      <td>1</td>\n",
       "      <td>12325.993589</td>\n",
       "      <td>502800</td>\n",
       "      <td>100</td>\n",
       "      <td>5076.457430</td>\n",
       "    </tr>\n",
       "    <tr>\n",
       "      <th rowspan=\"2\" valign=\"top\">601012</th>\n",
       "      <th>B</th>\n",
       "      <td>39652361</td>\n",
       "      <td>106.49</td>\n",
       "      <td>99.10</td>\n",
       "      <td>103.291065</td>\n",
       "      <td>300000</td>\n",
       "      <td>3</td>\n",
       "      <td>3529.630934</td>\n",
       "      <td>250000</td>\n",
       "      <td>4</td>\n",
       "      <td>7462.213763</td>\n",
       "    </tr>\n",
       "    <tr>\n",
       "      <th>S</th>\n",
       "      <td>36746664</td>\n",
       "      <td>106.47</td>\n",
       "      <td>99.00</td>\n",
       "      <td>103.128819</td>\n",
       "      <td>292300</td>\n",
       "      <td>1</td>\n",
       "      <td>6031.226239</td>\n",
       "      <td>226420</td>\n",
       "      <td>2</td>\n",
       "      <td>2585.271740</td>\n",
       "    </tr>\n",
       "    <tr>\n",
       "      <th rowspan=\"2\" valign=\"top\">601288</th>\n",
       "      <th>B</th>\n",
       "      <td>187950486</td>\n",
       "      <td>3.28</td>\n",
       "      <td>3.25</td>\n",
       "      <td>3.269567</td>\n",
       "      <td>1999800</td>\n",
       "      <td>55</td>\n",
       "      <td>227582.965702</td>\n",
       "      <td>1000000</td>\n",
       "      <td>100</td>\n",
       "      <td>155431.002317</td>\n",
       "    </tr>\n",
       "    <tr>\n",
       "      <th>S</th>\n",
       "      <td>192945337</td>\n",
       "      <td>3.27</td>\n",
       "      <td>3.24</td>\n",
       "      <td>3.261517</td>\n",
       "      <td>1000000</td>\n",
       "      <td>10</td>\n",
       "      <td>150060.602507</td>\n",
       "      <td>1000000</td>\n",
       "      <td>100</td>\n",
       "      <td>317755.910772</td>\n",
       "    </tr>\n",
       "    <tr>\n",
       "      <th rowspan=\"2\" valign=\"top\">601318</th>\n",
       "      <th>B</th>\n",
       "      <td>52390710</td>\n",
       "      <td>87.13</td>\n",
       "      <td>85.18</td>\n",
       "      <td>86.137305</td>\n",
       "      <td>450000</td>\n",
       "      <td>1</td>\n",
       "      <td>8323.024895</td>\n",
       "      <td>477200</td>\n",
       "      <td>100</td>\n",
       "      <td>8246.233522</td>\n",
       "    </tr>\n",
       "    <tr>\n",
       "      <th>S</th>\n",
       "      <td>65655803</td>\n",
       "      <td>87.12</td>\n",
       "      <td>85.18</td>\n",
       "      <td>85.971901</td>\n",
       "      <td>500000</td>\n",
       "      <td>9</td>\n",
       "      <td>28486.316602</td>\n",
       "      <td>477200</td>\n",
       "      <td>4</td>\n",
       "      <td>4329.469648</td>\n",
       "    </tr>\n",
       "  </tbody>\n",
       "</table>\n",
       "</div>"
      ],
      "text/plain": [
       "                Volume   Price                    SaleOrderVolume      \\\n",
       "                   sum     max    min        mean             max min   \n",
       "Code   Type                                                             \n",
       "000651 B      32927706   60.89  58.89   59.882903          521200  40   \n",
       "       S      26204112   60.88  58.88   59.775608          521200   1   \n",
       "601012 B      39652361  106.49  99.10  103.291065          300000   3   \n",
       "       S      36746664  106.47  99.00  103.128819          292300   1   \n",
       "601288 B     187950486    3.28   3.25    3.269567         1999800  55   \n",
       "       S     192945337    3.27   3.24    3.261517         1000000  10   \n",
       "601318 B      52390710   87.13  85.18   86.137305          450000   1   \n",
       "       S      65655803   87.12  85.18   85.971901          500000   9   \n",
       "\n",
       "                           BuyOrderVolume                      \n",
       "                      mean            max  min           mean  \n",
       "Code   Type                                                    \n",
       "000651 B      10115.856865         502800  100    9298.015934  \n",
       "       S      12325.993589         502800  100    5076.457430  \n",
       "601012 B       3529.630934         250000    4    7462.213763  \n",
       "       S       6031.226239         226420    2    2585.271740  \n",
       "601288 B     227582.965702        1000000  100  155431.002317  \n",
       "       S     150060.602507        1000000  100  317755.910772  \n",
       "601318 B       8323.024895         477200  100    8246.233522  \n",
       "       S      28486.316602         477200    4    4329.469648  "
      ]
     },
     "execution_count": 58,
     "metadata": {},
     "output_type": "execute_result"
    }
   ],
   "source": [
    "df_group.agg({'Volume':sum,'Price':[max,min,np.mean],'SaleOrderVolume':[max,min,np.mean],'BuyOrderVolume':[max,min,np.mean]})"
   ]
  },
  {
   "cell_type": "markdown",
   "id": "47c66346-b272-4c5a-ae52-85f98b3430e2",
   "metadata": {},
   "source": [
    "### **16.4 DataFrame有多层索引MultiIndex,怎么筛选数据**"
   ]
  },
  {
   "cell_type": "markdown",
   "id": "c507ff41-3f6a-4acc-a4ac-317382d08448",
   "metadata": {},
   "source": [
    "**[重要知识]** 在选择数据时:"
   ]
  },
  {
   "cell_type": "markdown",
   "id": "e126ddf2-6057-4c47-af5f-5552858f4f2e",
   "metadata": {},
   "source": [
    "- 元组(key1,key2)代表筛选多层索引,key1表示第一级,key2表示第二级\n",
    "- 列表[key1,key2]代表同一层的多个key,其中key1,key2是并列的同级索引"
   ]
  },
  {
   "cell_type": "code",
   "execution_count": 65,
   "id": "f639531a-fe4f-4947-8f0e-5c92175224b2",
   "metadata": {
    "tags": []
   },
   "outputs": [
    {
     "data": {
      "text/plain": [
       "Int64Index([     0,      1,      2,      3,      4,      5,      6,      7,\n",
       "                 8,      9,\n",
       "            ...\n",
       "            196757, 196758, 196759, 196760, 196761, 196762, 196763, 196764,\n",
       "            196765, 196766],\n",
       "           dtype='int64', length=534037)"
      ]
     },
     "execution_count": 65,
     "metadata": {},
     "output_type": "execute_result"
    }
   ],
   "source": [
    "df.index"
   ]
  },
  {
   "cell_type": "code",
   "execution_count": 67,
   "id": "aa32202e-8b3e-4681-9d05-f1acf471bdd5",
   "metadata": {
    "tags": []
   },
   "outputs": [
    {
     "data": {
      "text/html": [
       "<div>\n",
       "<style scoped>\n",
       "    .dataframe tbody tr th:only-of-type {\n",
       "        vertical-align: middle;\n",
       "    }\n",
       "\n",
       "    .dataframe tbody tr th {\n",
       "        vertical-align: top;\n",
       "    }\n",
       "\n",
       "    .dataframe thead th {\n",
       "        text-align: right;\n",
       "    }\n",
       "</style>\n",
       "<table border=\"1\" class=\"dataframe\">\n",
       "  <thead>\n",
       "    <tr style=\"text-align: right;\">\n",
       "      <th></th>\n",
       "      <th>TranID</th>\n",
       "      <th>Time</th>\n",
       "      <th>Price</th>\n",
       "      <th>Volume</th>\n",
       "      <th>SaleOrderVolume</th>\n",
       "      <th>BuyOrderVolume</th>\n",
       "      <th>Type</th>\n",
       "      <th>SaleOrderID</th>\n",
       "      <th>SaleOrderPrice</th>\n",
       "      <th>BuyOrderID</th>\n",
       "      <th>BuyOrderPrice</th>\n",
       "      <th>Code</th>\n",
       "    </tr>\n",
       "  </thead>\n",
       "  <tbody>\n",
       "    <tr>\n",
       "      <th>100</th>\n",
       "      <td>101</td>\n",
       "      <td>09:25:00</td>\n",
       "      <td>59.10</td>\n",
       "      <td>600</td>\n",
       "      <td>600</td>\n",
       "      <td>20300</td>\n",
       "      <td>S</td>\n",
       "      <td>101</td>\n",
       "      <td>53.87</td>\n",
       "      <td>72</td>\n",
       "      <td>62.84</td>\n",
       "      <td>000651</td>\n",
       "    </tr>\n",
       "    <tr>\n",
       "      <th>100</th>\n",
       "      <td>101</td>\n",
       "      <td>09:25:00</td>\n",
       "      <td>100.00</td>\n",
       "      <td>100</td>\n",
       "      <td>6200</td>\n",
       "      <td>100</td>\n",
       "      <td>B</td>\n",
       "      <td>125802</td>\n",
       "      <td>100.00</td>\n",
       "      <td>162441</td>\n",
       "      <td>100.00</td>\n",
       "      <td>601012</td>\n",
       "    </tr>\n",
       "    <tr>\n",
       "      <th>100</th>\n",
       "      <td>101</td>\n",
       "      <td>09:25:00</td>\n",
       "      <td>3.25</td>\n",
       "      <td>300</td>\n",
       "      <td>40000</td>\n",
       "      <td>300</td>\n",
       "      <td>S</td>\n",
       "      <td>197059</td>\n",
       "      <td>3.25</td>\n",
       "      <td>21365</td>\n",
       "      <td>3.25</td>\n",
       "      <td>601288</td>\n",
       "    </tr>\n",
       "    <tr>\n",
       "      <th>100</th>\n",
       "      <td>101</td>\n",
       "      <td>09:25:00</td>\n",
       "      <td>85.80</td>\n",
       "      <td>200</td>\n",
       "      <td>300</td>\n",
       "      <td>2100</td>\n",
       "      <td>B</td>\n",
       "      <td>119980</td>\n",
       "      <td>85.80</td>\n",
       "      <td>183483</td>\n",
       "      <td>85.80</td>\n",
       "      <td>601318</td>\n",
       "    </tr>\n",
       "  </tbody>\n",
       "</table>\n",
       "</div>"
      ],
      "text/plain": [
       "     TranID      Time   Price  Volume  SaleOrderVolume  BuyOrderVolume Type  \\\n",
       "100     101  09:25:00   59.10     600              600           20300    S   \n",
       "100     101  09:25:00  100.00     100             6200             100    B   \n",
       "100     101  09:25:00    3.25     300            40000             300    S   \n",
       "100     101  09:25:00   85.80     200              300            2100    B   \n",
       "\n",
       "    SaleOrderID  SaleOrderPrice BuyOrderID  BuyOrderPrice    Code  \n",
       "100         101           53.87         72          62.84  000651  \n",
       "100      125802          100.00     162441         100.00  601012  \n",
       "100      197059            3.25      21365           3.25  601288  \n",
       "100      119980           85.80     183483          85.80  601318  "
      ]
     },
     "execution_count": 67,
     "metadata": {},
     "output_type": "execute_result"
    }
   ],
   "source": [
    "df.loc[100]"
   ]
  },
  {
   "cell_type": "code",
   "execution_count": 77,
   "id": "5f41ceed-c69f-4216-bb09-8b69083dbc5a",
   "metadata": {
    "tags": []
   },
   "outputs": [
    {
     "name": "stderr",
     "output_type": "stream",
     "text": [
      "/tmp/ipykernel_18428/152763653.py:1: PerformanceWarning: indexing past lexsort depth may impact performance.\n",
      "  df_setindex.loc[('000651','S'),'Price']\n"
     ]
    },
    {
     "data": {
      "text/plain": [
       "Code    Type\n",
       "000651  S       59.1\n",
       "        S       59.1\n",
       "        S       59.1\n",
       "        S       59.1\n",
       "        S       59.1\n",
       "                ... \n",
       "        S       59.0\n",
       "        S       59.0\n",
       "        S       59.0\n",
       "        S       59.0\n",
       "        S       59.0\n",
       "Name: Price, Length: 50071, dtype: float64"
      ]
     },
     "execution_count": 77,
     "metadata": {},
     "output_type": "execute_result"
    }
   ],
   "source": [
    "df_setindex.loc[('000651','S'),'Price']"
   ]
  },
  {
   "cell_type": "markdown",
   "id": "f6a04589-ed57-4c67-889f-fba627a897b5",
   "metadata": {},
   "source": [
    "#### **PerformanceWarning: indexing past lexsort depth may impact performance.问题的原因与解决**\n",
    "#### 原因: 多重索引没有排序,会影响性能\n",
    "#### 解决: 对索引排序"
   ]
  },
  {
   "cell_type": "code",
   "execution_count": 78,
   "id": "c70d00ab-2525-40fa-a6ef-1ea1cfa231aa",
   "metadata": {
    "tags": []
   },
   "outputs": [],
   "source": [
    "df_setindex.sort_index(inplace=True)"
   ]
  },
  {
   "cell_type": "code",
   "execution_count": 85,
   "id": "2f6fc4ba-15cf-4d71-a067-747de0112a5c",
   "metadata": {
    "tags": []
   },
   "outputs": [
    {
     "data": {
      "text/html": [
       "<div>\n",
       "<style scoped>\n",
       "    .dataframe tbody tr th:only-of-type {\n",
       "        vertical-align: middle;\n",
       "    }\n",
       "\n",
       "    .dataframe tbody tr th {\n",
       "        vertical-align: top;\n",
       "    }\n",
       "\n",
       "    .dataframe thead th {\n",
       "        text-align: right;\n",
       "    }\n",
       "</style>\n",
       "<table border=\"1\" class=\"dataframe\">\n",
       "  <thead>\n",
       "    <tr style=\"text-align: right;\">\n",
       "      <th></th>\n",
       "      <th></th>\n",
       "      <th>TranID</th>\n",
       "      <th>Time</th>\n",
       "      <th>Price</th>\n",
       "      <th>Volume</th>\n",
       "      <th>SaleOrderVolume</th>\n",
       "      <th>BuyOrderVolume</th>\n",
       "      <th>SaleOrderID</th>\n",
       "      <th>SaleOrderPrice</th>\n",
       "      <th>BuyOrderID</th>\n",
       "      <th>BuyOrderPrice</th>\n",
       "    </tr>\n",
       "    <tr>\n",
       "      <th>Code</th>\n",
       "      <th>Type</th>\n",
       "      <th></th>\n",
       "      <th></th>\n",
       "      <th></th>\n",
       "      <th></th>\n",
       "      <th></th>\n",
       "      <th></th>\n",
       "      <th></th>\n",
       "      <th></th>\n",
       "      <th></th>\n",
       "      <th></th>\n",
       "    </tr>\n",
       "  </thead>\n",
       "  <tbody>\n",
       "    <tr>\n",
       "      <th rowspan=\"11\" valign=\"top\">000651</th>\n",
       "      <th>B</th>\n",
       "      <td>11</td>\n",
       "      <td>09:25:00</td>\n",
       "      <td>59.1</td>\n",
       "      <td>100</td>\n",
       "      <td>3400</td>\n",
       "      <td>100</td>\n",
       "      <td>8</td>\n",
       "      <td>53.87</td>\n",
       "      <td>11</td>\n",
       "      <td>65.84</td>\n",
       "    </tr>\n",
       "    <tr>\n",
       "      <th>B</th>\n",
       "      <td>12</td>\n",
       "      <td>09:25:00</td>\n",
       "      <td>59.1</td>\n",
       "      <td>100</td>\n",
       "      <td>3400</td>\n",
       "      <td>100</td>\n",
       "      <td>8</td>\n",
       "      <td>53.87</td>\n",
       "      <td>12</td>\n",
       "      <td>65.84</td>\n",
       "    </tr>\n",
       "    <tr>\n",
       "      <th>B</th>\n",
       "      <td>13</td>\n",
       "      <td>09:25:00</td>\n",
       "      <td>59.1</td>\n",
       "      <td>100</td>\n",
       "      <td>3400</td>\n",
       "      <td>100</td>\n",
       "      <td>8</td>\n",
       "      <td>53.87</td>\n",
       "      <td>13</td>\n",
       "      <td>65.84</td>\n",
       "    </tr>\n",
       "    <tr>\n",
       "      <th>B</th>\n",
       "      <td>14</td>\n",
       "      <td>09:25:00</td>\n",
       "      <td>59.1</td>\n",
       "      <td>100</td>\n",
       "      <td>3400</td>\n",
       "      <td>100</td>\n",
       "      <td>8</td>\n",
       "      <td>53.87</td>\n",
       "      <td>14</td>\n",
       "      <td>65.84</td>\n",
       "    </tr>\n",
       "    <tr>\n",
       "      <th>B</th>\n",
       "      <td>15</td>\n",
       "      <td>09:25:00</td>\n",
       "      <td>59.1</td>\n",
       "      <td>100</td>\n",
       "      <td>3400</td>\n",
       "      <td>100</td>\n",
       "      <td>8</td>\n",
       "      <td>53.87</td>\n",
       "      <td>15</td>\n",
       "      <td>65.84</td>\n",
       "    </tr>\n",
       "    <tr>\n",
       "      <th>...</th>\n",
       "      <td>...</td>\n",
       "      <td>...</td>\n",
       "      <td>...</td>\n",
       "      <td>...</td>\n",
       "      <td>...</td>\n",
       "      <td>...</td>\n",
       "      <td>...</td>\n",
       "      <td>...</td>\n",
       "      <td>...</td>\n",
       "      <td>...</td>\n",
       "    </tr>\n",
       "    <tr>\n",
       "      <th>B</th>\n",
       "      <td>101890</td>\n",
       "      <td>15:00:00</td>\n",
       "      <td>59.0</td>\n",
       "      <td>100</td>\n",
       "      <td>17600</td>\n",
       "      <td>100</td>\n",
       "      <td>101871</td>\n",
       "      <td>57.97</td>\n",
       "      <td>101890</td>\n",
       "      <td>59.01</td>\n",
       "    </tr>\n",
       "    <tr>\n",
       "      <th>B</th>\n",
       "      <td>101891</td>\n",
       "      <td>15:00:00</td>\n",
       "      <td>59.0</td>\n",
       "      <td>200</td>\n",
       "      <td>17600</td>\n",
       "      <td>200</td>\n",
       "      <td>101871</td>\n",
       "      <td>57.97</td>\n",
       "      <td>101891</td>\n",
       "      <td>59.01</td>\n",
       "    </tr>\n",
       "    <tr>\n",
       "      <th>B</th>\n",
       "      <td>101892</td>\n",
       "      <td>15:00:00</td>\n",
       "      <td>59.0</td>\n",
       "      <td>100</td>\n",
       "      <td>17600</td>\n",
       "      <td>100</td>\n",
       "      <td>101871</td>\n",
       "      <td>57.97</td>\n",
       "      <td>101892</td>\n",
       "      <td>59.01</td>\n",
       "    </tr>\n",
       "    <tr>\n",
       "      <th>B</th>\n",
       "      <td>101893</td>\n",
       "      <td>15:00:00</td>\n",
       "      <td>59.0</td>\n",
       "      <td>2400</td>\n",
       "      <td>17600</td>\n",
       "      <td>2400</td>\n",
       "      <td>101871</td>\n",
       "      <td>57.97</td>\n",
       "      <td>101893</td>\n",
       "      <td>59.01</td>\n",
       "    </tr>\n",
       "    <tr>\n",
       "      <th>B</th>\n",
       "      <td>101894</td>\n",
       "      <td>15:00:00</td>\n",
       "      <td>59.0</td>\n",
       "      <td>100</td>\n",
       "      <td>17600</td>\n",
       "      <td>100</td>\n",
       "      <td>101871</td>\n",
       "      <td>57.97</td>\n",
       "      <td>101894</td>\n",
       "      <td>59.01</td>\n",
       "    </tr>\n",
       "  </tbody>\n",
       "</table>\n",
       "<p>52468 rows × 10 columns</p>\n",
       "</div>"
      ],
      "text/plain": [
       "             TranID      Time  Price  Volume  SaleOrderVolume  BuyOrderVolume  \\\n",
       "Code   Type                                                                     \n",
       "000651 B         11  09:25:00   59.1     100             3400             100   \n",
       "       B         12  09:25:00   59.1     100             3400             100   \n",
       "       B         13  09:25:00   59.1     100             3400             100   \n",
       "       B         14  09:25:00   59.1     100             3400             100   \n",
       "       B         15  09:25:00   59.1     100             3400             100   \n",
       "...             ...       ...    ...     ...              ...             ...   \n",
       "       B     101890  15:00:00   59.0     100            17600             100   \n",
       "       B     101891  15:00:00   59.0     200            17600             200   \n",
       "       B     101892  15:00:00   59.0     100            17600             100   \n",
       "       B     101893  15:00:00   59.0    2400            17600            2400   \n",
       "       B     101894  15:00:00   59.0     100            17600             100   \n",
       "\n",
       "            SaleOrderID  SaleOrderPrice BuyOrderID  BuyOrderPrice  \n",
       "Code   Type                                                        \n",
       "000651 B              8           53.87         11          65.84  \n",
       "       B              8           53.87         12          65.84  \n",
       "       B              8           53.87         13          65.84  \n",
       "       B              8           53.87         14          65.84  \n",
       "       B              8           53.87         15          65.84  \n",
       "...                 ...             ...        ...            ...  \n",
       "       B         101871           57.97     101890          59.01  \n",
       "       B         101871           57.97     101891          59.01  \n",
       "       B         101871           57.97     101892          59.01  \n",
       "       B         101871           57.97     101893          59.01  \n",
       "       B         101871           57.97     101894          59.01  \n",
       "\n",
       "[52468 rows x 10 columns]"
      ]
     },
     "execution_count": 85,
     "metadata": {},
     "output_type": "execute_result"
    }
   ],
   "source": [
    "#警告错误没有了\n",
    "df_setindex.loc[('000651','B')]"
   ]
  },
  {
   "cell_type": "code",
   "execution_count": 96,
   "id": "60412ee1-aac3-47eb-8cbc-65c47f1a5818",
   "metadata": {
    "tags": []
   },
   "outputs": [
    {
     "data": {
      "text/html": [
       "<div>\n",
       "<style scoped>\n",
       "    .dataframe tbody tr th:only-of-type {\n",
       "        vertical-align: middle;\n",
       "    }\n",
       "\n",
       "    .dataframe tbody tr th {\n",
       "        vertical-align: top;\n",
       "    }\n",
       "\n",
       "    .dataframe thead th {\n",
       "        text-align: right;\n",
       "    }\n",
       "</style>\n",
       "<table border=\"1\" class=\"dataframe\">\n",
       "  <thead>\n",
       "    <tr style=\"text-align: right;\">\n",
       "      <th></th>\n",
       "      <th></th>\n",
       "      <th>Price</th>\n",
       "      <th>Volume</th>\n",
       "    </tr>\n",
       "    <tr>\n",
       "      <th>Code</th>\n",
       "      <th>Type</th>\n",
       "      <th></th>\n",
       "      <th></th>\n",
       "    </tr>\n",
       "  </thead>\n",
       "  <tbody>\n",
       "    <tr>\n",
       "      <th rowspan=\"5\" valign=\"top\">000651</th>\n",
       "      <th>B</th>\n",
       "      <td>59.10</td>\n",
       "      <td>100</td>\n",
       "    </tr>\n",
       "    <tr>\n",
       "      <th>B</th>\n",
       "      <td>59.10</td>\n",
       "      <td>100</td>\n",
       "    </tr>\n",
       "    <tr>\n",
       "      <th>B</th>\n",
       "      <td>59.10</td>\n",
       "      <td>100</td>\n",
       "    </tr>\n",
       "    <tr>\n",
       "      <th>B</th>\n",
       "      <td>59.10</td>\n",
       "      <td>100</td>\n",
       "    </tr>\n",
       "    <tr>\n",
       "      <th>B</th>\n",
       "      <td>59.10</td>\n",
       "      <td>100</td>\n",
       "    </tr>\n",
       "    <tr>\n",
       "      <th>...</th>\n",
       "      <th>...</th>\n",
       "      <td>...</td>\n",
       "      <td>...</td>\n",
       "    </tr>\n",
       "    <tr>\n",
       "      <th rowspan=\"5\" valign=\"top\">601012</th>\n",
       "      <th>S</th>\n",
       "      <td>104.46</td>\n",
       "      <td>100</td>\n",
       "    </tr>\n",
       "    <tr>\n",
       "      <th>S</th>\n",
       "      <td>104.46</td>\n",
       "      <td>100</td>\n",
       "    </tr>\n",
       "    <tr>\n",
       "      <th>S</th>\n",
       "      <td>104.46</td>\n",
       "      <td>58</td>\n",
       "    </tr>\n",
       "    <tr>\n",
       "      <th>S</th>\n",
       "      <td>104.46</td>\n",
       "      <td>100</td>\n",
       "    </tr>\n",
       "    <tr>\n",
       "      <th>S</th>\n",
       "      <td>104.46</td>\n",
       "      <td>100</td>\n",
       "    </tr>\n",
       "  </tbody>\n",
       "</table>\n",
       "<p>305087 rows × 2 columns</p>\n",
       "</div>"
      ],
      "text/plain": [
       "              Price  Volume\n",
       "Code   Type                \n",
       "000651 B      59.10     100\n",
       "       B      59.10     100\n",
       "       B      59.10     100\n",
       "       B      59.10     100\n",
       "       B      59.10     100\n",
       "...             ...     ...\n",
       "601012 S     104.46     100\n",
       "       S     104.46     100\n",
       "       S     104.46      58\n",
       "       S     104.46     100\n",
       "       S     104.46     100\n",
       "\n",
       "[305087 rows x 2 columns]"
      ]
     },
     "execution_count": 96,
     "metadata": {},
     "output_type": "execute_result"
    }
   ],
   "source": [
    "#列表表示同层的多个key\n",
    "df_setindex.loc[['000651','601012'],['Price','Volume']]"
   ]
  },
  {
   "cell_type": "code",
   "execution_count": 97,
   "id": "b50bb563-3110-4b33-b09a-41dc03a9dc91",
   "metadata": {
    "tags": []
   },
   "outputs": [
    {
     "data": {
      "text/html": [
       "<div>\n",
       "<style scoped>\n",
       "    .dataframe tbody tr th:only-of-type {\n",
       "        vertical-align: middle;\n",
       "    }\n",
       "\n",
       "    .dataframe tbody tr th {\n",
       "        vertical-align: top;\n",
       "    }\n",
       "\n",
       "    .dataframe thead th {\n",
       "        text-align: right;\n",
       "    }\n",
       "</style>\n",
       "<table border=\"1\" class=\"dataframe\">\n",
       "  <thead>\n",
       "    <tr style=\"text-align: right;\">\n",
       "      <th></th>\n",
       "      <th></th>\n",
       "      <th>Price</th>\n",
       "      <th>Volume</th>\n",
       "    </tr>\n",
       "    <tr>\n",
       "      <th>Code</th>\n",
       "      <th>Type</th>\n",
       "      <th></th>\n",
       "      <th></th>\n",
       "    </tr>\n",
       "  </thead>\n",
       "  <tbody>\n",
       "    <tr>\n",
       "      <th rowspan=\"5\" valign=\"top\">000651</th>\n",
       "      <th>B</th>\n",
       "      <td>59.10</td>\n",
       "      <td>100</td>\n",
       "    </tr>\n",
       "    <tr>\n",
       "      <th>B</th>\n",
       "      <td>59.10</td>\n",
       "      <td>100</td>\n",
       "    </tr>\n",
       "    <tr>\n",
       "      <th>B</th>\n",
       "      <td>59.10</td>\n",
       "      <td>100</td>\n",
       "    </tr>\n",
       "    <tr>\n",
       "      <th>B</th>\n",
       "      <td>59.10</td>\n",
       "      <td>100</td>\n",
       "    </tr>\n",
       "    <tr>\n",
       "      <th>B</th>\n",
       "      <td>59.10</td>\n",
       "      <td>100</td>\n",
       "    </tr>\n",
       "    <tr>\n",
       "      <th>...</th>\n",
       "      <th>...</th>\n",
       "      <td>...</td>\n",
       "      <td>...</td>\n",
       "    </tr>\n",
       "    <tr>\n",
       "      <th rowspan=\"5\" valign=\"top\">601012</th>\n",
       "      <th>B</th>\n",
       "      <td>104.46</td>\n",
       "      <td>100</td>\n",
       "    </tr>\n",
       "    <tr>\n",
       "      <th>B</th>\n",
       "      <td>104.46</td>\n",
       "      <td>2500</td>\n",
       "    </tr>\n",
       "    <tr>\n",
       "      <th>B</th>\n",
       "      <td>104.46</td>\n",
       "      <td>100</td>\n",
       "    </tr>\n",
       "    <tr>\n",
       "      <th>B</th>\n",
       "      <td>104.46</td>\n",
       "      <td>100</td>\n",
       "    </tr>\n",
       "    <tr>\n",
       "      <th>B</th>\n",
       "      <td>104.46</td>\n",
       "      <td>400</td>\n",
       "    </tr>\n",
       "  </tbody>\n",
       "</table>\n",
       "<p>155325 rows × 2 columns</p>\n",
       "</div>"
      ],
      "text/plain": [
       "              Price  Volume\n",
       "Code   Type                \n",
       "000651 B      59.10     100\n",
       "       B      59.10     100\n",
       "       B      59.10     100\n",
       "       B      59.10     100\n",
       "       B      59.10     100\n",
       "...             ...     ...\n",
       "601012 B     104.46     100\n",
       "       B     104.46    2500\n",
       "       B     104.46     100\n",
       "       B     104.46     100\n",
       "       B     104.46     400\n",
       "\n",
       "[155325 rows x 2 columns]"
      ]
     },
     "execution_count": 97,
     "metadata": {},
     "output_type": "execute_result"
    }
   ],
   "source": [
    "#元组与列表混合使用\n",
    "df_setindex.loc[(['000651','601012'],'B'),['Price','Volume']]"
   ]
  },
  {
   "cell_type": "code",
   "execution_count": 122,
   "id": "26cb7172-6bd0-4a49-b8a8-0504bb97e246",
   "metadata": {
    "tags": []
   },
   "outputs": [
    {
     "data": {
      "text/html": [
       "<div>\n",
       "<style scoped>\n",
       "    .dataframe tbody tr th:only-of-type {\n",
       "        vertical-align: middle;\n",
       "    }\n",
       "\n",
       "    .dataframe tbody tr th {\n",
       "        vertical-align: top;\n",
       "    }\n",
       "\n",
       "    .dataframe thead th {\n",
       "        text-align: right;\n",
       "    }\n",
       "</style>\n",
       "<table border=\"1\" class=\"dataframe\">\n",
       "  <thead>\n",
       "    <tr style=\"text-align: right;\">\n",
       "      <th></th>\n",
       "      <th></th>\n",
       "      <th>TranID</th>\n",
       "      <th>Time</th>\n",
       "      <th>Price</th>\n",
       "      <th>Volume</th>\n",
       "      <th>SaleOrderVolume</th>\n",
       "      <th>BuyOrderVolume</th>\n",
       "      <th>SaleOrderID</th>\n",
       "      <th>SaleOrderPrice</th>\n",
       "      <th>BuyOrderID</th>\n",
       "      <th>BuyOrderPrice</th>\n",
       "    </tr>\n",
       "    <tr>\n",
       "      <th>Code</th>\n",
       "      <th>Type</th>\n",
       "      <th></th>\n",
       "      <th></th>\n",
       "      <th></th>\n",
       "      <th></th>\n",
       "      <th></th>\n",
       "      <th></th>\n",
       "      <th></th>\n",
       "      <th></th>\n",
       "      <th></th>\n",
       "      <th></th>\n",
       "    </tr>\n",
       "  </thead>\n",
       "  <tbody>\n",
       "    <tr>\n",
       "      <th rowspan=\"5\" valign=\"top\">000651</th>\n",
       "      <th>B</th>\n",
       "      <td>11</td>\n",
       "      <td>09:25:00</td>\n",
       "      <td>59.10</td>\n",
       "      <td>100</td>\n",
       "      <td>3400</td>\n",
       "      <td>100</td>\n",
       "      <td>8</td>\n",
       "      <td>53.87</td>\n",
       "      <td>11</td>\n",
       "      <td>65.84</td>\n",
       "    </tr>\n",
       "    <tr>\n",
       "      <th>B</th>\n",
       "      <td>12</td>\n",
       "      <td>09:25:00</td>\n",
       "      <td>59.10</td>\n",
       "      <td>100</td>\n",
       "      <td>3400</td>\n",
       "      <td>100</td>\n",
       "      <td>8</td>\n",
       "      <td>53.87</td>\n",
       "      <td>12</td>\n",
       "      <td>65.84</td>\n",
       "    </tr>\n",
       "    <tr>\n",
       "      <th>B</th>\n",
       "      <td>13</td>\n",
       "      <td>09:25:00</td>\n",
       "      <td>59.10</td>\n",
       "      <td>100</td>\n",
       "      <td>3400</td>\n",
       "      <td>100</td>\n",
       "      <td>8</td>\n",
       "      <td>53.87</td>\n",
       "      <td>13</td>\n",
       "      <td>65.84</td>\n",
       "    </tr>\n",
       "    <tr>\n",
       "      <th>B</th>\n",
       "      <td>14</td>\n",
       "      <td>09:25:00</td>\n",
       "      <td>59.10</td>\n",
       "      <td>100</td>\n",
       "      <td>3400</td>\n",
       "      <td>100</td>\n",
       "      <td>8</td>\n",
       "      <td>53.87</td>\n",
       "      <td>14</td>\n",
       "      <td>65.84</td>\n",
       "    </tr>\n",
       "    <tr>\n",
       "      <th>B</th>\n",
       "      <td>15</td>\n",
       "      <td>09:25:00</td>\n",
       "      <td>59.10</td>\n",
       "      <td>100</td>\n",
       "      <td>3400</td>\n",
       "      <td>100</td>\n",
       "      <td>8</td>\n",
       "      <td>53.87</td>\n",
       "      <td>15</td>\n",
       "      <td>65.84</td>\n",
       "    </tr>\n",
       "    <tr>\n",
       "      <th>...</th>\n",
       "      <th>...</th>\n",
       "      <td>...</td>\n",
       "      <td>...</td>\n",
       "      <td>...</td>\n",
       "      <td>...</td>\n",
       "      <td>...</td>\n",
       "      <td>...</td>\n",
       "      <td>...</td>\n",
       "      <td>...</td>\n",
       "      <td>...</td>\n",
       "      <td>...</td>\n",
       "    </tr>\n",
       "    <tr>\n",
       "      <th rowspan=\"5\" valign=\"top\">601318</th>\n",
       "      <th>B</th>\n",
       "      <td>196681</td>\n",
       "      <td>15:00:00</td>\n",
       "      <td>85.18</td>\n",
       "      <td>200</td>\n",
       "      <td>184958</td>\n",
       "      <td>200</td>\n",
       "      <td>8493946</td>\n",
       "      <td>85.18</td>\n",
       "      <td>8494895</td>\n",
       "      <td>85.18</td>\n",
       "    </tr>\n",
       "    <tr>\n",
       "      <th>B</th>\n",
       "      <td>196682</td>\n",
       "      <td>15:00:00</td>\n",
       "      <td>85.18</td>\n",
       "      <td>300</td>\n",
       "      <td>184958</td>\n",
       "      <td>300</td>\n",
       "      <td>8493946</td>\n",
       "      <td>85.18</td>\n",
       "      <td>8496712</td>\n",
       "      <td>85.18</td>\n",
       "    </tr>\n",
       "    <tr>\n",
       "      <th>B</th>\n",
       "      <td>196683</td>\n",
       "      <td>15:00:00</td>\n",
       "      <td>85.18</td>\n",
       "      <td>500</td>\n",
       "      <td>184958</td>\n",
       "      <td>500</td>\n",
       "      <td>8493946</td>\n",
       "      <td>85.18</td>\n",
       "      <td>8497902</td>\n",
       "      <td>85.18</td>\n",
       "    </tr>\n",
       "    <tr>\n",
       "      <th>B</th>\n",
       "      <td>196766</td>\n",
       "      <td>15:00:00</td>\n",
       "      <td>85.18</td>\n",
       "      <td>1000</td>\n",
       "      <td>262500</td>\n",
       "      <td>1000</td>\n",
       "      <td>8493946</td>\n",
       "      <td>85.18</td>\n",
       "      <td>8498955</td>\n",
       "      <td>85.18</td>\n",
       "    </tr>\n",
       "    <tr>\n",
       "      <th>B</th>\n",
       "      <td>196766</td>\n",
       "      <td>15:00:00</td>\n",
       "      <td>85.18</td>\n",
       "      <td>1000</td>\n",
       "      <td>262500</td>\n",
       "      <td>1000</td>\n",
       "      <td>8493946</td>\n",
       "      <td>85.18</td>\n",
       "      <td>8498955</td>\n",
       "      <td>85.18</td>\n",
       "    </tr>\n",
       "  </tbody>\n",
       "</table>\n",
       "<p>262392 rows × 10 columns</p>\n",
       "</div>"
      ],
      "text/plain": [
       "             TranID      Time  Price  Volume  SaleOrderVolume  BuyOrderVolume  \\\n",
       "Code   Type                                                                     \n",
       "000651 B         11  09:25:00  59.10     100             3400             100   \n",
       "       B         12  09:25:00  59.10     100             3400             100   \n",
       "       B         13  09:25:00  59.10     100             3400             100   \n",
       "       B         14  09:25:00  59.10     100             3400             100   \n",
       "       B         15  09:25:00  59.10     100             3400             100   \n",
       "...             ...       ...    ...     ...              ...             ...   \n",
       "601318 B     196681  15:00:00  85.18     200           184958             200   \n",
       "       B     196682  15:00:00  85.18     300           184958             300   \n",
       "       B     196683  15:00:00  85.18     500           184958             500   \n",
       "       B     196766  15:00:00  85.18    1000           262500            1000   \n",
       "       B     196766  15:00:00  85.18    1000           262500            1000   \n",
       "\n",
       "            SaleOrderID  SaleOrderPrice BuyOrderID  BuyOrderPrice  \n",
       "Code   Type                                                        \n",
       "000651 B              8           53.87         11          65.84  \n",
       "       B              8           53.87         12          65.84  \n",
       "       B              8           53.87         13          65.84  \n",
       "       B              8           53.87         14          65.84  \n",
       "       B              8           53.87         15          65.84  \n",
       "...                 ...             ...        ...            ...  \n",
       "601318 B        8493946           85.18    8494895          85.18  \n",
       "       B        8493946           85.18    8496712          85.18  \n",
       "       B        8493946           85.18    8497902          85.18  \n",
       "       B        8493946           85.18    8498955          85.18  \n",
       "       B        8493946           85.18    8498955          85.18  \n",
       "\n",
       "[262392 rows x 10 columns]"
      ]
     },
     "execution_count": 122,
     "metadata": {},
     "output_type": "execute_result"
    }
   ],
   "source": [
    "#slice(None)代表筛选这一索引的所有内容\n",
    "df_setindex.loc[(slice(None),'B'),:]"
   ]
  },
  {
   "cell_type": "code",
   "execution_count": 123,
   "id": "403604e4-0e16-48ca-9303-3cc9fe7c93dd",
   "metadata": {
    "tags": []
   },
   "outputs": [
    {
     "data": {
      "text/html": [
       "<div>\n",
       "<style scoped>\n",
       "    .dataframe tbody tr th:only-of-type {\n",
       "        vertical-align: middle;\n",
       "    }\n",
       "\n",
       "    .dataframe tbody tr th {\n",
       "        vertical-align: top;\n",
       "    }\n",
       "\n",
       "    .dataframe thead th {\n",
       "        text-align: right;\n",
       "    }\n",
       "</style>\n",
       "<table border=\"1\" class=\"dataframe\">\n",
       "  <thead>\n",
       "    <tr style=\"text-align: right;\">\n",
       "      <th></th>\n",
       "      <th>Code</th>\n",
       "      <th>Type</th>\n",
       "      <th>TranID</th>\n",
       "      <th>Time</th>\n",
       "      <th>Price</th>\n",
       "      <th>Volume</th>\n",
       "      <th>SaleOrderVolume</th>\n",
       "      <th>BuyOrderVolume</th>\n",
       "      <th>SaleOrderID</th>\n",
       "      <th>SaleOrderPrice</th>\n",
       "      <th>BuyOrderID</th>\n",
       "      <th>BuyOrderPrice</th>\n",
       "    </tr>\n",
       "  </thead>\n",
       "  <tbody>\n",
       "    <tr>\n",
       "      <th>0</th>\n",
       "      <td>000651</td>\n",
       "      <td>B</td>\n",
       "      <td>11</td>\n",
       "      <td>09:25:00</td>\n",
       "      <td>59.10</td>\n",
       "      <td>100</td>\n",
       "      <td>3400</td>\n",
       "      <td>100</td>\n",
       "      <td>8</td>\n",
       "      <td>53.87</td>\n",
       "      <td>11</td>\n",
       "      <td>65.84</td>\n",
       "    </tr>\n",
       "    <tr>\n",
       "      <th>1</th>\n",
       "      <td>000651</td>\n",
       "      <td>B</td>\n",
       "      <td>12</td>\n",
       "      <td>09:25:00</td>\n",
       "      <td>59.10</td>\n",
       "      <td>100</td>\n",
       "      <td>3400</td>\n",
       "      <td>100</td>\n",
       "      <td>8</td>\n",
       "      <td>53.87</td>\n",
       "      <td>12</td>\n",
       "      <td>65.84</td>\n",
       "    </tr>\n",
       "    <tr>\n",
       "      <th>2</th>\n",
       "      <td>000651</td>\n",
       "      <td>B</td>\n",
       "      <td>13</td>\n",
       "      <td>09:25:00</td>\n",
       "      <td>59.10</td>\n",
       "      <td>100</td>\n",
       "      <td>3400</td>\n",
       "      <td>100</td>\n",
       "      <td>8</td>\n",
       "      <td>53.87</td>\n",
       "      <td>13</td>\n",
       "      <td>65.84</td>\n",
       "    </tr>\n",
       "    <tr>\n",
       "      <th>3</th>\n",
       "      <td>000651</td>\n",
       "      <td>B</td>\n",
       "      <td>14</td>\n",
       "      <td>09:25:00</td>\n",
       "      <td>59.10</td>\n",
       "      <td>100</td>\n",
       "      <td>3400</td>\n",
       "      <td>100</td>\n",
       "      <td>8</td>\n",
       "      <td>53.87</td>\n",
       "      <td>14</td>\n",
       "      <td>65.84</td>\n",
       "    </tr>\n",
       "    <tr>\n",
       "      <th>4</th>\n",
       "      <td>000651</td>\n",
       "      <td>B</td>\n",
       "      <td>15</td>\n",
       "      <td>09:25:00</td>\n",
       "      <td>59.10</td>\n",
       "      <td>100</td>\n",
       "      <td>3400</td>\n",
       "      <td>100</td>\n",
       "      <td>8</td>\n",
       "      <td>53.87</td>\n",
       "      <td>15</td>\n",
       "      <td>65.84</td>\n",
       "    </tr>\n",
       "    <tr>\n",
       "      <th>...</th>\n",
       "      <td>...</td>\n",
       "      <td>...</td>\n",
       "      <td>...</td>\n",
       "      <td>...</td>\n",
       "      <td>...</td>\n",
       "      <td>...</td>\n",
       "      <td>...</td>\n",
       "      <td>...</td>\n",
       "      <td>...</td>\n",
       "      <td>...</td>\n",
       "      <td>...</td>\n",
       "      <td>...</td>\n",
       "    </tr>\n",
       "    <tr>\n",
       "      <th>534032</th>\n",
       "      <td>601318</td>\n",
       "      <td>S</td>\n",
       "      <td>196761</td>\n",
       "      <td>15:00:00</td>\n",
       "      <td>85.18</td>\n",
       "      <td>500</td>\n",
       "      <td>243258</td>\n",
       "      <td>500</td>\n",
       "      <td>8493946</td>\n",
       "      <td>85.18</td>\n",
       "      <td>8454911</td>\n",
       "      <td>85.18</td>\n",
       "    </tr>\n",
       "    <tr>\n",
       "      <th>534033</th>\n",
       "      <td>601318</td>\n",
       "      <td>S</td>\n",
       "      <td>196762</td>\n",
       "      <td>15:00:00</td>\n",
       "      <td>85.18</td>\n",
       "      <td>500</td>\n",
       "      <td>243258</td>\n",
       "      <td>500</td>\n",
       "      <td>8493946</td>\n",
       "      <td>85.18</td>\n",
       "      <td>8457781</td>\n",
       "      <td>85.18</td>\n",
       "    </tr>\n",
       "    <tr>\n",
       "      <th>534034</th>\n",
       "      <td>601318</td>\n",
       "      <td>S</td>\n",
       "      <td>196763</td>\n",
       "      <td>15:00:00</td>\n",
       "      <td>85.18</td>\n",
       "      <td>100</td>\n",
       "      <td>243258</td>\n",
       "      <td>100</td>\n",
       "      <td>8493946</td>\n",
       "      <td>85.18</td>\n",
       "      <td>8461234</td>\n",
       "      <td>85.18</td>\n",
       "    </tr>\n",
       "    <tr>\n",
       "      <th>534035</th>\n",
       "      <td>601318</td>\n",
       "      <td>S</td>\n",
       "      <td>196764</td>\n",
       "      <td>15:00:00</td>\n",
       "      <td>85.18</td>\n",
       "      <td>100</td>\n",
       "      <td>243258</td>\n",
       "      <td>100</td>\n",
       "      <td>8493946</td>\n",
       "      <td>85.18</td>\n",
       "      <td>8474391</td>\n",
       "      <td>85.18</td>\n",
       "    </tr>\n",
       "    <tr>\n",
       "      <th>534036</th>\n",
       "      <td>601318</td>\n",
       "      <td>S</td>\n",
       "      <td>196765</td>\n",
       "      <td>15:00:00</td>\n",
       "      <td>85.18</td>\n",
       "      <td>25500</td>\n",
       "      <td>243258</td>\n",
       "      <td>25500</td>\n",
       "      <td>8493946</td>\n",
       "      <td>85.18</td>\n",
       "      <td>8492769</td>\n",
       "      <td>85.18</td>\n",
       "    </tr>\n",
       "  </tbody>\n",
       "</table>\n",
       "<p>534037 rows × 12 columns</p>\n",
       "</div>"
      ],
      "text/plain": [
       "          Code Type  TranID      Time  Price  Volume  SaleOrderVolume  \\\n",
       "0       000651    B      11  09:25:00  59.10     100             3400   \n",
       "1       000651    B      12  09:25:00  59.10     100             3400   \n",
       "2       000651    B      13  09:25:00  59.10     100             3400   \n",
       "3       000651    B      14  09:25:00  59.10     100             3400   \n",
       "4       000651    B      15  09:25:00  59.10     100             3400   \n",
       "...        ...  ...     ...       ...    ...     ...              ...   \n",
       "534032  601318    S  196761  15:00:00  85.18     500           243258   \n",
       "534033  601318    S  196762  15:00:00  85.18     500           243258   \n",
       "534034  601318    S  196763  15:00:00  85.18     100           243258   \n",
       "534035  601318    S  196764  15:00:00  85.18     100           243258   \n",
       "534036  601318    S  196765  15:00:00  85.18   25500           243258   \n",
       "\n",
       "        BuyOrderVolume SaleOrderID  SaleOrderPrice BuyOrderID  BuyOrderPrice  \n",
       "0                  100           8           53.87         11          65.84  \n",
       "1                  100           8           53.87         12          65.84  \n",
       "2                  100           8           53.87         13          65.84  \n",
       "3                  100           8           53.87         14          65.84  \n",
       "4                  100           8           53.87         15          65.84  \n",
       "...                ...         ...             ...        ...            ...  \n",
       "534032             500     8493946           85.18    8454911          85.18  \n",
       "534033             500     8493946           85.18    8457781          85.18  \n",
       "534034             100     8493946           85.18    8461234          85.18  \n",
       "534035             100     8493946           85.18    8474391          85.18  \n",
       "534036           25500     8493946           85.18    8492769          85.18  \n",
       "\n",
       "[534037 rows x 12 columns]"
      ]
     },
     "execution_count": 123,
     "metadata": {},
     "output_type": "execute_result"
    }
   ],
   "source": [
    "df_setindex.reset_index()"
   ]
  },
  {
   "cell_type": "code",
   "execution_count": null,
   "id": "cef9f93d-250d-48ff-8244-851d4ebb4dee",
   "metadata": {},
   "outputs": [],
   "source": []
  }
 ],
 "metadata": {
  "kernelspec": {
   "display_name": "Python 3 (ipykernel)",
   "language": "python",
   "name": "python3"
  },
  "language_info": {
   "codemirror_mode": {
    "name": "ipython",
    "version": 3
   },
   "file_extension": ".py",
   "mimetype": "text/x-python",
   "name": "python",
   "nbconvert_exporter": "python",
   "pygments_lexer": "ipython3",
   "version": "3.9.9"
  }
 },
 "nbformat": 4,
 "nbformat_minor": 5
}
