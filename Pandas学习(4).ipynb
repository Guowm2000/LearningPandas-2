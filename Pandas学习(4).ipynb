{
 "cells": [
  {
   "cell_type": "markdown",
   "id": "8dcb380e-0cf3-44e9-9516-77a004ec4103",
   "metadata": {},
   "source": [
    "## **15. Pandas怎样实现 group by 分组数据统计**  "
   ]
  },
  {
   "cell_type": "markdown",
   "id": "951f6bf7-898f-4e05-ad9b-100e40ed20cb",
   "metadata": {},
   "source": [
    "### group by 先对数据分组，然后在各个分组上应用聚合函数、转换函数。与SQL Select 中的 group by 子句类似"
   ]
  },
  {
   "cell_type": "markdown",
   "id": "6f9643ad-c426-4449-831e-83bd4dfe193e",
   "metadata": {},
   "source": [
    "**本章重要内容：**\n",
    "\n",
    "1. 分组使用聚合函数做数据统计\n",
    "2. 遍历 group by 结果，理解执行流程\n",
    "3. 实例分组，探索数据"
   ]
  },
  {
   "cell_type": "code",
   "execution_count": 1,
   "id": "0d313e0c-27d4-40fe-a0ec-ab9af1bc79ca",
   "metadata": {
    "tags": []
   },
   "outputs": [],
   "source": [
    "import pandas as pd\n",
    "import numpy as np"
   ]
  },
  {
   "cell_type": "code",
   "execution_count": 3,
   "id": "49efcbc6-e95b-423b-9b60-f3926f98a417",
   "metadata": {
    "tags": []
   },
   "outputs": [],
   "source": [
    "#以下语句使得jupyter notebook能够展示matplot图标\n",
    "%matplotlib inline"
   ]
  },
  {
   "cell_type": "code",
   "execution_count": 4,
   "id": "544c149a-23b9-4288-af49-ccf1c0455264",
   "metadata": {
    "tags": []
   },
   "outputs": [],
   "source": [
    "df=pd.DataFrame({\n",
    "        'A':['foo','bar','foo','bar','foo','bar','foo','foo'],\n",
    "        'B':['one','one','two','three','two','two','one','three'],\n",
    "        'C':np.random.randn(8),\n",
    "        'D':np.random.randn(8)\n",
    "})"
   ]
  },
  {
   "cell_type": "code",
   "execution_count": 5,
   "id": "981d1dd1-d7c9-4cf5-bab7-415d7fcf18b0",
   "metadata": {
    "tags": []
   },
   "outputs": [
    {
     "data": {
      "text/html": [
       "<div>\n",
       "<style scoped>\n",
       "    .dataframe tbody tr th:only-of-type {\n",
       "        vertical-align: middle;\n",
       "    }\n",
       "\n",
       "    .dataframe tbody tr th {\n",
       "        vertical-align: top;\n",
       "    }\n",
       "\n",
       "    .dataframe thead th {\n",
       "        text-align: right;\n",
       "    }\n",
       "</style>\n",
       "<table border=\"1\" class=\"dataframe\">\n",
       "  <thead>\n",
       "    <tr style=\"text-align: right;\">\n",
       "      <th></th>\n",
       "      <th>A</th>\n",
       "      <th>B</th>\n",
       "      <th>C</th>\n",
       "      <th>D</th>\n",
       "    </tr>\n",
       "  </thead>\n",
       "  <tbody>\n",
       "    <tr>\n",
       "      <th>0</th>\n",
       "      <td>foo</td>\n",
       "      <td>one</td>\n",
       "      <td>1.740608</td>\n",
       "      <td>-0.385986</td>\n",
       "    </tr>\n",
       "    <tr>\n",
       "      <th>1</th>\n",
       "      <td>bar</td>\n",
       "      <td>one</td>\n",
       "      <td>-0.367570</td>\n",
       "      <td>0.225512</td>\n",
       "    </tr>\n",
       "    <tr>\n",
       "      <th>2</th>\n",
       "      <td>foo</td>\n",
       "      <td>two</td>\n",
       "      <td>0.460869</td>\n",
       "      <td>-0.473574</td>\n",
       "    </tr>\n",
       "    <tr>\n",
       "      <th>3</th>\n",
       "      <td>bar</td>\n",
       "      <td>three</td>\n",
       "      <td>-0.270861</td>\n",
       "      <td>0.103749</td>\n",
       "    </tr>\n",
       "    <tr>\n",
       "      <th>4</th>\n",
       "      <td>foo</td>\n",
       "      <td>two</td>\n",
       "      <td>-1.012540</td>\n",
       "      <td>0.544438</td>\n",
       "    </tr>\n",
       "    <tr>\n",
       "      <th>5</th>\n",
       "      <td>bar</td>\n",
       "      <td>two</td>\n",
       "      <td>0.983596</td>\n",
       "      <td>0.885655</td>\n",
       "    </tr>\n",
       "    <tr>\n",
       "      <th>6</th>\n",
       "      <td>foo</td>\n",
       "      <td>one</td>\n",
       "      <td>-0.070675</td>\n",
       "      <td>-1.304106</td>\n",
       "    </tr>\n",
       "    <tr>\n",
       "      <th>7</th>\n",
       "      <td>foo</td>\n",
       "      <td>three</td>\n",
       "      <td>-0.162457</td>\n",
       "      <td>0.227928</td>\n",
       "    </tr>\n",
       "  </tbody>\n",
       "</table>\n",
       "</div>"
      ],
      "text/plain": [
       "     A      B         C         D\n",
       "0  foo    one  1.740608 -0.385986\n",
       "1  bar    one -0.367570  0.225512\n",
       "2  foo    two  0.460869 -0.473574\n",
       "3  bar  three -0.270861  0.103749\n",
       "4  foo    two -1.012540  0.544438\n",
       "5  bar    two  0.983596  0.885655\n",
       "6  foo    one -0.070675 -1.304106\n",
       "7  foo  three -0.162457  0.227928"
      ]
     },
     "execution_count": 5,
     "metadata": {},
     "output_type": "execute_result"
    }
   ],
   "source": [
    "df"
   ]
  },
  {
   "cell_type": "markdown",
   "id": "2370501f-11c9-4b28-a5b0-9f200538892c",
   "metadata": {},
   "source": [
    "### **15.1 分组使用聚合函数进行数据统计**"
   ]
  },
  {
   "cell_type": "markdown",
   "id": "e0a70d52-2cb4-45b5-8506-f14898608fd3",
   "metadata": {},
   "source": [
    "#### **15.1.1 单个列group by，对所有数据列进行聚合**"
   ]
  },
  {
   "cell_type": "code",
   "execution_count": 7,
   "id": "90e9f0be-bb0b-4298-b149-ff3b01ddf905",
   "metadata": {
    "tags": []
   },
   "outputs": [
    {
     "name": "stderr",
     "output_type": "stream",
     "text": [
      "/tmp/ipykernel_23015/1885751491.py:1: FutureWarning: The default value of numeric_only in DataFrameGroupBy.sum is deprecated. In a future version, numeric_only will default to False. Either specify numeric_only or select only columns which should be valid for the function.\n",
      "  df.groupby('A').sum()\n"
     ]
    },
    {
     "data": {
      "text/html": [
       "<div>\n",
       "<style scoped>\n",
       "    .dataframe tbody tr th:only-of-type {\n",
       "        vertical-align: middle;\n",
       "    }\n",
       "\n",
       "    .dataframe tbody tr th {\n",
       "        vertical-align: top;\n",
       "    }\n",
       "\n",
       "    .dataframe thead th {\n",
       "        text-align: right;\n",
       "    }\n",
       "</style>\n",
       "<table border=\"1\" class=\"dataframe\">\n",
       "  <thead>\n",
       "    <tr style=\"text-align: right;\">\n",
       "      <th></th>\n",
       "      <th>C</th>\n",
       "      <th>D</th>\n",
       "    </tr>\n",
       "    <tr>\n",
       "      <th>A</th>\n",
       "      <th></th>\n",
       "      <th></th>\n",
       "    </tr>\n",
       "  </thead>\n",
       "  <tbody>\n",
       "    <tr>\n",
       "      <th>bar</th>\n",
       "      <td>0.345165</td>\n",
       "      <td>1.214916</td>\n",
       "    </tr>\n",
       "    <tr>\n",
       "      <th>foo</th>\n",
       "      <td>0.955805</td>\n",
       "      <td>-1.391300</td>\n",
       "    </tr>\n",
       "  </tbody>\n",
       "</table>\n",
       "</div>"
      ],
      "text/plain": [
       "            C         D\n",
       "A                      \n",
       "bar  0.345165  1.214916\n",
       "foo  0.955805 -1.391300"
      ]
     },
     "execution_count": 7,
     "metadata": {},
     "output_type": "execute_result"
    }
   ],
   "source": [
    "df.groupby('A').sum()"
   ]
  },
  {
   "cell_type": "code",
   "execution_count": 13,
   "id": "2c5dac4e-3995-4b6d-880d-f30e87e8b5f3",
   "metadata": {
    "tags": []
   },
   "outputs": [
    {
     "data": {
      "text/html": [
       "<div>\n",
       "<style scoped>\n",
       "    .dataframe tbody tr th:only-of-type {\n",
       "        vertical-align: middle;\n",
       "    }\n",
       "\n",
       "    .dataframe tbody tr th {\n",
       "        vertical-align: top;\n",
       "    }\n",
       "\n",
       "    .dataframe thead th {\n",
       "        text-align: right;\n",
       "    }\n",
       "</style>\n",
       "<table border=\"1\" class=\"dataframe\">\n",
       "  <thead>\n",
       "    <tr style=\"text-align: right;\">\n",
       "      <th></th>\n",
       "      <th>C</th>\n",
       "      <th>D</th>\n",
       "    </tr>\n",
       "    <tr>\n",
       "      <th>A</th>\n",
       "      <th></th>\n",
       "      <th></th>\n",
       "    </tr>\n",
       "  </thead>\n",
       "  <tbody>\n",
       "    <tr>\n",
       "      <th>bar</th>\n",
       "      <td>0.345165</td>\n",
       "      <td>1.214916</td>\n",
       "    </tr>\n",
       "    <tr>\n",
       "      <th>foo</th>\n",
       "      <td>0.955805</td>\n",
       "      <td>-1.391300</td>\n",
       "    </tr>\n",
       "  </tbody>\n",
       "</table>\n",
       "</div>"
      ],
      "text/plain": [
       "            C         D\n",
       "A                      \n",
       "bar  0.345165  1.214916\n",
       "foo  0.955805 -1.391300"
      ]
     },
     "execution_count": 13,
     "metadata": {},
     "output_type": "execute_result"
    }
   ],
   "source": [
    "df.groupby('A').sum(numeric_only=True)"
   ]
  },
  {
   "cell_type": "markdown",
   "id": "10200925-98ae-4351-b63a-3992680129e4",
   "metadata": {},
   "source": [
    "从以上可以看到：  \n",
    "\n",
    "1. 分组列A在结果集中变成了索引列\n",
    "2. 由于B列不是数字列，自动被忽略了\n",
    "3. 不设置numeric_only参数时会出现警告信息。"
   ]
  },
  {
   "cell_type": "markdown",
   "id": "f8c34acc-03d5-42a3-ba97-1f323e95a42c",
   "metadata": {},
   "source": [
    "#### **15.1.2 多个列group by，对所有数据列进行聚合**"
   ]
  },
  {
   "cell_type": "code",
   "execution_count": 15,
   "id": "34f8e0d3-12dd-45fc-b96b-8fcb5b2664c8",
   "metadata": {
    "tags": []
   },
   "outputs": [
    {
     "data": {
      "text/html": [
       "<div>\n",
       "<style scoped>\n",
       "    .dataframe tbody tr th:only-of-type {\n",
       "        vertical-align: middle;\n",
       "    }\n",
       "\n",
       "    .dataframe tbody tr th {\n",
       "        vertical-align: top;\n",
       "    }\n",
       "\n",
       "    .dataframe thead th {\n",
       "        text-align: right;\n",
       "    }\n",
       "</style>\n",
       "<table border=\"1\" class=\"dataframe\">\n",
       "  <thead>\n",
       "    <tr style=\"text-align: right;\">\n",
       "      <th></th>\n",
       "      <th></th>\n",
       "      <th>C</th>\n",
       "      <th>D</th>\n",
       "    </tr>\n",
       "    <tr>\n",
       "      <th>A</th>\n",
       "      <th>B</th>\n",
       "      <th></th>\n",
       "      <th></th>\n",
       "    </tr>\n",
       "  </thead>\n",
       "  <tbody>\n",
       "    <tr>\n",
       "      <th rowspan=\"3\" valign=\"top\">bar</th>\n",
       "      <th>one</th>\n",
       "      <td>-0.367570</td>\n",
       "      <td>0.225512</td>\n",
       "    </tr>\n",
       "    <tr>\n",
       "      <th>three</th>\n",
       "      <td>-0.270861</td>\n",
       "      <td>0.103749</td>\n",
       "    </tr>\n",
       "    <tr>\n",
       "      <th>two</th>\n",
       "      <td>0.983596</td>\n",
       "      <td>0.885655</td>\n",
       "    </tr>\n",
       "    <tr>\n",
       "      <th rowspan=\"3\" valign=\"top\">foo</th>\n",
       "      <th>one</th>\n",
       "      <td>0.834967</td>\n",
       "      <td>-0.845046</td>\n",
       "    </tr>\n",
       "    <tr>\n",
       "      <th>three</th>\n",
       "      <td>-0.162457</td>\n",
       "      <td>0.227928</td>\n",
       "    </tr>\n",
       "    <tr>\n",
       "      <th>two</th>\n",
       "      <td>-0.275836</td>\n",
       "      <td>0.035432</td>\n",
       "    </tr>\n",
       "  </tbody>\n",
       "</table>\n",
       "</div>"
      ],
      "text/plain": [
       "                  C         D\n",
       "A   B                        \n",
       "bar one   -0.367570  0.225512\n",
       "    three -0.270861  0.103749\n",
       "    two    0.983596  0.885655\n",
       "foo one    0.834967 -0.845046\n",
       "    three -0.162457  0.227928\n",
       "    two   -0.275836  0.035432"
      ]
     },
     "execution_count": 15,
     "metadata": {},
     "output_type": "execute_result"
    }
   ],
   "source": [
    "df.groupby(['A','B']).mean()"
   ]
  },
  {
   "cell_type": "markdown",
   "id": "e7525dd3-bb9f-4349-8ae3-ed63ea8ffb85",
   "metadata": {},
   "source": [
    "**注意结果集中的组合索引（二级索引）**"
   ]
  },
  {
   "cell_type": "code",
   "execution_count": 17,
   "id": "01c7d14b-ddcc-4a01-8b41-dc3e2e62dd1b",
   "metadata": {
    "tags": []
   },
   "outputs": [
    {
     "data": {
      "text/html": [
       "<div>\n",
       "<style scoped>\n",
       "    .dataframe tbody tr th:only-of-type {\n",
       "        vertical-align: middle;\n",
       "    }\n",
       "\n",
       "    .dataframe tbody tr th {\n",
       "        vertical-align: top;\n",
       "    }\n",
       "\n",
       "    .dataframe thead th {\n",
       "        text-align: right;\n",
       "    }\n",
       "</style>\n",
       "<table border=\"1\" class=\"dataframe\">\n",
       "  <thead>\n",
       "    <tr style=\"text-align: right;\">\n",
       "      <th></th>\n",
       "      <th>A</th>\n",
       "      <th>B</th>\n",
       "      <th>C</th>\n",
       "      <th>D</th>\n",
       "    </tr>\n",
       "  </thead>\n",
       "  <tbody>\n",
       "    <tr>\n",
       "      <th>0</th>\n",
       "      <td>bar</td>\n",
       "      <td>one</td>\n",
       "      <td>-0.367570</td>\n",
       "      <td>0.225512</td>\n",
       "    </tr>\n",
       "    <tr>\n",
       "      <th>1</th>\n",
       "      <td>bar</td>\n",
       "      <td>three</td>\n",
       "      <td>-0.270861</td>\n",
       "      <td>0.103749</td>\n",
       "    </tr>\n",
       "    <tr>\n",
       "      <th>2</th>\n",
       "      <td>bar</td>\n",
       "      <td>two</td>\n",
       "      <td>0.983596</td>\n",
       "      <td>0.885655</td>\n",
       "    </tr>\n",
       "    <tr>\n",
       "      <th>3</th>\n",
       "      <td>foo</td>\n",
       "      <td>one</td>\n",
       "      <td>0.834967</td>\n",
       "      <td>-0.845046</td>\n",
       "    </tr>\n",
       "    <tr>\n",
       "      <th>4</th>\n",
       "      <td>foo</td>\n",
       "      <td>three</td>\n",
       "      <td>-0.162457</td>\n",
       "      <td>0.227928</td>\n",
       "    </tr>\n",
       "    <tr>\n",
       "      <th>5</th>\n",
       "      <td>foo</td>\n",
       "      <td>two</td>\n",
       "      <td>-0.275836</td>\n",
       "      <td>0.035432</td>\n",
       "    </tr>\n",
       "  </tbody>\n",
       "</table>\n",
       "</div>"
      ],
      "text/plain": [
       "     A      B         C         D\n",
       "0  bar    one -0.367570  0.225512\n",
       "1  bar  three -0.270861  0.103749\n",
       "2  bar    two  0.983596  0.885655\n",
       "3  foo    one  0.834967 -0.845046\n",
       "4  foo  three -0.162457  0.227928\n",
       "5  foo    two -0.275836  0.035432"
      ]
     },
     "execution_count": 17,
     "metadata": {},
     "output_type": "execute_result"
    }
   ],
   "source": [
    "df.groupby(['A','B'],as_index=False).mean()"
   ]
  },
  {
   "cell_type": "markdown",
   "id": "362b6e43-e807-4774-ba24-cc3f94a2ade1",
   "metadata": {},
   "source": [
    "**注意结果集中的索引，与as_index=True时不同。列‘A'和列‘B’没有成为索引**"
   ]
  },
  {
   "cell_type": "markdown",
   "id": "c10d7ac1-742f-4939-a166-a5a8883b00b7",
   "metadata": {},
   "source": [
    "#### **15.1.3 同时查看多种数据统计**"
   ]
  },
  {
   "cell_type": "code",
   "execution_count": 19,
   "id": "15573cbb-3e51-4c4a-a186-afc477cc4d5e",
   "metadata": {
    "tags": []
   },
   "outputs": [
    {
     "name": "stderr",
     "output_type": "stream",
     "text": [
      "/tmp/ipykernel_23015/692273180.py:1: FutureWarning: ['B'] did not aggregate successfully. If any error is raised this will raise in a future version of pandas. Drop these columns/ops to avoid this warning.\n",
      "  df.groupby('A').agg([np.sum,np.mean,np.std])\n"
     ]
    },
    {
     "data": {
      "text/html": [
       "<div>\n",
       "<style scoped>\n",
       "    .dataframe tbody tr th:only-of-type {\n",
       "        vertical-align: middle;\n",
       "    }\n",
       "\n",
       "    .dataframe tbody tr th {\n",
       "        vertical-align: top;\n",
       "    }\n",
       "\n",
       "    .dataframe thead tr th {\n",
       "        text-align: left;\n",
       "    }\n",
       "\n",
       "    .dataframe thead tr:last-of-type th {\n",
       "        text-align: right;\n",
       "    }\n",
       "</style>\n",
       "<table border=\"1\" class=\"dataframe\">\n",
       "  <thead>\n",
       "    <tr>\n",
       "      <th></th>\n",
       "      <th colspan=\"3\" halign=\"left\">C</th>\n",
       "      <th colspan=\"3\" halign=\"left\">D</th>\n",
       "    </tr>\n",
       "    <tr>\n",
       "      <th></th>\n",
       "      <th>sum</th>\n",
       "      <th>mean</th>\n",
       "      <th>std</th>\n",
       "      <th>sum</th>\n",
       "      <th>mean</th>\n",
       "      <th>std</th>\n",
       "    </tr>\n",
       "    <tr>\n",
       "      <th>A</th>\n",
       "      <th></th>\n",
       "      <th></th>\n",
       "      <th></th>\n",
       "      <th></th>\n",
       "      <th></th>\n",
       "      <th></th>\n",
       "    </tr>\n",
       "  </thead>\n",
       "  <tbody>\n",
       "    <tr>\n",
       "      <th>bar</th>\n",
       "      <td>0.345165</td>\n",
       "      <td>0.115055</td>\n",
       "      <td>0.753731</td>\n",
       "      <td>1.214916</td>\n",
       "      <td>0.404972</td>\n",
       "      <td>0.420712</td>\n",
       "    </tr>\n",
       "    <tr>\n",
       "      <th>foo</th>\n",
       "      <td>0.955805</td>\n",
       "      <td>0.191161</td>\n",
       "      <td>1.014400</td>\n",
       "      <td>-1.391300</td>\n",
       "      <td>-0.278260</td>\n",
       "      <td>0.713297</td>\n",
       "    </tr>\n",
       "  </tbody>\n",
       "</table>\n",
       "</div>"
      ],
      "text/plain": [
       "            C                             D                    \n",
       "          sum      mean       std       sum      mean       std\n",
       "A                                                              \n",
       "bar  0.345165  0.115055  0.753731  1.214916  0.404972  0.420712\n",
       "foo  0.955805  0.191161  1.014400 -1.391300 -0.278260  0.713297"
      ]
     },
     "execution_count": 19,
     "metadata": {},
     "output_type": "execute_result"
    }
   ],
   "source": [
    "#这里应该是一个链式操作，先groupby，然后在agg.\n",
    "df.groupby('A').agg([np.sum,np.mean,np.std])"
   ]
  },
  {
   "cell_type": "markdown",
   "id": "f451f06c-2cde-4055-8b38-6bd388030603",
   "metadata": {},
   "source": [
    "**此时，列变成了多级索引**"
   ]
  },
  {
   "cell_type": "markdown",
   "id": "d84a9254-61d0-4c48-96ee-09c1274c5f41",
   "metadata": {},
   "source": [
    "#### **15.1.4 对各列使用不同的聚合函数**"
   ]
  },
  {
   "cell_type": "code",
   "execution_count": 23,
   "id": "d745f1cc-2a99-44be-b87a-52cb9fae1363",
   "metadata": {
    "tags": []
   },
   "outputs": [
    {
     "data": {
      "text/html": [
       "<div>\n",
       "<style scoped>\n",
       "    .dataframe tbody tr th:only-of-type {\n",
       "        vertical-align: middle;\n",
       "    }\n",
       "\n",
       "    .dataframe tbody tr th {\n",
       "        vertical-align: top;\n",
       "    }\n",
       "\n",
       "    .dataframe thead tr th {\n",
       "        text-align: left;\n",
       "    }\n",
       "\n",
       "    .dataframe thead tr:last-of-type th {\n",
       "        text-align: right;\n",
       "    }\n",
       "</style>\n",
       "<table border=\"1\" class=\"dataframe\">\n",
       "  <thead>\n",
       "    <tr>\n",
       "      <th></th>\n",
       "      <th></th>\n",
       "      <th colspan=\"2\" halign=\"left\">C</th>\n",
       "      <th colspan=\"2\" halign=\"left\">D</th>\n",
       "    </tr>\n",
       "    <tr>\n",
       "      <th></th>\n",
       "      <th></th>\n",
       "      <th>sum</th>\n",
       "      <th>mean</th>\n",
       "      <th>min</th>\n",
       "      <th>max</th>\n",
       "    </tr>\n",
       "    <tr>\n",
       "      <th>A</th>\n",
       "      <th>B</th>\n",
       "      <th></th>\n",
       "      <th></th>\n",
       "      <th></th>\n",
       "      <th></th>\n",
       "    </tr>\n",
       "  </thead>\n",
       "  <tbody>\n",
       "    <tr>\n",
       "      <th rowspan=\"3\" valign=\"top\">bar</th>\n",
       "      <th>one</th>\n",
       "      <td>-0.367570</td>\n",
       "      <td>-0.367570</td>\n",
       "      <td>0.225512</td>\n",
       "      <td>0.225512</td>\n",
       "    </tr>\n",
       "    <tr>\n",
       "      <th>three</th>\n",
       "      <td>-0.270861</td>\n",
       "      <td>-0.270861</td>\n",
       "      <td>0.103749</td>\n",
       "      <td>0.103749</td>\n",
       "    </tr>\n",
       "    <tr>\n",
       "      <th>two</th>\n",
       "      <td>0.983596</td>\n",
       "      <td>0.983596</td>\n",
       "      <td>0.885655</td>\n",
       "      <td>0.885655</td>\n",
       "    </tr>\n",
       "    <tr>\n",
       "      <th rowspan=\"3\" valign=\"top\">foo</th>\n",
       "      <th>one</th>\n",
       "      <td>1.669933</td>\n",
       "      <td>0.834967</td>\n",
       "      <td>-1.304106</td>\n",
       "      <td>-0.385986</td>\n",
       "    </tr>\n",
       "    <tr>\n",
       "      <th>three</th>\n",
       "      <td>-0.162457</td>\n",
       "      <td>-0.162457</td>\n",
       "      <td>0.227928</td>\n",
       "      <td>0.227928</td>\n",
       "    </tr>\n",
       "    <tr>\n",
       "      <th>two</th>\n",
       "      <td>-0.551671</td>\n",
       "      <td>-0.275836</td>\n",
       "      <td>-0.473574</td>\n",
       "      <td>0.544438</td>\n",
       "    </tr>\n",
       "  </tbody>\n",
       "</table>\n",
       "</div>"
      ],
      "text/plain": [
       "                  C                   D          \n",
       "                sum      mean       min       max\n",
       "A   B                                            \n",
       "bar one   -0.367570 -0.367570  0.225512  0.225512\n",
       "    three -0.270861 -0.270861  0.103749  0.103749\n",
       "    two    0.983596  0.983596  0.885655  0.885655\n",
       "foo one    1.669933  0.834967 -1.304106 -0.385986\n",
       "    three -0.162457 -0.162457  0.227928  0.227928\n",
       "    two   -0.551671 -0.275836 -0.473574  0.544438"
      ]
     },
     "execution_count": 23,
     "metadata": {},
     "output_type": "execute_result"
    }
   ],
   "source": [
    "#很强大的功能，单个SQL语句做不到\n",
    "df.groupby(['A','B']).agg({'C':['sum','mean'],'D':['min','max']})"
   ]
  },
  {
   "cell_type": "markdown",
   "id": "0926e2b5-93c4-4022-b587-ad960737986b",
   "metadata": {},
   "source": [
    "**很强大的功能！！！**"
   ]
  },
  {
   "cell_type": "markdown",
   "id": "c5bae89a-3cee-43b8-a0a2-851e277bbb6e",
   "metadata": {},
   "source": [
    "#### **15.1.5 在列上聚合不同的函数，并重命名生成的DataFrame的索引。**"
   ]
  },
  {
   "cell_type": "code",
   "execution_count": 32,
   "id": "d0e43480-f7a3-441c-b609-f09249bb5e12",
   "metadata": {
    "tags": []
   },
   "outputs": [],
   "source": [
    "df1=df.agg(x=('C',max),y=('D',min),z=('B',max))"
   ]
  },
  {
   "cell_type": "code",
   "execution_count": 36,
   "id": "73bde80b-3bca-4b6e-aa93-47da432cd5f3",
   "metadata": {
    "tags": []
   },
   "outputs": [],
   "source": [
    "df1.fillna(value='',inplace=True)"
   ]
  },
  {
   "cell_type": "code",
   "execution_count": 37,
   "id": "b558a4f4-f881-44a2-9f3a-2158a7b9ec2d",
   "metadata": {
    "tags": []
   },
   "outputs": [
    {
     "data": {
      "text/html": [
       "<div>\n",
       "<style scoped>\n",
       "    .dataframe tbody tr th:only-of-type {\n",
       "        vertical-align: middle;\n",
       "    }\n",
       "\n",
       "    .dataframe tbody tr th {\n",
       "        vertical-align: top;\n",
       "    }\n",
       "\n",
       "    .dataframe thead th {\n",
       "        text-align: right;\n",
       "    }\n",
       "</style>\n",
       "<table border=\"1\" class=\"dataframe\">\n",
       "  <thead>\n",
       "    <tr style=\"text-align: right;\">\n",
       "      <th></th>\n",
       "      <th>C</th>\n",
       "      <th>D</th>\n",
       "      <th>B</th>\n",
       "    </tr>\n",
       "  </thead>\n",
       "  <tbody>\n",
       "    <tr>\n",
       "      <th>x</th>\n",
       "      <td>1.740608</td>\n",
       "      <td></td>\n",
       "      <td></td>\n",
       "    </tr>\n",
       "    <tr>\n",
       "      <th>y</th>\n",
       "      <td></td>\n",
       "      <td>-1.304106</td>\n",
       "      <td></td>\n",
       "    </tr>\n",
       "    <tr>\n",
       "      <th>z</th>\n",
       "      <td></td>\n",
       "      <td></td>\n",
       "      <td>two</td>\n",
       "    </tr>\n",
       "  </tbody>\n",
       "</table>\n",
       "</div>"
      ],
      "text/plain": [
       "          C         D    B\n",
       "x  1.740608               \n",
       "y           -1.304106     \n",
       "z                      two"
      ]
     },
     "execution_count": 37,
     "metadata": {},
     "output_type": "execute_result"
    }
   ],
   "source": [
    "df1"
   ]
  },
  {
   "cell_type": "markdown",
   "id": "51dd43fa-8b6e-4cf9-89f8-0d07a848a05f",
   "metadata": {},
   "source": [
    "#### **15.1.6 使用自定义聚合函数**"
   ]
  },
  {
   "cell_type": "code",
   "execution_count": 53,
   "id": "624ce57b-85a8-4282-8176-b1980797b5e5",
   "metadata": {
    "tags": []
   },
   "outputs": [
    {
     "data": {
      "text/html": [
       "<div>\n",
       "<style scoped>\n",
       "    .dataframe tbody tr th:only-of-type {\n",
       "        vertical-align: middle;\n",
       "    }\n",
       "\n",
       "    .dataframe tbody tr th {\n",
       "        vertical-align: top;\n",
       "    }\n",
       "\n",
       "    .dataframe thead tr th {\n",
       "        text-align: left;\n",
       "    }\n",
       "\n",
       "    .dataframe thead tr:last-of-type th {\n",
       "        text-align: right;\n",
       "    }\n",
       "</style>\n",
       "<table border=\"1\" class=\"dataframe\">\n",
       "  <thead>\n",
       "    <tr>\n",
       "      <th></th>\n",
       "      <th></th>\n",
       "      <th colspan=\"2\" halign=\"left\">C</th>\n",
       "      <th colspan=\"2\" halign=\"left\">D</th>\n",
       "    </tr>\n",
       "    <tr>\n",
       "      <th></th>\n",
       "      <th></th>\n",
       "      <th>fun1</th>\n",
       "      <th>sum</th>\n",
       "      <th>fun1</th>\n",
       "      <th>sum</th>\n",
       "    </tr>\n",
       "    <tr>\n",
       "      <th>A</th>\n",
       "      <th>B</th>\n",
       "      <th></th>\n",
       "      <th></th>\n",
       "      <th></th>\n",
       "      <th></th>\n",
       "    </tr>\n",
       "  </thead>\n",
       "  <tbody>\n",
       "    <tr>\n",
       "      <th rowspan=\"3\" valign=\"top\">bar</th>\n",
       "      <th>one</th>\n",
       "      <td>-0.367570</td>\n",
       "      <td>-0.367570</td>\n",
       "      <td>0.225512</td>\n",
       "      <td>0.225512</td>\n",
       "    </tr>\n",
       "    <tr>\n",
       "      <th>three</th>\n",
       "      <td>-0.270861</td>\n",
       "      <td>-0.270861</td>\n",
       "      <td>0.103749</td>\n",
       "      <td>0.103749</td>\n",
       "    </tr>\n",
       "    <tr>\n",
       "      <th>two</th>\n",
       "      <td>0.983596</td>\n",
       "      <td>0.983596</td>\n",
       "      <td>0.885655</td>\n",
       "      <td>0.885655</td>\n",
       "    </tr>\n",
       "    <tr>\n",
       "      <th rowspan=\"3\" valign=\"top\">foo</th>\n",
       "      <th>one</th>\n",
       "      <td>1.669933</td>\n",
       "      <td>1.669933</td>\n",
       "      <td>-1.690092</td>\n",
       "      <td>-1.690092</td>\n",
       "    </tr>\n",
       "    <tr>\n",
       "      <th>three</th>\n",
       "      <td>-0.162457</td>\n",
       "      <td>-0.162457</td>\n",
       "      <td>0.227928</td>\n",
       "      <td>0.227928</td>\n",
       "    </tr>\n",
       "    <tr>\n",
       "      <th>two</th>\n",
       "      <td>-0.551671</td>\n",
       "      <td>-0.551671</td>\n",
       "      <td>0.070864</td>\n",
       "      <td>0.070864</td>\n",
       "    </tr>\n",
       "  </tbody>\n",
       "</table>\n",
       "</div>"
      ],
      "text/plain": [
       "                  C                   D          \n",
       "               fun1       sum      fun1       sum\n",
       "A   B                                            \n",
       "bar one   -0.367570 -0.367570  0.225512  0.225512\n",
       "    three -0.270861 -0.270861  0.103749  0.103749\n",
       "    two    0.983596  0.983596  0.885655  0.885655\n",
       "foo one    1.669933  1.669933 -1.690092 -1.690092\n",
       "    three -0.162457 -0.162457  0.227928  0.227928\n",
       "    two   -0.551671 -0.551671  0.070864  0.070864"
      ]
     },
     "execution_count": 53,
     "metadata": {},
     "output_type": "execute_result"
    }
   ],
   "source": [
    "def fun1(x):\n",
    "    r=0\n",
    "    for i in x:\n",
    "       r=r+i\n",
    "    return r\n",
    "\n",
    "df.groupby(['A','B']).agg({'C':[fun1,sum],'D':[fun1,sum]})"
   ]
  },
  {
   "cell_type": "markdown",
   "id": "16e502df-174c-47cc-a57f-3df7fcef468d",
   "metadata": {},
   "source": [
    "#### **15.1.7 查看单列的结果数据统计**"
   ]
  },
  {
   "cell_type": "code",
   "execution_count": 61,
   "id": "14e0ff8c-a47b-4fbd-80e0-d95b7e2e646b",
   "metadata": {
    "tags": []
   },
   "outputs": [
    {
     "data": {
      "text/html": [
       "<div>\n",
       "<style scoped>\n",
       "    .dataframe tbody tr th:only-of-type {\n",
       "        vertical-align: middle;\n",
       "    }\n",
       "\n",
       "    .dataframe tbody tr th {\n",
       "        vertical-align: top;\n",
       "    }\n",
       "\n",
       "    .dataframe thead th {\n",
       "        text-align: right;\n",
       "    }\n",
       "</style>\n",
       "<table border=\"1\" class=\"dataframe\">\n",
       "  <thead>\n",
       "    <tr style=\"text-align: right;\">\n",
       "      <th></th>\n",
       "      <th>max</th>\n",
       "      <th>min</th>\n",
       "      <th>std</th>\n",
       "    </tr>\n",
       "    <tr>\n",
       "      <th>A</th>\n",
       "      <th></th>\n",
       "      <th></th>\n",
       "      <th></th>\n",
       "    </tr>\n",
       "  </thead>\n",
       "  <tbody>\n",
       "    <tr>\n",
       "      <th>bar</th>\n",
       "      <td>0.983596</td>\n",
       "      <td>-0.36757</td>\n",
       "      <td>0.753731</td>\n",
       "    </tr>\n",
       "    <tr>\n",
       "      <th>foo</th>\n",
       "      <td>1.740608</td>\n",
       "      <td>-1.01254</td>\n",
       "      <td>1.014400</td>\n",
       "    </tr>\n",
       "  </tbody>\n",
       "</table>\n",
       "</div>"
      ],
      "text/plain": [
       "          max      min       std\n",
       "A                               \n",
       "bar  0.983596 -0.36757  0.753731\n",
       "foo  1.740608 -1.01254  1.014400"
      ]
     },
     "execution_count": 61,
     "metadata": {},
     "output_type": "execute_result"
    }
   ],
   "source": [
    "#方法1，预先过滤，性能更好\n",
    "df.groupby('A')['C'].agg([max,min,np.std])"
   ]
  },
  {
   "cell_type": "code",
   "execution_count": 65,
   "id": "9e26b765-7c2b-4cfb-ae51-28ca7e65c5d1",
   "metadata": {
    "tags": []
   },
   "outputs": [
    {
     "data": {
      "text/html": [
       "<div>\n",
       "<style scoped>\n",
       "    .dataframe tbody tr th:only-of-type {\n",
       "        vertical-align: middle;\n",
       "    }\n",
       "\n",
       "    .dataframe tbody tr th {\n",
       "        vertical-align: top;\n",
       "    }\n",
       "\n",
       "    .dataframe thead th {\n",
       "        text-align: right;\n",
       "    }\n",
       "</style>\n",
       "<table border=\"1\" class=\"dataframe\">\n",
       "  <thead>\n",
       "    <tr style=\"text-align: right;\">\n",
       "      <th></th>\n",
       "      <th></th>\n",
       "      <th>max</th>\n",
       "      <th>min</th>\n",
       "      <th>std</th>\n",
       "    </tr>\n",
       "    <tr>\n",
       "      <th>A</th>\n",
       "      <th>B</th>\n",
       "      <th></th>\n",
       "      <th></th>\n",
       "      <th></th>\n",
       "    </tr>\n",
       "  </thead>\n",
       "  <tbody>\n",
       "    <tr>\n",
       "      <th rowspan=\"3\" valign=\"top\">bar</th>\n",
       "      <th>one</th>\n",
       "      <td>-0.367570</td>\n",
       "      <td>-0.367570</td>\n",
       "      <td>NaN</td>\n",
       "    </tr>\n",
       "    <tr>\n",
       "      <th>three</th>\n",
       "      <td>-0.270861</td>\n",
       "      <td>-0.270861</td>\n",
       "      <td>NaN</td>\n",
       "    </tr>\n",
       "    <tr>\n",
       "      <th>two</th>\n",
       "      <td>0.983596</td>\n",
       "      <td>0.983596</td>\n",
       "      <td>NaN</td>\n",
       "    </tr>\n",
       "    <tr>\n",
       "      <th rowspan=\"3\" valign=\"top\">foo</th>\n",
       "      <th>one</th>\n",
       "      <td>1.740608</td>\n",
       "      <td>-0.070675</td>\n",
       "      <td>1.280770</td>\n",
       "    </tr>\n",
       "    <tr>\n",
       "      <th>three</th>\n",
       "      <td>-0.162457</td>\n",
       "      <td>-0.162457</td>\n",
       "      <td>NaN</td>\n",
       "    </tr>\n",
       "    <tr>\n",
       "      <th>two</th>\n",
       "      <td>0.460869</td>\n",
       "      <td>-1.012540</td>\n",
       "      <td>1.041857</td>\n",
       "    </tr>\n",
       "  </tbody>\n",
       "</table>\n",
       "</div>"
      ],
      "text/plain": [
       "                max       min       std\n",
       "A   B                                  \n",
       "bar one   -0.367570 -0.367570       NaN\n",
       "    three -0.270861 -0.270861       NaN\n",
       "    two    0.983596  0.983596       NaN\n",
       "foo one    1.740608 -0.070675  1.280770\n",
       "    three -0.162457 -0.162457       NaN\n",
       "    two    0.460869 -1.012540  1.041857"
      ]
     },
     "execution_count": 65,
     "metadata": {},
     "output_type": "execute_result"
    }
   ],
   "source": [
    "#方法2，先对全部列聚合，再过滤\n",
    "df.groupby(['A','B']).agg([max,min,np.std])['C']"
   ]
  },
  {
   "cell_type": "code",
   "execution_count": null,
   "id": "2952ba9d-2654-479e-b992-31869fa0f05d",
   "metadata": {},
   "outputs": [],
   "source": []
  },
  {
   "cell_type": "markdown",
   "id": "71c8feff-d102-479b-9816-076295d8d2c7",
   "metadata": {},
   "source": [
    "### **15.2 遍历groupby的结果，理解执行过程**"
   ]
  },
  {
   "cell_type": "markdown",
   "id": "2701a6d2-eca9-4bab-b8d0-a18d2d292915",
   "metadata": {},
   "source": [
    "**for循环可以遍历每个group**"
   ]
  },
  {
   "cell_type": "markdown",
   "id": "80543414-2805-4594-ab1d-01d50f728288",
   "metadata": {},
   "source": [
    "#### **15.2.1 遍历单个列聚合的分组**"
   ]
  },
  {
   "cell_type": "code",
   "execution_count": 66,
   "id": "519f8b0f-bdf5-4eaf-9fb7-f8e7f7e37d68",
   "metadata": {
    "tags": []
   },
   "outputs": [],
   "source": [
    "g=df.groupby('A')"
   ]
  },
  {
   "cell_type": "code",
   "execution_count": 68,
   "id": "679da7c6-3e0c-497c-ab2d-4d4fd6aa9c8b",
   "metadata": {
    "tags": []
   },
   "outputs": [
    {
     "data": {
      "text/plain": [
       "<pandas.core.groupby.generic.DataFrameGroupBy object at 0x7f58b543a0>"
      ]
     },
     "execution_count": 68,
     "metadata": {},
     "output_type": "execute_result"
    }
   ],
   "source": [
    "g"
   ]
  },
  {
   "cell_type": "markdown",
   "id": "249afcbc-3106-4e22-8e74-5a9609827c4d",
   "metadata": {},
   "source": [
    "**可见结果是DataFrameGroupBy对象**"
   ]
  },
  {
   "cell_type": "code",
   "execution_count": 69,
   "id": "0e5e3228-6254-44fd-85b6-a18e6175e524",
   "metadata": {
    "tags": []
   },
   "outputs": [
    {
     "name": "stdout",
     "output_type": "stream",
     "text": [
      "bar\n",
      "     A      B         C         D\n",
      "1  bar    one -0.367570  0.225512\n",
      "3  bar  three -0.270861  0.103749\n",
      "5  bar    two  0.983596  0.885655\n",
      "\n",
      "foo\n",
      "     A      B         C         D\n",
      "0  foo    one  1.740608 -0.385986\n",
      "2  foo    two  0.460869 -0.473574\n",
      "4  foo    two -1.012540  0.544438\n",
      "6  foo    one -0.070675 -1.304106\n",
      "7  foo  three -0.162457  0.227928\n",
      "\n"
     ]
    }
   ],
   "source": [
    "for name,group in g:\n",
    "    print(name)\n",
    "    print(group)\n",
    "    print()"
   ]
  },
  {
   "cell_type": "markdown",
   "id": "d4a92a2c-fe34-4917-b588-e5cc58e551d4",
   "metadata": {},
   "source": [
    "**可以单独获取某个分组的数据**"
   ]
  },
  {
   "cell_type": "code",
   "execution_count": 70,
   "id": "3b4dbb34-ffe3-458d-872e-0dde55e33aaa",
   "metadata": {
    "tags": []
   },
   "outputs": [
    {
     "data": {
      "text/html": [
       "<div>\n",
       "<style scoped>\n",
       "    .dataframe tbody tr th:only-of-type {\n",
       "        vertical-align: middle;\n",
       "    }\n",
       "\n",
       "    .dataframe tbody tr th {\n",
       "        vertical-align: top;\n",
       "    }\n",
       "\n",
       "    .dataframe thead th {\n",
       "        text-align: right;\n",
       "    }\n",
       "</style>\n",
       "<table border=\"1\" class=\"dataframe\">\n",
       "  <thead>\n",
       "    <tr style=\"text-align: right;\">\n",
       "      <th></th>\n",
       "      <th>A</th>\n",
       "      <th>B</th>\n",
       "      <th>C</th>\n",
       "      <th>D</th>\n",
       "    </tr>\n",
       "  </thead>\n",
       "  <tbody>\n",
       "    <tr>\n",
       "      <th>1</th>\n",
       "      <td>bar</td>\n",
       "      <td>one</td>\n",
       "      <td>-0.367570</td>\n",
       "      <td>0.225512</td>\n",
       "    </tr>\n",
       "    <tr>\n",
       "      <th>3</th>\n",
       "      <td>bar</td>\n",
       "      <td>three</td>\n",
       "      <td>-0.270861</td>\n",
       "      <td>0.103749</td>\n",
       "    </tr>\n",
       "    <tr>\n",
       "      <th>5</th>\n",
       "      <td>bar</td>\n",
       "      <td>two</td>\n",
       "      <td>0.983596</td>\n",
       "      <td>0.885655</td>\n",
       "    </tr>\n",
       "  </tbody>\n",
       "</table>\n",
       "</div>"
      ],
      "text/plain": [
       "     A      B         C         D\n",
       "1  bar    one -0.367570  0.225512\n",
       "3  bar  three -0.270861  0.103749\n",
       "5  bar    two  0.983596  0.885655"
      ]
     },
     "execution_count": 70,
     "metadata": {},
     "output_type": "execute_result"
    }
   ],
   "source": [
    "g.get_group('bar')"
   ]
  },
  {
   "cell_type": "markdown",
   "id": "dc3598e1-221b-4324-8070-d941b69318e9",
   "metadata": {},
   "source": [
    "#### **15.2.2 遍历多个列聚合的分组**"
   ]
  },
  {
   "cell_type": "code",
   "execution_count": 75,
   "id": "313e8be1-9ed4-4c83-a34b-0c7493cb1fa4",
   "metadata": {
    "tags": []
   },
   "outputs": [],
   "source": [
    "g=df.groupby(['A','B'])"
   ]
  },
  {
   "cell_type": "code",
   "execution_count": null,
   "id": "fdc5d72c-9923-43c0-b041-1615f7ee3d4a",
   "metadata": {},
   "outputs": [],
   "source": []
  }
 ],
 "metadata": {
  "kernelspec": {
   "display_name": "Python 3 (ipykernel)",
   "language": "python",
   "name": "python3"
  },
  "language_info": {
   "codemirror_mode": {
    "name": "ipython",
    "version": 3
   },
   "file_extension": ".py",
   "mimetype": "text/x-python",
   "name": "python",
   "nbconvert_exporter": "python",
   "pygments_lexer": "ipython3",
   "version": "3.9.9"
  }
 },
 "nbformat": 4,
 "nbformat_minor": 5
}
