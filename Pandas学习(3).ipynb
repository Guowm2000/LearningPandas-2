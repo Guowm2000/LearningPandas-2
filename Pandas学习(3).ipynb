{
 "cells": [
  {
   "cell_type": "markdown",
   "id": "19016fd9-c960-4149-82c1-963a824f64b4",
   "metadata": {},
   "source": [
    "## **11. Pandas的索引index的用途**  "
   ]
  },
  {
   "cell_type": "markdown",
   "id": "c2bd2bc8-7b5b-4926-82a9-d0ff9d9bfa3d",
   "metadata": {},
   "source": [
    "把数据存于普通的column列，也能用于查询，那使用index有什么好处呢？\n",
    "\n",
    "index的用途总结：  \n",
    "1. 更方便的数据查询\n",
    "2. 使用index可以获得性能提升\n",
    "3. 自动的数据对齐功能\n",
    "4. 更多更强大的数据结构支持"
   ]
  },
  {
   "cell_type": "code",
   "execution_count": 21,
   "id": "4638db61-17d4-4ef5-91eb-7c8a96e196c0",
   "metadata": {},
   "outputs": [],
   "source": [
    "import pandas as pd\n",
    "import numpy as np"
   ]
  },
  {
   "cell_type": "code",
   "execution_count": 46,
   "id": "4ab663af-72c3-445b-8944-90f0e8f66845",
   "metadata": {},
   "outputs": [],
   "source": [
    "#读取是指定了code列的数据类型，否则，部分股票代码会被作为整型数据读如，（000651）前面的0没有了\n",
    "df=pd.read_csv('./stocks/df8.csv',dtype={'code':'object'})"
   ]
  },
  {
   "cell_type": "code",
   "execution_count": 47,
   "id": "d4a479cb-7b3e-4e02-9228-690a6c7f69f4",
   "metadata": {},
   "outputs": [
    {
     "data": {
      "text/html": [
       "<div>\n",
       "<style scoped>\n",
       "    .dataframe tbody tr th:only-of-type {\n",
       "        vertical-align: middle;\n",
       "    }\n",
       "\n",
       "    .dataframe tbody tr th {\n",
       "        vertical-align: top;\n",
       "    }\n",
       "\n",
       "    .dataframe thead th {\n",
       "        text-align: right;\n",
       "    }\n",
       "</style>\n",
       "<table border=\"1\" class=\"dataframe\">\n",
       "  <thead>\n",
       "    <tr style=\"text-align: right;\">\n",
       "      <th></th>\n",
       "      <th>rq</th>\n",
       "      <th>kp</th>\n",
       "      <th>zg</th>\n",
       "      <th>zd</th>\n",
       "      <th>sp</th>\n",
       "      <th>cjl</th>\n",
       "      <th>cje</th>\n",
       "      <th>code</th>\n",
       "    </tr>\n",
       "  </thead>\n",
       "  <tbody>\n",
       "    <tr>\n",
       "      <th>0</th>\n",
       "      <td>2020/11/16</td>\n",
       "      <td>1.556</td>\n",
       "      <td>1.620</td>\n",
       "      <td>1.451</td>\n",
       "      <td>1.465</td>\n",
       "      <td>1445363837</td>\n",
       "      <td>2.119241e+09</td>\n",
       "      <td>588000</td>\n",
       "    </tr>\n",
       "    <tr>\n",
       "      <th>1</th>\n",
       "      <td>2020/11/17</td>\n",
       "      <td>1.460</td>\n",
       "      <td>1.460</td>\n",
       "      <td>1.430</td>\n",
       "      <td>1.436</td>\n",
       "      <td>1080636535</td>\n",
       "      <td>1.553722e+09</td>\n",
       "      <td>588000</td>\n",
       "    </tr>\n",
       "    <tr>\n",
       "      <th>2</th>\n",
       "      <td>2020/11/18</td>\n",
       "      <td>1.435</td>\n",
       "      <td>1.445</td>\n",
       "      <td>1.422</td>\n",
       "      <td>1.424</td>\n",
       "      <td>863188131</td>\n",
       "      <td>1.234789e+09</td>\n",
       "      <td>588000</td>\n",
       "    </tr>\n",
       "    <tr>\n",
       "      <th>3</th>\n",
       "      <td>2020/11/19</td>\n",
       "      <td>1.424</td>\n",
       "      <td>1.440</td>\n",
       "      <td>1.412</td>\n",
       "      <td>1.438</td>\n",
       "      <td>685401807</td>\n",
       "      <td>9.803946e+08</td>\n",
       "      <td>588000</td>\n",
       "    </tr>\n",
       "    <tr>\n",
       "      <th>4</th>\n",
       "      <td>2020/11/20</td>\n",
       "      <td>1.436</td>\n",
       "      <td>1.444</td>\n",
       "      <td>1.431</td>\n",
       "      <td>1.435</td>\n",
       "      <td>601003363</td>\n",
       "      <td>8.626239e+08</td>\n",
       "      <td>588000</td>\n",
       "    </tr>\n",
       "  </tbody>\n",
       "</table>\n",
       "</div>"
      ],
      "text/plain": [
       "           rq     kp     zg     zd     sp         cjl           cje    code\n",
       "0  2020/11/16  1.556  1.620  1.451  1.465  1445363837  2.119241e+09  588000\n",
       "1  2020/11/17  1.460  1.460  1.430  1.436  1080636535  1.553722e+09  588000\n",
       "2  2020/11/18  1.435  1.445  1.422  1.424   863188131  1.234789e+09  588000\n",
       "3  2020/11/19  1.424  1.440  1.412  1.438   685401807  9.803946e+08  588000\n",
       "4  2020/11/20  1.436  1.444  1.431  1.435   601003363  8.626239e+08  588000"
      ]
     },
     "execution_count": 47,
     "metadata": {},
     "output_type": "execute_result"
    }
   ],
   "source": [
    "df.head(5)"
   ]
  },
  {
   "cell_type": "code",
   "execution_count": 48,
   "id": "7d029fa5-09be-43d1-ad2d-8eaf2f16269e",
   "metadata": {},
   "outputs": [
    {
     "data": {
      "text/plain": [
       "rq      13321\n",
       "kp      13321\n",
       "zg      13321\n",
       "zd      13321\n",
       "sp      13321\n",
       "cjl     13321\n",
       "cje     13321\n",
       "code    13321\n",
       "dtype: int64"
      ]
     },
     "execution_count": 48,
     "metadata": {},
     "output_type": "execute_result"
    }
   ],
   "source": [
    "df.count()"
   ]
  },
  {
   "cell_type": "code",
   "execution_count": 49,
   "id": "75ecb44e-470e-4363-9a73-8a72409dbf2d",
   "metadata": {},
   "outputs": [
    {
     "data": {
      "text/plain": [
       "rq       object\n",
       "kp      float64\n",
       "zg      float64\n",
       "zd      float64\n",
       "sp      float64\n",
       "cjl       int64\n",
       "cje     float64\n",
       "code     object\n",
       "dtype: object"
      ]
     },
     "execution_count": 49,
     "metadata": {},
     "output_type": "execute_result"
    }
   ],
   "source": [
    "df.dtypes"
   ]
  },
  {
   "cell_type": "markdown",
   "id": "c89a9e8b-508b-4416-968c-f42db7d46a3a",
   "metadata": {},
   "source": [
    "### **11.1 使用index查询数据**"
   ]
  },
  {
   "cell_type": "code",
   "execution_count": 50,
   "id": "b69ef386-a196-4683-a16b-8a3fd54e958d",
   "metadata": {},
   "outputs": [],
   "source": [
    "# 1. 重新设置索引列，以'code'和'rq'共同组成索引，且组成索引的两个列仍保留在columns中\n",
    "# 2. drop=False的作用是保留索引列在columns中\n",
    "# 3. 组合索引用list给出\n",
    "# 4. 行索引、列索引都不是数据集本身的组成部分\n",
    "df.set_index(['code','rq'],drop=False,inplace=True)"
   ]
  },
  {
   "cell_type": "code",
   "execution_count": 51,
   "id": "e6648f52-bb91-4dc2-b6e2-e641c0ef33a8",
   "metadata": {},
   "outputs": [
    {
     "data": {
      "text/html": [
       "<div>\n",
       "<style scoped>\n",
       "    .dataframe tbody tr th:only-of-type {\n",
       "        vertical-align: middle;\n",
       "    }\n",
       "\n",
       "    .dataframe tbody tr th {\n",
       "        vertical-align: top;\n",
       "    }\n",
       "\n",
       "    .dataframe thead th {\n",
       "        text-align: right;\n",
       "    }\n",
       "</style>\n",
       "<table border=\"1\" class=\"dataframe\">\n",
       "  <thead>\n",
       "    <tr style=\"text-align: right;\">\n",
       "      <th></th>\n",
       "      <th></th>\n",
       "      <th>rq</th>\n",
       "      <th>kp</th>\n",
       "      <th>zg</th>\n",
       "      <th>zd</th>\n",
       "      <th>sp</th>\n",
       "      <th>cjl</th>\n",
       "      <th>cje</th>\n",
       "      <th>code</th>\n",
       "    </tr>\n",
       "    <tr>\n",
       "      <th>code</th>\n",
       "      <th>rq</th>\n",
       "      <th></th>\n",
       "      <th></th>\n",
       "      <th></th>\n",
       "      <th></th>\n",
       "      <th></th>\n",
       "      <th></th>\n",
       "      <th></th>\n",
       "      <th></th>\n",
       "    </tr>\n",
       "  </thead>\n",
       "  <tbody>\n",
       "    <tr>\n",
       "      <th rowspan=\"5\" valign=\"top\">588000</th>\n",
       "      <th>2020/11/16</th>\n",
       "      <td>2020/11/16</td>\n",
       "      <td>1.556</td>\n",
       "      <td>1.620</td>\n",
       "      <td>1.451</td>\n",
       "      <td>1.465</td>\n",
       "      <td>1445363837</td>\n",
       "      <td>2.119241e+09</td>\n",
       "      <td>588000</td>\n",
       "    </tr>\n",
       "    <tr>\n",
       "      <th>2020/11/17</th>\n",
       "      <td>2020/11/17</td>\n",
       "      <td>1.460</td>\n",
       "      <td>1.460</td>\n",
       "      <td>1.430</td>\n",
       "      <td>1.436</td>\n",
       "      <td>1080636535</td>\n",
       "      <td>1.553722e+09</td>\n",
       "      <td>588000</td>\n",
       "    </tr>\n",
       "    <tr>\n",
       "      <th>2020/11/18</th>\n",
       "      <td>2020/11/18</td>\n",
       "      <td>1.435</td>\n",
       "      <td>1.445</td>\n",
       "      <td>1.422</td>\n",
       "      <td>1.424</td>\n",
       "      <td>863188131</td>\n",
       "      <td>1.234789e+09</td>\n",
       "      <td>588000</td>\n",
       "    </tr>\n",
       "    <tr>\n",
       "      <th>2020/11/19</th>\n",
       "      <td>2020/11/19</td>\n",
       "      <td>1.424</td>\n",
       "      <td>1.440</td>\n",
       "      <td>1.412</td>\n",
       "      <td>1.438</td>\n",
       "      <td>685401807</td>\n",
       "      <td>9.803946e+08</td>\n",
       "      <td>588000</td>\n",
       "    </tr>\n",
       "    <tr>\n",
       "      <th>2020/11/20</th>\n",
       "      <td>2020/11/20</td>\n",
       "      <td>1.436</td>\n",
       "      <td>1.444</td>\n",
       "      <td>1.431</td>\n",
       "      <td>1.435</td>\n",
       "      <td>601003363</td>\n",
       "      <td>8.626239e+08</td>\n",
       "      <td>588000</td>\n",
       "    </tr>\n",
       "    <tr>\n",
       "      <th>...</th>\n",
       "      <th>...</th>\n",
       "      <td>...</td>\n",
       "      <td>...</td>\n",
       "      <td>...</td>\n",
       "      <td>...</td>\n",
       "      <td>...</td>\n",
       "      <td>...</td>\n",
       "      <td>...</td>\n",
       "      <td>...</td>\n",
       "    </tr>\n",
       "    <tr>\n",
       "      <th rowspan=\"5\" valign=\"top\">300124</th>\n",
       "      <th>2023/04/03</th>\n",
       "      <td>2023/04/03</td>\n",
       "      <td>70.620</td>\n",
       "      <td>71.130</td>\n",
       "      <td>69.700</td>\n",
       "      <td>70.600</td>\n",
       "      <td>9947794</td>\n",
       "      <td>7.001108e+08</td>\n",
       "      <td>300124</td>\n",
       "    </tr>\n",
       "    <tr>\n",
       "      <th>2023/04/04</th>\n",
       "      <td>2023/04/04</td>\n",
       "      <td>70.650</td>\n",
       "      <td>70.670</td>\n",
       "      <td>68.850</td>\n",
       "      <td>69.690</td>\n",
       "      <td>9446887</td>\n",
       "      <td>6.569337e+08</td>\n",
       "      <td>300124</td>\n",
       "    </tr>\n",
       "    <tr>\n",
       "      <th>2023/04/06</th>\n",
       "      <td>2023/04/06</td>\n",
       "      <td>69.150</td>\n",
       "      <td>69.940</td>\n",
       "      <td>68.160</td>\n",
       "      <td>69.360</td>\n",
       "      <td>7935432</td>\n",
       "      <td>5.485338e+08</td>\n",
       "      <td>300124</td>\n",
       "    </tr>\n",
       "    <tr>\n",
       "      <th>2023/04/07</th>\n",
       "      <td>2023/04/07</td>\n",
       "      <td>69.330</td>\n",
       "      <td>69.660</td>\n",
       "      <td>68.310</td>\n",
       "      <td>68.520</td>\n",
       "      <td>9430855</td>\n",
       "      <td>6.497204e+08</td>\n",
       "      <td>300124</td>\n",
       "    </tr>\n",
       "    <tr>\n",
       "      <th>2023/04/10</th>\n",
       "      <td>2023/04/10</td>\n",
       "      <td>68.600</td>\n",
       "      <td>69.950</td>\n",
       "      <td>68.060</td>\n",
       "      <td>69.100</td>\n",
       "      <td>7135749</td>\n",
       "      <td>4.927899e+08</td>\n",
       "      <td>300124</td>\n",
       "    </tr>\n",
       "  </tbody>\n",
       "</table>\n",
       "<p>13321 rows × 8 columns</p>\n",
       "</div>"
      ],
      "text/plain": [
       "                           rq      kp      zg      zd      sp         cjl  \\\n",
       "code   rq                                                                   \n",
       "588000 2020/11/16  2020/11/16   1.556   1.620   1.451   1.465  1445363837   \n",
       "       2020/11/17  2020/11/17   1.460   1.460   1.430   1.436  1080636535   \n",
       "       2020/11/18  2020/11/18   1.435   1.445   1.422   1.424   863188131   \n",
       "       2020/11/19  2020/11/19   1.424   1.440   1.412   1.438   685401807   \n",
       "       2020/11/20  2020/11/20   1.436   1.444   1.431   1.435   601003363   \n",
       "...                       ...     ...     ...     ...     ...         ...   \n",
       "300124 2023/04/03  2023/04/03  70.620  71.130  69.700  70.600     9947794   \n",
       "       2023/04/04  2023/04/04  70.650  70.670  68.850  69.690     9446887   \n",
       "       2023/04/06  2023/04/06  69.150  69.940  68.160  69.360     7935432   \n",
       "       2023/04/07  2023/04/07  69.330  69.660  68.310  68.520     9430855   \n",
       "       2023/04/10  2023/04/10  68.600  69.950  68.060  69.100     7135749   \n",
       "\n",
       "                            cje    code  \n",
       "code   rq                                \n",
       "588000 2020/11/16  2.119241e+09  588000  \n",
       "       2020/11/17  1.553722e+09  588000  \n",
       "       2020/11/18  1.234789e+09  588000  \n",
       "       2020/11/19  9.803946e+08  588000  \n",
       "       2020/11/20  8.626239e+08  588000  \n",
       "...                         ...     ...  \n",
       "300124 2023/04/03  7.001108e+08  300124  \n",
       "       2023/04/04  6.569337e+08  300124  \n",
       "       2023/04/06  5.485338e+08  300124  \n",
       "       2023/04/07  6.497204e+08  300124  \n",
       "       2023/04/10  4.927899e+08  300124  \n",
       "\n",
       "[13321 rows x 8 columns]"
      ]
     },
     "execution_count": 51,
     "metadata": {},
     "output_type": "execute_result"
    }
   ],
   "source": [
    "df"
   ]
  },
  {
   "cell_type": "code",
   "execution_count": 52,
   "id": "56ef8ed8-d31e-468e-b2a0-484c18133390",
   "metadata": {},
   "outputs": [
    {
     "data": {
      "text/plain": [
       "MultiIndex([('588000', '2020/11/16'),\n",
       "            ('588000', '2020/11/17'),\n",
       "            ('588000', '2020/11/18'),\n",
       "            ('588000', '2020/11/19'),\n",
       "            ('588000', '2020/11/20'),\n",
       "            ('588000', '2020/11/23'),\n",
       "            ('588000', '2020/11/24'),\n",
       "            ('588000', '2020/11/25'),\n",
       "            ('588000', '2020/11/26'),\n",
       "            ('588000', '2020/11/27'),\n",
       "            ...\n",
       "            ('300124', '2023/03/27'),\n",
       "            ('300124', '2023/03/28'),\n",
       "            ('300124', '2023/03/29'),\n",
       "            ('300124', '2023/03/30'),\n",
       "            ('300124', '2023/03/31'),\n",
       "            ('300124', '2023/04/03'),\n",
       "            ('300124', '2023/04/04'),\n",
       "            ('300124', '2023/04/06'),\n",
       "            ('300124', '2023/04/07'),\n",
       "            ('300124', '2023/04/10')],\n",
       "           names=['code', 'rq'], length=13321)"
      ]
     },
     "execution_count": 52,
     "metadata": {},
     "output_type": "execute_result"
    }
   ],
   "source": [
    "#注意，组合索引是用元组表示的\n",
    "df.index"
   ]
  },
  {
   "cell_type": "code",
   "execution_count": 53,
   "id": "af90e062-c23d-4add-9b0e-6408e7c008e0",
   "metadata": {},
   "outputs": [
    {
     "data": {
      "text/html": [
       "<div>\n",
       "<style scoped>\n",
       "    .dataframe tbody tr th:only-of-type {\n",
       "        vertical-align: middle;\n",
       "    }\n",
       "\n",
       "    .dataframe tbody tr th {\n",
       "        vertical-align: top;\n",
       "    }\n",
       "\n",
       "    .dataframe thead th {\n",
       "        text-align: right;\n",
       "    }\n",
       "</style>\n",
       "<table border=\"1\" class=\"dataframe\">\n",
       "  <thead>\n",
       "    <tr style=\"text-align: right;\">\n",
       "      <th></th>\n",
       "      <th></th>\n",
       "      <th>rq</th>\n",
       "      <th>kp</th>\n",
       "      <th>zg</th>\n",
       "      <th>zd</th>\n",
       "      <th>sp</th>\n",
       "      <th>cjl</th>\n",
       "      <th>cje</th>\n",
       "      <th>code</th>\n",
       "    </tr>\n",
       "    <tr>\n",
       "      <th>code</th>\n",
       "      <th>rq</th>\n",
       "      <th></th>\n",
       "      <th></th>\n",
       "      <th></th>\n",
       "      <th></th>\n",
       "      <th></th>\n",
       "      <th></th>\n",
       "      <th></th>\n",
       "      <th></th>\n",
       "    </tr>\n",
       "  </thead>\n",
       "  <tbody>\n",
       "    <tr>\n",
       "      <th>300124</th>\n",
       "      <th>2023/03/31</th>\n",
       "      <td>2023/03/31</td>\n",
       "      <td>71.24</td>\n",
       "      <td>71.35</td>\n",
       "      <td>70.03</td>\n",
       "      <td>70.3</td>\n",
       "      <td>8400241</td>\n",
       "      <td>591385344.0</td>\n",
       "      <td>300124</td>\n",
       "    </tr>\n",
       "  </tbody>\n",
       "</table>\n",
       "</div>"
      ],
      "text/plain": [
       "                           rq     kp     zg     zd    sp      cjl  \\\n",
       "code   rq                                                           \n",
       "300124 2023/03/31  2023/03/31  71.24  71.35  70.03  70.3  8400241   \n",
       "\n",
       "                           cje    code  \n",
       "code   rq                               \n",
       "300124 2023/03/31  591385344.0  300124  "
      ]
     },
     "execution_count": 53,
     "metadata": {},
     "output_type": "execute_result"
    }
   ],
   "source": [
    "#查询数据，不使用索引\n",
    "df.loc[(df['code']=='300124')&(df['rq']=='2023/03/31')]"
   ]
  },
  {
   "cell_type": "code",
   "execution_count": 54,
   "id": "b8bf4ae8-95d9-4468-ab8c-801b27fb71dc",
   "metadata": {},
   "outputs": [
    {
     "data": {
      "text/plain": [
       "rq       2023/03/31\n",
       "kp            71.24\n",
       "zg            71.35\n",
       "zd            70.03\n",
       "sp             70.3\n",
       "cjl         8400241\n",
       "cje     591385344.0\n",
       "code         300124\n",
       "Name: (300124, 2023/03/31), dtype: object"
      ]
     },
     "execution_count": 54,
     "metadata": {},
     "output_type": "execute_result"
    }
   ],
   "source": [
    "#查询数据，使用索引，有所简化.\n",
    "#注意：组合索引需要用元组形式给出\n",
    "df.loc[('300124','2023/03/31')]\n",
    "#查询结果相同，但命令有所简化"
   ]
  },
  {
   "cell_type": "code",
   "execution_count": 55,
   "id": "97a2e8b7-f2bc-4239-8e1e-f7ad6fbe9dd3",
   "metadata": {},
   "outputs": [
    {
     "data": {
      "text/plain": [
       "rq        2015/09/02\n",
       "kp             17.55\n",
       "zg              18.2\n",
       "zd             17.25\n",
       "sp             17.85\n",
       "cjl        161098239\n",
       "cje     2876193792.0\n",
       "code          000651\n",
       "Name: (000651, 2015/09/02), dtype: object"
      ]
     },
     "execution_count": 55,
     "metadata": {},
     "output_type": "execute_result"
    }
   ],
   "source": [
    "df.loc[('000651','2015/09/02')]"
   ]
  },
  {
   "cell_type": "markdown",
   "id": "b5b67b17-8b2f-429b-8d4e-199b654ef0d9",
   "metadata": {},
   "source": [
    "### **11.2 使用index会提升查询性能**"
   ]
  },
  {
   "cell_type": "markdown",
   "id": "d593b52d-04bf-4114-b6fd-b839eb8c26f5",
   "metadata": {},
   "source": [
    "- 如果index是唯一的，Pandas会使用哈希表优化，查询性能为O(1)。\n",
    "- 如果index不是唯一的，但是有序，Pandas会使用二分查找算法，查询性能为O(logN)。\n",
    "- 如果index是完全随即的，那么每次查找都要扫描全表，查询性能为O(N)"
   ]
  },
  {
   "cell_type": "markdown",
   "id": "649e4a29-77d4-4c14-b1f9-4d599f317753",
   "metadata": {},
   "source": [
    "### 实验1：完全随机的顺序查询"
   ]
  },
  {
   "cell_type": "code",
   "execution_count": 56,
   "id": "9e7a9d45-9bf9-4d85-8eb1-abb70016c491",
   "metadata": {},
   "outputs": [],
   "source": [
    "#将数据随机打散\n",
    "from sklearn.utils import shuffle\n",
    "df_shuffle=shuffle(df)"
   ]
  },
  {
   "cell_type": "code",
   "execution_count": 57,
   "id": "f22c76b3-2d20-44c8-b8c4-d0676ca60ce2",
   "metadata": {},
   "outputs": [
    {
     "data": {
      "text/html": [
       "<div>\n",
       "<style scoped>\n",
       "    .dataframe tbody tr th:only-of-type {\n",
       "        vertical-align: middle;\n",
       "    }\n",
       "\n",
       "    .dataframe tbody tr th {\n",
       "        vertical-align: top;\n",
       "    }\n",
       "\n",
       "    .dataframe thead th {\n",
       "        text-align: right;\n",
       "    }\n",
       "</style>\n",
       "<table border=\"1\" class=\"dataframe\">\n",
       "  <thead>\n",
       "    <tr style=\"text-align: right;\">\n",
       "      <th></th>\n",
       "      <th></th>\n",
       "      <th>rq</th>\n",
       "      <th>kp</th>\n",
       "      <th>zg</th>\n",
       "      <th>zd</th>\n",
       "      <th>sp</th>\n",
       "      <th>cjl</th>\n",
       "      <th>cje</th>\n",
       "      <th>code</th>\n",
       "    </tr>\n",
       "    <tr>\n",
       "      <th>code</th>\n",
       "      <th>rq</th>\n",
       "      <th></th>\n",
       "      <th></th>\n",
       "      <th></th>\n",
       "      <th></th>\n",
       "      <th></th>\n",
       "      <th></th>\n",
       "      <th></th>\n",
       "      <th></th>\n",
       "    </tr>\n",
       "  </thead>\n",
       "  <tbody>\n",
       "    <tr>\n",
       "      <th rowspan=\"2\" valign=\"top\">002475</th>\n",
       "      <th>2019/04/30</th>\n",
       "      <td>2019/04/30</td>\n",
       "      <td>26.16</td>\n",
       "      <td>26.58</td>\n",
       "      <td>25.86</td>\n",
       "      <td>26.09</td>\n",
       "      <td>23330087</td>\n",
       "      <td>6.087688e+08</td>\n",
       "      <td>002475</td>\n",
       "    </tr>\n",
       "    <tr>\n",
       "      <th>2021/04/13</th>\n",
       "      <td>2021/04/13</td>\n",
       "      <td>32.79</td>\n",
       "      <td>34.85</td>\n",
       "      <td>32.79</td>\n",
       "      <td>34.13</td>\n",
       "      <td>100393854</td>\n",
       "      <td>3.425903e+09</td>\n",
       "      <td>002475</td>\n",
       "    </tr>\n",
       "    <tr>\n",
       "      <th rowspan=\"3\" valign=\"top\">601318</th>\n",
       "      <th>2023/04/06</th>\n",
       "      <td>2023/04/06</td>\n",
       "      <td>45.55</td>\n",
       "      <td>45.55</td>\n",
       "      <td>45.03</td>\n",
       "      <td>45.08</td>\n",
       "      <td>36162706</td>\n",
       "      <td>1.634323e+09</td>\n",
       "      <td>601318</td>\n",
       "    </tr>\n",
       "    <tr>\n",
       "      <th>2015/09/28</th>\n",
       "      <td>2015/09/28</td>\n",
       "      <td>31.05</td>\n",
       "      <td>31.13</td>\n",
       "      <td>30.68</td>\n",
       "      <td>30.90</td>\n",
       "      <td>27179227</td>\n",
       "      <td>8.404111e+08</td>\n",
       "      <td>601318</td>\n",
       "    </tr>\n",
       "    <tr>\n",
       "      <th>2021/07/19</th>\n",
       "      <td>2021/07/19</td>\n",
       "      <td>59.88</td>\n",
       "      <td>59.88</td>\n",
       "      <td>58.05</td>\n",
       "      <td>59.35</td>\n",
       "      <td>66650056</td>\n",
       "      <td>3.912636e+09</td>\n",
       "      <td>601318</td>\n",
       "    </tr>\n",
       "  </tbody>\n",
       "</table>\n",
       "</div>"
      ],
      "text/plain": [
       "                           rq     kp     zg     zd     sp        cjl  \\\n",
       "code   rq                                                              \n",
       "002475 2019/04/30  2019/04/30  26.16  26.58  25.86  26.09   23330087   \n",
       "       2021/04/13  2021/04/13  32.79  34.85  32.79  34.13  100393854   \n",
       "601318 2023/04/06  2023/04/06  45.55  45.55  45.03  45.08   36162706   \n",
       "       2015/09/28  2015/09/28  31.05  31.13  30.68  30.90   27179227   \n",
       "       2021/07/19  2021/07/19  59.88  59.88  58.05  59.35   66650056   \n",
       "\n",
       "                            cje    code  \n",
       "code   rq                                \n",
       "002475 2019/04/30  6.087688e+08  002475  \n",
       "       2021/04/13  3.425903e+09  002475  \n",
       "601318 2023/04/06  1.634323e+09  601318  \n",
       "       2015/09/28  8.404111e+08  601318  \n",
       "       2021/07/19  3.912636e+09  601318  "
      ]
     },
     "execution_count": 57,
     "metadata": {},
     "output_type": "execute_result"
    }
   ],
   "source": [
    "df_shuffle.head()"
   ]
  },
  {
   "cell_type": "code",
   "execution_count": 58,
   "id": "30ae796e-d92f-4aef-8107-3fee6e4301cc",
   "metadata": {},
   "outputs": [
    {
     "data": {
      "text/plain": [
       "False"
      ]
     },
     "execution_count": 58,
     "metadata": {},
     "output_type": "execute_result"
    }
   ],
   "source": [
    "#索引是否是递增的\n",
    "df_shuffle.index.is_monotonic_increasing"
   ]
  },
  {
   "cell_type": "code",
   "execution_count": 59,
   "id": "0fb84e52-19d8-4d61-8768-d366cfe361fa",
   "metadata": {},
   "outputs": [
    {
     "data": {
      "text/plain": [
       "True"
      ]
     },
     "execution_count": 59,
     "metadata": {},
     "output_type": "execute_result"
    }
   ],
   "source": [
    "df_shuffle.index.is_unique"
   ]
  },
  {
   "cell_type": "code",
   "execution_count": 60,
   "id": "32df97d2-2c9d-456a-9734-f721959a3646",
   "metadata": {},
   "outputs": [
    {
     "name": "stdout",
     "output_type": "stream",
     "text": [
      "139 µs ± 1.42 µs per loop (mean ± std. dev. of 7 runs, 10,000 loops each)\n"
     ]
    }
   ],
   "source": [
    "#计时，查询id==(300124,'2023/03/31')的性能\n",
    "%timeit df_shuffle.loc[('300124','2023/03/31')]"
   ]
  },
  {
   "cell_type": "markdown",
   "id": "911a7363-256d-4eea-bb40-fbea8ef83dd0",
   "metadata": {},
   "source": [
    "### 实验2：按index排序后的查询"
   ]
  },
  {
   "cell_type": "code",
   "execution_count": 61,
   "id": "2c9237a8-eb7f-4058-ad84-ab0788ea1ca1",
   "metadata": {},
   "outputs": [],
   "source": [
    "df_sorted=df_shuffle.sort_index()"
   ]
  },
  {
   "cell_type": "code",
   "execution_count": 62,
   "id": "e01da276-7667-4bc7-a01f-52542e5c8f64",
   "metadata": {},
   "outputs": [
    {
     "data": {
      "text/html": [
       "<div>\n",
       "<style scoped>\n",
       "    .dataframe tbody tr th:only-of-type {\n",
       "        vertical-align: middle;\n",
       "    }\n",
       "\n",
       "    .dataframe tbody tr th {\n",
       "        vertical-align: top;\n",
       "    }\n",
       "\n",
       "    .dataframe thead th {\n",
       "        text-align: right;\n",
       "    }\n",
       "</style>\n",
       "<table border=\"1\" class=\"dataframe\">\n",
       "  <thead>\n",
       "    <tr style=\"text-align: right;\">\n",
       "      <th></th>\n",
       "      <th></th>\n",
       "      <th>rq</th>\n",
       "      <th>kp</th>\n",
       "      <th>zg</th>\n",
       "      <th>zd</th>\n",
       "      <th>sp</th>\n",
       "      <th>cjl</th>\n",
       "      <th>cje</th>\n",
       "      <th>code</th>\n",
       "    </tr>\n",
       "    <tr>\n",
       "      <th>code</th>\n",
       "      <th>rq</th>\n",
       "      <th></th>\n",
       "      <th></th>\n",
       "      <th></th>\n",
       "      <th></th>\n",
       "      <th></th>\n",
       "      <th></th>\n",
       "      <th></th>\n",
       "      <th></th>\n",
       "    </tr>\n",
       "  </thead>\n",
       "  <tbody>\n",
       "    <tr>\n",
       "      <th rowspan=\"5\" valign=\"top\">000651</th>\n",
       "      <th>2015/09/02</th>\n",
       "      <td>2015/09/02</td>\n",
       "      <td>17.55</td>\n",
       "      <td>18.20</td>\n",
       "      <td>17.25</td>\n",
       "      <td>17.85</td>\n",
       "      <td>161098239</td>\n",
       "      <td>2.876194e+09</td>\n",
       "      <td>000651</td>\n",
       "    </tr>\n",
       "    <tr>\n",
       "      <th>2015/09/07</th>\n",
       "      <td>2015/09/07</td>\n",
       "      <td>17.88</td>\n",
       "      <td>18.36</td>\n",
       "      <td>17.20</td>\n",
       "      <td>17.32</td>\n",
       "      <td>98055248</td>\n",
       "      <td>1.740423e+09</td>\n",
       "      <td>000651</td>\n",
       "    </tr>\n",
       "    <tr>\n",
       "      <th>2015/09/08</th>\n",
       "      <td>2015/09/08</td>\n",
       "      <td>17.20</td>\n",
       "      <td>17.67</td>\n",
       "      <td>17.02</td>\n",
       "      <td>17.60</td>\n",
       "      <td>57352881</td>\n",
       "      <td>9.946880e+08</td>\n",
       "      <td>000651</td>\n",
       "    </tr>\n",
       "    <tr>\n",
       "      <th>2015/09/09</th>\n",
       "      <td>2015/09/09</td>\n",
       "      <td>17.61</td>\n",
       "      <td>18.08</td>\n",
       "      <td>17.47</td>\n",
       "      <td>17.85</td>\n",
       "      <td>109881594</td>\n",
       "      <td>1.957843e+09</td>\n",
       "      <td>000651</td>\n",
       "    </tr>\n",
       "    <tr>\n",
       "      <th>2015/09/10</th>\n",
       "      <td>2015/09/10</td>\n",
       "      <td>17.60</td>\n",
       "      <td>17.80</td>\n",
       "      <td>17.40</td>\n",
       "      <td>17.45</td>\n",
       "      <td>57359762</td>\n",
       "      <td>1.008975e+09</td>\n",
       "      <td>000651</td>\n",
       "    </tr>\n",
       "  </tbody>\n",
       "</table>\n",
       "</div>"
      ],
      "text/plain": [
       "                           rq     kp     zg     zd     sp        cjl  \\\n",
       "code   rq                                                              \n",
       "000651 2015/09/02  2015/09/02  17.55  18.20  17.25  17.85  161098239   \n",
       "       2015/09/07  2015/09/07  17.88  18.36  17.20  17.32   98055248   \n",
       "       2015/09/08  2015/09/08  17.20  17.67  17.02  17.60   57352881   \n",
       "       2015/09/09  2015/09/09  17.61  18.08  17.47  17.85  109881594   \n",
       "       2015/09/10  2015/09/10  17.60  17.80  17.40  17.45   57359762   \n",
       "\n",
       "                            cje    code  \n",
       "code   rq                                \n",
       "000651 2015/09/02  2.876194e+09  000651  \n",
       "       2015/09/07  1.740423e+09  000651  \n",
       "       2015/09/08  9.946880e+08  000651  \n",
       "       2015/09/09  1.957843e+09  000651  \n",
       "       2015/09/10  1.008975e+09  000651  "
      ]
     },
     "execution_count": 62,
     "metadata": {},
     "output_type": "execute_result"
    }
   ],
   "source": [
    "df_sorted.head()"
   ]
  },
  {
   "cell_type": "code",
   "execution_count": 63,
   "id": "3a947d84-f71e-45d7-871c-82bafca20934",
   "metadata": {},
   "outputs": [
    {
     "data": {
      "text/plain": [
       "True"
      ]
     },
     "execution_count": 63,
     "metadata": {},
     "output_type": "execute_result"
    }
   ],
   "source": [
    "#索引是否是递增的\n",
    "df_sorted.index.is_monotonic_increasing"
   ]
  },
  {
   "cell_type": "code",
   "execution_count": 64,
   "id": "f18764f0-bcf2-4ee6-b07b-b133a203bfcf",
   "metadata": {},
   "outputs": [
    {
     "data": {
      "text/plain": [
       "True"
      ]
     },
     "execution_count": 64,
     "metadata": {},
     "output_type": "execute_result"
    }
   ],
   "source": [
    "df_sorted.index.is_unique"
   ]
  },
  {
   "cell_type": "code",
   "execution_count": 65,
   "id": "f5a2cf25-9b91-4933-a4bc-688b7d7f44b6",
   "metadata": {},
   "outputs": [
    {
     "name": "stdout",
     "output_type": "stream",
     "text": [
      "138 µs ± 660 ns per loop (mean ± std. dev. of 7 runs, 10,000 loops each)\n"
     ]
    }
   ],
   "source": [
    "#计时，查询id==(300124,'2023/03/31')的性能\n",
    "%timeit df_sorted.loc[('300124','2023/03/31')]"
   ]
  },
  {
   "cell_type": "markdown",
   "id": "8ef0018a-61ea-4774-aefe-c538bb84eb95",
   "metadata": {},
   "source": [
    "**可见排序后查询速度得到了提高，由于本例数据量不大，提升不明显**"
   ]
  },
  {
   "cell_type": "markdown",
   "id": "0de94f3d-e51d-4e4b-8c61-19f389e9dc68",
   "metadata": {
    "tags": []
   },
   "source": [
    "### **11.3 使用index能自动对齐数据**"
   ]
  },
  {
   "cell_type": "markdown",
   "id": "855a308f-c9f6-4c24-9d72-7e7bcf55b9f5",
   "metadata": {},
   "source": [
    "**包括Series和DataFrame，如：索引相同的元素或者列（行）可以自动对齐后进行运算**"
   ]
  },
  {
   "cell_type": "code",
   "execution_count": 66,
   "id": "d26a91bf-1af3-4e29-ab2d-43bf0ead1dc5",
   "metadata": {},
   "outputs": [],
   "source": [
    "s1=pd.Series([1,2,3],index=list('abc'))"
   ]
  },
  {
   "cell_type": "code",
   "execution_count": 67,
   "id": "c8387094-040c-4958-8b8c-4e37c46c89de",
   "metadata": {},
   "outputs": [
    {
     "data": {
      "text/plain": [
       "a    1\n",
       "b    2\n",
       "c    3\n",
       "dtype: int64"
      ]
     },
     "execution_count": 67,
     "metadata": {},
     "output_type": "execute_result"
    }
   ],
   "source": [
    "s1"
   ]
  },
  {
   "cell_type": "code",
   "execution_count": 68,
   "id": "7565f9b6-bd92-4370-9ecf-778a3f25b4e0",
   "metadata": {},
   "outputs": [],
   "source": [
    "s2=pd.Series([2,3,4],index=list('bcd'))"
   ]
  },
  {
   "cell_type": "code",
   "execution_count": 69,
   "id": "82c74a4f-c1e8-462f-b9a8-c4921e174961",
   "metadata": {},
   "outputs": [
    {
     "data": {
      "text/plain": [
       "b    2\n",
       "c    3\n",
       "d    4\n",
       "dtype: int64"
      ]
     },
     "execution_count": 69,
     "metadata": {},
     "output_type": "execute_result"
    }
   ],
   "source": [
    "s2"
   ]
  },
  {
   "cell_type": "code",
   "execution_count": 70,
   "id": "ed7b5e52-8ad2-4bac-933a-9a6667747f76",
   "metadata": {},
   "outputs": [
    {
     "data": {
      "text/plain": [
       "a    NaN\n",
       "b    4.0\n",
       "c    6.0\n",
       "d    NaN\n",
       "dtype: float64"
      ]
     },
     "execution_count": 70,
     "metadata": {},
     "output_type": "execute_result"
    }
   ],
   "source": [
    "s1+s2"
   ]
  },
  {
   "cell_type": "markdown",
   "id": "e0a2ce4d-7d54-4952-b5b3-0d0577187239",
   "metadata": {},
   "source": [
    "**可见，索引相同的元素自动对其，并完成加法计算，其他两个元素未能正常完成加法运算**"
   ]
  },
  {
   "cell_type": "markdown",
   "id": "2016053f-6f04-4951-b886-9acbf7c01f3c",
   "metadata": {
    "tags": []
   },
   "source": [
    "### **11.4 使用index更多更强大的数据结构支持**"
   ]
  },
  {
   "cell_type": "markdown",
   "id": "b58572e9-66c4-43b9-82fa-b2a3649bf602",
   "metadata": {},
   "source": [
    "**_很多很强大的数据结构_**\n",
    "\n",
    "- CategoricalIndex,基于分类数据的index,提升性能\n",
    "- MultiIndex,多维索引，用于group by多维聚合后结果等\n",
    "- DatatimeIndex,时间类型索引，强调的日期和时间的方法支持"
   ]
  },
  {
   "cell_type": "markdown",
   "id": "9a8ac154-010d-484c-8b34-9edb8c6cd5b9",
   "metadata": {},
   "source": []
  },
  {
   "cell_type": "markdown",
   "id": "e472d8b2-1727-4c03-97c1-984a22f5d7b5",
   "metadata": {},
   "source": [
    "----"
   ]
  },
  {
   "cell_type": "code",
   "execution_count": null,
   "id": "06722cd4-13ee-43db-bf8f-2e0baf70ff57",
   "metadata": {},
   "outputs": [],
   "source": []
  },
  {
   "cell_type": "markdown",
   "id": "8038742e-0405-4f7a-b864-6acbb6e95bad",
   "metadata": {},
   "source": [
    "## **12. Pandas的Merge语法**  "
   ]
  },
  {
   "cell_type": "markdown",
   "id": "814470a8-6e9b-4c02-aaea-ead2d982750d",
   "metadata": {},
   "source": [
    "**Pandas怎样实现DataFrame的Merge**  \n",
    "**Merge相当于SQL的 join, 将不同的表按key关联到一个表**"
   ]
  },
  {
   "cell_type": "markdown",
   "id": "10a4bec1-2c68-41e1-b773-07f47b8fb720",
   "metadata": {},
   "source": [
    "**merge的语法**"
   ]
  },
  {
   "cell_type": "code",
   "execution_count": 1,
   "id": "dcd69e13-ca1b-43b5-96e7-9df5eb7cfc2b",
   "metadata": {
    "tags": []
   },
   "outputs": [],
   "source": [
    "DataFrame.merge(right, how='inner', on=None, left_on=None, right_on=None, \n",
    "                left_index=False, right_index=False, sort=False, \n",
    "                suffixes=('_x', '_y'), copy=None, indicator=False, validate=None)"
   ]
  },
  {
   "cell_type": "markdown",
   "id": "61b5071b-93ae-431c-8670-0b3a0f923c4d",
   "metadata": {
    "tags": []
   },
   "source": [
    "**参数说明：**\n",
    "```\n",
    "- right---------DataFrame or named Series，Object to merge with.\n",
    "\n",
    "- how-----------{‘left’, ‘right’, ‘outer’, ‘inner’, ‘cross’}, default ‘inner’\n",
    "\n",
    "- on------------label or list.\n",
    "                Column or index level names to join on. These must be found in both DataFrames. If on is None    \n",
    "                and not merging on indexes then this defaults to the intersection of the columns in both DataFrames.  \n",
    "                \n",
    "- left_on-------label or list, or array-like.  \n",
    "                Column or index level names to join on in the left DataFrame. Can also be an array or list of arrays \n",
    "                of the length of the left DataFrame. These arrays are treated as if they are columns.\n",
    "                \n",
    "- right_on------label or list, or array-like\n",
    "                Column or index level names to join on in the right DataFrame. Can also be an array or list of arrays\n",
    "                of the length of the right DataFrame. These arrays are treated as if they are columns.\n",
    "                \n",
    "- left_index----bool, default False\n",
    "                Use the index from the left DataFrame as the join key(s). If it is a MultiIndex, the number of keys \n",
    "                in the other DataFrame (either the index or a number of columns) must match the number of levels.\n",
    "                \n",
    "- right_index---bool, default False\n",
    "                Use the index from the right DataFrame as the join key. Same caveats as left_index.\n",
    "                \n",
    "- sort----------bool, default False\n",
    "                Sort the join keys lexicographically(按字典顺序) in the result DataFrame. If False, the order of the \n",
    "                join keys depends on the join type (how keyword).\n",
    "                \n",
    "- suffixes------list-like, default is (“_x”, “_y”)\n",
    "                A length-2 sequence where each element is optionally a string indicating the suffix（后缀） to add to \n",
    "                overlapping column names in left and right respectively. Pass a value of None instead of a string to \n",
    "                indicate that the column name from left or right should be left as-is, with no suffix. At least one \n",
    "                of the values must not be None.\n",
    "                \n",
    "- copy----------bool, default True\n",
    "                If False, avoid copy if possible.\n",
    "                \n",
    "- indicator-----bool or str, default False\n",
    "                If True, adds a column to the output DataFrame called “_merge” with information on the source of each \n",
    "                row（源数据行的有关信息）. The column can be given a different name by providing a string argument. \n",
    "                \n",
    "                关于新增列\"-merge\"的取值：\n",
    "                    'left_only'---The column will have a Categorical（分类的，类别的） type with the value of “left_only” \n",
    "                                  for observations whose merge key only appears in the left DataFrame, \n",
    "                    'right_only---“right_only” for observations whose merge key only appears in the right DataFrame,  \n",
    "                    'both'--------“both” if the observation’s merge key is found in both DataFrames.\n",
    "\n",
    "- validate------str, optional\n",
    "                If specified, checks if merge is of specified type.（如果指定该参数，则检查合并是否为指定类型。）\n",
    "\n",
    "                类型：\n",
    "                \n",
    "                “one_to_one” or “1:1”: check if merge keys are unique in both left and right datasets.\n",
    "                “one_to_many” or “1:m”: check if merge keys are unique in left dataset.\n",
    "                “many_to_one” or “m:1”: check if merge keys are unique in right dataset.\n",
    "                “many_to_many” or “m:m”: allowed, but does not result in checks.\n",
    "```\n",
    "\n",
    "**返回值：**\n",
    "    DataFrame。A DataFrame of the two merged objects.\n"
   ]
  },
  {
   "cell_type": "markdown",
   "id": "05b2a669-b2f4-4fd3-bc46-59f6dea924f9",
   "metadata": {},
   "source": [
    "文档地址：https://pandas.pydata.org/docs/reference/api/pandas.DataFrame.merge.html"
   ]
  },
  {
   "cell_type": "markdown",
   "id": "5cfb4298-e005-420b-8311-37a503809f6d",
   "metadata": {},
   "source": [
    "**另外：实现两个DataFrame数据纵向合并的方法：**  \n",
    "\n",
    "**pandas.concat函数**\n",
    "\n",
    "**语法：** \n",
    "```\n",
    "        pandas.concat(objs, *, axis=0, join='outer', \n",
    "                      ignore_index=False, keys=None, \n",
    "                      levels=None, names=None, \n",
    "                      verify_integrity=False, \n",
    "                      sort=False, copy=None\n",
    "                    )\n",
    "```\n",
    "官方文档：http://pandas.pydata.org/docs/reference/api/pandas.concat.html#pandas.concat\n"
   ]
  },
  {
   "cell_type": "markdown",
   "id": "b00876ca-0acf-4496-94ed-863a5cdad864",
   "metadata": {
    "tags": []
   },
   "source": [
    "### **12.1 电影数据集的 join 实例**"
   ]
  },
  {
   "cell_type": "markdown",
   "id": "e70f5b0d-07c5-42ca-85be-263be43beb2e",
   "metadata": {},
   "source": [
    "**电影评分数据集**"
   ]
  },
  {
   "cell_type": "markdown",
   "id": "16f2c949-1a56-4c0d-8d3a-83f607cb1937",
   "metadata": {},
   "source": [
    "是“推荐系统”研究的很好的数据集\n",
    "\n",
    "包含三个文件：  \n",
    "\n",
    "1. 用户对电影的评分数据，ratings.dat\n",
    "2. 用户本身的信息数据，users.dat\n",
    "3. 电影本身的信息数据,movies.dat\n",
    "\n",
    "可以关联三张标，形成一张大表\n",
    "\n",
    "数据集官方地址：https://grouplens.org/datasets/movielens/"
   ]
  },
  {
   "cell_type": "code",
   "execution_count": 2,
   "id": "a68098a8-e24d-45ff-b065-466d8a80eb05",
   "metadata": {
    "tags": []
   },
   "outputs": [],
   "source": [
    "import pandas as pd"
   ]
  },
  {
   "cell_type": "code",
   "execution_count": 4,
   "id": "2f336f15-c060-4c10-b784-aa3cad4ee9c1",
   "metadata": {
    "tags": []
   },
   "outputs": [],
   "source": [
    "df_ratings=pd.read_csv(\n",
    "    '/media/数据盘/pandas/movielens/ml-1m/ratings.dat',\n",
    "    sep='::',         #长度超过1个字符且与“\\s+”不同的分隔符将被解释为正则表达式，并将强制使用Python解析引擎\n",
    "    engine='python',  #这是pandas的语法要求，当sep参数不是一个字符长度时，它会认为sep的值是一个表达式，这里用engine参数告诉系统\n",
    "                      #它就是分隔符，不是表达式\n",
    "    names='UserId::MovieId::Rating::Timestamp'.split('::')\n",
    ")"
   ]
  },
  {
   "cell_type": "code",
   "execution_count": 5,
   "id": "9e95b290-05e1-47b8-972f-d20470ed120f",
   "metadata": {
    "tags": []
   },
   "outputs": [
    {
     "data": {
      "text/html": [
       "<div>\n",
       "<style scoped>\n",
       "    .dataframe tbody tr th:only-of-type {\n",
       "        vertical-align: middle;\n",
       "    }\n",
       "\n",
       "    .dataframe tbody tr th {\n",
       "        vertical-align: top;\n",
       "    }\n",
       "\n",
       "    .dataframe thead th {\n",
       "        text-align: right;\n",
       "    }\n",
       "</style>\n",
       "<table border=\"1\" class=\"dataframe\">\n",
       "  <thead>\n",
       "    <tr style=\"text-align: right;\">\n",
       "      <th></th>\n",
       "      <th>UserId</th>\n",
       "      <th>MovieId</th>\n",
       "      <th>Rating</th>\n",
       "      <th>Timestamp</th>\n",
       "    </tr>\n",
       "  </thead>\n",
       "  <tbody>\n",
       "    <tr>\n",
       "      <th>0</th>\n",
       "      <td>1</td>\n",
       "      <td>1193</td>\n",
       "      <td>5</td>\n",
       "      <td>978300760</td>\n",
       "    </tr>\n",
       "    <tr>\n",
       "      <th>1</th>\n",
       "      <td>1</td>\n",
       "      <td>661</td>\n",
       "      <td>3</td>\n",
       "      <td>978302109</td>\n",
       "    </tr>\n",
       "    <tr>\n",
       "      <th>2</th>\n",
       "      <td>1</td>\n",
       "      <td>914</td>\n",
       "      <td>3</td>\n",
       "      <td>978301968</td>\n",
       "    </tr>\n",
       "    <tr>\n",
       "      <th>3</th>\n",
       "      <td>1</td>\n",
       "      <td>3408</td>\n",
       "      <td>4</td>\n",
       "      <td>978300275</td>\n",
       "    </tr>\n",
       "    <tr>\n",
       "      <th>4</th>\n",
       "      <td>1</td>\n",
       "      <td>2355</td>\n",
       "      <td>5</td>\n",
       "      <td>978824291</td>\n",
       "    </tr>\n",
       "  </tbody>\n",
       "</table>\n",
       "</div>"
      ],
      "text/plain": [
       "   UserId  MovieId  Rating  Timestamp\n",
       "0       1     1193       5  978300760\n",
       "1       1      661       3  978302109\n",
       "2       1      914       3  978301968\n",
       "3       1     3408       4  978300275\n",
       "4       1     2355       5  978824291"
      ]
     },
     "execution_count": 5,
     "metadata": {},
     "output_type": "execute_result"
    }
   ],
   "source": [
    "df_ratings.head()"
   ]
  },
  {
   "cell_type": "code",
   "execution_count": 9,
   "id": "91eb34fb-30df-467c-a9df-89577769639c",
   "metadata": {
    "tags": []
   },
   "outputs": [],
   "source": [
    "df_users=pd.read_csv(\n",
    "    '/media/数据盘/pandas/movielens/ml-1m/users.dat',\n",
    "    sep='::',\n",
    "    engine='python',\n",
    "    names='UserId::Gender::Age::Occupation::Zip-code'.split('::')\n",
    ")"
   ]
  },
  {
   "cell_type": "code",
   "execution_count": 11,
   "id": "a72a3797-e9b0-4557-9b49-16c45c1ed4cc",
   "metadata": {
    "tags": []
   },
   "outputs": [
    {
     "data": {
      "text/html": [
       "<div>\n",
       "<style scoped>\n",
       "    .dataframe tbody tr th:only-of-type {\n",
       "        vertical-align: middle;\n",
       "    }\n",
       "\n",
       "    .dataframe tbody tr th {\n",
       "        vertical-align: top;\n",
       "    }\n",
       "\n",
       "    .dataframe thead th {\n",
       "        text-align: right;\n",
       "    }\n",
       "</style>\n",
       "<table border=\"1\" class=\"dataframe\">\n",
       "  <thead>\n",
       "    <tr style=\"text-align: right;\">\n",
       "      <th></th>\n",
       "      <th>UserId</th>\n",
       "      <th>Gender</th>\n",
       "      <th>Age</th>\n",
       "      <th>Occupation</th>\n",
       "      <th>Zip-code</th>\n",
       "    </tr>\n",
       "  </thead>\n",
       "  <tbody>\n",
       "    <tr>\n",
       "      <th>0</th>\n",
       "      <td>1</td>\n",
       "      <td>F</td>\n",
       "      <td>1</td>\n",
       "      <td>10</td>\n",
       "      <td>48067</td>\n",
       "    </tr>\n",
       "    <tr>\n",
       "      <th>1</th>\n",
       "      <td>2</td>\n",
       "      <td>M</td>\n",
       "      <td>56</td>\n",
       "      <td>16</td>\n",
       "      <td>70072</td>\n",
       "    </tr>\n",
       "    <tr>\n",
       "      <th>2</th>\n",
       "      <td>3</td>\n",
       "      <td>M</td>\n",
       "      <td>25</td>\n",
       "      <td>15</td>\n",
       "      <td>55117</td>\n",
       "    </tr>\n",
       "    <tr>\n",
       "      <th>3</th>\n",
       "      <td>4</td>\n",
       "      <td>M</td>\n",
       "      <td>45</td>\n",
       "      <td>7</td>\n",
       "      <td>02460</td>\n",
       "    </tr>\n",
       "    <tr>\n",
       "      <th>4</th>\n",
       "      <td>5</td>\n",
       "      <td>M</td>\n",
       "      <td>25</td>\n",
       "      <td>20</td>\n",
       "      <td>55455</td>\n",
       "    </tr>\n",
       "  </tbody>\n",
       "</table>\n",
       "</div>"
      ],
      "text/plain": [
       "   UserId Gender  Age  Occupation Zip-code\n",
       "0       1      F    1          10    48067\n",
       "1       2      M   56          16    70072\n",
       "2       3      M   25          15    55117\n",
       "3       4      M   45           7    02460\n",
       "4       5      M   25          20    55455"
      ]
     },
     "execution_count": 11,
     "metadata": {},
     "output_type": "execute_result"
    }
   ],
   "source": [
    "df_users.head()"
   ]
  },
  {
   "cell_type": "code",
   "execution_count": 13,
   "id": "a97d4347-8a2c-450d-b0b7-6eb9b1491977",
   "metadata": {
    "tags": []
   },
   "outputs": [],
   "source": [
    "df_movies=pd.read_csv(\n",
    "    '/media/数据盘/pandas/movielens/ml-1m/movies.dat',\n",
    "    sep='::',\n",
    "    engine='python',\n",
    "    names='MovieId::Title::Genres'.split('::')\n",
    ")    "
   ]
  },
  {
   "cell_type": "code",
   "execution_count": 15,
   "id": "c96ff63e-f80c-4734-ac0c-ff78d946255c",
   "metadata": {
    "tags": []
   },
   "outputs": [
    {
     "data": {
      "text/html": [
       "<div>\n",
       "<style scoped>\n",
       "    .dataframe tbody tr th:only-of-type {\n",
       "        vertical-align: middle;\n",
       "    }\n",
       "\n",
       "    .dataframe tbody tr th {\n",
       "        vertical-align: top;\n",
       "    }\n",
       "\n",
       "    .dataframe thead th {\n",
       "        text-align: right;\n",
       "    }\n",
       "</style>\n",
       "<table border=\"1\" class=\"dataframe\">\n",
       "  <thead>\n",
       "    <tr style=\"text-align: right;\">\n",
       "      <th></th>\n",
       "      <th>MovieId</th>\n",
       "      <th>Title</th>\n",
       "      <th>Genres</th>\n",
       "    </tr>\n",
       "  </thead>\n",
       "  <tbody>\n",
       "    <tr>\n",
       "      <th>0</th>\n",
       "      <td>1</td>\n",
       "      <td>Toy Story (1995)</td>\n",
       "      <td>Animation|Children's|Comedy</td>\n",
       "    </tr>\n",
       "    <tr>\n",
       "      <th>1</th>\n",
       "      <td>2</td>\n",
       "      <td>Jumanji (1995)</td>\n",
       "      <td>Adventure|Children's|Fantasy</td>\n",
       "    </tr>\n",
       "    <tr>\n",
       "      <th>2</th>\n",
       "      <td>3</td>\n",
       "      <td>Grumpier Old Men (1995)</td>\n",
       "      <td>Comedy|Romance</td>\n",
       "    </tr>\n",
       "    <tr>\n",
       "      <th>3</th>\n",
       "      <td>4</td>\n",
       "      <td>Waiting to Exhale (1995)</td>\n",
       "      <td>Comedy|Drama</td>\n",
       "    </tr>\n",
       "    <tr>\n",
       "      <th>4</th>\n",
       "      <td>5</td>\n",
       "      <td>Father of the Bride Part II (1995)</td>\n",
       "      <td>Comedy</td>\n",
       "    </tr>\n",
       "  </tbody>\n",
       "</table>\n",
       "</div>"
      ],
      "text/plain": [
       "   MovieId                               Title                        Genres\n",
       "0        1                    Toy Story (1995)   Animation|Children's|Comedy\n",
       "1        2                      Jumanji (1995)  Adventure|Children's|Fantasy\n",
       "2        3             Grumpier Old Men (1995)                Comedy|Romance\n",
       "3        4            Waiting to Exhale (1995)                  Comedy|Drama\n",
       "4        5  Father of the Bride Part II (1995)                        Comedy"
      ]
     },
     "execution_count": 15,
     "metadata": {},
     "output_type": "execute_result"
    }
   ],
   "source": [
    "df_movies.head()"
   ]
  },
  {
   "cell_type": "markdown",
   "id": "82d28423-3ad2-410d-9c4d-81024f7464f9",
   "metadata": {},
   "source": [
    "第一步合并(merge)"
   ]
  },
  {
   "cell_type": "code",
   "execution_count": 16,
   "id": "e2aa4f1e-fc44-4f92-a377-a9b015d29e2a",
   "metadata": {
    "tags": []
   },
   "outputs": [],
   "source": [
    "df_ratings_users=pd.merge(df_ratings,df_users,\n",
    "                          left_on='UserId',\n",
    "                          right_on='UserId',\n",
    "                          how='inner'\n",
    "                         )"
   ]
  },
  {
   "cell_type": "code",
   "execution_count": 17,
   "id": "6c902b55-56cd-4c10-999d-b0246096fd50",
   "metadata": {
    "tags": []
   },
   "outputs": [
    {
     "data": {
      "text/html": [
       "<div>\n",
       "<style scoped>\n",
       "    .dataframe tbody tr th:only-of-type {\n",
       "        vertical-align: middle;\n",
       "    }\n",
       "\n",
       "    .dataframe tbody tr th {\n",
       "        vertical-align: top;\n",
       "    }\n",
       "\n",
       "    .dataframe thead th {\n",
       "        text-align: right;\n",
       "    }\n",
       "</style>\n",
       "<table border=\"1\" class=\"dataframe\">\n",
       "  <thead>\n",
       "    <tr style=\"text-align: right;\">\n",
       "      <th></th>\n",
       "      <th>UserId</th>\n",
       "      <th>MovieId</th>\n",
       "      <th>Rating</th>\n",
       "      <th>Timestamp</th>\n",
       "      <th>Gender</th>\n",
       "      <th>Age</th>\n",
       "      <th>Occupation</th>\n",
       "      <th>Zip-code</th>\n",
       "    </tr>\n",
       "  </thead>\n",
       "  <tbody>\n",
       "    <tr>\n",
       "      <th>0</th>\n",
       "      <td>1</td>\n",
       "      <td>1193</td>\n",
       "      <td>5</td>\n",
       "      <td>978300760</td>\n",
       "      <td>F</td>\n",
       "      <td>1</td>\n",
       "      <td>10</td>\n",
       "      <td>48067</td>\n",
       "    </tr>\n",
       "    <tr>\n",
       "      <th>1</th>\n",
       "      <td>1</td>\n",
       "      <td>661</td>\n",
       "      <td>3</td>\n",
       "      <td>978302109</td>\n",
       "      <td>F</td>\n",
       "      <td>1</td>\n",
       "      <td>10</td>\n",
       "      <td>48067</td>\n",
       "    </tr>\n",
       "    <tr>\n",
       "      <th>2</th>\n",
       "      <td>1</td>\n",
       "      <td>914</td>\n",
       "      <td>3</td>\n",
       "      <td>978301968</td>\n",
       "      <td>F</td>\n",
       "      <td>1</td>\n",
       "      <td>10</td>\n",
       "      <td>48067</td>\n",
       "    </tr>\n",
       "    <tr>\n",
       "      <th>3</th>\n",
       "      <td>1</td>\n",
       "      <td>3408</td>\n",
       "      <td>4</td>\n",
       "      <td>978300275</td>\n",
       "      <td>F</td>\n",
       "      <td>1</td>\n",
       "      <td>10</td>\n",
       "      <td>48067</td>\n",
       "    </tr>\n",
       "    <tr>\n",
       "      <th>4</th>\n",
       "      <td>1</td>\n",
       "      <td>2355</td>\n",
       "      <td>5</td>\n",
       "      <td>978824291</td>\n",
       "      <td>F</td>\n",
       "      <td>1</td>\n",
       "      <td>10</td>\n",
       "      <td>48067</td>\n",
       "    </tr>\n",
       "  </tbody>\n",
       "</table>\n",
       "</div>"
      ],
      "text/plain": [
       "   UserId  MovieId  Rating  Timestamp Gender  Age  Occupation Zip-code\n",
       "0       1     1193       5  978300760      F    1          10    48067\n",
       "1       1      661       3  978302109      F    1          10    48067\n",
       "2       1      914       3  978301968      F    1          10    48067\n",
       "3       1     3408       4  978300275      F    1          10    48067\n",
       "4       1     2355       5  978824291      F    1          10    48067"
      ]
     },
     "execution_count": 17,
     "metadata": {},
     "output_type": "execute_result"
    }
   ],
   "source": [
    "df_ratings_users.head()"
   ]
  },
  {
   "cell_type": "markdown",
   "id": "72e70a2a-ebdb-4756-a477-d363af2b45a9",
   "metadata": {},
   "source": [
    "**一次只能合并两张表，有多张表需要合并时，只能分布实施**"
   ]
  },
  {
   "cell_type": "code",
   "execution_count": 20,
   "id": "12ab11b9-89fa-4d7e-ae0b-bd5987420114",
   "metadata": {
    "tags": []
   },
   "outputs": [],
   "source": [
    "df_ratings_users_movites=pd.merge(df_ratings_users,df_movies,\n",
    "                                  left_on='MovieId',\n",
    "                                  right_on='MovieId',\n",
    "                                  how='inner'\n",
    "                                 )"
   ]
  },
  {
   "cell_type": "code",
   "execution_count": 21,
   "id": "ea5dafba-e884-4c69-988d-2cd3c95cc3e4",
   "metadata": {
    "tags": []
   },
   "outputs": [
    {
     "data": {
      "text/html": [
       "<div>\n",
       "<style scoped>\n",
       "    .dataframe tbody tr th:only-of-type {\n",
       "        vertical-align: middle;\n",
       "    }\n",
       "\n",
       "    .dataframe tbody tr th {\n",
       "        vertical-align: top;\n",
       "    }\n",
       "\n",
       "    .dataframe thead th {\n",
       "        text-align: right;\n",
       "    }\n",
       "</style>\n",
       "<table border=\"1\" class=\"dataframe\">\n",
       "  <thead>\n",
       "    <tr style=\"text-align: right;\">\n",
       "      <th></th>\n",
       "      <th>UserId</th>\n",
       "      <th>MovieId</th>\n",
       "      <th>Rating</th>\n",
       "      <th>Timestamp</th>\n",
       "      <th>Gender</th>\n",
       "      <th>Age</th>\n",
       "      <th>Occupation</th>\n",
       "      <th>Zip-code</th>\n",
       "      <th>Title</th>\n",
       "      <th>Genres</th>\n",
       "    </tr>\n",
       "  </thead>\n",
       "  <tbody>\n",
       "    <tr>\n",
       "      <th>0</th>\n",
       "      <td>1</td>\n",
       "      <td>661</td>\n",
       "      <td>3</td>\n",
       "      <td>978302109</td>\n",
       "      <td>F</td>\n",
       "      <td>1</td>\n",
       "      <td>10</td>\n",
       "      <td>48067</td>\n",
       "      <td>James and the Giant Peach (1996)</td>\n",
       "      <td>Animation|Children's|Musical</td>\n",
       "    </tr>\n",
       "    <tr>\n",
       "      <th>1</th>\n",
       "      <td>23</td>\n",
       "      <td>661</td>\n",
       "      <td>2</td>\n",
       "      <td>978460739</td>\n",
       "      <td>M</td>\n",
       "      <td>35</td>\n",
       "      <td>0</td>\n",
       "      <td>90049</td>\n",
       "      <td>James and the Giant Peach (1996)</td>\n",
       "      <td>Animation|Children's|Musical</td>\n",
       "    </tr>\n",
       "    <tr>\n",
       "      <th>2</th>\n",
       "      <td>49</td>\n",
       "      <td>661</td>\n",
       "      <td>3</td>\n",
       "      <td>977972750</td>\n",
       "      <td>M</td>\n",
       "      <td>18</td>\n",
       "      <td>12</td>\n",
       "      <td>77084</td>\n",
       "      <td>James and the Giant Peach (1996)</td>\n",
       "      <td>Animation|Children's|Musical</td>\n",
       "    </tr>\n",
       "    <tr>\n",
       "      <th>3</th>\n",
       "      <td>53</td>\n",
       "      <td>661</td>\n",
       "      <td>5</td>\n",
       "      <td>977979726</td>\n",
       "      <td>M</td>\n",
       "      <td>25</td>\n",
       "      <td>0</td>\n",
       "      <td>96931</td>\n",
       "      <td>James and the Giant Peach (1996)</td>\n",
       "      <td>Animation|Children's|Musical</td>\n",
       "    </tr>\n",
       "    <tr>\n",
       "      <th>4</th>\n",
       "      <td>57</td>\n",
       "      <td>661</td>\n",
       "      <td>4</td>\n",
       "      <td>977935511</td>\n",
       "      <td>M</td>\n",
       "      <td>18</td>\n",
       "      <td>19</td>\n",
       "      <td>30350</td>\n",
       "      <td>James and the Giant Peach (1996)</td>\n",
       "      <td>Animation|Children's|Musical</td>\n",
       "    </tr>\n",
       "  </tbody>\n",
       "</table>\n",
       "</div>"
      ],
      "text/plain": [
       "   UserId  MovieId  Rating  Timestamp Gender  Age  Occupation Zip-code  \\\n",
       "0       1      661       3  978302109      F    1          10    48067   \n",
       "1      23      661       2  978460739      M   35           0    90049   \n",
       "2      49      661       3  977972750      M   18          12    77084   \n",
       "3      53      661       5  977979726      M   25           0    96931   \n",
       "4      57      661       4  977935511      M   18          19    30350   \n",
       "\n",
       "                              Title                        Genres  \n",
       "0  James and the Giant Peach (1996)  Animation|Children's|Musical  \n",
       "1  James and the Giant Peach (1996)  Animation|Children's|Musical  \n",
       "2  James and the Giant Peach (1996)  Animation|Children's|Musical  \n",
       "3  James and the Giant Peach (1996)  Animation|Children's|Musical  \n",
       "4  James and the Giant Peach (1996)  Animation|Children's|Musical  "
      ]
     },
     "execution_count": 21,
     "metadata": {},
     "output_type": "execute_result"
    }
   ],
   "source": [
    "df_ratings_users_movites.head()"
   ]
  },
  {
   "cell_type": "code",
   "execution_count": null,
   "id": "4e32a243-fc1d-47f0-9394-cd649e6011d2",
   "metadata": {},
   "outputs": [],
   "source": []
  },
  {
   "cell_type": "markdown",
   "id": "7778d1f1-3714-4523-9de0-109d3f98382d",
   "metadata": {
    "tags": []
   },
   "source": [
    "### **12.2 理解 merge 时数量的对其关系**"
   ]
  },
  {
   "cell_type": "markdown",
   "id": "4c246d8d-8da3-4c65-8bc4-d535ad7a444b",
   "metadata": {},
   "source": [
    "**以下关系要正确理解**"
   ]
  },
  {
   "cell_type": "markdown",
   "id": "7eb250f5-2626-4a4e-8f0f-f490ea100c72",
   "metadata": {},
   "source": [
    "- “one_to_one” or “1:1”: 一对一关系，关联的键都是唯一的。结果记录数为1*1。check if merge keys are unique in both left and right datasets.\n",
    "- “one_to_many” or “1:m”: 一对多关系，左边键值唯一，右边不唯一。结果记录数为1*N。check if merge keys are unique in left dataset.\n",
    "- “many_to_one” or “m:1”: 多对一关系，左边键值不唯一，右边唯一。结果记录数为N*1。check if merge keys are unique in right dataset.\n",
    "- “many_to_many” or “m:m”: 多对多关系，左右两边键值都不唯一。结果记录数为M*N。allowed, but does not result in checks."
   ]
  },
  {
   "cell_type": "markdown",
   "id": "2502e4f4-ca09-4867-a479-56eb675ab519",
   "metadata": {
    "tags": []
   },
   "source": [
    "#### **12.2.1 one_to_one，一对一关系的 merge**"
   ]
  },
  {
   "cell_type": "code",
   "execution_count": 24,
   "id": "6126b97e-5c81-4cbb-90aa-67bd9d9612e8",
   "metadata": {
    "tags": []
   },
   "outputs": [],
   "source": [
    "left=pd.DataFrame({'sno':[11,22,33,44],'name':['name1','name2','name3','name4']})"
   ]
  },
  {
   "cell_type": "code",
   "execution_count": 25,
   "id": "3c05b97e-5199-4314-9891-bd877d96f3cd",
   "metadata": {
    "tags": []
   },
   "outputs": [],
   "source": [
    "right=pd.DataFrame({'sno':[11,22,33,44],'age':[21,22,23,24]})"
   ]
  },
  {
   "cell_type": "code",
   "execution_count": 26,
   "id": "46b54704-c67b-46c3-9ed9-91ed463a99a1",
   "metadata": {
    "tags": []
   },
   "outputs": [
    {
     "data": {
      "text/html": [
       "<div>\n",
       "<style scoped>\n",
       "    .dataframe tbody tr th:only-of-type {\n",
       "        vertical-align: middle;\n",
       "    }\n",
       "\n",
       "    .dataframe tbody tr th {\n",
       "        vertical-align: top;\n",
       "    }\n",
       "\n",
       "    .dataframe thead th {\n",
       "        text-align: right;\n",
       "    }\n",
       "</style>\n",
       "<table border=\"1\" class=\"dataframe\">\n",
       "  <thead>\n",
       "    <tr style=\"text-align: right;\">\n",
       "      <th></th>\n",
       "      <th>sno</th>\n",
       "      <th>name</th>\n",
       "      <th>age</th>\n",
       "    </tr>\n",
       "  </thead>\n",
       "  <tbody>\n",
       "    <tr>\n",
       "      <th>0</th>\n",
       "      <td>11</td>\n",
       "      <td>name1</td>\n",
       "      <td>21</td>\n",
       "    </tr>\n",
       "    <tr>\n",
       "      <th>1</th>\n",
       "      <td>22</td>\n",
       "      <td>name2</td>\n",
       "      <td>22</td>\n",
       "    </tr>\n",
       "    <tr>\n",
       "      <th>2</th>\n",
       "      <td>33</td>\n",
       "      <td>name3</td>\n",
       "      <td>23</td>\n",
       "    </tr>\n",
       "    <tr>\n",
       "      <th>3</th>\n",
       "      <td>44</td>\n",
       "      <td>name4</td>\n",
       "      <td>24</td>\n",
       "    </tr>\n",
       "  </tbody>\n",
       "</table>\n",
       "</div>"
      ],
      "text/plain": [
       "   sno   name  age\n",
       "0   11  name1   21\n",
       "1   22  name2   22\n",
       "2   33  name3   23\n",
       "3   44  name4   24"
      ]
     },
     "execution_count": 26,
     "metadata": {},
     "output_type": "execute_result"
    }
   ],
   "source": [
    "pd.merge(left,right,on='sno')"
   ]
  },
  {
   "cell_type": "markdown",
   "id": "90b1ba07-2ee6-4a78-a709-1d4b794a52bc",
   "metadata": {
    "tags": []
   },
   "source": [
    "#### **12.2.2 one_to_many，一对多关系的 merge**"
   ]
  },
  {
   "cell_type": "code",
   "execution_count": 27,
   "id": "5c07439e-ec06-4e1f-9951-4e0c5211bd07",
   "metadata": {
    "tags": []
   },
   "outputs": [],
   "source": [
    "left=pd.DataFrame({'sno':[11,22,33,44],'name':['name1','name2','name3','name4']})"
   ]
  },
  {
   "cell_type": "code",
   "execution_count": 29,
   "id": "d7b2d487-bb9e-417b-b8fb-dd76c45eb711",
   "metadata": {
    "tags": []
   },
   "outputs": [],
   "source": [
    "right=pd.DataFrame({'sno':[11,11,11,22,22,33],'grade':['语文88','数学90','英语75','语文66','数学55','英语29']})"
   ]
  },
  {
   "cell_type": "code",
   "execution_count": 32,
   "id": "84372f64-79f2-4534-964f-13624e4a853f",
   "metadata": {
    "tags": []
   },
   "outputs": [
    {
     "data": {
      "text/html": [
       "<div>\n",
       "<style scoped>\n",
       "    .dataframe tbody tr th:only-of-type {\n",
       "        vertical-align: middle;\n",
       "    }\n",
       "\n",
       "    .dataframe tbody tr th {\n",
       "        vertical-align: top;\n",
       "    }\n",
       "\n",
       "    .dataframe thead th {\n",
       "        text-align: right;\n",
       "    }\n",
       "</style>\n",
       "<table border=\"1\" class=\"dataframe\">\n",
       "  <thead>\n",
       "    <tr style=\"text-align: right;\">\n",
       "      <th></th>\n",
       "      <th>sno</th>\n",
       "      <th>name</th>\n",
       "      <th>grade</th>\n",
       "    </tr>\n",
       "  </thead>\n",
       "  <tbody>\n",
       "    <tr>\n",
       "      <th>0</th>\n",
       "      <td>11</td>\n",
       "      <td>name1</td>\n",
       "      <td>语文88</td>\n",
       "    </tr>\n",
       "    <tr>\n",
       "      <th>1</th>\n",
       "      <td>11</td>\n",
       "      <td>name1</td>\n",
       "      <td>数学90</td>\n",
       "    </tr>\n",
       "    <tr>\n",
       "      <th>2</th>\n",
       "      <td>11</td>\n",
       "      <td>name1</td>\n",
       "      <td>英语75</td>\n",
       "    </tr>\n",
       "    <tr>\n",
       "      <th>3</th>\n",
       "      <td>22</td>\n",
       "      <td>name2</td>\n",
       "      <td>语文66</td>\n",
       "    </tr>\n",
       "    <tr>\n",
       "      <th>4</th>\n",
       "      <td>22</td>\n",
       "      <td>name2</td>\n",
       "      <td>数学55</td>\n",
       "    </tr>\n",
       "    <tr>\n",
       "      <th>5</th>\n",
       "      <td>33</td>\n",
       "      <td>name3</td>\n",
       "      <td>英语29</td>\n",
       "    </tr>\n",
       "  </tbody>\n",
       "</table>\n",
       "</div>"
      ],
      "text/plain": [
       "   sno   name grade\n",
       "0   11  name1  语文88\n",
       "1   11  name1  数学90\n",
       "2   11  name1  英语75\n",
       "3   22  name2  语文66\n",
       "4   22  name2  数学55\n",
       "5   33  name3  英语29"
      ]
     },
     "execution_count": 32,
     "metadata": {},
     "output_type": "execute_result"
    }
   ],
   "source": [
    "#结果记录数以‘多’的一边为准\n",
    "pd.merge(left,right,on='sno')"
   ]
  },
  {
   "cell_type": "markdown",
   "id": "5fed80a7-18a2-47ae-922a-a0c4971b779b",
   "metadata": {
    "tags": []
   },
   "source": [
    "#### **12.2.3 many_to_many，多对多关系的 merge**\n",
    "\n",
    "**注意：结果记录数会出现乘法级增加**"
   ]
  },
  {
   "cell_type": "code",
   "execution_count": 38,
   "id": "24609d3f-fd0a-44a2-ab1e-069e86893a52",
   "metadata": {
    "tags": []
   },
   "outputs": [
    {
     "data": {
      "text/html": [
       "<div>\n",
       "<style scoped>\n",
       "    .dataframe tbody tr th:only-of-type {\n",
       "        vertical-align: middle;\n",
       "    }\n",
       "\n",
       "    .dataframe tbody tr th {\n",
       "        vertical-align: top;\n",
       "    }\n",
       "\n",
       "    .dataframe thead th {\n",
       "        text-align: right;\n",
       "    }\n",
       "</style>\n",
       "<table border=\"1\" class=\"dataframe\">\n",
       "  <thead>\n",
       "    <tr style=\"text-align: right;\">\n",
       "      <th></th>\n",
       "      <th>sno</th>\n",
       "      <th>爱好</th>\n",
       "    </tr>\n",
       "  </thead>\n",
       "  <tbody>\n",
       "    <tr>\n",
       "      <th>0</th>\n",
       "      <td>11</td>\n",
       "      <td>篮球</td>\n",
       "    </tr>\n",
       "    <tr>\n",
       "      <th>1</th>\n",
       "      <td>11</td>\n",
       "      <td>羽毛球</td>\n",
       "    </tr>\n",
       "    <tr>\n",
       "      <th>2</th>\n",
       "      <td>22</td>\n",
       "      <td>乒乓求</td>\n",
       "    </tr>\n",
       "    <tr>\n",
       "      <th>3</th>\n",
       "      <td>22</td>\n",
       "      <td>篮球</td>\n",
       "    </tr>\n",
       "    <tr>\n",
       "      <th>4</th>\n",
       "      <td>22</td>\n",
       "      <td>足球</td>\n",
       "    </tr>\n",
       "  </tbody>\n",
       "</table>\n",
       "</div>"
      ],
      "text/plain": [
       "   sno   爱好\n",
       "0   11   篮球\n",
       "1   11  羽毛球\n",
       "2   22  乒乓求\n",
       "3   22   篮球\n",
       "4   22   足球"
      ]
     },
     "execution_count": 38,
     "metadata": {},
     "output_type": "execute_result"
    }
   ],
   "source": [
    "left=pd.DataFrame({'sno':[11,11,22,22,22],'爱好':['篮球','羽毛球','乒乓求','篮球','足球']})\n",
    "left"
   ]
  },
  {
   "cell_type": "code",
   "execution_count": 39,
   "id": "3ac4b83f-5276-489b-bd62-4e1ab61e9188",
   "metadata": {
    "tags": []
   },
   "outputs": [
    {
     "data": {
      "text/html": [
       "<div>\n",
       "<style scoped>\n",
       "    .dataframe tbody tr th:only-of-type {\n",
       "        vertical-align: middle;\n",
       "    }\n",
       "\n",
       "    .dataframe tbody tr th {\n",
       "        vertical-align: top;\n",
       "    }\n",
       "\n",
       "    .dataframe thead th {\n",
       "        text-align: right;\n",
       "    }\n",
       "</style>\n",
       "<table border=\"1\" class=\"dataframe\">\n",
       "  <thead>\n",
       "    <tr style=\"text-align: right;\">\n",
       "      <th></th>\n",
       "      <th>sno</th>\n",
       "      <th>grade</th>\n",
       "    </tr>\n",
       "  </thead>\n",
       "  <tbody>\n",
       "    <tr>\n",
       "      <th>0</th>\n",
       "      <td>11</td>\n",
       "      <td>语文88</td>\n",
       "    </tr>\n",
       "    <tr>\n",
       "      <th>1</th>\n",
       "      <td>11</td>\n",
       "      <td>数学90</td>\n",
       "    </tr>\n",
       "    <tr>\n",
       "      <th>2</th>\n",
       "      <td>11</td>\n",
       "      <td>英语75</td>\n",
       "    </tr>\n",
       "    <tr>\n",
       "      <th>3</th>\n",
       "      <td>22</td>\n",
       "      <td>语文66</td>\n",
       "    </tr>\n",
       "    <tr>\n",
       "      <th>4</th>\n",
       "      <td>22</td>\n",
       "      <td>数学55</td>\n",
       "    </tr>\n",
       "    <tr>\n",
       "      <th>5</th>\n",
       "      <td>33</td>\n",
       "      <td>英语29</td>\n",
       "    </tr>\n",
       "  </tbody>\n",
       "</table>\n",
       "</div>"
      ],
      "text/plain": [
       "   sno grade\n",
       "0   11  语文88\n",
       "1   11  数学90\n",
       "2   11  英语75\n",
       "3   22  语文66\n",
       "4   22  数学55\n",
       "5   33  英语29"
      ]
     },
     "execution_count": 39,
     "metadata": {},
     "output_type": "execute_result"
    }
   ],
   "source": [
    "right=pd.DataFrame({'sno':[11,11,11,22,22,33],'grade':['语文88','数学90','英语75','语文66','数学55','英语29']})\n",
    "right"
   ]
  },
  {
   "cell_type": "code",
   "execution_count": 36,
   "id": "58a25497-98fe-4a0b-8545-16495943fcd8",
   "metadata": {
    "tags": []
   },
   "outputs": [
    {
     "data": {
      "text/html": [
       "<div>\n",
       "<style scoped>\n",
       "    .dataframe tbody tr th:only-of-type {\n",
       "        vertical-align: middle;\n",
       "    }\n",
       "\n",
       "    .dataframe tbody tr th {\n",
       "        vertical-align: top;\n",
       "    }\n",
       "\n",
       "    .dataframe thead th {\n",
       "        text-align: right;\n",
       "    }\n",
       "</style>\n",
       "<table border=\"1\" class=\"dataframe\">\n",
       "  <thead>\n",
       "    <tr style=\"text-align: right;\">\n",
       "      <th></th>\n",
       "      <th>sno</th>\n",
       "      <th>爱好</th>\n",
       "      <th>grade</th>\n",
       "    </tr>\n",
       "  </thead>\n",
       "  <tbody>\n",
       "    <tr>\n",
       "      <th>0</th>\n",
       "      <td>11</td>\n",
       "      <td>篮球</td>\n",
       "      <td>语文88</td>\n",
       "    </tr>\n",
       "    <tr>\n",
       "      <th>1</th>\n",
       "      <td>11</td>\n",
       "      <td>篮球</td>\n",
       "      <td>数学90</td>\n",
       "    </tr>\n",
       "    <tr>\n",
       "      <th>2</th>\n",
       "      <td>11</td>\n",
       "      <td>篮球</td>\n",
       "      <td>英语75</td>\n",
       "    </tr>\n",
       "    <tr>\n",
       "      <th>3</th>\n",
       "      <td>11</td>\n",
       "      <td>羽毛球</td>\n",
       "      <td>语文88</td>\n",
       "    </tr>\n",
       "    <tr>\n",
       "      <th>4</th>\n",
       "      <td>11</td>\n",
       "      <td>羽毛球</td>\n",
       "      <td>数学90</td>\n",
       "    </tr>\n",
       "    <tr>\n",
       "      <th>5</th>\n",
       "      <td>11</td>\n",
       "      <td>羽毛球</td>\n",
       "      <td>英语75</td>\n",
       "    </tr>\n",
       "    <tr>\n",
       "      <th>6</th>\n",
       "      <td>22</td>\n",
       "      <td>乒乓求</td>\n",
       "      <td>语文66</td>\n",
       "    </tr>\n",
       "    <tr>\n",
       "      <th>7</th>\n",
       "      <td>22</td>\n",
       "      <td>乒乓求</td>\n",
       "      <td>数学55</td>\n",
       "    </tr>\n",
       "    <tr>\n",
       "      <th>8</th>\n",
       "      <td>22</td>\n",
       "      <td>篮球</td>\n",
       "      <td>语文66</td>\n",
       "    </tr>\n",
       "    <tr>\n",
       "      <th>9</th>\n",
       "      <td>22</td>\n",
       "      <td>篮球</td>\n",
       "      <td>数学55</td>\n",
       "    </tr>\n",
       "    <tr>\n",
       "      <th>10</th>\n",
       "      <td>22</td>\n",
       "      <td>足球</td>\n",
       "      <td>语文66</td>\n",
       "    </tr>\n",
       "    <tr>\n",
       "      <th>11</th>\n",
       "      <td>22</td>\n",
       "      <td>足球</td>\n",
       "      <td>数学55</td>\n",
       "    </tr>\n",
       "  </tbody>\n",
       "</table>\n",
       "</div>"
      ],
      "text/plain": [
       "    sno   爱好 grade\n",
       "0    11   篮球  语文88\n",
       "1    11   篮球  数学90\n",
       "2    11   篮球  英语75\n",
       "3    11  羽毛球  语文88\n",
       "4    11  羽毛球  数学90\n",
       "5    11  羽毛球  英语75\n",
       "6    22  乒乓求  语文66\n",
       "7    22  乒乓求  数学55\n",
       "8    22   篮球  语文66\n",
       "9    22   篮球  数学55\n",
       "10   22   足球  语文66\n",
       "11   22   足球  数学55"
      ]
     },
     "execution_count": 36,
     "metadata": {},
     "output_type": "execute_result"
    }
   ],
   "source": [
    "pd.merge(left,right,on='sno')"
   ]
  },
  {
   "cell_type": "markdown",
   "id": "b568fec5-c6a2-4be5-ac2f-8bf2e071e13e",
   "metadata": {
    "tags": []
   },
   "source": [
    "### **12.3 理解 left join、right join、inner join、outer join 的区别**"
   ]
  },
  {
   "cell_type": "markdown",
   "id": "e9790e04-3275-4cb0-b82b-51d516cce06c",
   "metadata": {},
   "source": [
    "![./mergetype.png](mergetype.png)"
   ]
  },
  {
   "cell_type": "code",
   "execution_count": 3,
   "id": "c71a49ac-5607-4451-bccc-d7b0e359a77d",
   "metadata": {
    "tags": []
   },
   "outputs": [],
   "source": [
    "left=pd.DataFrame({\n",
    "                   'key':['K0','K1','K2','K3'],\n",
    "                   'A':['A0','A1','A2','A3'],\n",
    "                   'B':['B0','B1','B2','B3']\n",
    "                  })"
   ]
  },
  {
   "cell_type": "code",
   "execution_count": 4,
   "id": "2c0a563c-5dab-4511-b01c-d779f432dd68",
   "metadata": {
    "tags": []
   },
   "outputs": [
    {
     "data": {
      "text/html": [
       "<div>\n",
       "<style scoped>\n",
       "    .dataframe tbody tr th:only-of-type {\n",
       "        vertical-align: middle;\n",
       "    }\n",
       "\n",
       "    .dataframe tbody tr th {\n",
       "        vertical-align: top;\n",
       "    }\n",
       "\n",
       "    .dataframe thead th {\n",
       "        text-align: right;\n",
       "    }\n",
       "</style>\n",
       "<table border=\"1\" class=\"dataframe\">\n",
       "  <thead>\n",
       "    <tr style=\"text-align: right;\">\n",
       "      <th></th>\n",
       "      <th>key</th>\n",
       "      <th>A</th>\n",
       "      <th>B</th>\n",
       "    </tr>\n",
       "  </thead>\n",
       "  <tbody>\n",
       "    <tr>\n",
       "      <th>0</th>\n",
       "      <td>K0</td>\n",
       "      <td>A0</td>\n",
       "      <td>B0</td>\n",
       "    </tr>\n",
       "    <tr>\n",
       "      <th>1</th>\n",
       "      <td>K1</td>\n",
       "      <td>A1</td>\n",
       "      <td>B1</td>\n",
       "    </tr>\n",
       "    <tr>\n",
       "      <th>2</th>\n",
       "      <td>K2</td>\n",
       "      <td>A2</td>\n",
       "      <td>B2</td>\n",
       "    </tr>\n",
       "    <tr>\n",
       "      <th>3</th>\n",
       "      <td>K3</td>\n",
       "      <td>A3</td>\n",
       "      <td>B3</td>\n",
       "    </tr>\n",
       "  </tbody>\n",
       "</table>\n",
       "</div>"
      ],
      "text/plain": [
       "  key   A   B\n",
       "0  K0  A0  B0\n",
       "1  K1  A1  B1\n",
       "2  K2  A2  B2\n",
       "3  K3  A3  B3"
      ]
     },
     "execution_count": 4,
     "metadata": {},
     "output_type": "execute_result"
    }
   ],
   "source": [
    "left"
   ]
  },
  {
   "cell_type": "code",
   "execution_count": 5,
   "id": "6891bef1-288c-4e01-9a2d-933f1cfcae81",
   "metadata": {
    "tags": []
   },
   "outputs": [],
   "source": [
    "right=pd.DataFrame({\n",
    "                    'key':['K0','K1','K4','K5'],\n",
    "                    'C':['C0','C1','C4','C5'],\n",
    "                    'D':['D0','D1','D4','D5']\n",
    "                  })"
   ]
  },
  {
   "cell_type": "code",
   "execution_count": 6,
   "id": "93031360-dc2d-42b6-b9ef-579b3c4aaa42",
   "metadata": {
    "tags": []
   },
   "outputs": [
    {
     "data": {
      "text/html": [
       "<div>\n",
       "<style scoped>\n",
       "    .dataframe tbody tr th:only-of-type {\n",
       "        vertical-align: middle;\n",
       "    }\n",
       "\n",
       "    .dataframe tbody tr th {\n",
       "        vertical-align: top;\n",
       "    }\n",
       "\n",
       "    .dataframe thead th {\n",
       "        text-align: right;\n",
       "    }\n",
       "</style>\n",
       "<table border=\"1\" class=\"dataframe\">\n",
       "  <thead>\n",
       "    <tr style=\"text-align: right;\">\n",
       "      <th></th>\n",
       "      <th>key</th>\n",
       "      <th>C</th>\n",
       "      <th>D</th>\n",
       "    </tr>\n",
       "  </thead>\n",
       "  <tbody>\n",
       "    <tr>\n",
       "      <th>0</th>\n",
       "      <td>K0</td>\n",
       "      <td>C0</td>\n",
       "      <td>D0</td>\n",
       "    </tr>\n",
       "    <tr>\n",
       "      <th>1</th>\n",
       "      <td>K1</td>\n",
       "      <td>C1</td>\n",
       "      <td>D1</td>\n",
       "    </tr>\n",
       "    <tr>\n",
       "      <th>2</th>\n",
       "      <td>K4</td>\n",
       "      <td>C4</td>\n",
       "      <td>D4</td>\n",
       "    </tr>\n",
       "    <tr>\n",
       "      <th>3</th>\n",
       "      <td>K5</td>\n",
       "      <td>C5</td>\n",
       "      <td>D5</td>\n",
       "    </tr>\n",
       "  </tbody>\n",
       "</table>\n",
       "</div>"
      ],
      "text/plain": [
       "  key   C   D\n",
       "0  K0  C0  D0\n",
       "1  K1  C1  D1\n",
       "2  K4  C4  D4\n",
       "3  K5  C5  D5"
      ]
     },
     "execution_count": 6,
     "metadata": {},
     "output_type": "execute_result"
    }
   ],
   "source": [
    "right"
   ]
  },
  {
   "cell_type": "markdown",
   "id": "fdc045c8-acf2-4517-b1f5-8f91038b91b4",
   "metadata": {},
   "source": [
    "#### **12.3.1 inner join : 左右都有的行才会出现在结果集中**\n",
    " "
   ]
  },
  {
   "cell_type": "code",
   "execution_count": 8,
   "id": "ca7d62e1-89a3-4a65-b60e-e894119b645e",
   "metadata": {
    "tags": []
   },
   "outputs": [
    {
     "data": {
      "text/html": [
       "<div>\n",
       "<style scoped>\n",
       "    .dataframe tbody tr th:only-of-type {\n",
       "        vertical-align: middle;\n",
       "    }\n",
       "\n",
       "    .dataframe tbody tr th {\n",
       "        vertical-align: top;\n",
       "    }\n",
       "\n",
       "    .dataframe thead th {\n",
       "        text-align: right;\n",
       "    }\n",
       "</style>\n",
       "<table border=\"1\" class=\"dataframe\">\n",
       "  <thead>\n",
       "    <tr style=\"text-align: right;\">\n",
       "      <th></th>\n",
       "      <th>key</th>\n",
       "      <th>A</th>\n",
       "      <th>B</th>\n",
       "      <th>C</th>\n",
       "      <th>D</th>\n",
       "    </tr>\n",
       "  </thead>\n",
       "  <tbody>\n",
       "    <tr>\n",
       "      <th>0</th>\n",
       "      <td>K0</td>\n",
       "      <td>A0</td>\n",
       "      <td>B0</td>\n",
       "      <td>C0</td>\n",
       "      <td>D0</td>\n",
       "    </tr>\n",
       "    <tr>\n",
       "      <th>1</th>\n",
       "      <td>K1</td>\n",
       "      <td>A1</td>\n",
       "      <td>B1</td>\n",
       "      <td>C1</td>\n",
       "      <td>D1</td>\n",
       "    </tr>\n",
       "  </tbody>\n",
       "</table>\n",
       "</div>"
      ],
      "text/plain": [
       "  key   A   B   C   D\n",
       "0  K0  A0  B0  C0  D0\n",
       "1  K1  A1  B1  C1  D1"
      ]
     },
     "execution_count": 8,
     "metadata": {},
     "output_type": "execute_result"
    }
   ],
   "source": [
    "pd.merge(left,right,how='inner')  #未指明连接键，则默认用相同列最为连接键，这里是 key"
   ]
  },
  {
   "cell_type": "markdown",
   "id": "19cc0a86-e1a1-447a-966a-9318540e305a",
   "metadata": {},
   "source": [
    "#### **12.3.2 left join : 左边的都会出现在结果集中，右边的对应列值如果无法匹配则自动填为null**"
   ]
  },
  {
   "cell_type": "code",
   "execution_count": 9,
   "id": "5ccffbde-112a-42b1-8fc0-56b84f6b4585",
   "metadata": {
    "tags": []
   },
   "outputs": [
    {
     "data": {
      "text/html": [
       "<div>\n",
       "<style scoped>\n",
       "    .dataframe tbody tr th:only-of-type {\n",
       "        vertical-align: middle;\n",
       "    }\n",
       "\n",
       "    .dataframe tbody tr th {\n",
       "        vertical-align: top;\n",
       "    }\n",
       "\n",
       "    .dataframe thead th {\n",
       "        text-align: right;\n",
       "    }\n",
       "</style>\n",
       "<table border=\"1\" class=\"dataframe\">\n",
       "  <thead>\n",
       "    <tr style=\"text-align: right;\">\n",
       "      <th></th>\n",
       "      <th>key</th>\n",
       "      <th>A</th>\n",
       "      <th>B</th>\n",
       "      <th>C</th>\n",
       "      <th>D</th>\n",
       "    </tr>\n",
       "  </thead>\n",
       "  <tbody>\n",
       "    <tr>\n",
       "      <th>0</th>\n",
       "      <td>K0</td>\n",
       "      <td>A0</td>\n",
       "      <td>B0</td>\n",
       "      <td>C0</td>\n",
       "      <td>D0</td>\n",
       "    </tr>\n",
       "    <tr>\n",
       "      <th>1</th>\n",
       "      <td>K1</td>\n",
       "      <td>A1</td>\n",
       "      <td>B1</td>\n",
       "      <td>C1</td>\n",
       "      <td>D1</td>\n",
       "    </tr>\n",
       "    <tr>\n",
       "      <th>2</th>\n",
       "      <td>K2</td>\n",
       "      <td>A2</td>\n",
       "      <td>B2</td>\n",
       "      <td>NaN</td>\n",
       "      <td>NaN</td>\n",
       "    </tr>\n",
       "    <tr>\n",
       "      <th>3</th>\n",
       "      <td>K3</td>\n",
       "      <td>A3</td>\n",
       "      <td>B3</td>\n",
       "      <td>NaN</td>\n",
       "      <td>NaN</td>\n",
       "    </tr>\n",
       "  </tbody>\n",
       "</table>\n",
       "</div>"
      ],
      "text/plain": [
       "  key   A   B    C    D\n",
       "0  K0  A0  B0   C0   D0\n",
       "1  K1  A1  B1   C1   D1\n",
       "2  K2  A2  B2  NaN  NaN\n",
       "3  K3  A3  B3  NaN  NaN"
      ]
     },
     "execution_count": 9,
     "metadata": {},
     "output_type": "execute_result"
    }
   ],
   "source": [
    "pd.merge(left,right,how='left')"
   ]
  },
  {
   "cell_type": "markdown",
   "id": "4b85635e-09e4-462c-830b-3d9463747741",
   "metadata": {},
   "source": [
    "#### **12.3.3  join : 右边的都会出现在结果集中，左边的对应列值如果无法匹配则自动填为null**"
   ]
  },
  {
   "cell_type": "code",
   "execution_count": 10,
   "id": "97db3044-8f01-46f1-98b6-e4c42c9f848d",
   "metadata": {
    "tags": []
   },
   "outputs": [
    {
     "data": {
      "text/html": [
       "<div>\n",
       "<style scoped>\n",
       "    .dataframe tbody tr th:only-of-type {\n",
       "        vertical-align: middle;\n",
       "    }\n",
       "\n",
       "    .dataframe tbody tr th {\n",
       "        vertical-align: top;\n",
       "    }\n",
       "\n",
       "    .dataframe thead th {\n",
       "        text-align: right;\n",
       "    }\n",
       "</style>\n",
       "<table border=\"1\" class=\"dataframe\">\n",
       "  <thead>\n",
       "    <tr style=\"text-align: right;\">\n",
       "      <th></th>\n",
       "      <th>key</th>\n",
       "      <th>A</th>\n",
       "      <th>B</th>\n",
       "      <th>C</th>\n",
       "      <th>D</th>\n",
       "    </tr>\n",
       "  </thead>\n",
       "  <tbody>\n",
       "    <tr>\n",
       "      <th>0</th>\n",
       "      <td>K0</td>\n",
       "      <td>A0</td>\n",
       "      <td>B0</td>\n",
       "      <td>C0</td>\n",
       "      <td>D0</td>\n",
       "    </tr>\n",
       "    <tr>\n",
       "      <th>1</th>\n",
       "      <td>K1</td>\n",
       "      <td>A1</td>\n",
       "      <td>B1</td>\n",
       "      <td>C1</td>\n",
       "      <td>D1</td>\n",
       "    </tr>\n",
       "    <tr>\n",
       "      <th>2</th>\n",
       "      <td>K4</td>\n",
       "      <td>NaN</td>\n",
       "      <td>NaN</td>\n",
       "      <td>C4</td>\n",
       "      <td>D4</td>\n",
       "    </tr>\n",
       "    <tr>\n",
       "      <th>3</th>\n",
       "      <td>K5</td>\n",
       "      <td>NaN</td>\n",
       "      <td>NaN</td>\n",
       "      <td>C5</td>\n",
       "      <td>D5</td>\n",
       "    </tr>\n",
       "  </tbody>\n",
       "</table>\n",
       "</div>"
      ],
      "text/plain": [
       "  key    A    B   C   D\n",
       "0  K0   A0   B0  C0  D0\n",
       "1  K1   A1   B1  C1  D1\n",
       "2  K4  NaN  NaN  C4  D4\n",
       "3  K5  NaN  NaN  C5  D5"
      ]
     },
     "execution_count": 10,
     "metadata": {},
     "output_type": "execute_result"
    }
   ],
   "source": [
    "pd.merge(left,right,how='right')"
   ]
  },
  {
   "cell_type": "markdown",
   "id": "0103a862-68dc-4b13-a322-d26562487cbe",
   "metadata": {},
   "source": [
    "#### **12.3.4 outer join : 左边、右边的所有记录都会出现在结果集中，对应列值如果无法匹配则自动填为null**"
   ]
  },
  {
   "cell_type": "code",
   "execution_count": 11,
   "id": "c700f0c2-a220-4155-b623-ff10a500dbfa",
   "metadata": {
    "tags": []
   },
   "outputs": [
    {
     "data": {
      "text/html": [
       "<div>\n",
       "<style scoped>\n",
       "    .dataframe tbody tr th:only-of-type {\n",
       "        vertical-align: middle;\n",
       "    }\n",
       "\n",
       "    .dataframe tbody tr th {\n",
       "        vertical-align: top;\n",
       "    }\n",
       "\n",
       "    .dataframe thead th {\n",
       "        text-align: right;\n",
       "    }\n",
       "</style>\n",
       "<table border=\"1\" class=\"dataframe\">\n",
       "  <thead>\n",
       "    <tr style=\"text-align: right;\">\n",
       "      <th></th>\n",
       "      <th>key</th>\n",
       "      <th>A</th>\n",
       "      <th>B</th>\n",
       "      <th>C</th>\n",
       "      <th>D</th>\n",
       "    </tr>\n",
       "  </thead>\n",
       "  <tbody>\n",
       "    <tr>\n",
       "      <th>0</th>\n",
       "      <td>K0</td>\n",
       "      <td>A0</td>\n",
       "      <td>B0</td>\n",
       "      <td>C0</td>\n",
       "      <td>D0</td>\n",
       "    </tr>\n",
       "    <tr>\n",
       "      <th>1</th>\n",
       "      <td>K1</td>\n",
       "      <td>A1</td>\n",
       "      <td>B1</td>\n",
       "      <td>C1</td>\n",
       "      <td>D1</td>\n",
       "    </tr>\n",
       "    <tr>\n",
       "      <th>2</th>\n",
       "      <td>K2</td>\n",
       "      <td>A2</td>\n",
       "      <td>B2</td>\n",
       "      <td>NaN</td>\n",
       "      <td>NaN</td>\n",
       "    </tr>\n",
       "    <tr>\n",
       "      <th>3</th>\n",
       "      <td>K3</td>\n",
       "      <td>A3</td>\n",
       "      <td>B3</td>\n",
       "      <td>NaN</td>\n",
       "      <td>NaN</td>\n",
       "    </tr>\n",
       "    <tr>\n",
       "      <th>4</th>\n",
       "      <td>K4</td>\n",
       "      <td>NaN</td>\n",
       "      <td>NaN</td>\n",
       "      <td>C4</td>\n",
       "      <td>D4</td>\n",
       "    </tr>\n",
       "    <tr>\n",
       "      <th>5</th>\n",
       "      <td>K5</td>\n",
       "      <td>NaN</td>\n",
       "      <td>NaN</td>\n",
       "      <td>C5</td>\n",
       "      <td>D5</td>\n",
       "    </tr>\n",
       "  </tbody>\n",
       "</table>\n",
       "</div>"
      ],
      "text/plain": [
       "  key    A    B    C    D\n",
       "0  K0   A0   B0   C0   D0\n",
       "1  K1   A1   B1   C1   D1\n",
       "2  K2   A2   B2  NaN  NaN\n",
       "3  K3   A3   B3  NaN  NaN\n",
       "4  K4  NaN  NaN   C4   D4\n",
       "5  K5  NaN  NaN   C5   D5"
      ]
     },
     "execution_count": 11,
     "metadata": {},
     "output_type": "execute_result"
    }
   ],
   "source": [
    "pd.merge(left,right,how='outer')"
   ]
  },
  {
   "cell_type": "code",
   "execution_count": null,
   "id": "87cc536d-bf0b-4aed-94d3-ce4813c80f90",
   "metadata": {},
   "outputs": [],
   "source": []
  },
  {
   "cell_type": "markdown",
   "id": "4b922a0e-7aba-438b-b7da-f18e16f4360f",
   "metadata": {
    "tags": []
   },
   "source": [
    "### **12.4 如果出现非Key的字段重名怎么办**"
   ]
  },
  {
   "cell_type": "code",
   "execution_count": 12,
   "id": "e9890bf1-285f-431e-ae65-3b8f042444d5",
   "metadata": {
    "tags": []
   },
   "outputs": [],
   "source": [
    "left=pd.DataFrame({\n",
    "                   'key':['K0','K1','K2','K3'],\n",
    "                   'A':['A0','A1','A2','A3'],\n",
    "                   'B':['B0','B1','B2','B3']\n",
    "                  })"
   ]
  },
  {
   "cell_type": "code",
   "execution_count": 19,
   "id": "ed598f8f-dc65-40d5-9f16-f5295535ad6f",
   "metadata": {
    "tags": []
   },
   "outputs": [],
   "source": [
    "right=pd.DataFrame({\n",
    "                    'key':['K0','K1','K2','K3'],\n",
    "                    'A':['C0','C1','C4','C5'],\n",
    "                    'D':['D0','D1','D4','D5']\n",
    "                  })"
   ]
  },
  {
   "cell_type": "code",
   "execution_count": 20,
   "id": "67077b97-7fad-4be5-8d52-e9c880b9a513",
   "metadata": {
    "tags": []
   },
   "outputs": [
    {
     "data": {
      "text/html": [
       "<div>\n",
       "<style scoped>\n",
       "    .dataframe tbody tr th:only-of-type {\n",
       "        vertical-align: middle;\n",
       "    }\n",
       "\n",
       "    .dataframe tbody tr th {\n",
       "        vertical-align: top;\n",
       "    }\n",
       "\n",
       "    .dataframe thead th {\n",
       "        text-align: right;\n",
       "    }\n",
       "</style>\n",
       "<table border=\"1\" class=\"dataframe\">\n",
       "  <thead>\n",
       "    <tr style=\"text-align: right;\">\n",
       "      <th></th>\n",
       "      <th>key</th>\n",
       "      <th>A</th>\n",
       "      <th>B</th>\n",
       "    </tr>\n",
       "  </thead>\n",
       "  <tbody>\n",
       "    <tr>\n",
       "      <th>0</th>\n",
       "      <td>K0</td>\n",
       "      <td>A0</td>\n",
       "      <td>B0</td>\n",
       "    </tr>\n",
       "    <tr>\n",
       "      <th>1</th>\n",
       "      <td>K1</td>\n",
       "      <td>A1</td>\n",
       "      <td>B1</td>\n",
       "    </tr>\n",
       "    <tr>\n",
       "      <th>2</th>\n",
       "      <td>K2</td>\n",
       "      <td>A2</td>\n",
       "      <td>B2</td>\n",
       "    </tr>\n",
       "    <tr>\n",
       "      <th>3</th>\n",
       "      <td>K3</td>\n",
       "      <td>A3</td>\n",
       "      <td>B3</td>\n",
       "    </tr>\n",
       "  </tbody>\n",
       "</table>\n",
       "</div>"
      ],
      "text/plain": [
       "  key   A   B\n",
       "0  K0  A0  B0\n",
       "1  K1  A1  B1\n",
       "2  K2  A2  B2\n",
       "3  K3  A3  B3"
      ]
     },
     "execution_count": 20,
     "metadata": {},
     "output_type": "execute_result"
    }
   ],
   "source": [
    "left"
   ]
  },
  {
   "cell_type": "code",
   "execution_count": 21,
   "id": "fc9f855e-97a0-4121-b986-7c98ede4725a",
   "metadata": {
    "tags": []
   },
   "outputs": [
    {
     "data": {
      "text/html": [
       "<div>\n",
       "<style scoped>\n",
       "    .dataframe tbody tr th:only-of-type {\n",
       "        vertical-align: middle;\n",
       "    }\n",
       "\n",
       "    .dataframe tbody tr th {\n",
       "        vertical-align: top;\n",
       "    }\n",
       "\n",
       "    .dataframe thead th {\n",
       "        text-align: right;\n",
       "    }\n",
       "</style>\n",
       "<table border=\"1\" class=\"dataframe\">\n",
       "  <thead>\n",
       "    <tr style=\"text-align: right;\">\n",
       "      <th></th>\n",
       "      <th>key</th>\n",
       "      <th>A</th>\n",
       "      <th>D</th>\n",
       "    </tr>\n",
       "  </thead>\n",
       "  <tbody>\n",
       "    <tr>\n",
       "      <th>0</th>\n",
       "      <td>K0</td>\n",
       "      <td>C0</td>\n",
       "      <td>D0</td>\n",
       "    </tr>\n",
       "    <tr>\n",
       "      <th>1</th>\n",
       "      <td>K1</td>\n",
       "      <td>C1</td>\n",
       "      <td>D1</td>\n",
       "    </tr>\n",
       "    <tr>\n",
       "      <th>2</th>\n",
       "      <td>K2</td>\n",
       "      <td>C4</td>\n",
       "      <td>D4</td>\n",
       "    </tr>\n",
       "    <tr>\n",
       "      <th>3</th>\n",
       "      <td>K3</td>\n",
       "      <td>C5</td>\n",
       "      <td>D5</td>\n",
       "    </tr>\n",
       "  </tbody>\n",
       "</table>\n",
       "</div>"
      ],
      "text/plain": [
       "  key   A   D\n",
       "0  K0  C0  D0\n",
       "1  K1  C1  D1\n",
       "2  K2  C4  D4\n",
       "3  K3  C5  D5"
      ]
     },
     "execution_count": 21,
     "metadata": {},
     "output_type": "execute_result"
    }
   ],
   "source": [
    "right"
   ]
  },
  {
   "cell_type": "markdown",
   "id": "62a36650-2ffe-4295-a297-c783f79ecfda",
   "metadata": {},
   "source": [
    "**这里left、right都有字段'A'**"
   ]
  },
  {
   "cell_type": "markdown",
   "id": "eec5f43f-ce94-4353-ae4e-5e5c1b2e82df",
   "metadata": {},
   "source": [
    "#### **12.4.1 Pandas默认的处理方法**"
   ]
  },
  {
   "cell_type": "code",
   "execution_count": 23,
   "id": "d254a1d5-2a38-4049-9cc1-4b9394527170",
   "metadata": {
    "tags": []
   },
   "outputs": [
    {
     "data": {
      "text/html": [
       "<div>\n",
       "<style scoped>\n",
       "    .dataframe tbody tr th:only-of-type {\n",
       "        vertical-align: middle;\n",
       "    }\n",
       "\n",
       "    .dataframe tbody tr th {\n",
       "        vertical-align: top;\n",
       "    }\n",
       "\n",
       "    .dataframe thead th {\n",
       "        text-align: right;\n",
       "    }\n",
       "</style>\n",
       "<table border=\"1\" class=\"dataframe\">\n",
       "  <thead>\n",
       "    <tr style=\"text-align: right;\">\n",
       "      <th></th>\n",
       "      <th>key</th>\n",
       "      <th>A_x</th>\n",
       "      <th>B</th>\n",
       "      <th>A_y</th>\n",
       "      <th>D</th>\n",
       "    </tr>\n",
       "  </thead>\n",
       "  <tbody>\n",
       "    <tr>\n",
       "      <th>0</th>\n",
       "      <td>K0</td>\n",
       "      <td>A0</td>\n",
       "      <td>B0</td>\n",
       "      <td>C0</td>\n",
       "      <td>D0</td>\n",
       "    </tr>\n",
       "    <tr>\n",
       "      <th>1</th>\n",
       "      <td>K1</td>\n",
       "      <td>A1</td>\n",
       "      <td>B1</td>\n",
       "      <td>C1</td>\n",
       "      <td>D1</td>\n",
       "    </tr>\n",
       "    <tr>\n",
       "      <th>2</th>\n",
       "      <td>K2</td>\n",
       "      <td>A2</td>\n",
       "      <td>B2</td>\n",
       "      <td>C4</td>\n",
       "      <td>D4</td>\n",
       "    </tr>\n",
       "    <tr>\n",
       "      <th>3</th>\n",
       "      <td>K3</td>\n",
       "      <td>A3</td>\n",
       "      <td>B3</td>\n",
       "      <td>C5</td>\n",
       "      <td>D5</td>\n",
       "    </tr>\n",
       "  </tbody>\n",
       "</table>\n",
       "</div>"
      ],
      "text/plain": [
       "  key A_x   B A_y   D\n",
       "0  K0  A0  B0  C0  D0\n",
       "1  K1  A1  B1  C1  D1\n",
       "2  K2  A2  B2  C4  D4\n",
       "3  K3  A3  B3  C5  D5"
      ]
     },
     "execution_count": 23,
     "metadata": {},
     "output_type": "execute_result"
    }
   ],
   "source": [
    "pd.merge(left,right,on='key')"
   ]
  },
  {
   "cell_type": "markdown",
   "id": "5baa4cad-c9d5-4433-ae3d-8985d698d1b1",
   "metadata": {},
   "source": [
    "pandas默认处理办法是：在重名字段后加后缀‘_x’和‘_y’"
   ]
  },
  {
   "cell_type": "markdown",
   "id": "063c2cc2-a895-49ce-8abb-b7534d0c8e2a",
   "metadata": {},
   "source": [
    "#### **12.4.2 为重名字段指定后缀**"
   ]
  },
  {
   "cell_type": "code",
   "execution_count": 25,
   "id": "1e7edaab-0b5a-46e6-9a59-431980bfea86",
   "metadata": {
    "tags": []
   },
   "outputs": [
    {
     "data": {
      "text/html": [
       "<div>\n",
       "<style scoped>\n",
       "    .dataframe tbody tr th:only-of-type {\n",
       "        vertical-align: middle;\n",
       "    }\n",
       "\n",
       "    .dataframe tbody tr th {\n",
       "        vertical-align: top;\n",
       "    }\n",
       "\n",
       "    .dataframe thead th {\n",
       "        text-align: right;\n",
       "    }\n",
       "</style>\n",
       "<table border=\"1\" class=\"dataframe\">\n",
       "  <thead>\n",
       "    <tr style=\"text-align: right;\">\n",
       "      <th></th>\n",
       "      <th>key</th>\n",
       "      <th>A_ll</th>\n",
       "      <th>B</th>\n",
       "      <th>A_rr</th>\n",
       "      <th>D</th>\n",
       "    </tr>\n",
       "  </thead>\n",
       "  <tbody>\n",
       "    <tr>\n",
       "      <th>0</th>\n",
       "      <td>K0</td>\n",
       "      <td>A0</td>\n",
       "      <td>B0</td>\n",
       "      <td>C0</td>\n",
       "      <td>D0</td>\n",
       "    </tr>\n",
       "    <tr>\n",
       "      <th>1</th>\n",
       "      <td>K1</td>\n",
       "      <td>A1</td>\n",
       "      <td>B1</td>\n",
       "      <td>C1</td>\n",
       "      <td>D1</td>\n",
       "    </tr>\n",
       "    <tr>\n",
       "      <th>2</th>\n",
       "      <td>K2</td>\n",
       "      <td>A2</td>\n",
       "      <td>B2</td>\n",
       "      <td>C4</td>\n",
       "      <td>D4</td>\n",
       "    </tr>\n",
       "    <tr>\n",
       "      <th>3</th>\n",
       "      <td>K3</td>\n",
       "      <td>A3</td>\n",
       "      <td>B3</td>\n",
       "      <td>C5</td>\n",
       "      <td>D5</td>\n",
       "    </tr>\n",
       "  </tbody>\n",
       "</table>\n",
       "</div>"
      ],
      "text/plain": [
       "  key A_ll   B A_rr   D\n",
       "0  K0   A0  B0   C0  D0\n",
       "1  K1   A1  B1   C1  D1\n",
       "2  K2   A2  B2   C4  D4\n",
       "3  K3   A3  B3   C5  D5"
      ]
     },
     "execution_count": 25,
     "metadata": {},
     "output_type": "execute_result"
    }
   ],
   "source": [
    "pd.merge(left,right,on='key',suffixes=('_ll','_rr'))"
   ]
  },
  {
   "cell_type": "code",
   "execution_count": null,
   "id": "d803d9a2-11be-4ab1-b165-c9cbf4572647",
   "metadata": {},
   "outputs": [],
   "source": []
  },
  {
   "cell_type": "markdown",
   "id": "83b26906-9bca-474b-9cf9-e7683009c97e",
   "metadata": {},
   "source": [
    "----"
   ]
  },
  {
   "cell_type": "code",
   "execution_count": null,
   "id": "24d3fc01-92e4-49bf-8bde-1edcdb081d38",
   "metadata": {},
   "outputs": [],
   "source": []
  },
  {
   "cell_type": "markdown",
   "id": "ad9f81f3-37db-412b-9b9d-c0392baf8ab3",
   "metadata": {},
   "source": [
    "## **13. Pandas实现数据的的concat合并**  "
   ]
  },
  {
   "cell_type": "markdown",
   "id": "71015b88-7e03-47f9-bd04-420b7a13d0e3",
   "metadata": {},
   "source": [
    "### **应用场景：**  \n",
    "\n",
    "- **批量合并相同格式的Excel**\n",
    "- **给DataFrame添加行**\n",
    "- **给DataFrame添加列**"
   ]
  },
  {
   "cell_type": "markdown",
   "id": "eb4d5ea3-2b08-4cbf-a916-d5087f167b81",
   "metadata": {},
   "source": [
    "### **一句话说明concat语法：**  \n",
    "- **使用某种合并方式(inner/outer)**\n",
    "- **沿着某个轴向(axis=0/1)**\n",
    "- **把多个Pandas对象（DataFrame/Series）合并成一个**"
   ]
  },
  {
   "cell_type": "markdown",
   "id": "c93128d4-c0d2-4441-839f-e5274c9aac5b",
   "metadata": {},
   "source": [
    "### **concat语法：**  \n",
    "```\n",
    "        pandas.concat(\n",
    "                        objs, *, axis=0, join='outer', ignore_index=False, keys=None, \n",
    "                        levels=None, names=None, verify_integrity=False, sort=False, \n",
    "                        copy=None\n",
    "                    )\n",
    "```"
   ]
  },
  {
   "cell_type": "markdown",
   "id": "b176a54b-6e59-470c-aad7-d4c248fa1ea8",
   "metadata": {},
   "source": [
    "**参数说明：**  \n",
    "- objs:一个列表，内容可以是DataFrame或Series，可以混合\n",
    "- axis:默认是0，是0标识按行合并，为1标识按列合并\n",
    "- join:合并时索引的对其方式，默认是outer join，也可以是inner join\n",
    "- ignore_index:是否忽略原来的数据索引,若为True将忽略原来索引，并重建新索引"
   ]
  },
  {
   "cell_type": "markdown",
   "id": "65bba54a-ae25-4770-be5b-601860485b09",
   "metadata": {
    "tags": []
   },
   "source": [
    "官方文档：https://pandas.pydata.org/docs/reference/api/pandas.concat.html"
   ]
  },
  {
   "cell_type": "markdown",
   "id": "6bc4c853-a8ae-4d42-a97b-49354c6fd02e",
   "metadata": {
    "tags": []
   },
   "source": [
    "### **13.1 使用pandas.concat合并数据**"
   ]
  },
  {
   "cell_type": "code",
   "execution_count": 27,
   "id": "95fc52d2-8d2f-42f6-9412-cb0151336bcf",
   "metadata": {
    "tags": []
   },
   "outputs": [],
   "source": [
    "import pandas as pd"
   ]
  },
  {
   "cell_type": "code",
   "execution_count": 29,
   "id": "1299f2ce-d581-41c6-bc7e-c4b7dfd6b007",
   "metadata": {
    "tags": []
   },
   "outputs": [],
   "source": [
    "import warnings"
   ]
  },
  {
   "cell_type": "code",
   "execution_count": 31,
   "id": "eee2acc7-3800-40dc-af6f-c35359a1f6bd",
   "metadata": {
    "tags": []
   },
   "outputs": [],
   "source": [
    "warnings.filterwarnings('ignore')  #啥意思？"
   ]
  },
  {
   "cell_type": "code",
   "execution_count": 33,
   "id": "8b65629c-e8a8-4038-a29e-79c3b6dec7ce",
   "metadata": {
    "tags": []
   },
   "outputs": [],
   "source": [
    "df1=pd.DataFrame({\n",
    "        'A':['A0','A1','A2','A3'],\n",
    "        'B':['B0','B1','B2','B3'],\n",
    "        'C':['C0','C1','C2','C3'],\n",
    "        'D':['D0','D1','D2','D3'],\n",
    "        'E':['E0','E1','E2','E3']\n",
    "})"
   ]
  },
  {
   "cell_type": "code",
   "execution_count": 34,
   "id": "642902b9-c0b2-43c7-905c-4325868f7469",
   "metadata": {
    "tags": []
   },
   "outputs": [],
   "source": [
    "df2=pd.DataFrame({\n",
    "        'A':['A4','A5','A6','A7'],\n",
    "        'B':['B4','B5','B6','B7'],\n",
    "        'C':['C4','C5','C6','C7'],\n",
    "        'D':['D4','D5','D6','D7'],\n",
    "        'F':['F4','F5','F6','F7']\n",
    "})"
   ]
  },
  {
   "cell_type": "code",
   "execution_count": 35,
   "id": "6ff642cb-1037-419e-8c44-810d3f9a1096",
   "metadata": {
    "tags": []
   },
   "outputs": [
    {
     "data": {
      "text/html": [
       "<div>\n",
       "<style scoped>\n",
       "    .dataframe tbody tr th:only-of-type {\n",
       "        vertical-align: middle;\n",
       "    }\n",
       "\n",
       "    .dataframe tbody tr th {\n",
       "        vertical-align: top;\n",
       "    }\n",
       "\n",
       "    .dataframe thead th {\n",
       "        text-align: right;\n",
       "    }\n",
       "</style>\n",
       "<table border=\"1\" class=\"dataframe\">\n",
       "  <thead>\n",
       "    <tr style=\"text-align: right;\">\n",
       "      <th></th>\n",
       "      <th>A</th>\n",
       "      <th>B</th>\n",
       "      <th>C</th>\n",
       "      <th>D</th>\n",
       "      <th>E</th>\n",
       "    </tr>\n",
       "  </thead>\n",
       "  <tbody>\n",
       "    <tr>\n",
       "      <th>0</th>\n",
       "      <td>A0</td>\n",
       "      <td>B0</td>\n",
       "      <td>C0</td>\n",
       "      <td>D0</td>\n",
       "      <td>E0</td>\n",
       "    </tr>\n",
       "    <tr>\n",
       "      <th>1</th>\n",
       "      <td>A1</td>\n",
       "      <td>B1</td>\n",
       "      <td>C1</td>\n",
       "      <td>D1</td>\n",
       "      <td>E1</td>\n",
       "    </tr>\n",
       "    <tr>\n",
       "      <th>2</th>\n",
       "      <td>A2</td>\n",
       "      <td>B2</td>\n",
       "      <td>C2</td>\n",
       "      <td>D2</td>\n",
       "      <td>E2</td>\n",
       "    </tr>\n",
       "    <tr>\n",
       "      <th>3</th>\n",
       "      <td>A3</td>\n",
       "      <td>B3</td>\n",
       "      <td>C3</td>\n",
       "      <td>D3</td>\n",
       "      <td>E3</td>\n",
       "    </tr>\n",
       "  </tbody>\n",
       "</table>\n",
       "</div>"
      ],
      "text/plain": [
       "    A   B   C   D   E\n",
       "0  A0  B0  C0  D0  E0\n",
       "1  A1  B1  C1  D1  E1\n",
       "2  A2  B2  C2  D2  E2\n",
       "3  A3  B3  C3  D3  E3"
      ]
     },
     "execution_count": 35,
     "metadata": {},
     "output_type": "execute_result"
    }
   ],
   "source": [
    "df1"
   ]
  },
  {
   "cell_type": "code",
   "execution_count": 36,
   "id": "aaffdda9-0f4c-438d-8f90-086a3f874225",
   "metadata": {
    "tags": []
   },
   "outputs": [
    {
     "data": {
      "text/html": [
       "<div>\n",
       "<style scoped>\n",
       "    .dataframe tbody tr th:only-of-type {\n",
       "        vertical-align: middle;\n",
       "    }\n",
       "\n",
       "    .dataframe tbody tr th {\n",
       "        vertical-align: top;\n",
       "    }\n",
       "\n",
       "    .dataframe thead th {\n",
       "        text-align: right;\n",
       "    }\n",
       "</style>\n",
       "<table border=\"1\" class=\"dataframe\">\n",
       "  <thead>\n",
       "    <tr style=\"text-align: right;\">\n",
       "      <th></th>\n",
       "      <th>A</th>\n",
       "      <th>B</th>\n",
       "      <th>C</th>\n",
       "      <th>D</th>\n",
       "      <th>F</th>\n",
       "    </tr>\n",
       "  </thead>\n",
       "  <tbody>\n",
       "    <tr>\n",
       "      <th>0</th>\n",
       "      <td>A4</td>\n",
       "      <td>B4</td>\n",
       "      <td>C4</td>\n",
       "      <td>D4</td>\n",
       "      <td>F4</td>\n",
       "    </tr>\n",
       "    <tr>\n",
       "      <th>1</th>\n",
       "      <td>A5</td>\n",
       "      <td>B5</td>\n",
       "      <td>C5</td>\n",
       "      <td>D5</td>\n",
       "      <td>F5</td>\n",
       "    </tr>\n",
       "    <tr>\n",
       "      <th>2</th>\n",
       "      <td>A6</td>\n",
       "      <td>B6</td>\n",
       "      <td>C6</td>\n",
       "      <td>D6</td>\n",
       "      <td>F6</td>\n",
       "    </tr>\n",
       "    <tr>\n",
       "      <th>3</th>\n",
       "      <td>A7</td>\n",
       "      <td>B7</td>\n",
       "      <td>C7</td>\n",
       "      <td>D7</td>\n",
       "      <td>F7</td>\n",
       "    </tr>\n",
       "  </tbody>\n",
       "</table>\n",
       "</div>"
      ],
      "text/plain": [
       "    A   B   C   D   F\n",
       "0  A4  B4  C4  D4  F4\n",
       "1  A5  B5  C5  D5  F5\n",
       "2  A6  B6  C6  D6  F6\n",
       "3  A7  B7  C7  D7  F7"
      ]
     },
     "execution_count": 36,
     "metadata": {},
     "output_type": "execute_result"
    }
   ],
   "source": [
    "df2"
   ]
  },
  {
   "cell_type": "markdown",
   "id": "73af5e29-0bb6-463f-89ea-ff5766c238ce",
   "metadata": {},
   "source": [
    "#### **1. 默认的concat，参数为axis=0,join=outer,ignore_index=False**"
   ]
  },
  {
   "cell_type": "code",
   "execution_count": 38,
   "id": "dd0db143-b185-4230-b86a-8af34806676b",
   "metadata": {
    "tags": []
   },
   "outputs": [
    {
     "data": {
      "text/html": [
       "<div>\n",
       "<style scoped>\n",
       "    .dataframe tbody tr th:only-of-type {\n",
       "        vertical-align: middle;\n",
       "    }\n",
       "\n",
       "    .dataframe tbody tr th {\n",
       "        vertical-align: top;\n",
       "    }\n",
       "\n",
       "    .dataframe thead th {\n",
       "        text-align: right;\n",
       "    }\n",
       "</style>\n",
       "<table border=\"1\" class=\"dataframe\">\n",
       "  <thead>\n",
       "    <tr style=\"text-align: right;\">\n",
       "      <th></th>\n",
       "      <th>A</th>\n",
       "      <th>B</th>\n",
       "      <th>C</th>\n",
       "      <th>D</th>\n",
       "      <th>E</th>\n",
       "      <th>F</th>\n",
       "    </tr>\n",
       "  </thead>\n",
       "  <tbody>\n",
       "    <tr>\n",
       "      <th>0</th>\n",
       "      <td>A0</td>\n",
       "      <td>B0</td>\n",
       "      <td>C0</td>\n",
       "      <td>D0</td>\n",
       "      <td>E0</td>\n",
       "      <td>NaN</td>\n",
       "    </tr>\n",
       "    <tr>\n",
       "      <th>1</th>\n",
       "      <td>A1</td>\n",
       "      <td>B1</td>\n",
       "      <td>C1</td>\n",
       "      <td>D1</td>\n",
       "      <td>E1</td>\n",
       "      <td>NaN</td>\n",
       "    </tr>\n",
       "    <tr>\n",
       "      <th>2</th>\n",
       "      <td>A2</td>\n",
       "      <td>B2</td>\n",
       "      <td>C2</td>\n",
       "      <td>D2</td>\n",
       "      <td>E2</td>\n",
       "      <td>NaN</td>\n",
       "    </tr>\n",
       "    <tr>\n",
       "      <th>3</th>\n",
       "      <td>A3</td>\n",
       "      <td>B3</td>\n",
       "      <td>C3</td>\n",
       "      <td>D3</td>\n",
       "      <td>E3</td>\n",
       "      <td>NaN</td>\n",
       "    </tr>\n",
       "    <tr>\n",
       "      <th>0</th>\n",
       "      <td>A4</td>\n",
       "      <td>B4</td>\n",
       "      <td>C4</td>\n",
       "      <td>D4</td>\n",
       "      <td>NaN</td>\n",
       "      <td>F4</td>\n",
       "    </tr>\n",
       "    <tr>\n",
       "      <th>1</th>\n",
       "      <td>A5</td>\n",
       "      <td>B5</td>\n",
       "      <td>C5</td>\n",
       "      <td>D5</td>\n",
       "      <td>NaN</td>\n",
       "      <td>F5</td>\n",
       "    </tr>\n",
       "    <tr>\n",
       "      <th>2</th>\n",
       "      <td>A6</td>\n",
       "      <td>B6</td>\n",
       "      <td>C6</td>\n",
       "      <td>D6</td>\n",
       "      <td>NaN</td>\n",
       "      <td>F6</td>\n",
       "    </tr>\n",
       "    <tr>\n",
       "      <th>3</th>\n",
       "      <td>A7</td>\n",
       "      <td>B7</td>\n",
       "      <td>C7</td>\n",
       "      <td>D7</td>\n",
       "      <td>NaN</td>\n",
       "      <td>F7</td>\n",
       "    </tr>\n",
       "  </tbody>\n",
       "</table>\n",
       "</div>"
      ],
      "text/plain": [
       "    A   B   C   D    E    F\n",
       "0  A0  B0  C0  D0   E0  NaN\n",
       "1  A1  B1  C1  D1   E1  NaN\n",
       "2  A2  B2  C2  D2   E2  NaN\n",
       "3  A3  B3  C3  D3   E3  NaN\n",
       "0  A4  B4  C4  D4  NaN   F4\n",
       "1  A5  B5  C5  D5  NaN   F5\n",
       "2  A6  B6  C6  D6  NaN   F6\n",
       "3  A7  B7  C7  D7  NaN   F7"
      ]
     },
     "execution_count": 38,
     "metadata": {},
     "output_type": "execute_result"
    }
   ],
   "source": [
    "pd.concat([df1,df2])"
   ]
  },
  {
   "cell_type": "markdown",
   "id": "a4781a16-e68f-4da0-bd76-571ecf1ab21b",
   "metadata": {},
   "source": [
    "#### **2. 使用ignore_index=True可以忽略原来的索引**"
   ]
  },
  {
   "cell_type": "code",
   "execution_count": 39,
   "id": "c2431350-6f68-4cb4-8f31-699f6befc2f7",
   "metadata": {
    "tags": []
   },
   "outputs": [
    {
     "data": {
      "text/html": [
       "<div>\n",
       "<style scoped>\n",
       "    .dataframe tbody tr th:only-of-type {\n",
       "        vertical-align: middle;\n",
       "    }\n",
       "\n",
       "    .dataframe tbody tr th {\n",
       "        vertical-align: top;\n",
       "    }\n",
       "\n",
       "    .dataframe thead th {\n",
       "        text-align: right;\n",
       "    }\n",
       "</style>\n",
       "<table border=\"1\" class=\"dataframe\">\n",
       "  <thead>\n",
       "    <tr style=\"text-align: right;\">\n",
       "      <th></th>\n",
       "      <th>A</th>\n",
       "      <th>B</th>\n",
       "      <th>C</th>\n",
       "      <th>D</th>\n",
       "      <th>E</th>\n",
       "      <th>F</th>\n",
       "    </tr>\n",
       "  </thead>\n",
       "  <tbody>\n",
       "    <tr>\n",
       "      <th>0</th>\n",
       "      <td>A0</td>\n",
       "      <td>B0</td>\n",
       "      <td>C0</td>\n",
       "      <td>D0</td>\n",
       "      <td>E0</td>\n",
       "      <td>NaN</td>\n",
       "    </tr>\n",
       "    <tr>\n",
       "      <th>1</th>\n",
       "      <td>A1</td>\n",
       "      <td>B1</td>\n",
       "      <td>C1</td>\n",
       "      <td>D1</td>\n",
       "      <td>E1</td>\n",
       "      <td>NaN</td>\n",
       "    </tr>\n",
       "    <tr>\n",
       "      <th>2</th>\n",
       "      <td>A2</td>\n",
       "      <td>B2</td>\n",
       "      <td>C2</td>\n",
       "      <td>D2</td>\n",
       "      <td>E2</td>\n",
       "      <td>NaN</td>\n",
       "    </tr>\n",
       "    <tr>\n",
       "      <th>3</th>\n",
       "      <td>A3</td>\n",
       "      <td>B3</td>\n",
       "      <td>C3</td>\n",
       "      <td>D3</td>\n",
       "      <td>E3</td>\n",
       "      <td>NaN</td>\n",
       "    </tr>\n",
       "    <tr>\n",
       "      <th>4</th>\n",
       "      <td>A4</td>\n",
       "      <td>B4</td>\n",
       "      <td>C4</td>\n",
       "      <td>D4</td>\n",
       "      <td>NaN</td>\n",
       "      <td>F4</td>\n",
       "    </tr>\n",
       "    <tr>\n",
       "      <th>5</th>\n",
       "      <td>A5</td>\n",
       "      <td>B5</td>\n",
       "      <td>C5</td>\n",
       "      <td>D5</td>\n",
       "      <td>NaN</td>\n",
       "      <td>F5</td>\n",
       "    </tr>\n",
       "    <tr>\n",
       "      <th>6</th>\n",
       "      <td>A6</td>\n",
       "      <td>B6</td>\n",
       "      <td>C6</td>\n",
       "      <td>D6</td>\n",
       "      <td>NaN</td>\n",
       "      <td>F6</td>\n",
       "    </tr>\n",
       "    <tr>\n",
       "      <th>7</th>\n",
       "      <td>A7</td>\n",
       "      <td>B7</td>\n",
       "      <td>C7</td>\n",
       "      <td>D7</td>\n",
       "      <td>NaN</td>\n",
       "      <td>F7</td>\n",
       "    </tr>\n",
       "  </tbody>\n",
       "</table>\n",
       "</div>"
      ],
      "text/plain": [
       "    A   B   C   D    E    F\n",
       "0  A0  B0  C0  D0   E0  NaN\n",
       "1  A1  B1  C1  D1   E1  NaN\n",
       "2  A2  B2  C2  D2   E2  NaN\n",
       "3  A3  B3  C3  D3   E3  NaN\n",
       "4  A4  B4  C4  D4  NaN   F4\n",
       "5  A5  B5  C5  D5  NaN   F5\n",
       "6  A6  B6  C6  D6  NaN   F6\n",
       "7  A7  B7  C7  D7  NaN   F7"
      ]
     },
     "execution_count": 39,
     "metadata": {},
     "output_type": "execute_result"
    }
   ],
   "source": [
    "pd.concat([df1,df2],ignore_index=True)"
   ]
  },
  {
   "cell_type": "markdown",
   "id": "942af437-0f6c-4f36-b1be-717fe748902e",
   "metadata": {},
   "source": [
    "#### **3. 使用 join='inner' 忽略不能匹配的列**"
   ]
  },
  {
   "cell_type": "code",
   "execution_count": 40,
   "id": "8d94132c-fc03-4870-8e1c-0f26254dacbd",
   "metadata": {
    "tags": []
   },
   "outputs": [
    {
     "data": {
      "text/html": [
       "<div>\n",
       "<style scoped>\n",
       "    .dataframe tbody tr th:only-of-type {\n",
       "        vertical-align: middle;\n",
       "    }\n",
       "\n",
       "    .dataframe tbody tr th {\n",
       "        vertical-align: top;\n",
       "    }\n",
       "\n",
       "    .dataframe thead th {\n",
       "        text-align: right;\n",
       "    }\n",
       "</style>\n",
       "<table border=\"1\" class=\"dataframe\">\n",
       "  <thead>\n",
       "    <tr style=\"text-align: right;\">\n",
       "      <th></th>\n",
       "      <th>A</th>\n",
       "      <th>B</th>\n",
       "      <th>C</th>\n",
       "      <th>D</th>\n",
       "    </tr>\n",
       "  </thead>\n",
       "  <tbody>\n",
       "    <tr>\n",
       "      <th>0</th>\n",
       "      <td>A0</td>\n",
       "      <td>B0</td>\n",
       "      <td>C0</td>\n",
       "      <td>D0</td>\n",
       "    </tr>\n",
       "    <tr>\n",
       "      <th>1</th>\n",
       "      <td>A1</td>\n",
       "      <td>B1</td>\n",
       "      <td>C1</td>\n",
       "      <td>D1</td>\n",
       "    </tr>\n",
       "    <tr>\n",
       "      <th>2</th>\n",
       "      <td>A2</td>\n",
       "      <td>B2</td>\n",
       "      <td>C2</td>\n",
       "      <td>D2</td>\n",
       "    </tr>\n",
       "    <tr>\n",
       "      <th>3</th>\n",
       "      <td>A3</td>\n",
       "      <td>B3</td>\n",
       "      <td>C3</td>\n",
       "      <td>D3</td>\n",
       "    </tr>\n",
       "    <tr>\n",
       "      <th>4</th>\n",
       "      <td>A4</td>\n",
       "      <td>B4</td>\n",
       "      <td>C4</td>\n",
       "      <td>D4</td>\n",
       "    </tr>\n",
       "    <tr>\n",
       "      <th>5</th>\n",
       "      <td>A5</td>\n",
       "      <td>B5</td>\n",
       "      <td>C5</td>\n",
       "      <td>D5</td>\n",
       "    </tr>\n",
       "    <tr>\n",
       "      <th>6</th>\n",
       "      <td>A6</td>\n",
       "      <td>B6</td>\n",
       "      <td>C6</td>\n",
       "      <td>D6</td>\n",
       "    </tr>\n",
       "    <tr>\n",
       "      <th>7</th>\n",
       "      <td>A7</td>\n",
       "      <td>B7</td>\n",
       "      <td>C7</td>\n",
       "      <td>D7</td>\n",
       "    </tr>\n",
       "  </tbody>\n",
       "</table>\n",
       "</div>"
      ],
      "text/plain": [
       "    A   B   C   D\n",
       "0  A0  B0  C0  D0\n",
       "1  A1  B1  C1  D1\n",
       "2  A2  B2  C2  D2\n",
       "3  A3  B3  C3  D3\n",
       "4  A4  B4  C4  D4\n",
       "5  A5  B5  C5  D5\n",
       "6  A6  B6  C6  D6\n",
       "7  A7  B7  C7  D7"
      ]
     },
     "execution_count": 40,
     "metadata": {},
     "output_type": "execute_result"
    }
   ],
   "source": [
    "pd.concat([df1,df2],ignore_index=True,join='inner')"
   ]
  },
  {
   "cell_type": "markdown",
   "id": "df898d5d-f5b9-4a2d-8a80-6679c4b4cc46",
   "metadata": {},
   "source": [
    "#### **3. 使用 axis=1 相当于增加新列**"
   ]
  },
  {
   "cell_type": "code",
   "execution_count": 41,
   "id": "264da3b6-b6c5-4538-8695-457aeaef10c1",
   "metadata": {
    "tags": []
   },
   "outputs": [
    {
     "data": {
      "text/html": [
       "<div>\n",
       "<style scoped>\n",
       "    .dataframe tbody tr th:only-of-type {\n",
       "        vertical-align: middle;\n",
       "    }\n",
       "\n",
       "    .dataframe tbody tr th {\n",
       "        vertical-align: top;\n",
       "    }\n",
       "\n",
       "    .dataframe thead th {\n",
       "        text-align: right;\n",
       "    }\n",
       "</style>\n",
       "<table border=\"1\" class=\"dataframe\">\n",
       "  <thead>\n",
       "    <tr style=\"text-align: right;\">\n",
       "      <th></th>\n",
       "      <th>A</th>\n",
       "      <th>B</th>\n",
       "      <th>C</th>\n",
       "      <th>D</th>\n",
       "      <th>E</th>\n",
       "    </tr>\n",
       "  </thead>\n",
       "  <tbody>\n",
       "    <tr>\n",
       "      <th>0</th>\n",
       "      <td>A0</td>\n",
       "      <td>B0</td>\n",
       "      <td>C0</td>\n",
       "      <td>D0</td>\n",
       "      <td>E0</td>\n",
       "    </tr>\n",
       "    <tr>\n",
       "      <th>1</th>\n",
       "      <td>A1</td>\n",
       "      <td>B1</td>\n",
       "      <td>C1</td>\n",
       "      <td>D1</td>\n",
       "      <td>E1</td>\n",
       "    </tr>\n",
       "    <tr>\n",
       "      <th>2</th>\n",
       "      <td>A2</td>\n",
       "      <td>B2</td>\n",
       "      <td>C2</td>\n",
       "      <td>D2</td>\n",
       "      <td>E2</td>\n",
       "    </tr>\n",
       "    <tr>\n",
       "      <th>3</th>\n",
       "      <td>A3</td>\n",
       "      <td>B3</td>\n",
       "      <td>C3</td>\n",
       "      <td>D3</td>\n",
       "      <td>E3</td>\n",
       "    </tr>\n",
       "  </tbody>\n",
       "</table>\n",
       "</div>"
      ],
      "text/plain": [
       "    A   B   C   D   E\n",
       "0  A0  B0  C0  D0  E0\n",
       "1  A1  B1  C1  D1  E1\n",
       "2  A2  B2  C2  D2  E2\n",
       "3  A3  B3  C3  D3  E3"
      ]
     },
     "execution_count": 41,
     "metadata": {},
     "output_type": "execute_result"
    }
   ],
   "source": [
    "df1"
   ]
  },
  {
   "cell_type": "markdown",
   "id": "10183ca3-bc2e-4fc3-87e6-846b79dec415",
   "metadata": {},
   "source": [
    "- **A: 添加一列（Series）**"
   ]
  },
  {
   "cell_type": "code",
   "execution_count": 49,
   "id": "604ad9a4-00a2-4058-b27f-01007dd0d6a6",
   "metadata": {
    "tags": []
   },
   "outputs": [],
   "source": [
    "s1=pd.Series(list(range(4)),name='F') #这里的name='F'，后面会被用于列名"
   ]
  },
  {
   "cell_type": "code",
   "execution_count": 50,
   "id": "0490e297-9c41-41fd-b991-442beee0e4dd",
   "metadata": {
    "tags": []
   },
   "outputs": [
    {
     "data": {
      "text/plain": [
       "0    0\n",
       "1    1\n",
       "2    2\n",
       "3    3\n",
       "Name: F, dtype: int64"
      ]
     },
     "execution_count": 50,
     "metadata": {},
     "output_type": "execute_result"
    }
   ],
   "source": [
    "s1"
   ]
  },
  {
   "cell_type": "code",
   "execution_count": 51,
   "id": "87117805-a871-45ca-a8bf-7b638c220a23",
   "metadata": {
    "tags": []
   },
   "outputs": [
    {
     "data": {
      "text/html": [
       "<div>\n",
       "<style scoped>\n",
       "    .dataframe tbody tr th:only-of-type {\n",
       "        vertical-align: middle;\n",
       "    }\n",
       "\n",
       "    .dataframe tbody tr th {\n",
       "        vertical-align: top;\n",
       "    }\n",
       "\n",
       "    .dataframe thead th {\n",
       "        text-align: right;\n",
       "    }\n",
       "</style>\n",
       "<table border=\"1\" class=\"dataframe\">\n",
       "  <thead>\n",
       "    <tr style=\"text-align: right;\">\n",
       "      <th></th>\n",
       "      <th>A</th>\n",
       "      <th>B</th>\n",
       "      <th>C</th>\n",
       "      <th>D</th>\n",
       "      <th>E</th>\n",
       "      <th>F</th>\n",
       "    </tr>\n",
       "  </thead>\n",
       "  <tbody>\n",
       "    <tr>\n",
       "      <th>0</th>\n",
       "      <td>A0</td>\n",
       "      <td>B0</td>\n",
       "      <td>C0</td>\n",
       "      <td>D0</td>\n",
       "      <td>E0</td>\n",
       "      <td>0</td>\n",
       "    </tr>\n",
       "    <tr>\n",
       "      <th>1</th>\n",
       "      <td>A1</td>\n",
       "      <td>B1</td>\n",
       "      <td>C1</td>\n",
       "      <td>D1</td>\n",
       "      <td>E1</td>\n",
       "      <td>1</td>\n",
       "    </tr>\n",
       "    <tr>\n",
       "      <th>2</th>\n",
       "      <td>A2</td>\n",
       "      <td>B2</td>\n",
       "      <td>C2</td>\n",
       "      <td>D2</td>\n",
       "      <td>E2</td>\n",
       "      <td>2</td>\n",
       "    </tr>\n",
       "    <tr>\n",
       "      <th>3</th>\n",
       "      <td>A3</td>\n",
       "      <td>B3</td>\n",
       "      <td>C3</td>\n",
       "      <td>D3</td>\n",
       "      <td>E3</td>\n",
       "      <td>3</td>\n",
       "    </tr>\n",
       "  </tbody>\n",
       "</table>\n",
       "</div>"
      ],
      "text/plain": [
       "    A   B   C   D   E  F\n",
       "0  A0  B0  C0  D0  E0  0\n",
       "1  A1  B1  C1  D1  E1  1\n",
       "2  A2  B2  C2  D2  E2  2\n",
       "3  A3  B3  C3  D3  E3  3"
      ]
     },
     "execution_count": 51,
     "metadata": {},
     "output_type": "execute_result"
    }
   ],
   "source": [
    "pd.concat([df1,s1],ignore_index=False,axis=1) #这里的列名'F'，就是Series的name"
   ]
  },
  {
   "cell_type": "markdown",
   "id": "687c33f3-e0dc-465e-ac4a-4b0e3d425aa3",
   "metadata": {},
   "source": [
    "- **B: 添加多列（Series）**"
   ]
  },
  {
   "cell_type": "code",
   "execution_count": 66,
   "id": "1105eb32-799e-44bb-b099-be0cc453ff71",
   "metadata": {
    "tags": []
   },
   "outputs": [],
   "source": [
    "s2=df1.apply(lambda x:x['A']+'_GG',axis=1)  #取一列作为Series"
   ]
  },
  {
   "cell_type": "code",
   "execution_count": 53,
   "id": "ab10a556-376d-4859-b2f6-eddf5722495b",
   "metadata": {
    "tags": []
   },
   "outputs": [
    {
     "data": {
      "text/plain": [
       "0    A0_GG\n",
       "1    A1_GG\n",
       "2    A2_GG\n",
       "3    A3_GG\n",
       "dtype: object"
      ]
     },
     "execution_count": 53,
     "metadata": {},
     "output_type": "execute_result"
    }
   ],
   "source": [
    "s2"
   ]
  },
  {
   "cell_type": "code",
   "execution_count": 55,
   "id": "eafac375-02c4-46b3-a7f7-a523180ddb10",
   "metadata": {
    "tags": []
   },
   "outputs": [],
   "source": [
    "s2.name='G'"
   ]
  },
  {
   "cell_type": "code",
   "execution_count": 56,
   "id": "bee90d47-a0cb-482c-bf4e-41e46e7ea004",
   "metadata": {
    "tags": []
   },
   "outputs": [
    {
     "data": {
      "text/plain": [
       "0    A0_GG\n",
       "1    A1_GG\n",
       "2    A2_GG\n",
       "3    A3_GG\n",
       "Name: G, dtype: object"
      ]
     },
     "execution_count": 56,
     "metadata": {},
     "output_type": "execute_result"
    }
   ],
   "source": [
    "s2"
   ]
  },
  {
   "cell_type": "code",
   "execution_count": 57,
   "id": "d21b3458-fdf0-4d5c-b305-c62aff04dc80",
   "metadata": {
    "tags": []
   },
   "outputs": [
    {
     "data": {
      "text/html": [
       "<div>\n",
       "<style scoped>\n",
       "    .dataframe tbody tr th:only-of-type {\n",
       "        vertical-align: middle;\n",
       "    }\n",
       "\n",
       "    .dataframe tbody tr th {\n",
       "        vertical-align: top;\n",
       "    }\n",
       "\n",
       "    .dataframe thead th {\n",
       "        text-align: right;\n",
       "    }\n",
       "</style>\n",
       "<table border=\"1\" class=\"dataframe\">\n",
       "  <thead>\n",
       "    <tr style=\"text-align: right;\">\n",
       "      <th></th>\n",
       "      <th>A</th>\n",
       "      <th>B</th>\n",
       "      <th>C</th>\n",
       "      <th>D</th>\n",
       "      <th>E</th>\n",
       "      <th>F</th>\n",
       "      <th>G</th>\n",
       "    </tr>\n",
       "  </thead>\n",
       "  <tbody>\n",
       "    <tr>\n",
       "      <th>0</th>\n",
       "      <td>A0</td>\n",
       "      <td>B0</td>\n",
       "      <td>C0</td>\n",
       "      <td>D0</td>\n",
       "      <td>E0</td>\n",
       "      <td>0</td>\n",
       "      <td>A0_GG</td>\n",
       "    </tr>\n",
       "    <tr>\n",
       "      <th>1</th>\n",
       "      <td>A1</td>\n",
       "      <td>B1</td>\n",
       "      <td>C1</td>\n",
       "      <td>D1</td>\n",
       "      <td>E1</td>\n",
       "      <td>1</td>\n",
       "      <td>A1_GG</td>\n",
       "    </tr>\n",
       "    <tr>\n",
       "      <th>2</th>\n",
       "      <td>A2</td>\n",
       "      <td>B2</td>\n",
       "      <td>C2</td>\n",
       "      <td>D2</td>\n",
       "      <td>E2</td>\n",
       "      <td>2</td>\n",
       "      <td>A2_GG</td>\n",
       "    </tr>\n",
       "    <tr>\n",
       "      <th>3</th>\n",
       "      <td>A3</td>\n",
       "      <td>B3</td>\n",
       "      <td>C3</td>\n",
       "      <td>D3</td>\n",
       "      <td>E3</td>\n",
       "      <td>3</td>\n",
       "      <td>A3_GG</td>\n",
       "    </tr>\n",
       "  </tbody>\n",
       "</table>\n",
       "</div>"
      ],
      "text/plain": [
       "    A   B   C   D   E  F      G\n",
       "0  A0  B0  C0  D0  E0  0  A0_GG\n",
       "1  A1  B1  C1  D1  E1  1  A1_GG\n",
       "2  A2  B2  C2  D2  E2  2  A2_GG\n",
       "3  A3  B3  C3  D3  E3  3  A3_GG"
      ]
     },
     "execution_count": 57,
     "metadata": {},
     "output_type": "execute_result"
    }
   ],
   "source": [
    "pd.concat([df1,s1,s2],axis=1)"
   ]
  },
  {
   "cell_type": "markdown",
   "id": "24fae049-a871-498d-9eaf-6b3e8b38ebaa",
   "metadata": {},
   "source": [
    "可见，F列、G列，都是新增的"
   ]
  },
  {
   "cell_type": "markdown",
   "id": "dd2ea16c-dd11-4715-9a4b-ea8280f84cef",
   "metadata": {},
   "source": [
    "- **C:合并两个或多个Series**"
   ]
  },
  {
   "cell_type": "code",
   "execution_count": 86,
   "id": "1ebd7fc2-4c59-4f30-bd9c-2026cb4a23aa",
   "metadata": {
    "tags": []
   },
   "outputs": [
    {
     "data": {
      "text/plain": [
       "0    0\n",
       "1    1\n",
       "2    2\n",
       "3    3\n",
       "Name: F, dtype: int64"
      ]
     },
     "execution_count": 86,
     "metadata": {},
     "output_type": "execute_result"
    }
   ],
   "source": [
    "s1"
   ]
  },
  {
   "cell_type": "code",
   "execution_count": 87,
   "id": "f6787c28-c2e9-4a6e-abfe-802bf21838ba",
   "metadata": {
    "tags": []
   },
   "outputs": [
    {
     "data": {
      "text/plain": [
       "0    A0_GG\n",
       "1    A1_GG\n",
       "2    A2_GG\n",
       "3    A3_GG\n",
       "Name: S2, dtype: object"
      ]
     },
     "execution_count": 87,
     "metadata": {},
     "output_type": "execute_result"
    }
   ],
   "source": [
    "s2"
   ]
  },
  {
   "cell_type": "code",
   "execution_count": 88,
   "id": "e7c7cd02-53e5-4321-932a-9dc7d771d1e3",
   "metadata": {
    "tags": []
   },
   "outputs": [
    {
     "data": {
      "text/plain": [
       "0        0\n",
       "1        1\n",
       "2        2\n",
       "3        3\n",
       "0    A0_GG\n",
       "1    A1_GG\n",
       "2    A2_GG\n",
       "3    A3_GG\n",
       "dtype: object"
      ]
     },
     "execution_count": 88,
     "metadata": {},
     "output_type": "execute_result"
    }
   ],
   "source": [
    "pd.concat([s1,s2],axis=0)"
   ]
  },
  {
   "cell_type": "code",
   "execution_count": 89,
   "id": "f505992c-02a4-4b5a-a77f-048496029ad1",
   "metadata": {
    "tags": []
   },
   "outputs": [
    {
     "data": {
      "text/html": [
       "<div>\n",
       "<style scoped>\n",
       "    .dataframe tbody tr th:only-of-type {\n",
       "        vertical-align: middle;\n",
       "    }\n",
       "\n",
       "    .dataframe tbody tr th {\n",
       "        vertical-align: top;\n",
       "    }\n",
       "\n",
       "    .dataframe thead th {\n",
       "        text-align: right;\n",
       "    }\n",
       "</style>\n",
       "<table border=\"1\" class=\"dataframe\">\n",
       "  <thead>\n",
       "    <tr style=\"text-align: right;\">\n",
       "      <th></th>\n",
       "      <th>F</th>\n",
       "      <th>S2</th>\n",
       "    </tr>\n",
       "  </thead>\n",
       "  <tbody>\n",
       "    <tr>\n",
       "      <th>0</th>\n",
       "      <td>0</td>\n",
       "      <td>A0_GG</td>\n",
       "    </tr>\n",
       "    <tr>\n",
       "      <th>1</th>\n",
       "      <td>1</td>\n",
       "      <td>A1_GG</td>\n",
       "    </tr>\n",
       "    <tr>\n",
       "      <th>2</th>\n",
       "      <td>2</td>\n",
       "      <td>A2_GG</td>\n",
       "    </tr>\n",
       "    <tr>\n",
       "      <th>3</th>\n",
       "      <td>3</td>\n",
       "      <td>A3_GG</td>\n",
       "    </tr>\n",
       "  </tbody>\n",
       "</table>\n",
       "</div>"
      ],
      "text/plain": [
       "   F     S2\n",
       "0  0  A0_GG\n",
       "1  1  A1_GG\n",
       "2  2  A2_GG\n",
       "3  3  A3_GG"
      ]
     },
     "execution_count": 89,
     "metadata": {},
     "output_type": "execute_result"
    }
   ],
   "source": [
    "pd.concat([s1,s2],axis=1)"
   ]
  },
  {
   "cell_type": "code",
   "execution_count": 95,
   "id": "b8b7155b-bc89-47ac-8e27-a30436065585",
   "metadata": {
    "tags": []
   },
   "outputs": [],
   "source": [
    "s3=df1.apply(lambda x:x[1]+'_HH') #取一行作为Series"
   ]
  },
  {
   "cell_type": "code",
   "execution_count": 96,
   "id": "c23b73d6-23e4-4da3-a5a4-c13129b481d4",
   "metadata": {
    "tags": []
   },
   "outputs": [
    {
     "data": {
      "text/plain": [
       "A    A1_HH\n",
       "B    B1_HH\n",
       "C    C1_HH\n",
       "D    D1_HH\n",
       "E    E1_HH\n",
       "dtype: object"
      ]
     },
     "execution_count": 96,
     "metadata": {},
     "output_type": "execute_result"
    }
   ],
   "source": [
    "s3"
   ]
  },
  {
   "cell_type": "code",
   "execution_count": 97,
   "id": "6159f44e-28df-4ad0-8a13-438e75347917",
   "metadata": {
    "tags": []
   },
   "outputs": [],
   "source": [
    "s3.drop('E',inplace=True) #删除一个元素，使其长度与s1,s2相等"
   ]
  },
  {
   "cell_type": "code",
   "execution_count": 98,
   "id": "89c75bc6-c54d-4124-9220-8b970d6a4334",
   "metadata": {
    "tags": []
   },
   "outputs": [
    {
     "data": {
      "text/plain": [
       "A    A1_HH\n",
       "B    B1_HH\n",
       "C    C1_HH\n",
       "D    D1_HH\n",
       "dtype: object"
      ]
     },
     "execution_count": 98,
     "metadata": {},
     "output_type": "execute_result"
    }
   ],
   "source": [
    "s3"
   ]
  },
  {
   "cell_type": "code",
   "execution_count": 101,
   "id": "a19a3fbd-0472-404b-aed7-dfc418b57570",
   "metadata": {
    "tags": []
   },
   "outputs": [
    {
     "data": {
      "text/html": [
       "<div>\n",
       "<style scoped>\n",
       "    .dataframe tbody tr th:only-of-type {\n",
       "        vertical-align: middle;\n",
       "    }\n",
       "\n",
       "    .dataframe tbody tr th {\n",
       "        vertical-align: top;\n",
       "    }\n",
       "\n",
       "    .dataframe thead th {\n",
       "        text-align: right;\n",
       "    }\n",
       "</style>\n",
       "<table border=\"1\" class=\"dataframe\">\n",
       "  <thead>\n",
       "    <tr style=\"text-align: right;\">\n",
       "      <th></th>\n",
       "      <th>0</th>\n",
       "      <th>1</th>\n",
       "      <th>2</th>\n",
       "    </tr>\n",
       "  </thead>\n",
       "  <tbody>\n",
       "    <tr>\n",
       "      <th>0</th>\n",
       "      <td>0.0</td>\n",
       "      <td>A0_GG</td>\n",
       "      <td>NaN</td>\n",
       "    </tr>\n",
       "    <tr>\n",
       "      <th>1</th>\n",
       "      <td>1.0</td>\n",
       "      <td>A1_GG</td>\n",
       "      <td>NaN</td>\n",
       "    </tr>\n",
       "    <tr>\n",
       "      <th>2</th>\n",
       "      <td>2.0</td>\n",
       "      <td>A2_GG</td>\n",
       "      <td>NaN</td>\n",
       "    </tr>\n",
       "    <tr>\n",
       "      <th>3</th>\n",
       "      <td>3.0</td>\n",
       "      <td>A3_GG</td>\n",
       "      <td>NaN</td>\n",
       "    </tr>\n",
       "    <tr>\n",
       "      <th>A</th>\n",
       "      <td>NaN</td>\n",
       "      <td>NaN</td>\n",
       "      <td>A1_HH</td>\n",
       "    </tr>\n",
       "    <tr>\n",
       "      <th>B</th>\n",
       "      <td>NaN</td>\n",
       "      <td>NaN</td>\n",
       "      <td>B1_HH</td>\n",
       "    </tr>\n",
       "    <tr>\n",
       "      <th>C</th>\n",
       "      <td>NaN</td>\n",
       "      <td>NaN</td>\n",
       "      <td>C1_HH</td>\n",
       "    </tr>\n",
       "    <tr>\n",
       "      <th>D</th>\n",
       "      <td>NaN</td>\n",
       "      <td>NaN</td>\n",
       "      <td>D1_HH</td>\n",
       "    </tr>\n",
       "  </tbody>\n",
       "</table>\n",
       "</div>"
      ],
      "text/plain": [
       "     0      1      2\n",
       "0  0.0  A0_GG    NaN\n",
       "1  1.0  A1_GG    NaN\n",
       "2  2.0  A2_GG    NaN\n",
       "3  3.0  A3_GG    NaN\n",
       "A  NaN    NaN  A1_HH\n",
       "B  NaN    NaN  B1_HH\n",
       "C  NaN    NaN  C1_HH\n",
       "D  NaN    NaN  D1_HH"
      ]
     },
     "execution_count": 101,
     "metadata": {},
     "output_type": "execute_result"
    }
   ],
   "source": [
    "pd.concat([s1,s2,s3],axis=1,ignore_index=True)"
   ]
  },
  {
   "cell_type": "code",
   "execution_count": 110,
   "id": "f76baaee-4d4c-4ee7-951d-3f5f5ac159b2",
   "metadata": {
    "tags": []
   },
   "outputs": [
    {
     "data": {
      "text/plain": [
       "A    A1_HH\n",
       "B    B1_HH\n",
       "C    C1_HH\n",
       "D    D1_HH\n",
       "dtype: object"
      ]
     },
     "execution_count": 110,
     "metadata": {},
     "output_type": "execute_result"
    }
   ],
   "source": [
    "s3.reindex()"
   ]
  },
  {
   "cell_type": "code",
   "execution_count": 120,
   "id": "6258fd56-d880-4d18-97b1-844510e21aee",
   "metadata": {
    "tags": []
   },
   "outputs": [
    {
     "data": {
      "text/html": [
       "<div>\n",
       "<style scoped>\n",
       "    .dataframe tbody tr th:only-of-type {\n",
       "        vertical-align: middle;\n",
       "    }\n",
       "\n",
       "    .dataframe tbody tr th {\n",
       "        vertical-align: top;\n",
       "    }\n",
       "\n",
       "    .dataframe thead th {\n",
       "        text-align: right;\n",
       "    }\n",
       "</style>\n",
       "<table border=\"1\" class=\"dataframe\">\n",
       "  <thead>\n",
       "    <tr style=\"text-align: right;\">\n",
       "      <th></th>\n",
       "      <th>A</th>\n",
       "    </tr>\n",
       "  </thead>\n",
       "  <tbody>\n",
       "    <tr>\n",
       "      <th>0</th>\n",
       "      <td>0</td>\n",
       "    </tr>\n",
       "    <tr>\n",
       "      <th>1</th>\n",
       "      <td>1</td>\n",
       "    </tr>\n",
       "    <tr>\n",
       "      <th>2</th>\n",
       "      <td>2</td>\n",
       "    </tr>\n",
       "    <tr>\n",
       "      <th>3</th>\n",
       "      <td>3</td>\n",
       "    </tr>\n",
       "    <tr>\n",
       "      <th>4</th>\n",
       "      <td>4</td>\n",
       "    </tr>\n",
       "  </tbody>\n",
       "</table>\n",
       "</div>"
      ],
      "text/plain": [
       "   A\n",
       "0  0\n",
       "1  1\n",
       "2  2\n",
       "3  3\n",
       "4  4"
      ]
     },
     "execution_count": 120,
     "metadata": {},
     "output_type": "execute_result"
    }
   ],
   "source": [
    "pd.concat(\n",
    "    [pd.DataFrame([i],columns=['A']) for i in range(5)],   #没懂！！！猜测这行代码是生成5个只有一行一列的dataframe\n",
    "    ignore_index=True\n",
    ")"
   ]
  },
  {
   "cell_type": "code",
   "execution_count": 122,
   "id": "98065055-a02a-4101-a744-e04c9d1c3248",
   "metadata": {
    "tags": []
   },
   "outputs": [
    {
     "data": {
      "text/plain": [
       "[   A\n",
       " 0  0,\n",
       "    A\n",
       " 0  1,\n",
       "    A\n",
       " 0  2,\n",
       "    A\n",
       " 0  3,\n",
       "    A\n",
       " 0  4]"
      ]
     },
     "execution_count": 122,
     "metadata": {},
     "output_type": "execute_result"
    }
   ],
   "source": [
    "[pd.DataFrame([i],columns=['A']) for i in range(5)] #生成了5个一行一列的dataframe,最外层的方括号使这5个dataframe组成一个list"
   ]
  },
  {
   "cell_type": "code",
   "execution_count": null,
   "id": "09a22ba0-3de4-4fbd-b27e-e48cd1aeb752",
   "metadata": {
    "tags": []
   },
   "outputs": [],
   "source": [
    "pd.DataFrame([i],columns=['A']) for i in range(5) #这样则不能执行"
   ]
  },
  {
   "cell_type": "code",
   "execution_count": null,
   "id": "4a26a24a-477d-4785-a9c1-93a24a414236",
   "metadata": {},
   "outputs": [],
   "source": []
  },
  {
   "cell_type": "markdown",
   "id": "0e40e329-ac8a-4a05-846a-907f86a2fab8",
   "metadata": {},
   "source": [
    "----"
   ]
  },
  {
   "cell_type": "code",
   "execution_count": null,
   "id": "284d7c6b-854d-4e29-95a0-ff98c3462e4f",
   "metadata": {},
   "outputs": [],
   "source": []
  },
  {
   "cell_type": "markdown",
   "id": "0c5791ed-025a-40a2-87f5-d5aeb5569606",
   "metadata": {},
   "source": [
    "## **14. Pandas批量拆分与合并Excel文件**  "
   ]
  },
  {
   "cell_type": "markdown",
   "id": "0ec7133e-289c-4f2e-9289-e2675eb6edfa",
   "metadata": {},
   "source": [
    "1. 将一个大的Excel拆分成多个小的文件\n",
    "2. 将多个小的Excel文件合并成一个大的，并标记来源"
   ]
  },
  {
   "cell_type": "code",
   "execution_count": 125,
   "id": "e023970c-41ba-48b7-8020-4ea43c84c3c6",
   "metadata": {
    "tags": []
   },
   "outputs": [],
   "source": [
    "work_dir='/media/数据盘/pandas'\n",
    "splits_dir=f'{work_dir}/splits'"
   ]
  },
  {
   "cell_type": "code",
   "execution_count": 126,
   "id": "6218f853-66df-430b-a646-9fd52fc1f03e",
   "metadata": {
    "tags": []
   },
   "outputs": [],
   "source": [
    "import os"
   ]
  },
  {
   "cell_type": "code",
   "execution_count": 127,
   "id": "d1944902-0d6c-4bca-aa96-2ceb6b67ce11",
   "metadata": {
    "tags": []
   },
   "outputs": [],
   "source": [
    "if not os.path.exists(splits_dir):\n",
    "    os.makedirs(splits_dir)\n"
   ]
  },
  {
   "cell_type": "markdown",
   "id": "0d093d27-e205-4d53-86fc-1cdea48438a5",
   "metadata": {
    "tags": []
   },
   "source": [
    "### **14.0 使用pandas读取Excel文件**"
   ]
  },
  {
   "cell_type": "code",
   "execution_count": 128,
   "id": "c60b1573-00f0-482c-af9c-56568626dbd6",
   "metadata": {
    "tags": []
   },
   "outputs": [],
   "source": [
    "import pandas as pd"
   ]
  },
  {
   "cell_type": "code",
   "execution_count": 129,
   "id": "88c2952a-94c5-4923-bfce-8b49577efcac",
   "metadata": {
    "tags": []
   },
   "outputs": [],
   "source": [
    "df_source=pd.read_excel(f'{work_dir}/gy202302.xlsx')"
   ]
  },
  {
   "cell_type": "code",
   "execution_count": 138,
   "id": "5f9950e9-21b5-4568-b6af-8b6ab9ab6ba0",
   "metadata": {
    "tags": []
   },
   "outputs": [
    {
     "data": {
      "text/html": [
       "<div>\n",
       "<style scoped>\n",
       "    .dataframe tbody tr th:only-of-type {\n",
       "        vertical-align: middle;\n",
       "    }\n",
       "\n",
       "    .dataframe tbody tr th {\n",
       "        vertical-align: top;\n",
       "    }\n",
       "\n",
       "    .dataframe thead th {\n",
       "        text-align: right;\n",
       "    }\n",
       "</style>\n",
       "<table border=\"1\" class=\"dataframe\">\n",
       "  <thead>\n",
       "    <tr style=\"text-align: right;\">\n",
       "      <th></th>\n",
       "      <th>NF</th>\n",
       "      <th>YF</th>\n",
       "      <th>A01</th>\n",
       "      <th>H02</th>\n",
       "      <th>N2000_1</th>\n",
       "      <th>N2000_2</th>\n",
       "      <th>N2000_3</th>\n",
       "      <th>N2000_4</th>\n",
       "      <th>N4000_1</th>\n",
       "      <th>N4000_2</th>\n",
       "      <th>...</th>\n",
       "      <th>A341</th>\n",
       "      <th>A342</th>\n",
       "      <th>A343</th>\n",
       "      <th>B93</th>\n",
       "      <th>DZX</th>\n",
       "      <th>A07_2017</th>\n",
       "      <th>A14</th>\n",
       "      <th>N2000_2_KBJ</th>\n",
       "      <th>N2000_2_TB</th>\n",
       "      <th>N2000_1_KBJ</th>\n",
       "    </tr>\n",
       "  </thead>\n",
       "  <tbody>\n",
       "    <tr>\n",
       "      <th>0</th>\n",
       "      <td>2023</td>\n",
       "      <td>2</td>\n",
       "      <td>057686533</td>\n",
       "      <td>上海欣禄包装制品有限公司</td>\n",
       "      <td>3554</td>\n",
       "      <td>7542</td>\n",
       "      <td>3376</td>\n",
       "      <td>6179</td>\n",
       "      <td>3554</td>\n",
       "      <td>7542</td>\n",
       "      <td>...</td>\n",
       "      <td>0</td>\n",
       "      <td>0</td>\n",
       "      <td>0</td>\n",
       "      <td>501</td>\n",
       "      <td>3</td>\n",
       "      <td>2231</td>\n",
       "      <td>1</td>\n",
       "      <td>7618.18</td>\n",
       "      <td>7618.18</td>\n",
       "      <td>3589.90</td>\n",
       "    </tr>\n",
       "    <tr>\n",
       "      <th>1</th>\n",
       "      <td>2023</td>\n",
       "      <td>2</td>\n",
       "      <td>059324579</td>\n",
       "      <td>上海弘干机械制造有限公司</td>\n",
       "      <td>4109</td>\n",
       "      <td>7425</td>\n",
       "      <td>2335</td>\n",
       "      <td>5418</td>\n",
       "      <td>4109</td>\n",
       "      <td>7425</td>\n",
       "      <td>...</td>\n",
       "      <td>0</td>\n",
       "      <td>0</td>\n",
       "      <td>0</td>\n",
       "      <td>502</td>\n",
       "      <td>3</td>\n",
       "      <td>3311</td>\n",
       "      <td>1</td>\n",
       "      <td>7702.28</td>\n",
       "      <td>7702.28</td>\n",
       "      <td>4262.45</td>\n",
       "    </tr>\n",
       "    <tr>\n",
       "      <th>2</th>\n",
       "      <td>2023</td>\n",
       "      <td>2</td>\n",
       "      <td>060907093</td>\n",
       "      <td>上海图正信息科技股份有限公司</td>\n",
       "      <td>200</td>\n",
       "      <td>200</td>\n",
       "      <td>185</td>\n",
       "      <td>185</td>\n",
       "      <td>200</td>\n",
       "      <td>200</td>\n",
       "      <td>...</td>\n",
       "      <td>0</td>\n",
       "      <td>0</td>\n",
       "      <td>0</td>\n",
       "      <td>502</td>\n",
       "      <td>3</td>\n",
       "      <td>3983</td>\n",
       "      <td>1</td>\n",
       "      <td>201.01</td>\n",
       "      <td>201.01</td>\n",
       "      <td>201.01</td>\n",
       "    </tr>\n",
       "    <tr>\n",
       "      <th>3</th>\n",
       "      <td>2023</td>\n",
       "      <td>2</td>\n",
       "      <td>060946834</td>\n",
       "      <td>上海东富龙拓溥科技有限公司</td>\n",
       "      <td>84318</td>\n",
       "      <td>90495</td>\n",
       "      <td>29460</td>\n",
       "      <td>54482</td>\n",
       "      <td>5754</td>\n",
       "      <td>8837</td>\n",
       "      <td>...</td>\n",
       "      <td>230105</td>\n",
       "      <td>0</td>\n",
       "      <td>0</td>\n",
       "      <td>502</td>\n",
       "      <td>3</td>\n",
       "      <td>3544</td>\n",
       "      <td>1</td>\n",
       "      <td>90314.37</td>\n",
       "      <td>90314.37</td>\n",
       "      <td>84149.70</td>\n",
       "    </tr>\n",
       "    <tr>\n",
       "      <th>4</th>\n",
       "      <td>2023</td>\n",
       "      <td>2</td>\n",
       "      <td>062523851</td>\n",
       "      <td>上海海的实业有限公司</td>\n",
       "      <td>3309</td>\n",
       "      <td>6753</td>\n",
       "      <td>8019</td>\n",
       "      <td>20177</td>\n",
       "      <td>3167</td>\n",
       "      <td>8092</td>\n",
       "      <td>...</td>\n",
       "      <td>0</td>\n",
       "      <td>0</td>\n",
       "      <td>0</td>\n",
       "      <td>502</td>\n",
       "      <td>3</td>\n",
       "      <td>3312</td>\n",
       "      <td>1</td>\n",
       "      <td>7005.19</td>\n",
       "      <td>7005.19</td>\n",
       "      <td>3432.57</td>\n",
       "    </tr>\n",
       "  </tbody>\n",
       "</table>\n",
       "<p>5 rows × 33 columns</p>\n",
       "</div>"
      ],
      "text/plain": [
       "     NF  YF        A01             H02  N2000_1  N2000_2  N2000_3  N2000_4  \\\n",
       "0  2023   2  057686533    上海欣禄包装制品有限公司     3554     7542     3376     6179   \n",
       "1  2023   2  059324579    上海弘干机械制造有限公司     4109     7425     2335     5418   \n",
       "2  2023   2  060907093  上海图正信息科技股份有限公司      200      200      185      185   \n",
       "3  2023   2  060946834   上海东富龙拓溥科技有限公司    84318    90495    29460    54482   \n",
       "4  2023   2  062523851      上海海的实业有限公司     3309     6753     8019    20177   \n",
       "\n",
       "   N4000_1  N4000_2  ...    A341  A342  A343  B93  DZX  A07_2017  A14  \\\n",
       "0     3554     7542  ...       0     0     0  501    3      2231    1   \n",
       "1     4109     7425  ...       0     0     0  502    3      3311    1   \n",
       "2      200      200  ...       0     0     0  502    3      3983    1   \n",
       "3     5754     8837  ...  230105     0     0  502    3      3544    1   \n",
       "4     3167     8092  ...       0     0     0  502    3      3312    1   \n",
       "\n",
       "   N2000_2_KBJ  N2000_2_TB  N2000_1_KBJ  \n",
       "0      7618.18     7618.18      3589.90  \n",
       "1      7702.28     7702.28      4262.45  \n",
       "2       201.01      201.01       201.01  \n",
       "3     90314.37    90314.37     84149.70  \n",
       "4      7005.19     7005.19      3432.57  \n",
       "\n",
       "[5 rows x 33 columns]"
      ]
     },
     "execution_count": 138,
     "metadata": {},
     "output_type": "execute_result"
    }
   ],
   "source": [
    "df_source.head()"
   ]
  },
  {
   "cell_type": "code",
   "execution_count": 133,
   "id": "49e6ac73-22e8-4efe-bbdd-38ba494a79a6",
   "metadata": {
    "tags": []
   },
   "outputs": [
    {
     "data": {
      "text/plain": [
       "RangeIndex(start=0, stop=878, step=1)"
      ]
     },
     "execution_count": 133,
     "metadata": {},
     "output_type": "execute_result"
    }
   ],
   "source": [
    "df_source.index"
   ]
  },
  {
   "cell_type": "code",
   "execution_count": 134,
   "id": "58f04e35-6322-4078-8c68-c3b360aa471b",
   "metadata": {
    "tags": []
   },
   "outputs": [
    {
     "data": {
      "text/plain": [
       "(878, 33)"
      ]
     },
     "execution_count": 134,
     "metadata": {},
     "output_type": "execute_result"
    }
   ],
   "source": [
    "df_source.shape"
   ]
  },
  {
   "cell_type": "code",
   "execution_count": 135,
   "id": "6e41505b-6be3-4819-81e3-924d22b43020",
   "metadata": {
    "tags": []
   },
   "outputs": [],
   "source": [
    "total_row_count=df_source.shape[0]"
   ]
  },
  {
   "cell_type": "code",
   "execution_count": 136,
   "id": "3bd06d42-ad08-47c0-b25e-2daf42eabb74",
   "metadata": {
    "tags": []
   },
   "outputs": [
    {
     "data": {
      "text/plain": [
       "878"
      ]
     },
     "execution_count": 136,
     "metadata": {},
     "output_type": "execute_result"
    }
   ],
   "source": [
    "total_row_count"
   ]
  },
  {
   "cell_type": "markdown",
   "id": "7d74dbdc-687f-46bc-a5a8-262abef401dd",
   "metadata": {
    "tags": []
   },
   "source": [
    "### **14.1 将一个大的Excel文件拆成多个小的文件**"
   ]
  },
  {
   "cell_type": "markdown",
   "id": "3fc47b63-5dd5-4246-892f-bf9024813105",
   "metadata": {},
   "source": [
    "**1. 使用df.iloc方法将大的DataFrame拆分成小的DataFrame,iloc方法使用数字索引**  \n",
    "**2. 使用DataFrame.to_excel将dataframe保存为小的Excel文件**"
   ]
  },
  {
   "cell_type": "markdown",
   "id": "d5200582-c42a-481e-9047-d1db4089cbe5",
   "metadata": {
    "tags": []
   },
   "source": [
    "#### **14.1.1 计算拆分后的每个Excel的行数**"
   ]
  },
  {
   "cell_type": "code",
   "execution_count": 148,
   "id": "f726dd7c-8c3e-4c4f-a0f2-e9d100ad03b8",
   "metadata": {
    "tags": []
   },
   "outputs": [],
   "source": [
    "#拟将大表分给6个人\n",
    "usernames=['zhao','qian','sun','li','zhou','wu']"
   ]
  },
  {
   "cell_type": "code",
   "execution_count": 162,
   "id": "81828193-47f7-410e-9a19-ad0edfe8cb39",
   "metadata": {
    "tags": []
   },
   "outputs": [],
   "source": [
    "#每个人的记录数\n",
    "split_size=total_row_count//len(usernames) #整除"
   ]
  },
  {
   "cell_type": "code",
   "execution_count": 163,
   "id": "fe91bb86-1ca9-4aea-82bf-3ed9be599113",
   "metadata": {
    "tags": []
   },
   "outputs": [
    {
     "data": {
      "text/plain": [
       "146"
      ]
     },
     "execution_count": 163,
     "metadata": {},
     "output_type": "execute_result"
    }
   ],
   "source": [
    "split_size"
   ]
  },
  {
   "cell_type": "code",
   "execution_count": 164,
   "id": "b1fd6160-c0a5-4a64-8037-2a0a6433dcf0",
   "metadata": {
    "tags": []
   },
   "outputs": [],
   "source": [
    "if total_row_count%len(usernames) != 0:\n",
    "    split_size +=1"
   ]
  },
  {
   "cell_type": "code",
   "execution_count": 165,
   "id": "f530faeb-8f2d-424c-9818-676ad5223b6b",
   "metadata": {
    "tags": []
   },
   "outputs": [
    {
     "data": {
      "text/plain": [
       "147"
      ]
     },
     "execution_count": 165,
     "metadata": {},
     "output_type": "execute_result"
    }
   ],
   "source": [
    "split_size"
   ]
  },
  {
   "cell_type": "markdown",
   "id": "a1312096-9c7d-4ec3-a8cd-15a492a9ffda",
   "metadata": {
    "tags": []
   },
   "source": [
    "#### **14.1.2 拆分成多个DataFrame**"
   ]
  },
  {
   "cell_type": "code",
   "execution_count": 170,
   "id": "f3a78cfb-2fe2-412d-b43c-551b97e56f3d",
   "metadata": {
    "tags": []
   },
   "outputs": [
    {
     "data": {
      "text/plain": [
       "[(10, 'zhao'), (11, 'qian'), (12, 'sun'), (13, 'li'), (14, 'zhou'), (15, 'wu')]"
      ]
     },
     "execution_count": 170,
     "metadata": {},
     "output_type": "execute_result"
    }
   ],
   "source": [
    "list(enumerate(usernames,start=10))"
   ]
  },
  {
   "cell_type": "code",
   "execution_count": 174,
   "id": "62dac425-7500-4c25-9ec0-1597f2debe78",
   "metadata": {
    "tags": []
   },
   "outputs": [],
   "source": [
    "#定义一个存储小dataframe的列表\n",
    "df_subs=[]\n",
    "\n",
    "#enumerate() 函数用于将一个可遍历的数据对象(如列表、元组或字符串)组合为一个索引序列，同时列出数据和数据下标，一般用在 for 循环当中。\n",
    "for idx,user_name in enumerate(usernames):\n",
    "    begin=idx*split_size # iloc的起始索引\n",
    "    end=begin+split_size # iloc的终止索引\n",
    "    buff=df_source.iloc[begin:end] # 拆分，iloc函数使用整数数值索引\n",
    "    df_subs.append((idx,user_name,buff)) #将子dataframe和索引、归属人员名称一起存入列表"
   ]
  },
  {
   "cell_type": "markdown",
   "id": "23b4e0e9-b54d-4166-9512-e4898cf176e9",
   "metadata": {
    "tags": []
   },
   "source": [
    "#### **14.1.3 将各个DataFrame分别村如Excel**"
   ]
  },
  {
   "cell_type": "code",
   "execution_count": 177,
   "id": "230fa8c5-9e6a-4b76-a58f-a7f83ec7ddcb",
   "metadata": {
    "tags": []
   },
   "outputs": [],
   "source": [
    "for idx,user_name,df_sub in df_subs:\n",
    "    filename=f'{splits_dir}/gy2023_{idx}_{user_name}.xlsx'\n",
    "    df_sub.to_excel(filename,index=False)"
   ]
  },
  {
   "cell_type": "markdown",
   "id": "d45b35e9-56f4-41b2-beea-09320bc69d76",
   "metadata": {
    "tags": []
   },
   "source": [
    "### **14.2 合并多个小Excel文件到一个大的Excel文件**"
   ]
  },
  {
   "cell_type": "markdown",
   "id": "7617a1ec-ee8a-40d2-b803-a93257096419",
   "metadata": {},
   "source": [
    "1. 遍历文件夹，得到要合并的文件名列表\n",
    "2. 分别读取到DataFrame,给每个df增加一列，用于标记数据来源\n",
    "3. 使用pd.concat进行批量df合并\n",
    "4. 将合并好的DataFrame输出到Excel"
   ]
  },
  {
   "cell_type": "markdown",
   "id": "2da1fc0e-49df-438d-aa0f-87cee544af25",
   "metadata": {
    "tags": []
   },
   "source": [
    "#### **14.2.1 遍历文件夹，得到要合并的文件名列表**"
   ]
  },
  {
   "cell_type": "code",
   "execution_count": 181,
   "id": "c60098f3-9b5f-4e9b-8bba-91e1def35f11",
   "metadata": {
    "tags": []
   },
   "outputs": [
    {
     "data": {
      "text/plain": [
       "['gy2023_2_sun.xlsx',\n",
       " 'gy2023_3_li.xlsx',\n",
       " 'gy2023_0_zhao.xlsx',\n",
       " 'gy2023_1_qian.xlsx',\n",
       " 'gy2023_5_wu.xlsx',\n",
       " 'gy2023_4_zhou.xlsx']"
      ]
     },
     "execution_count": 181,
     "metadata": {},
     "output_type": "execute_result"
    }
   ],
   "source": [
    "import os\n",
    "excel_names=[]\n",
    "for excel_name in os.listdir(splits_dir):\n",
    "    excel_names.append(excel_name)        #如果当前目录下包含子目录或其他非需要的文件，则他们的名字也会被写入列表\n",
    "excel_names"
   ]
  },
  {
   "cell_type": "markdown",
   "id": "ab007401-c488-47b9-b2e1-84323b1d66f4",
   "metadata": {
    "tags": []
   },
   "source": [
    "#### **14.2.2 分别读取到DataFrame**"
   ]
  },
  {
   "cell_type": "code",
   "execution_count": 186,
   "id": "d918617c-ffa6-492c-84d0-613d77072503",
   "metadata": {
    "tags": []
   },
   "outputs": [
    {
     "name": "stdout",
     "output_type": "stream",
     "text": [
      "gy2023_2_sun.xlsx sun\n",
      "gy2023_3_li.xlsx li\n",
      "gy2023_0_zhao.xlsx zhao\n",
      "gy2023_1_qian.xlsx qian\n",
      "gy2023_5_wu.xlsx wu\n",
      "gy2023_4_zhou.xlsx zhou\n"
     ]
    }
   ],
   "source": [
    "df_list=[]\n",
    "\n",
    "for excel_name in excel_names:\n",
    "    #需读取的文件路径\n",
    "    excel_path=f'{splits_dir}/{excel_name}'\n",
    "    \n",
    "    #读取文件到dataframe中\n",
    "    df_split=pd.read_excel(excel_path)\n",
    "    \n",
    "    #从文件名中提取用户名\n",
    "    username=excel_name.replace('gy2023_','').replace('.xlsx','')[2:]\n",
    "    \n",
    "    print(excel_name,username)\n",
    "    \n",
    "    #为dataframe增加一列，用于保存用户名\n",
    "    df_split['username']=username\n",
    "    \n",
    "    df_list.append(df_split)"
   ]
  },
  {
   "cell_type": "markdown",
   "id": "8da39aa7-4d93-4319-9ebb-8c8a5f76203f",
   "metadata": {
    "tags": []
   },
   "source": [
    "#### **14.2.3 使用pd.concat进行合并**"
   ]
  },
  {
   "cell_type": "code",
   "execution_count": 188,
   "id": "2ec37962-e02e-4f8d-a129-d6d7d0d462f2",
   "metadata": {
    "tags": []
   },
   "outputs": [],
   "source": [
    "df_merge=pd.concat(df_list)"
   ]
  },
  {
   "cell_type": "code",
   "execution_count": 189,
   "id": "e7ab1c28-03fe-4269-a749-c280b6b26c04",
   "metadata": {
    "tags": []
   },
   "outputs": [
    {
     "data": {
      "text/plain": [
       "(878, 34)"
      ]
     },
     "execution_count": 189,
     "metadata": {},
     "output_type": "execute_result"
    }
   ],
   "source": [
    "df_merge.shape"
   ]
  },
  {
   "cell_type": "code",
   "execution_count": 190,
   "id": "1c756d50-d1eb-4b7e-a8a1-2d7331f9c67b",
   "metadata": {
    "tags": []
   },
   "outputs": [
    {
     "data": {
      "text/html": [
       "<div>\n",
       "<style scoped>\n",
       "    .dataframe tbody tr th:only-of-type {\n",
       "        vertical-align: middle;\n",
       "    }\n",
       "\n",
       "    .dataframe tbody tr th {\n",
       "        vertical-align: top;\n",
       "    }\n",
       "\n",
       "    .dataframe thead th {\n",
       "        text-align: right;\n",
       "    }\n",
       "</style>\n",
       "<table border=\"1\" class=\"dataframe\">\n",
       "  <thead>\n",
       "    <tr style=\"text-align: right;\">\n",
       "      <th></th>\n",
       "      <th>NF</th>\n",
       "      <th>YF</th>\n",
       "      <th>A01</th>\n",
       "      <th>H02</th>\n",
       "      <th>N2000_1</th>\n",
       "      <th>N2000_2</th>\n",
       "      <th>N2000_3</th>\n",
       "      <th>N2000_4</th>\n",
       "      <th>N4000_1</th>\n",
       "      <th>N4000_2</th>\n",
       "      <th>...</th>\n",
       "      <th>A342</th>\n",
       "      <th>A343</th>\n",
       "      <th>B93</th>\n",
       "      <th>DZX</th>\n",
       "      <th>A07_2017</th>\n",
       "      <th>A14</th>\n",
       "      <th>N2000_2_KBJ</th>\n",
       "      <th>N2000_2_TB</th>\n",
       "      <th>N2000_1_KBJ</th>\n",
       "      <th>username</th>\n",
       "    </tr>\n",
       "  </thead>\n",
       "  <tbody>\n",
       "    <tr>\n",
       "      <th>0</th>\n",
       "      <td>2023</td>\n",
       "      <td>2</td>\n",
       "      <td>607375685</td>\n",
       "      <td>上海袋式除尘配件有限公司</td>\n",
       "      <td>5020</td>\n",
       "      <td>10232</td>\n",
       "      <td>5506</td>\n",
       "      <td>12934</td>\n",
       "      <td>7444</td>\n",
       "      <td>9976</td>\n",
       "      <td>...</td>\n",
       "      <td>0</td>\n",
       "      <td>0</td>\n",
       "      <td>502</td>\n",
       "      <td>3</td>\n",
       "      <td>3591</td>\n",
       "      <td>1</td>\n",
       "      <td>9885.99</td>\n",
       "      <td>9885.99</td>\n",
       "      <td>4850.24</td>\n",
       "      <td>sun</td>\n",
       "    </tr>\n",
       "    <tr>\n",
       "      <th>1</th>\n",
       "      <td>2023</td>\n",
       "      <td>2</td>\n",
       "      <td>607375992</td>\n",
       "      <td>上海泰惠电器有限公司</td>\n",
       "      <td>2620</td>\n",
       "      <td>4228</td>\n",
       "      <td>1780</td>\n",
       "      <td>4378</td>\n",
       "      <td>3030</td>\n",
       "      <td>5290</td>\n",
       "      <td>...</td>\n",
       "      <td>290102</td>\n",
       "      <td>0</td>\n",
       "      <td>501</td>\n",
       "      <td>3</td>\n",
       "      <td>3854</td>\n",
       "      <td>1</td>\n",
       "      <td>4081.08</td>\n",
       "      <td>4081.08</td>\n",
       "      <td>2528.96</td>\n",
       "      <td>sun</td>\n",
       "    </tr>\n",
       "    <tr>\n",
       "      <th>2</th>\n",
       "      <td>2023</td>\n",
       "      <td>2</td>\n",
       "      <td>607376741</td>\n",
       "      <td>上海欧通电气有限公司</td>\n",
       "      <td>25747</td>\n",
       "      <td>44615</td>\n",
       "      <td>23616</td>\n",
       "      <td>52259</td>\n",
       "      <td>22895</td>\n",
       "      <td>40433</td>\n",
       "      <td>...</td>\n",
       "      <td>110104</td>\n",
       "      <td>290102</td>\n",
       "      <td>502</td>\n",
       "      <td>3</td>\n",
       "      <td>3823</td>\n",
       "      <td>1</td>\n",
       "      <td>44704.41</td>\n",
       "      <td>44704.41</td>\n",
       "      <td>25798.60</td>\n",
       "      <td>sun</td>\n",
       "    </tr>\n",
       "    <tr>\n",
       "      <th>3</th>\n",
       "      <td>2023</td>\n",
       "      <td>2</td>\n",
       "      <td>607377285</td>\n",
       "      <td>弗曼科斯(上海)电子有限公司</td>\n",
       "      <td>1702</td>\n",
       "      <td>2141</td>\n",
       "      <td>253</td>\n",
       "      <td>1506</td>\n",
       "      <td>2141</td>\n",
       "      <td>3511</td>\n",
       "      <td>...</td>\n",
       "      <td>0</td>\n",
       "      <td>0</td>\n",
       "      <td>502</td>\n",
       "      <td>3</td>\n",
       "      <td>3990</td>\n",
       "      <td>1</td>\n",
       "      <td>2099.02</td>\n",
       "      <td>2099.02</td>\n",
       "      <td>1668.63</td>\n",
       "      <td>sun</td>\n",
       "    </tr>\n",
       "    <tr>\n",
       "      <th>4</th>\n",
       "      <td>2023</td>\n",
       "      <td>2</td>\n",
       "      <td>607380214</td>\n",
       "      <td>士商(上海)机械有限公司</td>\n",
       "      <td>11896</td>\n",
       "      <td>24625</td>\n",
       "      <td>9846</td>\n",
       "      <td>40152</td>\n",
       "      <td>11896</td>\n",
       "      <td>24625</td>\n",
       "      <td>...</td>\n",
       "      <td>0</td>\n",
       "      <td>0</td>\n",
       "      <td>502</td>\n",
       "      <td>3</td>\n",
       "      <td>3329</td>\n",
       "      <td>1</td>\n",
       "      <td>24873.74</td>\n",
       "      <td>24873.74</td>\n",
       "      <td>12016.16</td>\n",
       "      <td>sun</td>\n",
       "    </tr>\n",
       "  </tbody>\n",
       "</table>\n",
       "<p>5 rows × 34 columns</p>\n",
       "</div>"
      ],
      "text/plain": [
       "     NF  YF        A01             H02  N2000_1  N2000_2  N2000_3  N2000_4  \\\n",
       "0  2023   2  607375685    上海袋式除尘配件有限公司     5020    10232     5506    12934   \n",
       "1  2023   2  607375992      上海泰惠电器有限公司     2620     4228     1780     4378   \n",
       "2  2023   2  607376741      上海欧通电气有限公司    25747    44615    23616    52259   \n",
       "3  2023   2  607377285  弗曼科斯(上海)电子有限公司     1702     2141      253     1506   \n",
       "4  2023   2  607380214    士商(上海)机械有限公司    11896    24625     9846    40152   \n",
       "\n",
       "   N4000_1  N4000_2  ...    A342    A343  B93  DZX  A07_2017  A14  \\\n",
       "0     7444     9976  ...       0       0  502    3      3591    1   \n",
       "1     3030     5290  ...  290102       0  501    3      3854    1   \n",
       "2    22895    40433  ...  110104  290102  502    3      3823    1   \n",
       "3     2141     3511  ...       0       0  502    3      3990    1   \n",
       "4    11896    24625  ...       0       0  502    3      3329    1   \n",
       "\n",
       "   N2000_2_KBJ  N2000_2_TB  N2000_1_KBJ  username  \n",
       "0      9885.99     9885.99      4850.24       sun  \n",
       "1      4081.08     4081.08      2528.96       sun  \n",
       "2     44704.41    44704.41     25798.60       sun  \n",
       "3      2099.02     2099.02      1668.63       sun  \n",
       "4     24873.74    24873.74     12016.16       sun  \n",
       "\n",
       "[5 rows x 34 columns]"
      ]
     },
     "execution_count": 190,
     "metadata": {},
     "output_type": "execute_result"
    }
   ],
   "source": [
    "df_merge.head()"
   ]
  },
  {
   "cell_type": "code",
   "execution_count": 191,
   "id": "9e742772-93c2-4dd5-890e-cc92c758a1f0",
   "metadata": {
    "tags": []
   },
   "outputs": [
    {
     "data": {
      "text/plain": [
       "sun     147\n",
       "li      147\n",
       "zhao    147\n",
       "qian    147\n",
       "zhou    147\n",
       "wu      143\n",
       "Name: username, dtype: int64"
      ]
     },
     "execution_count": 191,
     "metadata": {},
     "output_type": "execute_result"
    }
   ],
   "source": [
    "df_merge['username'].value_counts()"
   ]
  },
  {
   "cell_type": "markdown",
   "id": "d4c0fd85-c292-442f-aca9-9cdd4ec17b09",
   "metadata": {
    "tags": []
   },
   "source": [
    "#### **14.2.4 将合并后的DataFrame输出到Excel**"
   ]
  },
  {
   "cell_type": "code",
   "execution_count": 193,
   "id": "1b0d8f07-8344-4147-bf11-a2c8b5a96a25",
   "metadata": {
    "tags": []
   },
   "outputs": [],
   "source": [
    "df_merge.to_excel(f'{work_dir}/gy202302_merge.xlsx',index=False)"
   ]
  },
  {
   "cell_type": "code",
   "execution_count": null,
   "id": "f5b8096f-1263-4b81-91dd-af532074ae96",
   "metadata": {},
   "outputs": [],
   "source": []
  }
 ],
 "metadata": {
  "kernelspec": {
   "display_name": "Python 3 (ipykernel)",
   "language": "python",
   "name": "python3"
  },
  "language_info": {
   "codemirror_mode": {
    "name": "ipython",
    "version": 3
   },
   "file_extension": ".py",
   "mimetype": "text/x-python",
   "name": "python",
   "nbconvert_exporter": "python",
   "pygments_lexer": "ipython3",
   "version": "3.9.9"
  }
 },
 "nbformat": 4,
 "nbformat_minor": 5
}
