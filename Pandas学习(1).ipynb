{
 "cells": [
  {
   "cell_type": "markdown",
   "id": "23c75c61-dad5-4877-aae7-ec72a0bc99eb",
   "metadata": {},
   "source": [
    "# **Pandas 学习(1)**"
   ]
  },
  {
   "cell_type": "markdown",
   "id": "44ec7f2e-2656-475d-bd8d-e866a1906af5",
   "metadata": {},
   "source": [
    "## 前言\n",
    "- 参考“蚂蚁学视频”\n",
    "- 书籍《Python人工智能开发》"
   ]
  },
  {
   "cell_type": "markdown",
   "id": "1b794342-cda7-4d6b-a615-34dcb111b354",
   "metadata": {},
   "source": [
    "## **1. Pandas怎样读取数据**"
   ]
  },
  {
   "cell_type": "markdown",
   "id": "a68d3183-d4ca-4394-b1ca-beca67d10586",
   "metadata": {},
   "source": [
    "|文件类型|说明|pandas方法|\n",
    "|:------|:---|:--------|\n",
    "|csv,tsv,txt|逗号分隔，Tab分隔的纯文本文件|pd.read_csv|\n",
    "|excel|xls,xlsx文件|pd.read_excel|\n",
    "|mysql|关系型数据库表|pd.read_sql|"
   ]
  },
  {
   "cell_type": "code",
   "execution_count": 2,
   "id": "11161497-75ae-49ac-8417-c3d98113885f",
   "metadata": {
    "tags": []
   },
   "outputs": [],
   "source": [
    "import pandas as pd"
   ]
  },
  {
   "cell_type": "markdown",
   "id": "1b0b73dd-e326-4df3-b67b-b1c5710c4bdc",
   "metadata": {},
   "source": [
    "### **1.1. 读取纯文本文件**"
   ]
  },
  {
   "cell_type": "markdown",
   "id": "95ae3d61-a915-4716-983b-be888eca098a",
   "metadata": {},
   "source": [
    "#### **1.1.1. 读取CSV文件，使用默认的标题行，逗号分隔**"
   ]
  },
  {
   "cell_type": "code",
   "execution_count": null,
   "id": "d01f2569-7da8-457c-acfe-309a1c073218",
   "metadata": {
    "tags": []
   },
   "outputs": [],
   "source": [
    "fpath='/media/数据盘/pandas/gy202302.csv'"
   ]
  },
  {
   "cell_type": "code",
   "execution_count": null,
   "id": "1513489a-7fe1-49a6-9027-f1cf8746e2b8",
   "metadata": {
    "tags": []
   },
   "outputs": [],
   "source": [
    "#读取cvs文件\n",
    "ratings=pd.read_csv(fpath)"
   ]
  },
  {
   "cell_type": "code",
   "execution_count": null,
   "id": "7cb8476b-7b0f-4a43-8c89-14d349f2b916",
   "metadata": {
    "tags": []
   },
   "outputs": [],
   "source": [
    "#缠看前几行数据\n",
    "ratings.head()"
   ]
  },
  {
   "cell_type": "code",
   "execution_count": null,
   "id": "e82bb4f7-cb5f-472c-b1ce-57ea9febfbe2",
   "metadata": {
    "tags": []
   },
   "outputs": [],
   "source": [
    "#查看数据的形状，返回数据的行数和列数\n",
    "ratings.shape"
   ]
  },
  {
   "cell_type": "code",
   "execution_count": null,
   "id": "33e4d593-9997-4cd9-b963-8bc9972ef6f4",
   "metadata": {
    "tags": []
   },
   "outputs": [],
   "source": [
    "#缠看列名，列名以列表（List）的形式返回\n",
    "ratings.columns"
   ]
  },
  {
   "cell_type": "code",
   "execution_count": null,
   "id": "a8ed1368-da40-4717-a8b1-b5cfc1acb516",
   "metadata": {
    "tags": []
   },
   "outputs": [],
   "source": [
    "#缠看索引列\n",
    "ratings.index"
   ]
  },
  {
   "cell_type": "code",
   "execution_count": null,
   "id": "0a50b4a7-3ee5-4b49-9f67-fcd46e50aae1",
   "metadata": {
    "tags": []
   },
   "outputs": [],
   "source": [
    "#查看每列的数据类型\n",
    "ratings.dtypes"
   ]
  },
  {
   "cell_type": "markdown",
   "id": "c02e5344-4cb4-41bd-8723-3a50c7666642",
   "metadata": {},
   "source": [
    "#### **1.1.2. 读取txt文件，自己指定列名和分隔符**"
   ]
  },
  {
   "cell_type": "code",
   "execution_count": null,
   "id": "1a1935ad-1ab4-4076-b7c2-773635f45fd0",
   "metadata": {
    "tags": []
   },
   "outputs": [],
   "source": [
    "fpath='/media/数据盘/pandas/test-tab.txt'"
   ]
  },
  {
   "cell_type": "code",
   "execution_count": null,
   "id": "988c60ad-d7a6-4e38-b43d-678a4a29dd75",
   "metadata": {
    "tags": []
   },
   "outputs": [],
   "source": [
    "testtab=pd.read_csv(\n",
    "    fpath,\n",
    "    sep='\\t',\n",
    "    usecols=['NF','YF','H02','N2000_1','N2000_2']\n",
    ")[['NF','YF','H02','N2000_2','N2000_2']] #此处为指定列显示的顺序，可省略"
   ]
  },
  {
   "cell_type": "code",
   "execution_count": null,
   "id": "97a33238-53c4-400d-b05b-11dc207d074a",
   "metadata": {
    "tags": []
   },
   "outputs": [],
   "source": [
    "testtab"
   ]
  },
  {
   "cell_type": "markdown",
   "id": "4b6907e6-9c65-4b24-8cb5-501d6c4bd5e6",
   "metadata": {},
   "source": [
    "### **1.2. 读取Excel文件**"
   ]
  },
  {
   "cell_type": "code",
   "execution_count": null,
   "id": "a8503221-e1d3-43a0-8e2a-c271899f1d1f",
   "metadata": {
    "tags": []
   },
   "outputs": [],
   "source": [
    "fpath='/media/数据盘/pandas/gy202302.xlsx'\n",
    "testexcel=pd.read_excel(fpath)"
   ]
  },
  {
   "cell_type": "code",
   "execution_count": null,
   "id": "82f3cbf3-c32f-415f-97bf-856d96955899",
   "metadata": {
    "tags": []
   },
   "outputs": [],
   "source": [
    "testexcel"
   ]
  },
  {
   "cell_type": "markdown",
   "id": "81d64776-a950-4dbc-a0a8-c95d62fcea1d",
   "metadata": {},
   "source": [
    "### **1.3. 读取MySQL数据库表**"
   ]
  },
  {
   "cell_type": "markdown",
   "id": "036c4160-9e4b-4c93-a4da-a13751c11e3c",
   "metadata": {},
   "source": [
    "#### **1.3.1 安装 MySQL**"
   ]
  },
  {
   "cell_type": "markdown",
   "id": "d35f1b74-f28d-4bd8-b003-78f29edbcb7b",
   "metadata": {},
   "source": [
    "#### **1.3.2 安装 ‘Pure Python MySQL Driver’**"
   ]
  },
  {
   "cell_type": "markdown",
   "id": "113daa41-f3b1-44df-b04f-51119a97d5b7",
   "metadata": {
    "tags": []
   },
   "source": [
    "`$pip3 install pymysql`"
   ]
  },
  {
   "cell_type": "markdown",
   "id": "1aa875a2-6e79-4d4b-99c6-da6afcb44b58",
   "metadata": {},
   "source": [
    "```\n",
    "\n",
    "\n",
    "\n",
    "```"
   ]
  },
  {
   "cell_type": "markdown",
   "id": "99496957-f649-4878-82fc-42c8a66c7a32",
   "metadata": {},
   "source": [
    "  \n",
    "---"
   ]
  },
  {
   "cell_type": "markdown",
   "id": "ad5483d1-720c-4efb-ae5c-4b940db3e859",
   "metadata": {},
   "source": [
    "```\n",
    "\n",
    "\n",
    "\n",
    "```"
   ]
  },
  {
   "cell_type": "markdown",
   "id": "ba548d9f-ad42-4310-926e-3baf633e3ec4",
   "metadata": {
    "tags": []
   },
   "source": [
    "## **2. Pandas数据结构 Series & DataFrame**"
   ]
  },
  {
   "cell_type": "markdown",
   "id": "ee5abcc1-857e-479f-9839-fe6766cfceeb",
   "metadata": {},
   "source": [
    "如果从DataFrame中查询出来的结果是一行或者一列，那这个结果是一个Series"
   ]
  },
  {
   "cell_type": "code",
   "execution_count": 47,
   "id": "51ac7124-e3ff-4ac1-96d4-1e99dc42fb23",
   "metadata": {
    "tags": []
   },
   "outputs": [],
   "source": [
    "import numpy as np    #pandas has been imported before"
   ]
  },
  {
   "cell_type": "markdown",
   "id": "124c4f45-5884-49df-aeed-b7fb434aa947",
   "metadata": {},
   "source": [
    "### **2.1 Series**"
   ]
  },
  {
   "cell_type": "markdown",
   "id": "8707bea1-2d21-4149-bdd1-2b197c292109",
   "metadata": {},
   "source": [
    "Series是一种类似于数组的对象，它由一组数据（可以是不同数据类型）以及一组与之相关的数据标签（即索引）组成"
   ]
  },
  {
   "cell_type": "markdown",
   "id": "b274c81a-93bc-44e2-b4c8-a4916039c3f8",
   "metadata": {},
   "source": [
    "#### **2.1.1 仅有数据列表即可生成最简单的 Series**"
   ]
  },
  {
   "cell_type": "code",
   "execution_count": 49,
   "id": "8f1b5ec3-4bf8-446e-ad62-52be1108de2b",
   "metadata": {
    "tags": []
   },
   "outputs": [],
   "source": [
    "s1=pd.Series([1,'a',5.2,'7'])"
   ]
  },
  {
   "cell_type": "code",
   "execution_count": 51,
   "id": "bf1d0431-20b7-4ec1-9d57-77fc439802d7",
   "metadata": {
    "tags": []
   },
   "outputs": [
    {
     "data": {
      "text/plain": [
       "0      1\n",
       "1      a\n",
       "2    5.2\n",
       "3      7\n",
       "dtype: object"
      ]
     },
     "execution_count": 51,
     "metadata": {},
     "output_type": "execute_result"
    }
   ],
   "source": [
    "#输出共两列，左侧列为索引，右侧列为数据\n",
    "s1"
   ]
  },
  {
   "cell_type": "code",
   "execution_count": 52,
   "id": "c9666edf-e1a7-48d0-b240-2e67d7909e78",
   "metadata": {
    "tags": []
   },
   "outputs": [
    {
     "data": {
      "text/plain": [
       "RangeIndex(start=0, stop=4, step=1)"
      ]
     },
     "execution_count": 52,
     "metadata": {},
     "output_type": "execute_result"
    }
   ],
   "source": [
    "#获取索引\n",
    "s1.index"
   ]
  },
  {
   "cell_type": "code",
   "execution_count": 53,
   "id": "5e46d846-a322-477f-9ee0-c60ffd86bb81",
   "metadata": {
    "tags": []
   },
   "outputs": [
    {
     "data": {
      "text/plain": [
       "array([1, 'a', 5.2, '7'], dtype=object)"
      ]
     },
     "execution_count": 53,
     "metadata": {},
     "output_type": "execute_result"
    }
   ],
   "source": [
    "#获取数据\n",
    "s1.values"
   ]
  },
  {
   "cell_type": "markdown",
   "id": "7461d425-cdc4-4e01-b1b5-c8307a37deab",
   "metadata": {
    "tags": []
   },
   "source": [
    "#### **2.1.2 创建一个具有标签索引的Series**"
   ]
  },
  {
   "cell_type": "code",
   "execution_count": 68,
   "id": "9cf13088-0bf8-4f6b-993c-ce319555a37d",
   "metadata": {
    "tags": []
   },
   "outputs": [],
   "source": [
    "s2=pd.Series([1,'a',5.2,7],index=['d','b','a','c'])"
   ]
  },
  {
   "cell_type": "code",
   "execution_count": 69,
   "id": "03ed56d5-5d00-48a5-b70c-c3c1ff90cac4",
   "metadata": {
    "tags": []
   },
   "outputs": [
    {
     "data": {
      "text/plain": [
       "d      1\n",
       "b      a\n",
       "a    5.2\n",
       "c      7\n",
       "dtype: object"
      ]
     },
     "execution_count": 69,
     "metadata": {},
     "output_type": "execute_result"
    }
   ],
   "source": [
    "s2"
   ]
  },
  {
   "cell_type": "code",
   "execution_count": 58,
   "id": "0ce0e3ed-0182-494d-9465-82c538ca6a43",
   "metadata": {
    "tags": []
   },
   "outputs": [
    {
     "data": {
      "text/plain": [
       "Index(['d', 'B', 'a', 'C'], dtype='object')"
      ]
     },
     "execution_count": 58,
     "metadata": {},
     "output_type": "execute_result"
    }
   ],
   "source": [
    "s2.index"
   ]
  },
  {
   "cell_type": "markdown",
   "id": "a9b654a1-f1e0-4e70-9fa9-d01c8ac84e79",
   "metadata": {},
   "source": [
    "#### **2.1.3 使用Python字典创建Series**"
   ]
  },
  {
   "cell_type": "code",
   "execution_count": 59,
   "id": "75bdf3e2-9e0c-4917-94c7-d068192780fe",
   "metadata": {
    "tags": []
   },
   "outputs": [],
   "source": [
    "data={'Ohio':35000,'Texas':72000,'Oregon':16000,'Utah':5000}"
   ]
  },
  {
   "cell_type": "code",
   "execution_count": 60,
   "id": "78902844-fc71-43f5-bb6b-ca746792b352",
   "metadata": {
    "tags": []
   },
   "outputs": [],
   "source": [
    "s3=pd.Series(data)"
   ]
  },
  {
   "cell_type": "code",
   "execution_count": 61,
   "id": "a1e97b28-7891-42d2-a152-94272f2b5052",
   "metadata": {
    "tags": []
   },
   "outputs": [
    {
     "data": {
      "text/plain": [
       "Ohio      35000\n",
       "Texas     72000\n",
       "Oregon    16000\n",
       "Utah       5000\n",
       "dtype: int64"
      ]
     },
     "execution_count": 61,
     "metadata": {},
     "output_type": "execute_result"
    }
   ],
   "source": [
    "s3"
   ]
  },
  {
   "cell_type": "markdown",
   "id": "314d0874-27e8-4d17-a619-f914d7c74a56",
   "metadata": {},
   "source": [
    "#### **2.1.4 根据标签索引查询数据**"
   ]
  },
  {
   "cell_type": "code",
   "execution_count": 63,
   "id": "ab23385c-2ba5-44fa-816b-ebac8952d5fb",
   "metadata": {
    "tags": []
   },
   "outputs": [
    {
     "data": {
      "text/plain": [
       "5.2"
      ]
     },
     "execution_count": 63,
     "metadata": {},
     "output_type": "execute_result"
    }
   ],
   "source": [
    "s2['a']"
   ]
  },
  {
   "cell_type": "code",
   "execution_count": 71,
   "id": "581eed2d-0eb3-41cc-9a76-15b03c78c973",
   "metadata": {
    "tags": []
   },
   "outputs": [
    {
     "data": {
      "text/plain": [
       "a    5.2\n",
       "b      a\n",
       "c      7\n",
       "d      1\n",
       "dtype: object"
      ]
     },
     "execution_count": 71,
     "metadata": {},
     "output_type": "execute_result"
    }
   ],
   "source": [
    "s2[['a','b','c','d']]"
   ]
  },
  {
   "cell_type": "code",
   "execution_count": 72,
   "id": "f8c5ff16-a920-4aea-adf6-a3a3bbea2acf",
   "metadata": {
    "tags": []
   },
   "outputs": [
    {
     "data": {
      "text/plain": [
       "float"
      ]
     },
     "execution_count": 72,
     "metadata": {},
     "output_type": "execute_result"
    }
   ],
   "source": [
    "type(s2['a'])"
   ]
  },
  {
   "cell_type": "code",
   "execution_count": 74,
   "id": "2207ba36-9fa7-4e4d-ba76-998fed9155d9",
   "metadata": {
    "tags": []
   },
   "outputs": [
    {
     "data": {
      "text/plain": [
       "pandas.core.series.Series"
      ]
     },
     "execution_count": 74,
     "metadata": {},
     "output_type": "execute_result"
    }
   ],
   "source": [
    "type(s2[['a','b','c']])"
   ]
  },
  {
   "cell_type": "markdown",
   "id": "420f82ca-af73-4265-9068-60432cfa7547",
   "metadata": {},
   "source": [
    "### **2.2 DataFrame**"
   ]
  },
  {
   "cell_type": "markdown",
   "id": "b05220f4-4b92-4df5-9f0e-1f080af066d8",
   "metadata": {},
   "source": [
    "DataFrame是一个表格型的数据结构  \n",
    "- 每列可以是不同的值类型（数值、字符串、布尔型等）\n",
    "- 既有行索引Index，也有列索引columns\n",
    "- 可以看作是由Series组成的字典  \n",
    "\n",
    "创建Dataframe最常见的方法就是前面的读取文本文件、Excel文件和数据库表"
   ]
  },
  {
   "cell_type": "markdown",
   "id": "11eb5e2a-6003-4c82-b4cf-c02480ad6e66",
   "metadata": {},
   "source": [
    "#### **2.2.1 根据多个字典序列创建DataFrame**"
   ]
  },
  {
   "cell_type": "code",
   "execution_count": 3,
   "id": "dbec75f5-d844-4931-ad8e-a7252d7f359d",
   "metadata": {
    "tags": []
   },
   "outputs": [],
   "source": [
    "data={\n",
    "    'state':['Ohi','Ohi','Ohi','Nevada','Nevada'],\n",
    "    'year':[2000,2001,2002,2001,2002],\n",
    "    'pop':[1.5,1.7,3.6,2.4,2.9]\n",
    "}\n",
    "df=pd.DataFrame(data)"
   ]
  },
  {
   "cell_type": "code",
   "execution_count": 4,
   "id": "b90b88bc-6fcd-4512-961c-b53c3b0c55ea",
   "metadata": {
    "tags": []
   },
   "outputs": [
    {
     "data": {
      "text/html": [
       "<div>\n",
       "<style scoped>\n",
       "    .dataframe tbody tr th:only-of-type {\n",
       "        vertical-align: middle;\n",
       "    }\n",
       "\n",
       "    .dataframe tbody tr th {\n",
       "        vertical-align: top;\n",
       "    }\n",
       "\n",
       "    .dataframe thead th {\n",
       "        text-align: right;\n",
       "    }\n",
       "</style>\n",
       "<table border=\"1\" class=\"dataframe\">\n",
       "  <thead>\n",
       "    <tr style=\"text-align: right;\">\n",
       "      <th></th>\n",
       "      <th>state</th>\n",
       "      <th>year</th>\n",
       "      <th>pop</th>\n",
       "    </tr>\n",
       "  </thead>\n",
       "  <tbody>\n",
       "    <tr>\n",
       "      <th>0</th>\n",
       "      <td>Ohi</td>\n",
       "      <td>2000</td>\n",
       "      <td>1.5</td>\n",
       "    </tr>\n",
       "    <tr>\n",
       "      <th>1</th>\n",
       "      <td>Ohi</td>\n",
       "      <td>2001</td>\n",
       "      <td>1.7</td>\n",
       "    </tr>\n",
       "    <tr>\n",
       "      <th>2</th>\n",
       "      <td>Ohi</td>\n",
       "      <td>2002</td>\n",
       "      <td>3.6</td>\n",
       "    </tr>\n",
       "    <tr>\n",
       "      <th>3</th>\n",
       "      <td>Nevada</td>\n",
       "      <td>2001</td>\n",
       "      <td>2.4</td>\n",
       "    </tr>\n",
       "    <tr>\n",
       "      <th>4</th>\n",
       "      <td>Nevada</td>\n",
       "      <td>2002</td>\n",
       "      <td>2.9</td>\n",
       "    </tr>\n",
       "  </tbody>\n",
       "</table>\n",
       "</div>"
      ],
      "text/plain": [
       "    state  year  pop\n",
       "0     Ohi  2000  1.5\n",
       "1     Ohi  2001  1.7\n",
       "2     Ohi  2002  3.6\n",
       "3  Nevada  2001  2.4\n",
       "4  Nevada  2002  2.9"
      ]
     },
     "execution_count": 4,
     "metadata": {},
     "output_type": "execute_result"
    }
   ],
   "source": [
    "df"
   ]
  },
  {
   "cell_type": "code",
   "execution_count": 7,
   "id": "40d5fa26-3685-47de-9475-5f97ba388244",
   "metadata": {
    "tags": []
   },
   "outputs": [
    {
     "data": {
      "text/plain": [
       "state     object\n",
       "year       int64\n",
       "pop      float64\n",
       "dtype: object"
      ]
     },
     "execution_count": 7,
     "metadata": {},
     "output_type": "execute_result"
    }
   ],
   "source": [
    "df.dtypes"
   ]
  },
  {
   "cell_type": "code",
   "execution_count": 8,
   "id": "366c95f8-bcf6-4620-b860-8de3ccb3ea1a",
   "metadata": {
    "tags": []
   },
   "outputs": [
    {
     "data": {
      "text/plain": [
       "Index(['state', 'year', 'pop'], dtype='object')"
      ]
     },
     "execution_count": 8,
     "metadata": {},
     "output_type": "execute_result"
    }
   ],
   "source": [
    "df.columns"
   ]
  },
  {
   "cell_type": "code",
   "execution_count": 9,
   "id": "aeef067e-5e3d-4ae5-8d5b-c9eed0cb2e5b",
   "metadata": {
    "tags": []
   },
   "outputs": [
    {
     "data": {
      "text/plain": [
       "RangeIndex(start=0, stop=5, step=1)"
      ]
     },
     "execution_count": 9,
     "metadata": {},
     "output_type": "execute_result"
    }
   ],
   "source": [
    "df.index"
   ]
  },
  {
   "cell_type": "markdown",
   "id": "ce79e2c0-b198-43ab-acfc-414fc1f4cf88",
   "metadata": {},
   "source": [
    "#### **2.2.2 从DataFrame中查询出Series**\n",
    "- 如果只查询出一行、一列，返回的是一个 Series\n",
    "- 如果查询出的是多行多列，返回的是一个 DataFrame"
   ]
  },
  {
   "cell_type": "markdown",
   "id": "f95c9b45-805d-414a-869a-e24c8b8cdd97",
   "metadata": {},
   "source": [
    "##### **2.2.2.1 查询一列，结果是一个 Series**"
   ]
  },
  {
   "cell_type": "code",
   "execution_count": 10,
   "id": "cc86ca9c-a5ba-4579-89f0-730ee50aafa7",
   "metadata": {
    "tags": []
   },
   "outputs": [
    {
     "data": {
      "text/plain": [
       "0    2000\n",
       "1    2001\n",
       "2    2002\n",
       "3    2001\n",
       "4    2002\n",
       "Name: year, dtype: int64"
      ]
     },
     "execution_count": 10,
     "metadata": {},
     "output_type": "execute_result"
    }
   ],
   "source": [
    "df['year']"
   ]
  },
  {
   "cell_type": "code",
   "execution_count": 15,
   "id": "5176b6bb-20d9-46ab-a15d-55f093491723",
   "metadata": {
    "tags": []
   },
   "outputs": [
    {
     "data": {
      "text/plain": [
       "dtype('int64')"
      ]
     },
     "execution_count": 15,
     "metadata": {},
     "output_type": "execute_result"
    }
   ],
   "source": [
    "df['year'].dtype"
   ]
  },
  {
   "cell_type": "code",
   "execution_count": 16,
   "id": "f7184de5-edf7-4155-8e3e-45a8ecc39c40",
   "metadata": {
    "tags": []
   },
   "outputs": [
    {
     "data": {
      "text/plain": [
       "pandas.core.series.Series"
      ]
     },
     "execution_count": 16,
     "metadata": {},
     "output_type": "execute_result"
    }
   ],
   "source": [
    "type(df['year'])"
   ]
  },
  {
   "cell_type": "markdown",
   "id": "09ec4e61-6138-48b4-83d5-14c2457760e3",
   "metadata": {},
   "source": [
    "##### **2.2.2.2 查询多列，结果是一个 DataFrame**"
   ]
  },
  {
   "cell_type": "code",
   "execution_count": 18,
   "id": "7327bb4e-1235-4c3e-ba94-c1d7e3ec299e",
   "metadata": {
    "tags": []
   },
   "outputs": [
    {
     "data": {
      "text/html": [
       "<div>\n",
       "<style scoped>\n",
       "    .dataframe tbody tr th:only-of-type {\n",
       "        vertical-align: middle;\n",
       "    }\n",
       "\n",
       "    .dataframe tbody tr th {\n",
       "        vertical-align: top;\n",
       "    }\n",
       "\n",
       "    .dataframe thead th {\n",
       "        text-align: right;\n",
       "    }\n",
       "</style>\n",
       "<table border=\"1\" class=\"dataframe\">\n",
       "  <thead>\n",
       "    <tr style=\"text-align: right;\">\n",
       "      <th></th>\n",
       "      <th>year</th>\n",
       "      <th>pop</th>\n",
       "    </tr>\n",
       "  </thead>\n",
       "  <tbody>\n",
       "    <tr>\n",
       "      <th>0</th>\n",
       "      <td>2000</td>\n",
       "      <td>1.5</td>\n",
       "    </tr>\n",
       "    <tr>\n",
       "      <th>1</th>\n",
       "      <td>2001</td>\n",
       "      <td>1.7</td>\n",
       "    </tr>\n",
       "    <tr>\n",
       "      <th>2</th>\n",
       "      <td>2002</td>\n",
       "      <td>3.6</td>\n",
       "    </tr>\n",
       "    <tr>\n",
       "      <th>3</th>\n",
       "      <td>2001</td>\n",
       "      <td>2.4</td>\n",
       "    </tr>\n",
       "    <tr>\n",
       "      <th>4</th>\n",
       "      <td>2002</td>\n",
       "      <td>2.9</td>\n",
       "    </tr>\n",
       "  </tbody>\n",
       "</table>\n",
       "</div>"
      ],
      "text/plain": [
       "   year  pop\n",
       "0  2000  1.5\n",
       "1  2001  1.7\n",
       "2  2002  3.6\n",
       "3  2001  2.4\n",
       "4  2002  2.9"
      ]
     },
     "execution_count": 18,
     "metadata": {},
     "output_type": "execute_result"
    }
   ],
   "source": [
    "df[['year','pop']]"
   ]
  },
  {
   "cell_type": "code",
   "execution_count": 19,
   "id": "3b105895-6e19-424f-9f19-56586fc4e021",
   "metadata": {
    "tags": []
   },
   "outputs": [
    {
     "data": {
      "text/plain": [
       "pandas.core.frame.DataFrame"
      ]
     },
     "execution_count": 19,
     "metadata": {},
     "output_type": "execute_result"
    }
   ],
   "source": [
    "type(df[['year','pop']])"
   ]
  },
  {
   "cell_type": "markdown",
   "id": "a9ab0e48-f8d4-45ef-a17e-e67d17f7f079",
   "metadata": {},
   "source": [
    "##### **2.2.2.3 查询一行，结果是一个 Series**"
   ]
  },
  {
   "cell_type": "code",
   "execution_count": 8,
   "id": "36410553-8a7b-48b7-8744-9c29c04afb6f",
   "metadata": {
    "tags": []
   },
   "outputs": [
    {
     "data": {
      "text/plain": [
       "state     Ohi\n",
       "year     2000\n",
       "pop       1.5\n",
       "Name: 0, dtype: object"
      ]
     },
     "execution_count": 8,
     "metadata": {},
     "output_type": "execute_result"
    }
   ],
   "source": [
    "df.loc[0]"
   ]
  },
  {
   "cell_type": "code",
   "execution_count": 10,
   "id": "c39e3db4-e9d5-4360-b7d6-69e2b7978053",
   "metadata": {
    "tags": []
   },
   "outputs": [
    {
     "data": {
      "text/plain": [
       "pandas.core.series.Series"
      ]
     },
     "execution_count": 10,
     "metadata": {},
     "output_type": "execute_result"
    }
   ],
   "source": [
    "type(df.loc[0])"
   ]
  },
  {
   "cell_type": "markdown",
   "id": "c1d2f461-3070-4ab4-83d7-a16e12404ca3",
   "metadata": {},
   "source": [
    "##### **2.2.2.4 查询多行，结果是一个 DataFrame**"
   ]
  },
  {
   "cell_type": "code",
   "execution_count": 14,
   "id": "3540bf97-f09d-43ff-96d9-47d8c4ce1227",
   "metadata": {
    "tags": []
   },
   "outputs": [
    {
     "data": {
      "text/html": [
       "<div>\n",
       "<style scoped>\n",
       "    .dataframe tbody tr th:only-of-type {\n",
       "        vertical-align: middle;\n",
       "    }\n",
       "\n",
       "    .dataframe tbody tr th {\n",
       "        vertical-align: top;\n",
       "    }\n",
       "\n",
       "    .dataframe thead th {\n",
       "        text-align: right;\n",
       "    }\n",
       "</style>\n",
       "<table border=\"1\" class=\"dataframe\">\n",
       "  <thead>\n",
       "    <tr style=\"text-align: right;\">\n",
       "      <th></th>\n",
       "      <th>state</th>\n",
       "      <th>year</th>\n",
       "      <th>pop</th>\n",
       "    </tr>\n",
       "  </thead>\n",
       "  <tbody>\n",
       "    <tr>\n",
       "      <th>2</th>\n",
       "      <td>Ohi</td>\n",
       "      <td>2002</td>\n",
       "      <td>3.6</td>\n",
       "    </tr>\n",
       "    <tr>\n",
       "      <th>3</th>\n",
       "      <td>Nevada</td>\n",
       "      <td>2001</td>\n",
       "      <td>2.4</td>\n",
       "    </tr>\n",
       "  </tbody>\n",
       "</table>\n",
       "</div>"
      ],
      "text/plain": [
       "    state  year  pop\n",
       "2     Ohi  2002  3.6\n",
       "3  Nevada  2001  2.4"
      ]
     },
     "execution_count": 14,
     "metadata": {},
     "output_type": "execute_result"
    }
   ],
   "source": [
    "df.loc[2:3]   #注意在Python中是不包含末尾元素的,但在Pandas中是包含的,这里行号为3的行也将包含在结果集中"
   ]
  },
  {
   "cell_type": "code",
   "execution_count": 13,
   "id": "bc30df9d-7a05-4235-8213-d9e5d265bc35",
   "metadata": {
    "tags": []
   },
   "outputs": [
    {
     "data": {
      "text/plain": [
       "pandas.core.frame.DataFrame"
      ]
     },
     "execution_count": 13,
     "metadata": {},
     "output_type": "execute_result"
    }
   ],
   "source": [
    "type(df.loc[1:3])"
   ]
  },
  {
   "cell_type": "markdown",
   "id": "3d30057c-4ee7-4372-86dd-b9a8f2ba306b",
   "metadata": {},
   "source": [
    "```\n",
    "\n",
    "\n",
    "\n",
    "```"
   ]
  },
  {
   "cell_type": "markdown",
   "id": "dff48946-d26d-4ebb-909c-72077469d700",
   "metadata": {
    "tags": []
   },
   "source": [
    "---"
   ]
  },
  {
   "cell_type": "markdown",
   "id": "cefa3cb6-402a-4e8b-a666-9ce8624d1434",
   "metadata": {},
   "source": [
    "```\n",
    "\n",
    "\n",
    "\n",
    "```"
   ]
  },
  {
   "cell_type": "markdown",
   "id": "c45447ce-044c-47a5-81ec-46c599fc47a1",
   "metadata": {
    "tags": []
   },
   "source": [
    "## **3. Pandas查询数据的5中方法**"
   ]
  },
  {
   "cell_type": "markdown",
   "id": "e66baead-31df-47ba-847d-a946899ffbff",
   "metadata": {},
   "source": [
    "### **Pandas查询数据的集中方法**"
   ]
  },
  {
   "cell_type": "markdown",
   "id": "4d725940-5f4a-41a7-a949-208e06e6a169",
   "metadata": {},
   "source": [
    "1. df.loc方法,根据行,列的标签值查询\n",
    "2. df.iloc方法,根据行,列的数字位置查询\n",
    "3. df.where方法\n",
    "4. df.query方法\n",
    "\n",
    "***.loc方法既能查询,又能覆盖写入***"
   ]
  },
  {
   "cell_type": "markdown",
   "id": "0af676fd-3bd6-4c34-9e17-34584768e3db",
   "metadata": {},
   "source": [
    "### **Pandas使用df.loc查询数据的方法**"
   ]
  },
  {
   "cell_type": "markdown",
   "id": "16f47c35-56a9-49da-9a47-19bb82c29348",
   "metadata": {},
   "source": [
    "1. 使用单个label值查询数据\n",
    "2. 使用值列表批量查询\n",
    "3. 使用数值区间进行范围查询\n",
    "4. 使用条件表达式查询\n",
    "5. 调用函数查询"
   ]
  },
  {
   "cell_type": "markdown",
   "id": "3d6353fb-481b-410e-9916-99a4182b59b3",
   "metadata": {},
   "source": [
    "### **注意**"
   ]
  },
  {
   "cell_type": "markdown",
   "id": "28eb6f4e-f402-45aa-800c-5e5491f99799",
   "metadata": {},
   "source": [
    "- 以上查询方法,既适用与行,也适用于列\n",
    "- 注意观察降维 Dataframe-->Series-->值"
   ]
  },
  {
   "cell_type": "code",
   "execution_count": 19,
   "id": "10d7a797-6a41-44df-b9f6-03d26872a1ff",
   "metadata": {
    "tags": []
   },
   "outputs": [],
   "source": [
    "import pandas as pd"
   ]
  },
  {
   "cell_type": "markdown",
   "id": "59120db0-ccb6-4817-b0c7-f617c66dc8ec",
   "metadata": {},
   "source": [
    "### **3.0 读取数据**"
   ]
  },
  {
   "cell_type": "code",
   "execution_count": 94,
   "id": "e73ff02a-2800-42a3-84f7-cfedb152f4fa",
   "metadata": {
    "tags": []
   },
   "outputs": [],
   "source": [
    "df=pd.read_csv('gy202302.csv')"
   ]
  },
  {
   "cell_type": "code",
   "execution_count": 95,
   "id": "11f11f46-e943-4b1f-88ed-1cad4f29cfd5",
   "metadata": {
    "tags": []
   },
   "outputs": [
    {
     "data": {
      "text/html": [
       "<div>\n",
       "<style scoped>\n",
       "    .dataframe tbody tr th:only-of-type {\n",
       "        vertical-align: middle;\n",
       "    }\n",
       "\n",
       "    .dataframe tbody tr th {\n",
       "        vertical-align: top;\n",
       "    }\n",
       "\n",
       "    .dataframe thead th {\n",
       "        text-align: right;\n",
       "    }\n",
       "</style>\n",
       "<table border=\"1\" class=\"dataframe\">\n",
       "  <thead>\n",
       "    <tr style=\"text-align: right;\">\n",
       "      <th></th>\n",
       "      <th>NF</th>\n",
       "      <th>YF</th>\n",
       "      <th>A01</th>\n",
       "      <th>H02</th>\n",
       "      <th>N2000_1</th>\n",
       "      <th>N2000_2</th>\n",
       "      <th>N2000_3</th>\n",
       "      <th>N2000_4</th>\n",
       "      <th>N4000_1</th>\n",
       "      <th>N4000_2</th>\n",
       "      <th>...</th>\n",
       "      <th>A341</th>\n",
       "      <th>A342</th>\n",
       "      <th>A343</th>\n",
       "      <th>B93</th>\n",
       "      <th>DZX</th>\n",
       "      <th>A07_2017</th>\n",
       "      <th>A14</th>\n",
       "      <th>N2000_2_KBJ</th>\n",
       "      <th>N2000_2_TB</th>\n",
       "      <th>N2000_1_KBJ</th>\n",
       "    </tr>\n",
       "  </thead>\n",
       "  <tbody>\n",
       "    <tr>\n",
       "      <th>0</th>\n",
       "      <td>2023</td>\n",
       "      <td>2</td>\n",
       "      <td>057686533</td>\n",
       "      <td>上海欣禄包装制品有限公司</td>\n",
       "      <td>3554</td>\n",
       "      <td>7542</td>\n",
       "      <td>3376</td>\n",
       "      <td>6179</td>\n",
       "      <td>3554</td>\n",
       "      <td>7542</td>\n",
       "      <td>...</td>\n",
       "      <td>0</td>\n",
       "      <td>0</td>\n",
       "      <td>0</td>\n",
       "      <td>501</td>\n",
       "      <td>3</td>\n",
       "      <td>2231</td>\n",
       "      <td>1</td>\n",
       "      <td>7618.18</td>\n",
       "      <td>7618.18</td>\n",
       "      <td>3589.90</td>\n",
       "    </tr>\n",
       "    <tr>\n",
       "      <th>1</th>\n",
       "      <td>2023</td>\n",
       "      <td>2</td>\n",
       "      <td>059324579</td>\n",
       "      <td>上海弘干机械制造有限公司</td>\n",
       "      <td>4109</td>\n",
       "      <td>7425</td>\n",
       "      <td>2335</td>\n",
       "      <td>5418</td>\n",
       "      <td>4109</td>\n",
       "      <td>7425</td>\n",
       "      <td>...</td>\n",
       "      <td>0</td>\n",
       "      <td>0</td>\n",
       "      <td>0</td>\n",
       "      <td>502</td>\n",
       "      <td>3</td>\n",
       "      <td>3311</td>\n",
       "      <td>1</td>\n",
       "      <td>7702.28</td>\n",
       "      <td>7702.28</td>\n",
       "      <td>4262.45</td>\n",
       "    </tr>\n",
       "    <tr>\n",
       "      <th>2</th>\n",
       "      <td>2023</td>\n",
       "      <td>2</td>\n",
       "      <td>060907093</td>\n",
       "      <td>上海图正信息科技股份有限公司</td>\n",
       "      <td>200</td>\n",
       "      <td>200</td>\n",
       "      <td>185</td>\n",
       "      <td>185</td>\n",
       "      <td>200</td>\n",
       "      <td>200</td>\n",
       "      <td>...</td>\n",
       "      <td>0</td>\n",
       "      <td>0</td>\n",
       "      <td>0</td>\n",
       "      <td>502</td>\n",
       "      <td>3</td>\n",
       "      <td>3983</td>\n",
       "      <td>1</td>\n",
       "      <td>201.01</td>\n",
       "      <td>201.01</td>\n",
       "      <td>201.01</td>\n",
       "    </tr>\n",
       "    <tr>\n",
       "      <th>3</th>\n",
       "      <td>2023</td>\n",
       "      <td>2</td>\n",
       "      <td>060946834</td>\n",
       "      <td>上海东富龙拓溥科技有限公司</td>\n",
       "      <td>84318</td>\n",
       "      <td>90495</td>\n",
       "      <td>29460</td>\n",
       "      <td>54482</td>\n",
       "      <td>5754</td>\n",
       "      <td>8837</td>\n",
       "      <td>...</td>\n",
       "      <td>230105</td>\n",
       "      <td>0</td>\n",
       "      <td>0</td>\n",
       "      <td>502</td>\n",
       "      <td>3</td>\n",
       "      <td>3544</td>\n",
       "      <td>1</td>\n",
       "      <td>90314.37</td>\n",
       "      <td>90314.37</td>\n",
       "      <td>84149.70</td>\n",
       "    </tr>\n",
       "    <tr>\n",
       "      <th>4</th>\n",
       "      <td>2023</td>\n",
       "      <td>2</td>\n",
       "      <td>062523851</td>\n",
       "      <td>上海海的实业有限公司</td>\n",
       "      <td>3309</td>\n",
       "      <td>6753</td>\n",
       "      <td>8019</td>\n",
       "      <td>20177</td>\n",
       "      <td>3167</td>\n",
       "      <td>8092</td>\n",
       "      <td>...</td>\n",
       "      <td>0</td>\n",
       "      <td>0</td>\n",
       "      <td>0</td>\n",
       "      <td>502</td>\n",
       "      <td>3</td>\n",
       "      <td>3312</td>\n",
       "      <td>1</td>\n",
       "      <td>7005.19</td>\n",
       "      <td>7005.19</td>\n",
       "      <td>3432.57</td>\n",
       "    </tr>\n",
       "  </tbody>\n",
       "</table>\n",
       "<p>5 rows × 33 columns</p>\n",
       "</div>"
      ],
      "text/plain": [
       "     NF  YF        A01             H02  N2000_1  N2000_2  N2000_3  N2000_4  \\\n",
       "0  2023   2  057686533    上海欣禄包装制品有限公司     3554     7542     3376     6179   \n",
       "1  2023   2  059324579    上海弘干机械制造有限公司     4109     7425     2335     5418   \n",
       "2  2023   2  060907093  上海图正信息科技股份有限公司      200      200      185      185   \n",
       "3  2023   2  060946834   上海东富龙拓溥科技有限公司    84318    90495    29460    54482   \n",
       "4  2023   2  062523851      上海海的实业有限公司     3309     6753     8019    20177   \n",
       "\n",
       "   N4000_1  N4000_2  ...    A341  A342  A343  B93  DZX  A07_2017  A14  \\\n",
       "0     3554     7542  ...       0     0     0  501    3      2231    1   \n",
       "1     4109     7425  ...       0     0     0  502    3      3311    1   \n",
       "2      200      200  ...       0     0     0  502    3      3983    1   \n",
       "3     5754     8837  ...  230105     0     0  502    3      3544    1   \n",
       "4     3167     8092  ...       0     0     0  502    3      3312    1   \n",
       "\n",
       "   N2000_2_KBJ  N2000_2_TB  N2000_1_KBJ  \n",
       "0      7618.18     7618.18      3589.90  \n",
       "1      7702.28     7702.28      4262.45  \n",
       "2       201.01      201.01       201.01  \n",
       "3     90314.37    90314.37     84149.70  \n",
       "4      7005.19     7005.19      3432.57  \n",
       "\n",
       "[5 rows x 33 columns]"
      ]
     },
     "execution_count": 95,
     "metadata": {},
     "output_type": "execute_result"
    }
   ],
   "source": [
    "df.head()"
   ]
  },
  {
   "cell_type": "code",
   "execution_count": 96,
   "id": "63fd4bb4-d6a3-45ec-8bc2-f26ec88ed746",
   "metadata": {
    "tags": []
   },
   "outputs": [],
   "source": [
    "#设置索引为年份,月份,A01\n",
    "df.set_index(['NF','YF','A01'],inplace=True)"
   ]
  },
  {
   "cell_type": "code",
   "execution_count": null,
   "id": "98e956fd-efe5-45a7-bc91-2016bc5403e3",
   "metadata": {
    "tags": []
   },
   "outputs": [],
   "source": [
    "df.index"
   ]
  },
  {
   "cell_type": "code",
   "execution_count": null,
   "id": "c158118a-af95-4fde-abec-b7d878373eba",
   "metadata": {
    "tags": []
   },
   "outputs": [],
   "source": [
    "df.head()"
   ]
  },
  {
   "cell_type": "code",
   "execution_count": 99,
   "id": "11836808-ad16-404e-a8f0-797719d4dd6d",
   "metadata": {
    "tags": []
   },
   "outputs": [
    {
     "data": {
      "text/html": [
       "<div>\n",
       "<style scoped>\n",
       "    .dataframe tbody tr th:only-of-type {\n",
       "        vertical-align: middle;\n",
       "    }\n",
       "\n",
       "    .dataframe tbody tr th {\n",
       "        vertical-align: top;\n",
       "    }\n",
       "\n",
       "    .dataframe thead th {\n",
       "        text-align: right;\n",
       "    }\n",
       "</style>\n",
       "<table border=\"1\" class=\"dataframe\">\n",
       "  <thead>\n",
       "    <tr style=\"text-align: right;\">\n",
       "      <th></th>\n",
       "      <th></th>\n",
       "      <th></th>\n",
       "      <th>H02</th>\n",
       "      <th>N2000_1</th>\n",
       "      <th>N2000_2</th>\n",
       "      <th>N2000_3</th>\n",
       "    </tr>\n",
       "    <tr>\n",
       "      <th>NF</th>\n",
       "      <th>YF</th>\n",
       "      <th>A01</th>\n",
       "      <th></th>\n",
       "      <th></th>\n",
       "      <th></th>\n",
       "      <th></th>\n",
       "    </tr>\n",
       "  </thead>\n",
       "  <tbody>\n",
       "    <tr>\n",
       "      <th rowspan=\"11\" valign=\"top\">2023</th>\n",
       "      <th rowspan=\"11\" valign=\"top\">2</th>\n",
       "      <th>057686533</th>\n",
       "      <td>上海欣禄包装制品有限公司</td>\n",
       "      <td>3554</td>\n",
       "      <td>7542</td>\n",
       "      <td>3376</td>\n",
       "    </tr>\n",
       "    <tr>\n",
       "      <th>059324579</th>\n",
       "      <td>上海弘干机械制造有限公司</td>\n",
       "      <td>4109</td>\n",
       "      <td>7425</td>\n",
       "      <td>2335</td>\n",
       "    </tr>\n",
       "    <tr>\n",
       "      <th>060907093</th>\n",
       "      <td>上海图正信息科技股份有限公司</td>\n",
       "      <td>200</td>\n",
       "      <td>200</td>\n",
       "      <td>185</td>\n",
       "    </tr>\n",
       "    <tr>\n",
       "      <th>060946834</th>\n",
       "      <td>上海东富龙拓溥科技有限公司</td>\n",
       "      <td>84318</td>\n",
       "      <td>90495</td>\n",
       "      <td>29460</td>\n",
       "    </tr>\n",
       "    <tr>\n",
       "      <th>062523851</th>\n",
       "      <td>上海海的实业有限公司</td>\n",
       "      <td>3309</td>\n",
       "      <td>6753</td>\n",
       "      <td>8019</td>\n",
       "    </tr>\n",
       "    <tr>\n",
       "      <th>...</th>\n",
       "      <td>...</td>\n",
       "      <td>...</td>\n",
       "      <td>...</td>\n",
       "      <td>...</td>\n",
       "    </tr>\n",
       "    <tr>\n",
       "      <th>MA7C8CMP1</th>\n",
       "      <td>上海江崎格力高闵发食品有限公司</td>\n",
       "      <td>19303</td>\n",
       "      <td>28645</td>\n",
       "      <td>0</td>\n",
       "    </tr>\n",
       "    <tr>\n",
       "      <th>MA7D1RP0X</th>\n",
       "      <td>上海申电通轨道交通科技有限公司</td>\n",
       "      <td>204</td>\n",
       "      <td>227</td>\n",
       "      <td>0</td>\n",
       "    </tr>\n",
       "    <tr>\n",
       "      <th>X07672168</th>\n",
       "      <td>上海闵行振华汽车配件有限公司</td>\n",
       "      <td>253</td>\n",
       "      <td>1543</td>\n",
       "      <td>1215</td>\n",
       "    </tr>\n",
       "    <tr>\n",
       "      <th>X07676054</th>\n",
       "      <td>上海汇盈鞋艺二厂</td>\n",
       "      <td>1337</td>\n",
       "      <td>2005</td>\n",
       "      <td>547</td>\n",
       "    </tr>\n",
       "    <tr>\n",
       "      <th>X07676580</th>\n",
       "      <td>上海五星制帽有限公司</td>\n",
       "      <td>1965</td>\n",
       "      <td>3015</td>\n",
       "      <td>3481</td>\n",
       "    </tr>\n",
       "  </tbody>\n",
       "</table>\n",
       "<p>878 rows × 4 columns</p>\n",
       "</div>"
      ],
      "text/plain": [
       "                               H02  N2000_1  N2000_2  N2000_3\n",
       "NF   YF A01                                                  \n",
       "2023 2  057686533     上海欣禄包装制品有限公司     3554     7542     3376\n",
       "        059324579     上海弘干机械制造有限公司     4109     7425     2335\n",
       "        060907093   上海图正信息科技股份有限公司      200      200      185\n",
       "        060946834    上海东富龙拓溥科技有限公司    84318    90495    29460\n",
       "        062523851       上海海的实业有限公司     3309     6753     8019\n",
       "...                            ...      ...      ...      ...\n",
       "        MA7C8CMP1  上海江崎格力高闵发食品有限公司    19303    28645        0\n",
       "        MA7D1RP0X  上海申电通轨道交通科技有限公司      204      227        0\n",
       "        X07672168   上海闵行振华汽车配件有限公司      253     1543     1215\n",
       "        X07676054         上海汇盈鞋艺二厂     1337     2005      547\n",
       "        X07676580       上海五星制帽有限公司     1965     3015     3481\n",
       "\n",
       "[878 rows x 4 columns]"
      ]
     },
     "execution_count": 99,
     "metadata": {},
     "output_type": "execute_result"
    }
   ],
   "source": [
    "df.loc[:,['H02','N2000_1','N2000_2','N2000_3']]"
   ]
  },
  {
   "cell_type": "code",
   "execution_count": null,
   "id": "2fdb5d54-2935-4e4a-85f8-1634896955fd",
   "metadata": {},
   "outputs": [],
   "source": []
  },
  {
   "cell_type": "markdown",
   "id": "59b7d4b2-a3eb-4be0-85dc-1d0f580c9d36",
   "metadata": {},
   "source": [
    "### **3.1 用单个label值查询数据**\n",
    "行或者列,都可以只传入单个值,实现精确匹配"
   ]
  },
  {
   "cell_type": "code",
   "execution_count": 170,
   "id": "c4459d8b-215a-4a98-a696-4a3578db8a8d",
   "metadata": {
    "tags": []
   },
   "outputs": [
    {
     "data": {
      "text/plain": [
       "227"
      ]
     },
     "execution_count": 170,
     "metadata": {},
     "output_type": "execute_result"
    }
   ],
   "source": [
    "#这里的label是要给元组，即(2023, 2,'MA7D1RP0X')，结果得到单个值\n",
    "df.loc[(2023, 2,'MA7D1RP0X'),'N2000_2'] #当键是多个字段的组合时,用元组"
   ]
  },
  {
   "cell_type": "code",
   "execution_count": 101,
   "id": "49f9e749-0e16-4644-8897-ec17ef47c055",
   "metadata": {
    "tags": []
   },
   "outputs": [
    {
     "data": {
      "text/plain": [
       "H02        上海申电通轨道交通科技有限公司\n",
       "N2000_1                204\n",
       "N2000_2                227\n",
       "N2000_3                  0\n",
       "N2000_4                  0\n",
       "DZX                      3\n",
       "Name: (2023, 2, MA7D1RP0X), dtype: object"
      ]
     },
     "execution_count": 101,
     "metadata": {},
     "output_type": "execute_result"
    }
   ],
   "source": [
    "#得到一个Series.\n",
    "df.loc[(2023, 2,'MA7D1RP0X'),['H02','N2000_1','N2000_2','N2000_3','N2000_4','DZX']]"
   ]
  },
  {
   "cell_type": "code",
   "execution_count": null,
   "id": "4bb361a4-a367-4155-bad6-04130343cf1a",
   "metadata": {},
   "outputs": [],
   "source": []
  },
  {
   "cell_type": "markdown",
   "id": "4d07a6a4-e869-41e4-88b1-5e09b33412f0",
   "metadata": {
    "tags": []
   },
   "source": [
    "### **3.2 使用值列表批量值查询**"
   ]
  },
  {
   "cell_type": "code",
   "execution_count": 169,
   "id": "ebfdf707-9123-4715-a47c-f7c906c1b3f2",
   "metadata": {
    "tags": []
   },
   "outputs": [
    {
     "data": {
      "text/html": [
       "<div>\n",
       "<style scoped>\n",
       "    .dataframe tbody tr th:only-of-type {\n",
       "        vertical-align: middle;\n",
       "    }\n",
       "\n",
       "    .dataframe tbody tr th {\n",
       "        vertical-align: top;\n",
       "    }\n",
       "\n",
       "    .dataframe thead th {\n",
       "        text-align: right;\n",
       "    }\n",
       "</style>\n",
       "<table border=\"1\" class=\"dataframe\">\n",
       "  <thead>\n",
       "    <tr style=\"text-align: right;\">\n",
       "      <th></th>\n",
       "      <th></th>\n",
       "      <th></th>\n",
       "      <th>H02</th>\n",
       "      <th>N2000_1</th>\n",
       "      <th>N2000_2</th>\n",
       "      <th>N2000_3</th>\n",
       "      <th>N2000_4</th>\n",
       "      <th>DZX</th>\n",
       "    </tr>\n",
       "    <tr>\n",
       "      <th>NF</th>\n",
       "      <th>YF</th>\n",
       "      <th>A01</th>\n",
       "      <th></th>\n",
       "      <th></th>\n",
       "      <th></th>\n",
       "      <th></th>\n",
       "      <th></th>\n",
       "      <th></th>\n",
       "    </tr>\n",
       "  </thead>\n",
       "  <tbody>\n",
       "    <tr>\n",
       "      <th rowspan=\"3\" valign=\"top\">2023</th>\n",
       "      <th rowspan=\"3\" valign=\"top\">2</th>\n",
       "      <th>MA7D1RP0X</th>\n",
       "      <td>上海申电通轨道交通科技有限公司</td>\n",
       "      <td>204</td>\n",
       "      <td>227</td>\n",
       "      <td>0</td>\n",
       "      <td>0</td>\n",
       "      <td>3</td>\n",
       "    </tr>\n",
       "    <tr>\n",
       "      <th>X07676580</th>\n",
       "      <td>上海五星制帽有限公司</td>\n",
       "      <td>1965</td>\n",
       "      <td>3015</td>\n",
       "      <td>3481</td>\n",
       "      <td>5475</td>\n",
       "      <td>3</td>\n",
       "    </tr>\n",
       "    <tr>\n",
       "      <th>057686533</th>\n",
       "      <td>上海欣禄包装制品有限公司</td>\n",
       "      <td>3554</td>\n",
       "      <td>7542</td>\n",
       "      <td>3376</td>\n",
       "      <td>6179</td>\n",
       "      <td>3</td>\n",
       "    </tr>\n",
       "  </tbody>\n",
       "</table>\n",
       "</div>"
      ],
      "text/plain": [
       "                               H02  N2000_1  N2000_2  N2000_3  N2000_4  DZX\n",
       "NF   YF A01                                                                \n",
       "2023 2  MA7D1RP0X  上海申电通轨道交通科技有限公司      204      227        0        0    3\n",
       "        X07676580       上海五星制帽有限公司     1965     3015     3481     5475    3\n",
       "        057686533     上海欣禄包装制品有限公司     3554     7542     3376     6179    3"
      ]
     },
     "execution_count": 169,
     "metadata": {},
     "output_type": "execute_result"
    }
   ],
   "source": [
    "#[(2023, 2,'MA7D1RP0X'),(2023, 2,'X07676580'),(2023, 2,'057686533')]为一个值列表\n",
    "df.loc[[(2023, 2,'MA7D1RP0X'),(2023, 2,'X07676580'),(2023, 2,'057686533')],['H02','N2000_1','N2000_2','N2000_3','N2000_4','DZX']]"
   ]
  },
  {
   "cell_type": "code",
   "execution_count": null,
   "id": "3fcb22a4-28c1-4df5-aa50-cbe545b442cf",
   "metadata": {},
   "outputs": [],
   "source": []
  },
  {
   "cell_type": "markdown",
   "id": "6efaea28-ef5e-4df0-b7a0-dfe8d22ca99e",
   "metadata": {
    "tags": []
   },
   "source": [
    "### **3.3 使用数值区间进行范围查询**"
   ]
  },
  {
   "cell_type": "code",
   "execution_count": 104,
   "id": "fac587e8-e859-4cb4-823c-1772368df68a",
   "metadata": {
    "tags": []
   },
   "outputs": [
    {
     "data": {
      "text/plain": [
       "NF    YF  A01      \n",
       "2023  2   MA7D1RP0X    上海申电通轨道交通科技有限公司\n",
       "          X07672168     上海闵行振华汽车配件有限公司\n",
       "          X07676054           上海汇盈鞋艺二厂\n",
       "          X07676580         上海五星制帽有限公司\n",
       "Name: H02, dtype: object"
      ]
     },
     "execution_count": 104,
     "metadata": {},
     "output_type": "execute_result"
    }
   ],
   "source": [
    "#行Index按区间\n",
    "df.loc[(2023, 2,'MA7D1RP0X'):(2023, 2,'X07676580'),'H02']"
   ]
  },
  {
   "cell_type": "code",
   "execution_count": 106,
   "id": "aaadf558-7b76-48eb-948e-5885c64c1f7e",
   "metadata": {
    "tags": []
   },
   "outputs": [
    {
     "data": {
      "text/plain": [
       "N2000_1             204\n",
       "N2000_2             227\n",
       "N2000_3               0\n",
       "N2000_4               0\n",
       "N4000_1             204\n",
       "N4000_2             227\n",
       "N4000_3               0\n",
       "N4000_4               0\n",
       "N4090_1               0\n",
       "N4090_2               0\n",
       "N4090_3               0\n",
       "N4090_4             0.0\n",
       "A052       310112501009\n",
       "A18                 110\n",
       "A19                   1\n",
       "A09                  11\n",
       "LEV        310112501808\n",
       "A10          91310112MA\n",
       "A340                NaN\n",
       "A341             230104\n",
       "A342             119911\n",
       "A343                  0\n",
       "B93                 502\n",
       "DZX                   3\n",
       "Name: (2023, 2, MA7D1RP0X), dtype: object"
      ]
     },
     "execution_count": 106,
     "metadata": {},
     "output_type": "execute_result"
    }
   ],
   "source": [
    "#列Index按区间\n",
    "df.loc[(2023, 2,'MA7D1RP0X'),'N2000_1':'DZX']"
   ]
  },
  {
   "cell_type": "code",
   "execution_count": 107,
   "id": "d9f8e4c6-35ef-48e1-9f00-f9c71ea7466b",
   "metadata": {
    "tags": []
   },
   "outputs": [
    {
     "data": {
      "text/html": [
       "<div>\n",
       "<style scoped>\n",
       "    .dataframe tbody tr th:only-of-type {\n",
       "        vertical-align: middle;\n",
       "    }\n",
       "\n",
       "    .dataframe tbody tr th {\n",
       "        vertical-align: top;\n",
       "    }\n",
       "\n",
       "    .dataframe thead th {\n",
       "        text-align: right;\n",
       "    }\n",
       "</style>\n",
       "<table border=\"1\" class=\"dataframe\">\n",
       "  <thead>\n",
       "    <tr style=\"text-align: right;\">\n",
       "      <th></th>\n",
       "      <th></th>\n",
       "      <th></th>\n",
       "      <th>N2000_1</th>\n",
       "      <th>N2000_2</th>\n",
       "      <th>N2000_3</th>\n",
       "      <th>N2000_4</th>\n",
       "    </tr>\n",
       "    <tr>\n",
       "      <th>NF</th>\n",
       "      <th>YF</th>\n",
       "      <th>A01</th>\n",
       "      <th></th>\n",
       "      <th></th>\n",
       "      <th></th>\n",
       "      <th></th>\n",
       "    </tr>\n",
       "  </thead>\n",
       "  <tbody>\n",
       "    <tr>\n",
       "      <th rowspan=\"4\" valign=\"top\">2023</th>\n",
       "      <th rowspan=\"4\" valign=\"top\">2</th>\n",
       "      <th>MA7D1RP0X</th>\n",
       "      <td>204</td>\n",
       "      <td>227</td>\n",
       "      <td>0</td>\n",
       "      <td>0</td>\n",
       "    </tr>\n",
       "    <tr>\n",
       "      <th>X07672168</th>\n",
       "      <td>253</td>\n",
       "      <td>1543</td>\n",
       "      <td>1215</td>\n",
       "      <td>4756</td>\n",
       "    </tr>\n",
       "    <tr>\n",
       "      <th>X07676054</th>\n",
       "      <td>1337</td>\n",
       "      <td>2005</td>\n",
       "      <td>547</td>\n",
       "      <td>1142</td>\n",
       "    </tr>\n",
       "    <tr>\n",
       "      <th>X07676580</th>\n",
       "      <td>1965</td>\n",
       "      <td>3015</td>\n",
       "      <td>3481</td>\n",
       "      <td>5475</td>\n",
       "    </tr>\n",
       "  </tbody>\n",
       "</table>\n",
       "</div>"
      ],
      "text/plain": [
       "                   N2000_1  N2000_2  N2000_3  N2000_4\n",
       "NF   YF A01                                          \n",
       "2023 2  MA7D1RP0X      204      227        0        0\n",
       "        X07672168      253     1543     1215     4756\n",
       "        X07676054     1337     2005      547     1142\n",
       "        X07676580     1965     3015     3481     5475"
      ]
     },
     "execution_count": 107,
     "metadata": {},
     "output_type": "execute_result"
    }
   ],
   "source": [
    "#行和列都按区间查询\n",
    "df.loc[(2023, 2,'MA7D1RP0X'):(2023, 2,'X07676580'),'N2000_1':'N2000_4']"
   ]
  },
  {
   "cell_type": "code",
   "execution_count": null,
   "id": "a591c9d8-20b8-4465-bff0-c43e2cb73e95",
   "metadata": {},
   "outputs": [],
   "source": []
  },
  {
   "cell_type": "markdown",
   "id": "c8172dae-7964-44ba-a525-3ed12df65342",
   "metadata": {
    "tags": []
   },
   "source": [
    "### **3.4 使用条件表达式查询**"
   ]
  },
  {
   "cell_type": "code",
   "execution_count": 171,
   "id": "aabf04bf-1feb-4b4e-a946-0ac5ef23f9f5",
   "metadata": {
    "tags": []
   },
   "outputs": [
    {
     "data": {
      "text/html": [
       "<div>\n",
       "<style scoped>\n",
       "    .dataframe tbody tr th:only-of-type {\n",
       "        vertical-align: middle;\n",
       "    }\n",
       "\n",
       "    .dataframe tbody tr th {\n",
       "        vertical-align: top;\n",
       "    }\n",
       "\n",
       "    .dataframe thead th {\n",
       "        text-align: right;\n",
       "    }\n",
       "</style>\n",
       "<table border=\"1\" class=\"dataframe\">\n",
       "  <thead>\n",
       "    <tr style=\"text-align: right;\">\n",
       "      <th></th>\n",
       "      <th></th>\n",
       "      <th></th>\n",
       "      <th>H02</th>\n",
       "      <th>N2000_1</th>\n",
       "      <th>N2000_2</th>\n",
       "      <th>N2000_3</th>\n",
       "      <th>N2000_4</th>\n",
       "    </tr>\n",
       "    <tr>\n",
       "      <th>NF</th>\n",
       "      <th>YF</th>\n",
       "      <th>A01</th>\n",
       "      <th></th>\n",
       "      <th></th>\n",
       "      <th></th>\n",
       "      <th></th>\n",
       "      <th></th>\n",
       "    </tr>\n",
       "  </thead>\n",
       "  <tbody>\n",
       "    <tr>\n",
       "      <th rowspan=\"5\" valign=\"top\">2023</th>\n",
       "      <th rowspan=\"5\" valign=\"top\">2</th>\n",
       "      <th>607205141</th>\n",
       "      <td>上海三菱电梯有限公司</td>\n",
       "      <td>1523310</td>\n",
       "      <td>2434437</td>\n",
       "      <td>1053300</td>\n",
       "      <td>2469335</td>\n",
       "    </tr>\n",
       "    <tr>\n",
       "      <th>607328264</th>\n",
       "      <td>大金空调（上海）有限公司</td>\n",
       "      <td>625716</td>\n",
       "      <td>1024786</td>\n",
       "      <td>499171</td>\n",
       "      <td>1215441</td>\n",
       "    </tr>\n",
       "    <tr>\n",
       "      <th>717880375</th>\n",
       "      <td>上海电气电站设备有限公司</td>\n",
       "      <td>642948</td>\n",
       "      <td>1086694</td>\n",
       "      <td>495538</td>\n",
       "      <td>1056317</td>\n",
       "    </tr>\n",
       "    <tr>\n",
       "      <th>795641927</th>\n",
       "      <td>可口可乐饮料（上海）有限公司</td>\n",
       "      <td>844936</td>\n",
       "      <td>1573473</td>\n",
       "      <td>979446</td>\n",
       "      <td>2138492</td>\n",
       "    </tr>\n",
       "    <tr>\n",
       "      <th>MA1GDL7B6</th>\n",
       "      <td>上海顺诠科技有限公司</td>\n",
       "      <td>702218</td>\n",
       "      <td>1280006</td>\n",
       "      <td>734542</td>\n",
       "      <td>2043539</td>\n",
       "    </tr>\n",
       "  </tbody>\n",
       "</table>\n",
       "</div>"
      ],
      "text/plain": [
       "                              H02  N2000_1  N2000_2  N2000_3  N2000_4\n",
       "NF   YF A01                                                          \n",
       "2023 2  607205141      上海三菱电梯有限公司  1523310  2434437  1053300  2469335\n",
       "        607328264    大金空调（上海）有限公司   625716  1024786   499171  1215441\n",
       "        717880375    上海电气电站设备有限公司   642948  1086694   495538  1056317\n",
       "        795641927  可口可乐饮料（上海）有限公司   844936  1573473   979446  2138492\n",
       "        MA1GDL7B6      上海顺诠科技有限公司   702218  1280006   734542  2043539"
      ]
     },
     "execution_count": 171,
     "metadata": {},
     "output_type": "execute_result"
    }
   ],
   "source": [
    "df.loc[df['N2000_2']>1000000,['H02','N2000_1','N2000_2','N2000_3','N2000_4']]"
   ]
  },
  {
   "cell_type": "code",
   "execution_count": 111,
   "id": "38f8cb14-16ca-4350-8ff2-05b06d97eeb8",
   "metadata": {
    "tags": []
   },
   "outputs": [
    {
     "data": {
      "text/plain": [
       "NF    YF  A01      \n",
       "2023  2   057686533    False\n",
       "          059324579    False\n",
       "          060907093    False\n",
       "          060946834    False\n",
       "          062523851    False\n",
       "                       ...  \n",
       "          MA7C8CMP1    False\n",
       "          MA7D1RP0X    False\n",
       "          X07672168    False\n",
       "          X07676054    False\n",
       "          X07676580    False\n",
       "Name: N2000_2, Length: 878, dtype: bool"
      ]
     },
     "execution_count": 111,
     "metadata": {},
     "output_type": "execute_result"
    }
   ],
   "source": [
    "#观察这里的布尔条件\n",
    "df['N2000_2']>1000000"
   ]
  },
  {
   "cell_type": "markdown",
   "id": "d26893a3-f1c5-4108-97f2-5c88a7faadb2",
   "metadata": {},
   "source": [
    "#### **复杂条件查询,查询N2000_2大于10亿元,且DZX标志为1的数据, 或者N2000_2==0且DZX标志为2的数据**"
   ]
  },
  {
   "cell_type": "markdown",
   "id": "2ec7ae96-780e-42c9-8367-f28fbb4261d4",
   "metadata": {},
   "source": [
    "**注意与用'&'号,或用'|'号链接,且每个条件都要带括号**"
   ]
  },
  {
   "cell_type": "code",
   "execution_count": 135,
   "id": "493ba7df-3ae2-4b06-a6fb-9c33e2515d7f",
   "metadata": {
    "tags": []
   },
   "outputs": [
    {
     "data": {
      "text/html": [
       "<div>\n",
       "<style scoped>\n",
       "    .dataframe tbody tr th:only-of-type {\n",
       "        vertical-align: middle;\n",
       "    }\n",
       "\n",
       "    .dataframe tbody tr th {\n",
       "        vertical-align: top;\n",
       "    }\n",
       "\n",
       "    .dataframe thead th {\n",
       "        text-align: right;\n",
       "    }\n",
       "</style>\n",
       "<table border=\"1\" class=\"dataframe\">\n",
       "  <thead>\n",
       "    <tr style=\"text-align: right;\">\n",
       "      <th></th>\n",
       "      <th></th>\n",
       "      <th></th>\n",
       "      <th>H02</th>\n",
       "      <th>N2000_1</th>\n",
       "      <th>N2000_2</th>\n",
       "      <th>DZX</th>\n",
       "    </tr>\n",
       "    <tr>\n",
       "      <th>NF</th>\n",
       "      <th>YF</th>\n",
       "      <th>A01</th>\n",
       "      <th></th>\n",
       "      <th></th>\n",
       "      <th></th>\n",
       "      <th></th>\n",
       "    </tr>\n",
       "  </thead>\n",
       "  <tbody>\n",
       "    <tr>\n",
       "      <th rowspan=\"7\" valign=\"top\">2023</th>\n",
       "      <th rowspan=\"7\" valign=\"top\">2</th>\n",
       "      <th>586801197</th>\n",
       "      <td>上海鸣志机械制造有限公司</td>\n",
       "      <td>0</td>\n",
       "      <td>0</td>\n",
       "      <td>2</td>\n",
       "    </tr>\n",
       "    <tr>\n",
       "      <th>607205141</th>\n",
       "      <td>上海三菱电梯有限公司</td>\n",
       "      <td>1523310</td>\n",
       "      <td>2434437</td>\n",
       "      <td>1</td>\n",
       "    </tr>\n",
       "    <tr>\n",
       "      <th>607328264</th>\n",
       "      <td>大金空调（上海）有限公司</td>\n",
       "      <td>625716</td>\n",
       "      <td>1024786</td>\n",
       "      <td>1</td>\n",
       "    </tr>\n",
       "    <tr>\n",
       "      <th>630574703</th>\n",
       "      <td>上海紫燕食品股份有限公司</td>\n",
       "      <td>0</td>\n",
       "      <td>0</td>\n",
       "      <td>2</td>\n",
       "    </tr>\n",
       "    <tr>\n",
       "      <th>717880375</th>\n",
       "      <td>上海电气电站设备有限公司</td>\n",
       "      <td>642948</td>\n",
       "      <td>1086694</td>\n",
       "      <td>1</td>\n",
       "    </tr>\n",
       "    <tr>\n",
       "      <th>770201458</th>\n",
       "      <td>上海至正道化高分子材料股份有限公司</td>\n",
       "      <td>0</td>\n",
       "      <td>0</td>\n",
       "      <td>2</td>\n",
       "    </tr>\n",
       "    <tr>\n",
       "      <th>MA1GDL7B6</th>\n",
       "      <td>上海顺诠科技有限公司</td>\n",
       "      <td>702218</td>\n",
       "      <td>1280006</td>\n",
       "      <td>1</td>\n",
       "    </tr>\n",
       "  </tbody>\n",
       "</table>\n",
       "</div>"
      ],
      "text/plain": [
       "                                 H02  N2000_1  N2000_2  DZX\n",
       "NF   YF A01                                                \n",
       "2023 2  586801197       上海鸣志机械制造有限公司        0        0    2\n",
       "        607205141         上海三菱电梯有限公司  1523310  2434437    1\n",
       "        607328264       大金空调（上海）有限公司   625716  1024786    1\n",
       "        630574703       上海紫燕食品股份有限公司        0        0    2\n",
       "        717880375       上海电气电站设备有限公司   642948  1086694    1\n",
       "        770201458  上海至正道化高分子材料股份有限公司        0        0    2\n",
       "        MA1GDL7B6         上海顺诠科技有限公司   702218  1280006    1"
      ]
     },
     "execution_count": 135,
     "metadata": {},
     "output_type": "execute_result"
    }
   ],
   "source": [
    "df.loc[((df['N2000_2']>1000000)&(df['DZX']==1))|((df['N2000_2']==0)&(df['DZX']==2)),['H02','N2000_1','N2000_2','DZX']]"
   ]
  },
  {
   "cell_type": "code",
   "execution_count": null,
   "id": "4baa3c1d-1c49-4d87-81dd-2d9bcc55a6f6",
   "metadata": {
    "tags": []
   },
   "outputs": [],
   "source": []
  },
  {
   "cell_type": "markdown",
   "id": "f24af4be-7e28-4d0a-a3cd-05ad11998acd",
   "metadata": {
    "tags": []
   },
   "source": [
    "### **3.5 调用函数进行查询**"
   ]
  },
  {
   "cell_type": "markdown",
   "id": "d9f48c01-668f-4a72-9ac7-dd6817d386b1",
   "metadata": {},
   "source": [
    "#### **3.5.1 python lambda 函数简介**"
   ]
  },
  {
   "cell_type": "markdown",
   "id": "ea3ed8ec-f904-43f4-8525-0af0814ee39c",
   "metadata": {},
   "source": [
    "python 使用 lambda 来创建匿名函数\n",
    "-    lambda只是一个表达式，函数体比def简单很多。\n",
    "-    lambda的主体是一个表达式，而不是一个代码块。仅仅能在lambda表达式中封装有限的逻辑进去。\n",
    "-    lambda函数拥有自己的命名空间，且不能访问自有参数列表之外或全局命名空间里的参数。\n",
    "-    虽然lambda函数看起来只能写一行，却不等同于C或C++的内联函数，后者的目的是调用小函数时不占用栈内存从而增加运行效率。\n",
    "\n",
    "**语法**\n",
    "\n",
    "lambda函数的语法只包含一个语句，如下：  \n",
    "`lambda [arg1 [,arg2,.....argn]]:expression`\n",
    "\n",
    "**如下实例：**\n",
    "\n",
    "```\n",
    "#!/usr/bin/python\n",
    "# -*- coding: UTF-8 -*-\n",
    " \n",
    "# 定义一个名为sum的Lambda函数,带有两个参数arg1,arg2,函数体只能是一个表达式,这里是一个加法运算表达式\n",
    "sum = lambda arg1, arg2: arg1 + arg2\n",
    " \n",
    "# 调用sum函数,调用方式与普通函数类似\n",
    "print \"相加后的值为 : \", sum( 10, 20 )\n",
    "print \"相加后的值为 : \", sum( 20, 20 )\n",
    "```\n",
    "\n",
    "以上实例输出结果：\n",
    "\n",
    "相加后的值为 :  30  \n",
    "相加后的值为 :  40"
   ]
  },
  {
   "cell_type": "markdown",
   "id": "24cd1ae8-ed40-4ca0-9f7a-00b7ad8869df",
   "metadata": {
    "tags": []
   },
   "source": [
    "#### **3.5.2 使用lambda函数进行查询**"
   ]
  },
  {
   "cell_type": "code",
   "execution_count": 173,
   "id": "893d3b69-f45a-4936-bdd2-a462fc280948",
   "metadata": {
    "tags": []
   },
   "outputs": [
    {
     "data": {
      "text/html": [
       "<div>\n",
       "<style scoped>\n",
       "    .dataframe tbody tr th:only-of-type {\n",
       "        vertical-align: middle;\n",
       "    }\n",
       "\n",
       "    .dataframe tbody tr th {\n",
       "        vertical-align: top;\n",
       "    }\n",
       "\n",
       "    .dataframe thead th {\n",
       "        text-align: right;\n",
       "    }\n",
       "</style>\n",
       "<table border=\"1\" class=\"dataframe\">\n",
       "  <thead>\n",
       "    <tr style=\"text-align: right;\">\n",
       "      <th></th>\n",
       "      <th></th>\n",
       "      <th></th>\n",
       "      <th>H02</th>\n",
       "      <th>N2000_2</th>\n",
       "      <th>N2000_4</th>\n",
       "    </tr>\n",
       "    <tr>\n",
       "      <th>NF</th>\n",
       "      <th>YF</th>\n",
       "      <th>A01</th>\n",
       "      <th></th>\n",
       "      <th></th>\n",
       "      <th></th>\n",
       "    </tr>\n",
       "  </thead>\n",
       "  <tbody>\n",
       "    <tr>\n",
       "      <th rowspan=\"11\" valign=\"top\">2023</th>\n",
       "      <th rowspan=\"11\" valign=\"top\">2</th>\n",
       "      <th>057686533</th>\n",
       "      <td>上海欣禄包装制品有限公司</td>\n",
       "      <td>7542</td>\n",
       "      <td>6179</td>\n",
       "    </tr>\n",
       "    <tr>\n",
       "      <th>059324579</th>\n",
       "      <td>上海弘干机械制造有限公司</td>\n",
       "      <td>7425</td>\n",
       "      <td>5418</td>\n",
       "    </tr>\n",
       "    <tr>\n",
       "      <th>060946834</th>\n",
       "      <td>上海东富龙拓溥科技有限公司</td>\n",
       "      <td>90495</td>\n",
       "      <td>54482</td>\n",
       "    </tr>\n",
       "    <tr>\n",
       "      <th>066027572</th>\n",
       "      <td>美登思电气（上海）有限公司</td>\n",
       "      <td>11504</td>\n",
       "      <td>7929</td>\n",
       "    </tr>\n",
       "    <tr>\n",
       "      <th>067780507</th>\n",
       "      <td>上海壹徕科技股份有限公司</td>\n",
       "      <td>6627</td>\n",
       "      <td>5649</td>\n",
       "    </tr>\n",
       "    <tr>\n",
       "      <th>...</th>\n",
       "      <td>...</td>\n",
       "      <td>...</td>\n",
       "      <td>...</td>\n",
       "    </tr>\n",
       "    <tr>\n",
       "      <th>MA202ELM3</th>\n",
       "      <td>上海谭慕半导体科技有限公司</td>\n",
       "      <td>63645</td>\n",
       "      <td>23400</td>\n",
       "    </tr>\n",
       "    <tr>\n",
       "      <th>MA28A0KG0</th>\n",
       "      <td>好米动力设备有限公司</td>\n",
       "      <td>3675</td>\n",
       "      <td>2893</td>\n",
       "    </tr>\n",
       "    <tr>\n",
       "      <th>MA7C8CMP1</th>\n",
       "      <td>上海江崎格力高闵发食品有限公司</td>\n",
       "      <td>28645</td>\n",
       "      <td>0</td>\n",
       "    </tr>\n",
       "    <tr>\n",
       "      <th>MA7D1RP0X</th>\n",
       "      <td>上海申电通轨道交通科技有限公司</td>\n",
       "      <td>227</td>\n",
       "      <td>0</td>\n",
       "    </tr>\n",
       "    <tr>\n",
       "      <th>X07676054</th>\n",
       "      <td>上海汇盈鞋艺二厂</td>\n",
       "      <td>2005</td>\n",
       "      <td>1142</td>\n",
       "    </tr>\n",
       "  </tbody>\n",
       "</table>\n",
       "<p>283 rows × 3 columns</p>\n",
       "</div>"
      ],
      "text/plain": [
       "                               H02  N2000_2  N2000_4\n",
       "NF   YF A01                                         \n",
       "2023 2  057686533     上海欣禄包装制品有限公司     7542     6179\n",
       "        059324579     上海弘干机械制造有限公司     7425     5418\n",
       "        060946834    上海东富龙拓溥科技有限公司    90495    54482\n",
       "        066027572    美登思电气（上海）有限公司    11504     7929\n",
       "        067780507     上海壹徕科技股份有限公司     6627     5649\n",
       "...                            ...      ...      ...\n",
       "        MA202ELM3    上海谭慕半导体科技有限公司    63645    23400\n",
       "        MA28A0KG0       好米动力设备有限公司     3675     2893\n",
       "        MA7C8CMP1  上海江崎格力高闵发食品有限公司    28645        0\n",
       "        MA7D1RP0X  上海申电通轨道交通科技有限公司      227        0\n",
       "        X07676054         上海汇盈鞋艺二厂     2005     1142\n",
       "\n",
       "[283 rows x 3 columns]"
      ]
     },
     "execution_count": 173,
     "metadata": {},
     "output_type": "execute_result"
    }
   ],
   "source": [
    "#查询增幅大于10%的数据,通过定义一个lambda函数实现\n",
    "df.loc[lambda df:df['N2000_2']/df['N2000_4']>1.1,['H02','N2000_2','N2000_4']]  #冒号前面是参数，后面是表达式"
   ]
  },
  {
   "cell_type": "markdown",
   "id": "8810af41-e710-468e-937a-c16d494caa00",
   "metadata": {},
   "source": [
    "#### **3.5.3 使用def定义的函数进行查询**"
   ]
  },
  {
   "cell_type": "code",
   "execution_count": 167,
   "id": "abacc4e3-617a-4749-8dbb-735a0ab5184d",
   "metadata": {
    "tags": []
   },
   "outputs": [
    {
     "data": {
      "text/html": [
       "<div>\n",
       "<style scoped>\n",
       "    .dataframe tbody tr th:only-of-type {\n",
       "        vertical-align: middle;\n",
       "    }\n",
       "\n",
       "    .dataframe tbody tr th {\n",
       "        vertical-align: top;\n",
       "    }\n",
       "\n",
       "    .dataframe thead th {\n",
       "        text-align: right;\n",
       "    }\n",
       "</style>\n",
       "<table border=\"1\" class=\"dataframe\">\n",
       "  <thead>\n",
       "    <tr style=\"text-align: right;\">\n",
       "      <th></th>\n",
       "      <th></th>\n",
       "      <th></th>\n",
       "      <th>H02</th>\n",
       "      <th>N2000_2</th>\n",
       "      <th>N2000_4</th>\n",
       "    </tr>\n",
       "    <tr>\n",
       "      <th>NF</th>\n",
       "      <th>YF</th>\n",
       "      <th>A01</th>\n",
       "      <th></th>\n",
       "      <th></th>\n",
       "      <th></th>\n",
       "    </tr>\n",
       "  </thead>\n",
       "  <tbody>\n",
       "    <tr>\n",
       "      <th rowspan=\"20\" valign=\"top\">2023</th>\n",
       "      <th rowspan=\"20\" valign=\"top\">2</th>\n",
       "      <th>057686533</th>\n",
       "      <td>上海欣禄包装制品有限公司</td>\n",
       "      <td>7542</td>\n",
       "      <td>6179</td>\n",
       "    </tr>\n",
       "    <tr>\n",
       "      <th>059324579</th>\n",
       "      <td>上海弘干机械制造有限公司</td>\n",
       "      <td>7425</td>\n",
       "      <td>5418</td>\n",
       "    </tr>\n",
       "    <tr>\n",
       "      <th>060907093</th>\n",
       "      <td>上海图正信息科技股份有限公司</td>\n",
       "      <td>200</td>\n",
       "      <td>185</td>\n",
       "    </tr>\n",
       "    <tr>\n",
       "      <th>060946834</th>\n",
       "      <td>上海东富龙拓溥科技有限公司</td>\n",
       "      <td>90495</td>\n",
       "      <td>54482</td>\n",
       "    </tr>\n",
       "    <tr>\n",
       "      <th>062523851</th>\n",
       "      <td>上海海的实业有限公司</td>\n",
       "      <td>6753</td>\n",
       "      <td>20177</td>\n",
       "    </tr>\n",
       "    <tr>\n",
       "      <th>066027572</th>\n",
       "      <td>美登思电气（上海）有限公司</td>\n",
       "      <td>11504</td>\n",
       "      <td>7929</td>\n",
       "    </tr>\n",
       "    <tr>\n",
       "      <th>067780507</th>\n",
       "      <td>上海壹徕科技股份有限公司</td>\n",
       "      <td>6627</td>\n",
       "      <td>5649</td>\n",
       "    </tr>\n",
       "    <tr>\n",
       "      <th>069313216</th>\n",
       "      <td>上海龙鑫电缆科技有限公司</td>\n",
       "      <td>3</td>\n",
       "      <td>40</td>\n",
       "    </tr>\n",
       "    <tr>\n",
       "      <th>076447175</th>\n",
       "      <td>上海玖广兴塑胶制品有限公司</td>\n",
       "      <td>4266</td>\n",
       "      <td>4391</td>\n",
       "    </tr>\n",
       "    <tr>\n",
       "      <th>07811696X</th>\n",
       "      <td>上海璞珞食品有限公司</td>\n",
       "      <td>9632</td>\n",
       "      <td>13056</td>\n",
       "    </tr>\n",
       "    <tr>\n",
       "      <th>078139475</th>\n",
       "      <td>上海宝途仕工业科技有限公司</td>\n",
       "      <td>20259</td>\n",
       "      <td>25143</td>\n",
       "    </tr>\n",
       "    <tr>\n",
       "      <th>078175513</th>\n",
       "      <td>上海新华控制技术集团科技有限公司</td>\n",
       "      <td>15826</td>\n",
       "      <td>21781</td>\n",
       "    </tr>\n",
       "    <tr>\n",
       "      <th>080045160</th>\n",
       "      <td>上海沃金天然气利用有限公司</td>\n",
       "      <td>16000</td>\n",
       "      <td>17799</td>\n",
       "    </tr>\n",
       "    <tr>\n",
       "      <th>082025219</th>\n",
       "      <td>上海赛福特电子有限公司</td>\n",
       "      <td>5887</td>\n",
       "      <td>3351</td>\n",
       "    </tr>\n",
       "    <tr>\n",
       "      <th>08209031X</th>\n",
       "      <td>镐晟自动化科技（上海）有限公司</td>\n",
       "      <td>1339</td>\n",
       "      <td>1830</td>\n",
       "    </tr>\n",
       "    <tr>\n",
       "      <th>084122688</th>\n",
       "      <td>上海皆利新材料科技有限公司</td>\n",
       "      <td>10813</td>\n",
       "      <td>11658</td>\n",
       "    </tr>\n",
       "    <tr>\n",
       "      <th>087773910</th>\n",
       "      <td>上海磐云科技有限公司</td>\n",
       "      <td>16140</td>\n",
       "      <td>2094</td>\n",
       "    </tr>\n",
       "    <tr>\n",
       "      <th>09353182X</th>\n",
       "      <td>上海齐耀热能工程有限公司</td>\n",
       "      <td>2370</td>\n",
       "      <td>97832</td>\n",
       "    </tr>\n",
       "    <tr>\n",
       "      <th>093586652</th>\n",
       "      <td>上海锐开电气有限公司</td>\n",
       "      <td>19836</td>\n",
       "      <td>10017</td>\n",
       "    </tr>\n",
       "    <tr>\n",
       "      <th>093590803</th>\n",
       "      <td>上海兰彬电子科技有限公司</td>\n",
       "      <td>7533</td>\n",
       "      <td>11098</td>\n",
       "    </tr>\n",
       "  </tbody>\n",
       "</table>\n",
       "</div>"
      ],
      "text/plain": [
       "                                H02  N2000_2  N2000_4\n",
       "NF   YF A01                                          \n",
       "2023 2  057686533      上海欣禄包装制品有限公司     7542     6179\n",
       "        059324579      上海弘干机械制造有限公司     7425     5418\n",
       "        060907093    上海图正信息科技股份有限公司      200      185\n",
       "        060946834     上海东富龙拓溥科技有限公司    90495    54482\n",
       "        062523851        上海海的实业有限公司     6753    20177\n",
       "        066027572     美登思电气（上海）有限公司    11504     7929\n",
       "        067780507      上海壹徕科技股份有限公司     6627     5649\n",
       "        069313216      上海龙鑫电缆科技有限公司        3       40\n",
       "        076447175     上海玖广兴塑胶制品有限公司     4266     4391\n",
       "        07811696X        上海璞珞食品有限公司     9632    13056\n",
       "        078139475     上海宝途仕工业科技有限公司    20259    25143\n",
       "        078175513  上海新华控制技术集团科技有限公司    15826    21781\n",
       "        080045160     上海沃金天然气利用有限公司    16000    17799\n",
       "        082025219       上海赛福特电子有限公司     5887     3351\n",
       "        08209031X   镐晟自动化科技（上海）有限公司     1339     1830\n",
       "        084122688     上海皆利新材料科技有限公司    10813    11658\n",
       "        087773910        上海磐云科技有限公司    16140     2094\n",
       "        09353182X      上海齐耀热能工程有限公司     2370    97832\n",
       "        093586652        上海锐开电气有限公司    19836    10017\n",
       "        093590803      上海兰彬电子科技有限公司     7533    11098"
      ]
     },
     "execution_count": 167,
     "metadata": {},
     "output_type": "execute_result"
    }
   ],
   "source": [
    "#定义函数myfun，用于找出A01的第一位为字符'0'的所有行索引，本例行索引为（NF，YF，A01）\n",
    "def myfun(df):\n",
    "    res=[]                          #定义一个用于存储结果的列表\n",
    "    for e in df.index:              #df.index得到行索引列表(List)，列表中每个元素为一个元组(Tuple)，元组的第三个元素为A01\n",
    "        if e[2].startswith('0'):    #判断A01第一个字符是否为'0'\n",
    "            res.append(e)           #复合条件的索引值添加到结果列表中去\n",
    "    return res\n",
    "        \n",
    "df.loc[myfun,['H02','N2000_2','N2000_4']]   #注意：这里是将函数本身作为参数传递给了loc，而不是直接调用\n",
    "                                            #函数式编成的本质是---函数自身可以像变量一样传递\n",
    "    "
   ]
  },
  {
   "cell_type": "markdown",
   "id": "7cd91c8e-d454-4c62-9cd0-4179de37bbba",
   "metadata": {
    "tags": []
   },
   "source": [
    "```\n",
    "\n",
    "\n",
    "```"
   ]
  },
  {
   "cell_type": "markdown",
   "id": "3dbcdde5-ee38-487a-a1e9-3b546d54b9a4",
   "metadata": {},
   "source": [
    "---"
   ]
  },
  {
   "cell_type": "markdown",
   "id": "2c0a213d-1437-4ba6-b4b4-c06be9fab62a",
   "metadata": {},
   "source": [
    "```\n",
    "\n",
    "\n",
    "```"
   ]
  },
  {
   "cell_type": "markdown",
   "id": "de6e6c91-e3ff-4fa6-b267-2c7af813e6f6",
   "metadata": {
    "tags": []
   },
   "source": [
    "## **4. Pandas怎样新增数据列**"
   ]
  },
  {
   "cell_type": "markdown",
   "id": "1d325167-4f12-45f3-9a20-e3b4389e116d",
   "metadata": {},
   "source": [
    "### 按照一定的条件创建新的数据列"
   ]
  },
  {
   "cell_type": "markdown",
   "id": "534c8410-7ba5-4846-921d-3033e24a6931",
   "metadata": {},
   "source": [
    "1. 直接赋值\n",
    "2. df.apply方法\n",
    "3. df.assign方法\n",
    "4. 按条件选择分组分别赋值"
   ]
  },
  {
   "cell_type": "code",
   "execution_count": 2,
   "id": "ef378e8d-d214-41db-a54b-f7b865679ed2",
   "metadata": {
    "tags": []
   },
   "outputs": [],
   "source": [
    "import pandas as pd"
   ]
  },
  {
   "cell_type": "markdown",
   "id": "5917758c-b36d-4765-9942-b1ab06c4a14d",
   "metadata": {},
   "source": [
    "### **4.0 读取数据到DataFrame**"
   ]
  },
  {
   "cell_type": "code",
   "execution_count": 3,
   "id": "56095243-d375-4cb2-a526-189b00d7c526",
   "metadata": {
    "tags": []
   },
   "outputs": [],
   "source": [
    "df=pd.read_csv('gy202302.csv')"
   ]
  },
  {
   "cell_type": "code",
   "execution_count": 5,
   "id": "77a26414-3219-46b0-b9e1-71c1864d0444",
   "metadata": {
    "collapsed": true,
    "jupyter": {
     "outputs_hidden": true
    },
    "tags": []
   },
   "outputs": [
    {
     "data": {
      "text/html": [
       "<div>\n",
       "<style scoped>\n",
       "    .dataframe tbody tr th:only-of-type {\n",
       "        vertical-align: middle;\n",
       "    }\n",
       "\n",
       "    .dataframe tbody tr th {\n",
       "        vertical-align: top;\n",
       "    }\n",
       "\n",
       "    .dataframe thead th {\n",
       "        text-align: right;\n",
       "    }\n",
       "</style>\n",
       "<table border=\"1\" class=\"dataframe\">\n",
       "  <thead>\n",
       "    <tr style=\"text-align: right;\">\n",
       "      <th></th>\n",
       "      <th>NF</th>\n",
       "      <th>YF</th>\n",
       "      <th>A01</th>\n",
       "      <th>H02</th>\n",
       "      <th>N2000_1</th>\n",
       "      <th>N2000_2</th>\n",
       "      <th>N2000_3</th>\n",
       "      <th>N2000_4</th>\n",
       "      <th>N4000_1</th>\n",
       "      <th>N4000_2</th>\n",
       "      <th>...</th>\n",
       "      <th>A341</th>\n",
       "      <th>A342</th>\n",
       "      <th>A343</th>\n",
       "      <th>B93</th>\n",
       "      <th>DZX</th>\n",
       "      <th>A07_2017</th>\n",
       "      <th>A14</th>\n",
       "      <th>N2000_2_KBJ</th>\n",
       "      <th>N2000_2_TB</th>\n",
       "      <th>N2000_1_KBJ</th>\n",
       "    </tr>\n",
       "  </thead>\n",
       "  <tbody>\n",
       "    <tr>\n",
       "      <th>0</th>\n",
       "      <td>2023</td>\n",
       "      <td>2</td>\n",
       "      <td>057686533</td>\n",
       "      <td>上海欣禄包装制品有限公司</td>\n",
       "      <td>3554</td>\n",
       "      <td>7542</td>\n",
       "      <td>3376</td>\n",
       "      <td>6179</td>\n",
       "      <td>3554</td>\n",
       "      <td>7542</td>\n",
       "      <td>...</td>\n",
       "      <td>0</td>\n",
       "      <td>0</td>\n",
       "      <td>0</td>\n",
       "      <td>501</td>\n",
       "      <td>3</td>\n",
       "      <td>2231</td>\n",
       "      <td>1</td>\n",
       "      <td>7618.18</td>\n",
       "      <td>7618.18</td>\n",
       "      <td>3589.90</td>\n",
       "    </tr>\n",
       "    <tr>\n",
       "      <th>1</th>\n",
       "      <td>2023</td>\n",
       "      <td>2</td>\n",
       "      <td>059324579</td>\n",
       "      <td>上海弘干机械制造有限公司</td>\n",
       "      <td>4109</td>\n",
       "      <td>7425</td>\n",
       "      <td>2335</td>\n",
       "      <td>5418</td>\n",
       "      <td>4109</td>\n",
       "      <td>7425</td>\n",
       "      <td>...</td>\n",
       "      <td>0</td>\n",
       "      <td>0</td>\n",
       "      <td>0</td>\n",
       "      <td>502</td>\n",
       "      <td>3</td>\n",
       "      <td>3311</td>\n",
       "      <td>1</td>\n",
       "      <td>7702.28</td>\n",
       "      <td>7702.28</td>\n",
       "      <td>4262.45</td>\n",
       "    </tr>\n",
       "    <tr>\n",
       "      <th>2</th>\n",
       "      <td>2023</td>\n",
       "      <td>2</td>\n",
       "      <td>060907093</td>\n",
       "      <td>上海图正信息科技股份有限公司</td>\n",
       "      <td>200</td>\n",
       "      <td>200</td>\n",
       "      <td>185</td>\n",
       "      <td>185</td>\n",
       "      <td>200</td>\n",
       "      <td>200</td>\n",
       "      <td>...</td>\n",
       "      <td>0</td>\n",
       "      <td>0</td>\n",
       "      <td>0</td>\n",
       "      <td>502</td>\n",
       "      <td>3</td>\n",
       "      <td>3983</td>\n",
       "      <td>1</td>\n",
       "      <td>201.01</td>\n",
       "      <td>201.01</td>\n",
       "      <td>201.01</td>\n",
       "    </tr>\n",
       "    <tr>\n",
       "      <th>3</th>\n",
       "      <td>2023</td>\n",
       "      <td>2</td>\n",
       "      <td>060946834</td>\n",
       "      <td>上海东富龙拓溥科技有限公司</td>\n",
       "      <td>84318</td>\n",
       "      <td>90495</td>\n",
       "      <td>29460</td>\n",
       "      <td>54482</td>\n",
       "      <td>5754</td>\n",
       "      <td>8837</td>\n",
       "      <td>...</td>\n",
       "      <td>230105</td>\n",
       "      <td>0</td>\n",
       "      <td>0</td>\n",
       "      <td>502</td>\n",
       "      <td>3</td>\n",
       "      <td>3544</td>\n",
       "      <td>1</td>\n",
       "      <td>90314.37</td>\n",
       "      <td>90314.37</td>\n",
       "      <td>84149.70</td>\n",
       "    </tr>\n",
       "    <tr>\n",
       "      <th>4</th>\n",
       "      <td>2023</td>\n",
       "      <td>2</td>\n",
       "      <td>062523851</td>\n",
       "      <td>上海海的实业有限公司</td>\n",
       "      <td>3309</td>\n",
       "      <td>6753</td>\n",
       "      <td>8019</td>\n",
       "      <td>20177</td>\n",
       "      <td>3167</td>\n",
       "      <td>8092</td>\n",
       "      <td>...</td>\n",
       "      <td>0</td>\n",
       "      <td>0</td>\n",
       "      <td>0</td>\n",
       "      <td>502</td>\n",
       "      <td>3</td>\n",
       "      <td>3312</td>\n",
       "      <td>1</td>\n",
       "      <td>7005.19</td>\n",
       "      <td>7005.19</td>\n",
       "      <td>3432.57</td>\n",
       "    </tr>\n",
       "  </tbody>\n",
       "</table>\n",
       "<p>5 rows × 33 columns</p>\n",
       "</div>"
      ],
      "text/plain": [
       "     NF  YF        A01             H02  N2000_1  N2000_2  N2000_3  N2000_4  \\\n",
       "0  2023   2  057686533    上海欣禄包装制品有限公司     3554     7542     3376     6179   \n",
       "1  2023   2  059324579    上海弘干机械制造有限公司     4109     7425     2335     5418   \n",
       "2  2023   2  060907093  上海图正信息科技股份有限公司      200      200      185      185   \n",
       "3  2023   2  060946834   上海东富龙拓溥科技有限公司    84318    90495    29460    54482   \n",
       "4  2023   2  062523851      上海海的实业有限公司     3309     6753     8019    20177   \n",
       "\n",
       "   N4000_1  N4000_2  ...    A341  A342  A343  B93  DZX  A07_2017  A14  \\\n",
       "0     3554     7542  ...       0     0     0  501    3      2231    1   \n",
       "1     4109     7425  ...       0     0     0  502    3      3311    1   \n",
       "2      200      200  ...       0     0     0  502    3      3983    1   \n",
       "3     5754     8837  ...  230105     0     0  502    3      3544    1   \n",
       "4     3167     8092  ...       0     0     0  502    3      3312    1   \n",
       "\n",
       "   N2000_2_KBJ  N2000_2_TB  N2000_1_KBJ  \n",
       "0      7618.18     7618.18      3589.90  \n",
       "1      7702.28     7702.28      4262.45  \n",
       "2       201.01      201.01       201.01  \n",
       "3     90314.37    90314.37     84149.70  \n",
       "4      7005.19     7005.19      3432.57  \n",
       "\n",
       "[5 rows x 33 columns]"
      ]
     },
     "execution_count": 5,
     "metadata": {},
     "output_type": "execute_result"
    }
   ],
   "source": [
    "df.head()"
   ]
  },
  {
   "cell_type": "code",
   "execution_count": 5,
   "id": "61906cb2-e3aa-4c03-9b2d-8b3b137655d2",
   "metadata": {
    "collapsed": true,
    "jupyter": {
     "outputs_hidden": true
    },
    "tags": []
   },
   "outputs": [
    {
     "data": {
      "text/plain": [
       "NF               int64\n",
       "YF               int64\n",
       "A01             object\n",
       "H02             object\n",
       "N2000_1          int64\n",
       "N2000_2          int64\n",
       "N2000_3          int64\n",
       "N2000_4          int64\n",
       "N4000_1          int64\n",
       "N4000_2          int64\n",
       "N4000_3          int64\n",
       "N4000_4          int64\n",
       "N4090_1          int64\n",
       "N4090_2          int64\n",
       "N4090_3          int64\n",
       "N4090_4        float64\n",
       "A052             int64\n",
       "A18              int64\n",
       "A19              int64\n",
       "A09              int64\n",
       "LEV              int64\n",
       "A10             object\n",
       "A340           float64\n",
       "A341             int64\n",
       "A342             int64\n",
       "A343             int64\n",
       "B93              int64\n",
       "DZX              int64\n",
       "A07_2017         int64\n",
       "A14              int64\n",
       "N2000_2_KBJ    float64\n",
       "N2000_2_TB     float64\n",
       "N2000_1_KBJ    float64\n",
       "dtype: object"
      ]
     },
     "execution_count": 5,
     "metadata": {},
     "output_type": "execute_result"
    }
   ],
   "source": [
    "df.dtypes"
   ]
  },
  {
   "cell_type": "markdown",
   "id": "70bff1d9-e0c5-4f16-932b-ebae7476b1ac",
   "metadata": {},
   "source": [
    "### **4.1 直接赋值的方法**"
   ]
  },
  {
   "cell_type": "markdown",
   "id": "ef9eecb9-a1f6-45b4-b68a-ed8304131755",
   "metadata": {},
   "source": [
    "**例1：将字段'DZX'由int64转为‘object‘**"
   ]
  },
  {
   "cell_type": "code",
   "execution_count": 4,
   "id": "9e5eeea3-70c6-422d-993e-34812be72a26",
   "metadata": {
    "tags": []
   },
   "outputs": [],
   "source": [
    "df.loc[:,'DZX']=df['DZX'].astype('object')   #df['DZX']是一个Series，所以这里的运算是对Series的运算，df.loc[:,'DZX']也是Series"
   ]
  },
  {
   "cell_type": "code",
   "execution_count": 7,
   "id": "70fe2bf4-2cd5-4173-9735-ec3708e556c4",
   "metadata": {
    "collapsed": true,
    "jupyter": {
     "outputs_hidden": true
    },
    "tags": []
   },
   "outputs": [
    {
     "data": {
      "text/plain": [
       "NF               int64\n",
       "YF               int64\n",
       "A01             object\n",
       "H02             object\n",
       "N2000_1          int64\n",
       "N2000_2          int64\n",
       "N2000_3          int64\n",
       "N2000_4          int64\n",
       "N4000_1          int64\n",
       "N4000_2          int64\n",
       "N4000_3          int64\n",
       "N4000_4          int64\n",
       "N4090_1          int64\n",
       "N4090_2          int64\n",
       "N4090_3          int64\n",
       "N4090_4        float64\n",
       "A052             int64\n",
       "A18              int64\n",
       "A19              int64\n",
       "A09              int64\n",
       "LEV              int64\n",
       "A10             object\n",
       "A340           float64\n",
       "A341             int64\n",
       "A342             int64\n",
       "A343             int64\n",
       "B93              int64\n",
       "DZX             object\n",
       "A07_2017         int64\n",
       "A14              int64\n",
       "N2000_2_KBJ    float64\n",
       "N2000_2_TB     float64\n",
       "N2000_1_KBJ    float64\n",
       "dtype: object"
      ]
     },
     "execution_count": 7,
     "metadata": {},
     "output_type": "execute_result"
    }
   ],
   "source": [
    "df.dtypes"
   ]
  },
  {
   "cell_type": "markdown",
   "id": "334ebc4f-127c-4ea1-b5d7-5c2923b060dd",
   "metadata": {},
   "source": [
    "### **4.1 直接赋值的方法**"
   ]
  },
  {
   "cell_type": "markdown",
   "id": "ee7ca80a-87b9-4122-b335-a2fe966c4093",
   "metadata": {},
   "source": [
    "### **4.1 直接赋值的方法**"
   ]
  },
  {
   "cell_type": "markdown",
   "id": "46339dad-5203-4384-a48b-76958d78c460",
   "metadata": {},
   "source": [
    "**例2：计算增幅**"
   ]
  },
  {
   "cell_type": "code",
   "execution_count": 5,
   "id": "2512ea80-be74-445f-96fb-7ed7542a8e24",
   "metadata": {
    "tags": []
   },
   "outputs": [],
   "source": [
    "df.loc[:,'LJZF'] = (df['N2000_2']/df['N2000_4']-1)*100   #求增幅，这里使用的Series的直接运算！！！\n",
    "                                                         #两个运算的Series必须具有相同的索引，这里两个索引来自同一个DataFrame，所以他们的索引是自然\n",
    "                                                         #相同的"
   ]
  },
  {
   "cell_type": "code",
   "execution_count": 7,
   "id": "61bafb57-b210-4fd8-bdfc-877036fedbe0",
   "metadata": {
    "tags": []
   },
   "outputs": [
    {
     "data": {
      "text/html": [
       "<div>\n",
       "<style scoped>\n",
       "    .dataframe tbody tr th:only-of-type {\n",
       "        vertical-align: middle;\n",
       "    }\n",
       "\n",
       "    .dataframe tbody tr th {\n",
       "        vertical-align: top;\n",
       "    }\n",
       "\n",
       "    .dataframe thead th {\n",
       "        text-align: right;\n",
       "    }\n",
       "</style>\n",
       "<table border=\"1\" class=\"dataframe\">\n",
       "  <thead>\n",
       "    <tr style=\"text-align: right;\">\n",
       "      <th></th>\n",
       "      <th>H02</th>\n",
       "      <th>LJZF</th>\n",
       "    </tr>\n",
       "  </thead>\n",
       "  <tbody>\n",
       "    <tr>\n",
       "      <th>0</th>\n",
       "      <td>上海欣禄包装制品有限公司</td>\n",
       "      <td>22.058586</td>\n",
       "    </tr>\n",
       "    <tr>\n",
       "      <th>1</th>\n",
       "      <td>上海弘干机械制造有限公司</td>\n",
       "      <td>37.043189</td>\n",
       "    </tr>\n",
       "    <tr>\n",
       "      <th>2</th>\n",
       "      <td>上海图正信息科技股份有限公司</td>\n",
       "      <td>8.108108</td>\n",
       "    </tr>\n",
       "    <tr>\n",
       "      <th>3</th>\n",
       "      <td>上海东富龙拓溥科技有限公司</td>\n",
       "      <td>66.100731</td>\n",
       "    </tr>\n",
       "  </tbody>\n",
       "</table>\n",
       "</div>"
      ],
      "text/plain": [
       "              H02       LJZF\n",
       "0    上海欣禄包装制品有限公司  22.058586\n",
       "1    上海弘干机械制造有限公司  37.043189\n",
       "2  上海图正信息科技股份有限公司   8.108108\n",
       "3   上海东富龙拓溥科技有限公司  66.100731"
      ]
     },
     "execution_count": 7,
     "metadata": {},
     "output_type": "execute_result"
    }
   ],
   "source": [
    "df.loc[0:3,['H02','LJZF']]"
   ]
  },
  {
   "cell_type": "code",
   "execution_count": 12,
   "id": "7884347b-8699-421d-a84a-ede7b17182d8",
   "metadata": {
    "collapsed": true,
    "jupyter": {
     "outputs_hidden": true
    },
    "tags": []
   },
   "outputs": [
    {
     "data": {
      "text/plain": [
       "NF               int64\n",
       "YF               int64\n",
       "A01             object\n",
       "H02             object\n",
       "N2000_1          int64\n",
       "N2000_2          int64\n",
       "N2000_3          int64\n",
       "N2000_4          int64\n",
       "N4000_1          int64\n",
       "N4000_2          int64\n",
       "N4000_3          int64\n",
       "N4000_4          int64\n",
       "N4090_1          int64\n",
       "N4090_2          int64\n",
       "N4090_3          int64\n",
       "N4090_4        float64\n",
       "A052             int64\n",
       "A18              int64\n",
       "A19              int64\n",
       "A09              int64\n",
       "LEV              int64\n",
       "A10             object\n",
       "A340           float64\n",
       "A341             int64\n",
       "A342             int64\n",
       "A343             int64\n",
       "B93              int64\n",
       "DZX             object\n",
       "A07_2017         int64\n",
       "A14              int64\n",
       "N2000_2_KBJ    float64\n",
       "N2000_2_TB     float64\n",
       "N2000_1_KBJ    float64\n",
       "LJZF           float64\n",
       "dtype: object"
      ]
     },
     "execution_count": 12,
     "metadata": {},
     "output_type": "execute_result"
    }
   ],
   "source": [
    "df.dtypes"
   ]
  },
  {
   "cell_type": "markdown",
   "id": "98bbc6fb-646e-47b2-9209-3238533e110c",
   "metadata": {},
   "source": [
    "### **4.2 df.apply方法**"
   ]
  },
  {
   "cell_type": "markdown",
   "id": "73b6bda4-ca0b-43a4-bf18-0192bde8493a",
   "metadata": {},
   "source": [
    "**官方文档：**  \n",
    "\n",
    "Apply a function along an axis of the DataFrame.\n",
    "\n",
    "Objects passed to the function are Series objects whose index is either the DataFrame’s index (axis=0) or the DataFrame’s columns (axis=1). By default (result_type=None), the final return type is inferred from the return type of the applied function. Otherwise, it depends on the result_type argument.\n",
    "\n",
    "**译文：**  \n",
    "\n",
    "沿DataFrame的轴应用函数。\n",
    "\n",
    "**传递给函数的对象是Series对象，** 其索引为 DataFrame 的索引 **（轴=0）** 或 DataFrame的列 **（轴=1）**。默认情况下（result_type=None），最终返回类型是根据应用函数的返回类型推断出来的。否则，它取决于result_type参数。"
   ]
  },
  {
   "cell_type": "markdown",
   "id": "b3093241-e124-4dfa-b7d2-c4ca6bf3067d",
   "metadata": {},
   "source": [
    "**增加一列，增长类型(zzlx)**  \n",
    "-        累计增幅(LJZF) >= 20  高速增长  \n",
    "-   20 < 累计增幅(LJZF) >= 0   平稳增长  \n",
    "-    0 < 累计增幅(LJZF) >=-10  小幅下降  \n",
    "-  -10 < 累计增幅(LJZF)        快速下降  \n"
   ]
  },
  {
   "cell_type": "code",
   "execution_count": 8,
   "id": "1814030e-572f-4dbf-9bac-404a90c1c144",
   "metadata": {
    "tags": []
   },
   "outputs": [],
   "source": [
    "#定义一个函数，根据累计增速，求的增长类型\n",
    "def get_growth_type(x):\n",
    "    if x['LJZF']>=20:\n",
    "        return '高速增长'\n",
    "    if x['LJZF']>=0 and x['LJZF']<20:\n",
    "        return '平稳增长'\n",
    "    if x['LJZF']>=-10 and x['LJZF']<0:\n",
    "        return '小幅下降'\n",
    "    if x['LJZF']<-10:\n",
    "        return '快速下降'\n",
    "    return '未知类型'\n",
    "df.loc[:,'ZZLX']=df.apply(get_growth_type,axis=1)  #这里是增加一列，怎么增加一行？？？"
   ]
  },
  {
   "cell_type": "code",
   "execution_count": 9,
   "id": "4cc8acbd-d251-48be-8b8e-b2d1c825180c",
   "metadata": {
    "tags": []
   },
   "outputs": [
    {
     "data": {
      "text/html": [
       "<div>\n",
       "<style scoped>\n",
       "    .dataframe tbody tr th:only-of-type {\n",
       "        vertical-align: middle;\n",
       "    }\n",
       "\n",
       "    .dataframe tbody tr th {\n",
       "        vertical-align: top;\n",
       "    }\n",
       "\n",
       "    .dataframe thead th {\n",
       "        text-align: right;\n",
       "    }\n",
       "</style>\n",
       "<table border=\"1\" class=\"dataframe\">\n",
       "  <thead>\n",
       "    <tr style=\"text-align: right;\">\n",
       "      <th></th>\n",
       "      <th>H02</th>\n",
       "      <th>LJZF</th>\n",
       "      <th>ZZLX</th>\n",
       "    </tr>\n",
       "  </thead>\n",
       "  <tbody>\n",
       "    <tr>\n",
       "      <th>0</th>\n",
       "      <td>上海欣禄包装制品有限公司</td>\n",
       "      <td>22.058586</td>\n",
       "      <td>高速增长</td>\n",
       "    </tr>\n",
       "    <tr>\n",
       "      <th>1</th>\n",
       "      <td>上海弘干机械制造有限公司</td>\n",
       "      <td>37.043189</td>\n",
       "      <td>高速增长</td>\n",
       "    </tr>\n",
       "    <tr>\n",
       "      <th>2</th>\n",
       "      <td>上海图正信息科技股份有限公司</td>\n",
       "      <td>8.108108</td>\n",
       "      <td>平稳增长</td>\n",
       "    </tr>\n",
       "    <tr>\n",
       "      <th>3</th>\n",
       "      <td>上海东富龙拓溥科技有限公司</td>\n",
       "      <td>66.100731</td>\n",
       "      <td>高速增长</td>\n",
       "    </tr>\n",
       "    <tr>\n",
       "      <th>4</th>\n",
       "      <td>上海海的实业有限公司</td>\n",
       "      <td>-66.531199</td>\n",
       "      <td>快速下降</td>\n",
       "    </tr>\n",
       "    <tr>\n",
       "      <th>...</th>\n",
       "      <td>...</td>\n",
       "      <td>...</td>\n",
       "      <td>...</td>\n",
       "    </tr>\n",
       "    <tr>\n",
       "      <th>873</th>\n",
       "      <td>上海江崎格力高闵发食品有限公司</td>\n",
       "      <td>inf</td>\n",
       "      <td>高速增长</td>\n",
       "    </tr>\n",
       "    <tr>\n",
       "      <th>874</th>\n",
       "      <td>上海申电通轨道交通科技有限公司</td>\n",
       "      <td>inf</td>\n",
       "      <td>高速增长</td>\n",
       "    </tr>\n",
       "    <tr>\n",
       "      <th>875</th>\n",
       "      <td>上海闵行振华汽车配件有限公司</td>\n",
       "      <td>-67.556770</td>\n",
       "      <td>快速下降</td>\n",
       "    </tr>\n",
       "    <tr>\n",
       "      <th>876</th>\n",
       "      <td>上海汇盈鞋艺二厂</td>\n",
       "      <td>75.569177</td>\n",
       "      <td>高速增长</td>\n",
       "    </tr>\n",
       "    <tr>\n",
       "      <th>877</th>\n",
       "      <td>上海五星制帽有限公司</td>\n",
       "      <td>-44.931507</td>\n",
       "      <td>快速下降</td>\n",
       "    </tr>\n",
       "  </tbody>\n",
       "</table>\n",
       "<p>878 rows × 3 columns</p>\n",
       "</div>"
      ],
      "text/plain": [
       "                 H02       LJZF  ZZLX\n",
       "0       上海欣禄包装制品有限公司  22.058586  高速增长\n",
       "1       上海弘干机械制造有限公司  37.043189  高速增长\n",
       "2     上海图正信息科技股份有限公司   8.108108  平稳增长\n",
       "3      上海东富龙拓溥科技有限公司  66.100731  高速增长\n",
       "4         上海海的实业有限公司 -66.531199  快速下降\n",
       "..               ...        ...   ...\n",
       "873  上海江崎格力高闵发食品有限公司        inf  高速增长\n",
       "874  上海申电通轨道交通科技有限公司        inf  高速增长\n",
       "875   上海闵行振华汽车配件有限公司 -67.556770  快速下降\n",
       "876         上海汇盈鞋艺二厂  75.569177  高速增长\n",
       "877       上海五星制帽有限公司 -44.931507  快速下降\n",
       "\n",
       "[878 rows x 3 columns]"
      ]
     },
     "execution_count": 9,
     "metadata": {},
     "output_type": "execute_result"
    }
   ],
   "source": [
    "df[['H02','LJZF','ZZLX']]"
   ]
  },
  {
   "cell_type": "code",
   "execution_count": 10,
   "id": "61e88905-80a0-4d43-b997-d733ed478262",
   "metadata": {
    "tags": []
   },
   "outputs": [
    {
     "data": {
      "text/plain": [
       "快速下降    436\n",
       "高速增长    234\n",
       "平稳增长    110\n",
       "小幅下降     85\n",
       "未知类型     13\n",
       "Name: ZZLX, dtype: int64"
      ]
     },
     "execution_count": 10,
     "metadata": {},
     "output_type": "execute_result"
    }
   ],
   "source": [
    "df['ZZLX'].value_counts()"
   ]
  },
  {
   "cell_type": "code",
   "execution_count": null,
   "id": "2a507b32-fe61-4a0d-85a1-ed256f74d302",
   "metadata": {},
   "outputs": [],
   "source": []
  },
  {
   "cell_type": "code",
   "execution_count": 11,
   "id": "94e04b61-ed13-4522-9288-5e053041cd1e",
   "metadata": {
    "tags": []
   },
   "outputs": [
    {
     "data": {
      "text/html": [
       "<div>\n",
       "<style scoped>\n",
       "    .dataframe tbody tr th:only-of-type {\n",
       "        vertical-align: middle;\n",
       "    }\n",
       "\n",
       "    .dataframe tbody tr th {\n",
       "        vertical-align: top;\n",
       "    }\n",
       "\n",
       "    .dataframe thead th {\n",
       "        text-align: right;\n",
       "    }\n",
       "</style>\n",
       "<table border=\"1\" class=\"dataframe\">\n",
       "  <thead>\n",
       "    <tr style=\"text-align: right;\">\n",
       "      <th></th>\n",
       "      <th>H02</th>\n",
       "      <th>LJZF</th>\n",
       "      <th>ZZLX</th>\n",
       "    </tr>\n",
       "  </thead>\n",
       "  <tbody>\n",
       "    <tr>\n",
       "      <th>0</th>\n",
       "      <td>上海欣禄包装制品有限公司</td>\n",
       "      <td>22.058586</td>\n",
       "      <td>高速增长</td>\n",
       "    </tr>\n",
       "    <tr>\n",
       "      <th>1</th>\n",
       "      <td>上海弘干机械制造有限公司</td>\n",
       "      <td>37.043189</td>\n",
       "      <td>高速增长</td>\n",
       "    </tr>\n",
       "    <tr>\n",
       "      <th>2</th>\n",
       "      <td>上海图正信息科技股份有限公司</td>\n",
       "      <td>8.108108</td>\n",
       "      <td>平稳增长</td>\n",
       "    </tr>\n",
       "    <tr>\n",
       "      <th>3</th>\n",
       "      <td>上海东富龙拓溥科技有限公司</td>\n",
       "      <td>66.100731</td>\n",
       "      <td>高速增长</td>\n",
       "    </tr>\n",
       "    <tr>\n",
       "      <th>4</th>\n",
       "      <td>上海海的实业有限公司</td>\n",
       "      <td>-66.531199</td>\n",
       "      <td>快速下降</td>\n",
       "    </tr>\n",
       "    <tr>\n",
       "      <th>5</th>\n",
       "      <td>美登思电气（上海）有限公司</td>\n",
       "      <td>45.087653</td>\n",
       "      <td>高速增长</td>\n",
       "    </tr>\n",
       "  </tbody>\n",
       "</table>\n",
       "</div>"
      ],
      "text/plain": [
       "              H02       LJZF  ZZLX\n",
       "0    上海欣禄包装制品有限公司  22.058586  高速增长\n",
       "1    上海弘干机械制造有限公司  37.043189  高速增长\n",
       "2  上海图正信息科技股份有限公司   8.108108  平稳增长\n",
       "3   上海东富龙拓溥科技有限公司  66.100731  高速增长\n",
       "4      上海海的实业有限公司 -66.531199  快速下降\n",
       "5   美登思电气（上海）有限公司  45.087653  高速增长"
      ]
     },
     "execution_count": 11,
     "metadata": {},
     "output_type": "execute_result"
    }
   ],
   "source": [
    "df.loc[0:5,['H02','LJZF','ZZLX']]"
   ]
  },
  {
   "cell_type": "code",
   "execution_count": null,
   "id": "b944a93a-e64b-4a61-b670-c87b3de93951",
   "metadata": {
    "tags": []
   },
   "outputs": [],
   "source": []
  },
  {
   "cell_type": "markdown",
   "id": "f3ff8d88-9126-49e4-bcc5-c26bf3f7c0c3",
   "metadata": {
    "tags": []
   },
   "source": [
    "### **4.3 df.assign方法**"
   ]
  },
  {
   "cell_type": "markdown",
   "id": "6b39bd99-02ca-41eb-a2ee-6332d9095820",
   "metadata": {},
   "source": [
    "此方法与apply方法类此，区别是：  \n",
    "- 一次可以添加多列\n",
    "- 只能添加列，所以不需要设置axis参数\n",
    "- 不会修改df本身，它返回以下包含了新增列的新对象"
   ]
  },
  {
   "cell_type": "markdown",
   "id": "f92f341a-0ab9-42f9-b972-08bc95e65e71",
   "metadata": {},
   "source": [
    "例如：  \n",
    "```\n",
    "df.assign(\n",
    "    field1=fun1,\n",
    "    field2=fun2'\n",
    "    ...\n",
    "    fieldn=funn\n",
    ")\n",
    "```\n"
   ]
  },
  {
   "cell_type": "code",
   "execution_count": 12,
   "id": "a1f6a890-0758-4bb7-a3b2-f48e8fffb424",
   "metadata": {},
   "outputs": [],
   "source": [
    "#增加当月同比增量（dy_zl）和 累积同比增量（lj_zl）两列\n",
    "def dyzl(x):\n",
    "    return x['N2000_1']-x['N2000_3']\n",
    "\n",
    "def ljzl(x):\n",
    "    return x['N2000_2']-x['N2000_4']\n",
    "\n",
    "df2=df.assign(DY_ZL = dyzl,\n",
    "          LJ_ZL = ljzl\n",
    "         )"
   ]
  },
  {
   "cell_type": "code",
   "execution_count": 23,
   "id": "3fd8ea7d-7433-4a9b-88be-47146eb3b12a",
   "metadata": {},
   "outputs": [
    {
     "data": {
      "text/html": [
       "<div>\n",
       "<style scoped>\n",
       "    .dataframe tbody tr th:only-of-type {\n",
       "        vertical-align: middle;\n",
       "    }\n",
       "\n",
       "    .dataframe tbody tr th {\n",
       "        vertical-align: top;\n",
       "    }\n",
       "\n",
       "    .dataframe thead th {\n",
       "        text-align: right;\n",
       "    }\n",
       "</style>\n",
       "<table border=\"1\" class=\"dataframe\">\n",
       "  <thead>\n",
       "    <tr style=\"text-align: right;\">\n",
       "      <th></th>\n",
       "      <th>H02</th>\n",
       "      <th>DY_ZL</th>\n",
       "      <th>LJ_ZL</th>\n",
       "    </tr>\n",
       "  </thead>\n",
       "  <tbody>\n",
       "    <tr>\n",
       "      <th>77</th>\n",
       "      <td>上海上药第一生化药业有限公司</td>\n",
       "      <td>240745</td>\n",
       "      <td>138927</td>\n",
       "    </tr>\n",
       "    <tr>\n",
       "      <th>161</th>\n",
       "      <td>上海三菱电梯有限公司</td>\n",
       "      <td>470010</td>\n",
       "      <td>-34898</td>\n",
       "    </tr>\n",
       "    <tr>\n",
       "      <th>241</th>\n",
       "      <td>大金空调（上海）有限公司</td>\n",
       "      <td>126545</td>\n",
       "      <td>-190655</td>\n",
       "    </tr>\n",
       "    <tr>\n",
       "      <th>351</th>\n",
       "      <td>上海米其林轮胎有限公司</td>\n",
       "      <td>109961</td>\n",
       "      <td>76690</td>\n",
       "    </tr>\n",
       "    <tr>\n",
       "      <th>363</th>\n",
       "      <td>东富龙科技集团股份有限公司</td>\n",
       "      <td>150430</td>\n",
       "      <td>30101</td>\n",
       "    </tr>\n",
       "    <tr>\n",
       "      <th>409</th>\n",
       "      <td>上海电气集团上海电机厂有限公司</td>\n",
       "      <td>119337</td>\n",
       "      <td>-10466</td>\n",
       "    </tr>\n",
       "    <tr>\n",
       "      <th>486</th>\n",
       "      <td>上海正帆科技股份有限公司</td>\n",
       "      <td>148971</td>\n",
       "      <td>256198</td>\n",
       "    </tr>\n",
       "    <tr>\n",
       "      <th>514</th>\n",
       "      <td>上海电气电站设备有限公司</td>\n",
       "      <td>147410</td>\n",
       "      <td>30377</td>\n",
       "    </tr>\n",
       "    <tr>\n",
       "      <th>738</th>\n",
       "      <td>上海剑桥科技股份有限公司</td>\n",
       "      <td>177068</td>\n",
       "      <td>290875</td>\n",
       "    </tr>\n",
       "  </tbody>\n",
       "</table>\n",
       "</div>"
      ],
      "text/plain": [
       "                 H02   DY_ZL   LJ_ZL\n",
       "77    上海上药第一生化药业有限公司  240745  138927\n",
       "161       上海三菱电梯有限公司  470010  -34898\n",
       "241     大金空调（上海）有限公司  126545 -190655\n",
       "351      上海米其林轮胎有限公司  109961   76690\n",
       "363    东富龙科技集团股份有限公司  150430   30101\n",
       "409  上海电气集团上海电机厂有限公司  119337  -10466\n",
       "486     上海正帆科技股份有限公司  148971  256198\n",
       "514     上海电气电站设备有限公司  147410   30377\n",
       "738     上海剑桥科技股份有限公司  177068  290875"
      ]
     },
     "execution_count": 23,
     "metadata": {},
     "output_type": "execute_result"
    }
   ],
   "source": [
    "df2.loc[df2['DY_ZL']>100000,['H02','DY_ZL','LJ_ZL']]"
   ]
  },
  {
   "cell_type": "code",
   "execution_count": null,
   "id": "9f99c7c3-6c4a-4f93-baca-8916a9f131e8",
   "metadata": {},
   "outputs": [],
   "source": []
  },
  {
   "cell_type": "markdown",
   "id": "666cc396-9d95-4979-bfce-6545b814c472",
   "metadata": {
    "tags": []
   },
   "source": [
    "### **4.4 建立空白新列，然后按条件选择分组分别赋值**"
   ]
  },
  {
   "cell_type": "code",
   "execution_count": 24,
   "id": "94c3752c-b85e-4c7f-b00b-192fc0b45ad3",
   "metadata": {},
   "outputs": [],
   "source": [
    "#先增加一个新列\n",
    "df2.loc[:,'NEWCOL']=''"
   ]
  },
  {
   "cell_type": "code",
   "execution_count": 33,
   "id": "c6fdedc7-1473-4dfb-b616-720d882dac9a",
   "metadata": {},
   "outputs": [],
   "source": [
    "#分条件给新列赋值\n",
    "df2.loc[df2['LJ_ZL']>100000,'NEWCOL']='异动'\n",
    "df2.loc[df2['LJ_ZL']<=100000,'NEWCOL']='平稳'"
   ]
  },
  {
   "cell_type": "code",
   "execution_count": 32,
   "id": "eeda69f1-ea88-41bf-b9fc-0f2c97ea3608",
   "metadata": {},
   "outputs": [
    {
     "data": {
      "text/plain": [
       "平稳    872\n",
       "异动      6\n",
       "Name: NEWCOL, dtype: int64"
      ]
     },
     "execution_count": 32,
     "metadata": {},
     "output_type": "execute_result"
    }
   ],
   "source": [
    "df2['NEWCOL'].value_counts()"
   ]
  },
  {
   "cell_type": "code",
   "execution_count": null,
   "id": "841418f4-b723-43a2-a355-3fc6b057e775",
   "metadata": {},
   "outputs": [],
   "source": []
  }
 ],
 "metadata": {
  "kernelspec": {
   "display_name": "Python 3 (ipykernel)",
   "language": "python",
   "name": "python3"
  },
  "language_info": {
   "codemirror_mode": {
    "name": "ipython",
    "version": 3
   },
   "file_extension": ".py",
   "mimetype": "text/x-python",
   "name": "python",
   "nbconvert_exporter": "python",
   "pygments_lexer": "ipython3",
   "version": "3.10.9"
  }
 },
 "nbformat": 4,
 "nbformat_minor": 5
}
