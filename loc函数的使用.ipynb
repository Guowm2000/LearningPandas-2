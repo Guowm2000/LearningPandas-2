{
 "cells": [
  {
   "cell_type": "markdown",
   "id": "5a92c157-d381-49bf-a04d-901d98c359f7",
   "metadata": {},
   "source": [
    "## loc函数的使用"
   ]
  },
  {
   "cell_type": "markdown",
   "id": "2dabe8ae-67ee-4c3c-8efa-d255976c6b89",
   "metadata": {},
   "source": [
    "### 1. 准备数据"
   ]
  },
  {
   "cell_type": "code",
   "execution_count": null,
   "id": "f3bf88cc-95a1-48e0-a1de-3479db20fcf8",
   "metadata": {},
   "outputs": [],
   "source": []
  }
 ],
 "metadata": {
  "kernelspec": {
   "display_name": "Python 3 (ipykernel)",
   "language": "python",
   "name": "python3"
  },
  "language_info": {
   "codemirror_mode": {
    "name": "ipython",
    "version": 3
   },
   "file_extension": ".py",
   "mimetype": "text/x-python",
   "name": "python",
   "nbconvert_exporter": "python",
   "pygments_lexer": "ipython3",
   "version": "3.9.9"
  }
 },
 "nbformat": 4,
 "nbformat_minor": 5
}
