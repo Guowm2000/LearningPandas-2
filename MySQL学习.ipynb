{
 "cells": [
  {
   "cell_type": "markdown",
   "id": "79b16f63-aeaa-4e58-91f2-20c7a1d60463",
   "metadata": {},
   "source": [
    "# **MySQL学习**"
   ]
  },
  {
   "cell_type": "markdown",
   "id": "23507d6c-e219-4502-b248-d9b473803484",
   "metadata": {},
   "source": [
    "## **1. 在本地安装MySQL**"
   ]
  },
  {
   "cell_type": "markdown",
   "id": "6eeb8647-d584-4788-a8cc-31e6ab45c7ce",
   "metadata": {
    "tags": []
   },
   "source": [
    "## **2. 为PyCharm安装DB Navigator**  \n",
    "pycharm的社区版本身是没有database的；只有专业版里面会直接出现右上角的database。那pycharm的社区版，也可以通过以下的操作，成功找到database。这边是需要自己安装这个database navigator这个插件：具体的操作步骤如下：\n",
    "1. 首先我这边也始终没有找到settings：解决方法如下：找到右下角，点击python，然后会冒出几个选项，我们点击第二个选项interpreter settings就可以了\n",
    "2. 选择plugins->marketplace->搜索database->选择Database Navigator插件->下载->ok\n",
    "3. 重启Pycharm,点击view->Tool Windows->DB Browser[若存在这个选项，则说明以上操作均正确]\n",
    "4. 这个时候，我们就可以进行操作数据库了"
   ]
  },
  {
   "cell_type": "markdown",
   "id": "f34a9f7b-c2cc-489b-817e-9b51cbe383b9",
   "metadata": {},
   "source": []
  },
  {
   "cell_type": "markdown",
   "id": "cef383d0-96d3-425d-bd7b-d2d2c7c06990",
   "metadata": {},
   "source": [
    "## **3. 为Python安装pymysql包**\n",
    ">$pip3 install pymysql"
   ]
  },
  {
   "cell_type": "markdown",
   "id": "33409c02-b905-4647-a980-82ef13ab5c2a",
   "metadata": {},
   "source": [
    "## **4. 在PyCharm中交互式建立、查看、修改MySQL数据表**"
   ]
  },
  {
   "cell_type": "code",
   "execution_count": null,
   "id": "48841715-071c-4661-bee8-889193d452f6",
   "metadata": {},
   "outputs": [],
   "source": []
  }
 ],
 "metadata": {
  "kernelspec": {
   "display_name": "Python 3 (ipykernel)",
   "language": "python",
   "name": "python3"
  },
  "language_info": {
   "codemirror_mode": {
    "name": "ipython",
    "version": 3
   },
   "file_extension": ".py",
   "mimetype": "text/x-python",
   "name": "python",
   "nbconvert_exporter": "python",
   "pygments_lexer": "ipython3",
   "version": "3.9.9"
  }
 },
 "nbformat": 4,
 "nbformat_minor": 5
}
