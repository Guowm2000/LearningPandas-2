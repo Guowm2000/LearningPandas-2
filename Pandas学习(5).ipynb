{
 "cells": [
  {
   "cell_type": "markdown",
   "id": "8a7ac2fa-6f80-4e64-8dfa-e90b81a8ed02",
   "metadata": {},
   "source": [
    "## **17. Pandas的数据转换函数 map, apply, applymap**"
   ]
  },
  {
   "cell_type": "markdown",
   "id": "239a9455-df44-46a0-8dd3-1af738bb0135",
   "metadata": {},
   "source": [
    "### 数据转换函数对比："
   ]
  },
  {
   "cell_type": "markdown",
   "id": "f1bc54f1-dbd0-42a2-8a57-5f44c43a0471",
   "metadata": {},
   "source": [
    "- map: 只使用与Series,实现每个值-->值的映射\n",
    "- apply: 用于Series时，实现每个值的处理；用于DataFrame时，实现某个轴的Series的处理\n",
    "- applymap: 只能用于DataFrame,用于该DataFrame的每个值的处理（所有元素同时处理）"
   ]
  },
  {
   "cell_type": "markdown",
   "id": "2291a91b-1261-4a21-92b0-53c389db4586",
   "metadata": {
    "tags": []
   },
   "source": [
    "### **17.0 准备数据**"
   ]
  },
  {
   "cell_type": "code",
   "execution_count": 1,
   "id": "495267df-f855-4b31-aee0-132d753a09c1",
   "metadata": {
    "tags": []
   },
   "outputs": [],
   "source": [
    "import pandas as pd\n",
    "import numpy as np\n",
    "%matplotlib inline"
   ]
  },
  {
   "cell_type": "code",
   "execution_count": 2,
   "id": "c5cbf330-a555-437a-9b1d-5f3d6bb8cbe0",
   "metadata": {
    "tags": []
   },
   "outputs": [],
   "source": [
    "df000651=pd.read_csv('./stocks/000651.csv',dtype={'SaleOrderID':'object','BuyOrderID':'object'})\n",
    "df000651['Code']='000651'\n",
    "\n",
    "df601012=pd.read_csv('./stocks/601012.csv',dtype={'SaleOrderID':'object','BuyOrderID':'object'})\n",
    "df601012['Code']='601012'\n",
    "\n",
    "df601288=pd.read_csv('./stocks/601288.csv',dtype={'SaleOrderID':'object','BuyOrderID':'object'})\n",
    "df601288['Code']='601288'\n",
    "\n",
    "df601318=pd.read_csv('./stocks/601318.csv',dtype={'SaleOrderID':'object','BuyOrderID':'object'})\n",
    "df601318['Code']='601318'\n",
    "\n",
    "df=pd.concat([df000651,df601012,df601288,df601318])"
   ]
  },
  {
   "cell_type": "code",
   "execution_count": 3,
   "id": "5d752f25-8b4d-43d4-b731-972bba4e65c8",
   "metadata": {
    "tags": []
   },
   "outputs": [
    {
     "data": {
      "text/html": [
       "<div>\n",
       "<style scoped>\n",
       "    .dataframe tbody tr th:only-of-type {\n",
       "        vertical-align: middle;\n",
       "    }\n",
       "\n",
       "    .dataframe tbody tr th {\n",
       "        vertical-align: top;\n",
       "    }\n",
       "\n",
       "    .dataframe thead th {\n",
       "        text-align: right;\n",
       "    }\n",
       "</style>\n",
       "<table border=\"1\" class=\"dataframe\">\n",
       "  <thead>\n",
       "    <tr style=\"text-align: right;\">\n",
       "      <th></th>\n",
       "      <th>TranID</th>\n",
       "      <th>Time</th>\n",
       "      <th>Price</th>\n",
       "      <th>Volume</th>\n",
       "      <th>SaleOrderVolume</th>\n",
       "      <th>BuyOrderVolume</th>\n",
       "      <th>Type</th>\n",
       "      <th>SaleOrderID</th>\n",
       "      <th>SaleOrderPrice</th>\n",
       "      <th>BuyOrderID</th>\n",
       "      <th>BuyOrderPrice</th>\n",
       "      <th>Code</th>\n",
       "    </tr>\n",
       "  </thead>\n",
       "  <tbody>\n",
       "    <tr>\n",
       "      <th>0</th>\n",
       "      <td>1</td>\n",
       "      <td>09:25:00</td>\n",
       "      <td>59.10</td>\n",
       "      <td>400</td>\n",
       "      <td>400</td>\n",
       "      <td>1400</td>\n",
       "      <td>S</td>\n",
       "      <td>1</td>\n",
       "      <td>53.87</td>\n",
       "      <td>1</td>\n",
       "      <td>65.84</td>\n",
       "      <td>000651</td>\n",
       "    </tr>\n",
       "    <tr>\n",
       "      <th>1</th>\n",
       "      <td>2</td>\n",
       "      <td>09:25:00</td>\n",
       "      <td>59.10</td>\n",
       "      <td>300</td>\n",
       "      <td>300</td>\n",
       "      <td>1400</td>\n",
       "      <td>S</td>\n",
       "      <td>2</td>\n",
       "      <td>53.87</td>\n",
       "      <td>1</td>\n",
       "      <td>65.84</td>\n",
       "      <td>000651</td>\n",
       "    </tr>\n",
       "    <tr>\n",
       "      <th>2</th>\n",
       "      <td>3</td>\n",
       "      <td>09:25:00</td>\n",
       "      <td>59.10</td>\n",
       "      <td>200</td>\n",
       "      <td>200</td>\n",
       "      <td>1400</td>\n",
       "      <td>S</td>\n",
       "      <td>3</td>\n",
       "      <td>53.87</td>\n",
       "      <td>1</td>\n",
       "      <td>65.84</td>\n",
       "      <td>000651</td>\n",
       "    </tr>\n",
       "    <tr>\n",
       "      <th>3</th>\n",
       "      <td>4</td>\n",
       "      <td>09:25:00</td>\n",
       "      <td>59.10</td>\n",
       "      <td>200</td>\n",
       "      <td>200</td>\n",
       "      <td>1400</td>\n",
       "      <td>S</td>\n",
       "      <td>4</td>\n",
       "      <td>53.87</td>\n",
       "      <td>1</td>\n",
       "      <td>65.84</td>\n",
       "      <td>000651</td>\n",
       "    </tr>\n",
       "    <tr>\n",
       "      <th>4</th>\n",
       "      <td>5</td>\n",
       "      <td>09:25:00</td>\n",
       "      <td>59.10</td>\n",
       "      <td>300</td>\n",
       "      <td>5900</td>\n",
       "      <td>1400</td>\n",
       "      <td>S</td>\n",
       "      <td>5</td>\n",
       "      <td>53.87</td>\n",
       "      <td>1</td>\n",
       "      <td>65.84</td>\n",
       "      <td>000651</td>\n",
       "    </tr>\n",
       "    <tr>\n",
       "      <th>...</th>\n",
       "      <td>...</td>\n",
       "      <td>...</td>\n",
       "      <td>...</td>\n",
       "      <td>...</td>\n",
       "      <td>...</td>\n",
       "      <td>...</td>\n",
       "      <td>...</td>\n",
       "      <td>...</td>\n",
       "      <td>...</td>\n",
       "      <td>...</td>\n",
       "      <td>...</td>\n",
       "      <td>...</td>\n",
       "    </tr>\n",
       "    <tr>\n",
       "      <th>196762</th>\n",
       "      <td>196763</td>\n",
       "      <td>15:00:00</td>\n",
       "      <td>85.18</td>\n",
       "      <td>100</td>\n",
       "      <td>243258</td>\n",
       "      <td>100</td>\n",
       "      <td>S</td>\n",
       "      <td>8493946</td>\n",
       "      <td>85.18</td>\n",
       "      <td>8461234</td>\n",
       "      <td>85.18</td>\n",
       "      <td>601318</td>\n",
       "    </tr>\n",
       "    <tr>\n",
       "      <th>196763</th>\n",
       "      <td>196764</td>\n",
       "      <td>15:00:00</td>\n",
       "      <td>85.18</td>\n",
       "      <td>100</td>\n",
       "      <td>243258</td>\n",
       "      <td>100</td>\n",
       "      <td>S</td>\n",
       "      <td>8493946</td>\n",
       "      <td>85.18</td>\n",
       "      <td>8474391</td>\n",
       "      <td>85.18</td>\n",
       "      <td>601318</td>\n",
       "    </tr>\n",
       "    <tr>\n",
       "      <th>196764</th>\n",
       "      <td>196765</td>\n",
       "      <td>15:00:00</td>\n",
       "      <td>85.18</td>\n",
       "      <td>25500</td>\n",
       "      <td>243258</td>\n",
       "      <td>25500</td>\n",
       "      <td>S</td>\n",
       "      <td>8493946</td>\n",
       "      <td>85.18</td>\n",
       "      <td>8492769</td>\n",
       "      <td>85.18</td>\n",
       "      <td>601318</td>\n",
       "    </tr>\n",
       "    <tr>\n",
       "      <th>196765</th>\n",
       "      <td>196766</td>\n",
       "      <td>15:00:00</td>\n",
       "      <td>85.18</td>\n",
       "      <td>1000</td>\n",
       "      <td>262500</td>\n",
       "      <td>1000</td>\n",
       "      <td>B</td>\n",
       "      <td>8493946</td>\n",
       "      <td>85.18</td>\n",
       "      <td>8498955</td>\n",
       "      <td>85.18</td>\n",
       "      <td>601318</td>\n",
       "    </tr>\n",
       "    <tr>\n",
       "      <th>196766</th>\n",
       "      <td>196766</td>\n",
       "      <td>15:00:00</td>\n",
       "      <td>85.18</td>\n",
       "      <td>1000</td>\n",
       "      <td>262500</td>\n",
       "      <td>1000</td>\n",
       "      <td>B</td>\n",
       "      <td>8493946</td>\n",
       "      <td>85.18</td>\n",
       "      <td>8498955</td>\n",
       "      <td>85.18</td>\n",
       "      <td>601318</td>\n",
       "    </tr>\n",
       "  </tbody>\n",
       "</table>\n",
       "<p>534037 rows × 12 columns</p>\n",
       "</div>"
      ],
      "text/plain": [
       "        TranID      Time  Price  Volume  SaleOrderVolume  BuyOrderVolume Type  \\\n",
       "0            1  09:25:00  59.10     400              400            1400    S   \n",
       "1            2  09:25:00  59.10     300              300            1400    S   \n",
       "2            3  09:25:00  59.10     200              200            1400    S   \n",
       "3            4  09:25:00  59.10     200              200            1400    S   \n",
       "4            5  09:25:00  59.10     300             5900            1400    S   \n",
       "...        ...       ...    ...     ...              ...             ...  ...   \n",
       "196762  196763  15:00:00  85.18     100           243258             100    S   \n",
       "196763  196764  15:00:00  85.18     100           243258             100    S   \n",
       "196764  196765  15:00:00  85.18   25500           243258           25500    S   \n",
       "196765  196766  15:00:00  85.18    1000           262500            1000    B   \n",
       "196766  196766  15:00:00  85.18    1000           262500            1000    B   \n",
       "\n",
       "       SaleOrderID  SaleOrderPrice BuyOrderID  BuyOrderPrice    Code  \n",
       "0                1           53.87          1          65.84  000651  \n",
       "1                2           53.87          1          65.84  000651  \n",
       "2                3           53.87          1          65.84  000651  \n",
       "3                4           53.87          1          65.84  000651  \n",
       "4                5           53.87          1          65.84  000651  \n",
       "...            ...             ...        ...            ...     ...  \n",
       "196762     8493946           85.18    8461234          85.18  601318  \n",
       "196763     8493946           85.18    8474391          85.18  601318  \n",
       "196764     8493946           85.18    8492769          85.18  601318  \n",
       "196765     8493946           85.18    8498955          85.18  601318  \n",
       "196766     8493946           85.18    8498955          85.18  601318  \n",
       "\n",
       "[534037 rows x 12 columns]"
      ]
     },
     "execution_count": 3,
     "metadata": {},
     "output_type": "execute_result"
    }
   ],
   "source": [
    "df"
   ]
  },
  {
   "cell_type": "code",
   "execution_count": 4,
   "id": "eb0594ff-19cb-47fd-bfae-105efd2b07bb",
   "metadata": {
    "tags": []
   },
   "outputs": [
    {
     "data": {
      "text/plain": [
       "array(['000651', '601012', '601288', '601318'], dtype=object)"
      ]
     },
     "execution_count": 4,
     "metadata": {},
     "output_type": "execute_result"
    }
   ],
   "source": [
    "df['Code'].unique()"
   ]
  },
  {
   "cell_type": "markdown",
   "id": "c5e03995-c573-45e9-afbb-f0414d1c12ed",
   "metadata": {},
   "source": [
    "### **17.1 map用于Series值的处理**"
   ]
  },
  {
   "cell_type": "markdown",
   "id": "839a71e0-3657-4745-9cf0-34aa7efdae28",
   "metadata": {},
   "source": [
    "#### Series.map(dict)或者Series.map(fun)均可"
   ]
  },
  {
   "cell_type": "code",
   "execution_count": 5,
   "id": "29c3fe73-d800-49e2-9129-85e8e275656a",
   "metadata": {
    "tags": []
   },
   "outputs": [],
   "source": [
    "#将代码映射成中文\n",
    "dict_name={'000651':'格力电气', '601012':'隆基绿能', '601288':'农业银行', '601318':'中国平安'}"
   ]
  },
  {
   "cell_type": "markdown",
   "id": "4c6f837f-fc44-4227-82e8-62a186258b3d",
   "metadata": {},
   "source": [
    "#### **方法1:Series.map(dict)**"
   ]
  },
  {
   "cell_type": "code",
   "execution_count": 11,
   "id": "2f98521d-0967-4b29-8107-20aa0bbc3f54",
   "metadata": {
    "tags": []
   },
   "outputs": [],
   "source": [
    "#以Code的值为key,返回字典的Value值\n",
    "df['Name1']=df['Code'].map(dict_name)"
   ]
  },
  {
   "cell_type": "code",
   "execution_count": 12,
   "id": "e284082c-2f90-495c-8ff5-af7871d1b009",
   "metadata": {
    "tags": []
   },
   "outputs": [
    {
     "data": {
      "text/html": [
       "<div>\n",
       "<style scoped>\n",
       "    .dataframe tbody tr th:only-of-type {\n",
       "        vertical-align: middle;\n",
       "    }\n",
       "\n",
       "    .dataframe tbody tr th {\n",
       "        vertical-align: top;\n",
       "    }\n",
       "\n",
       "    .dataframe thead th {\n",
       "        text-align: right;\n",
       "    }\n",
       "</style>\n",
       "<table border=\"1\" class=\"dataframe\">\n",
       "  <thead>\n",
       "    <tr style=\"text-align: right;\">\n",
       "      <th></th>\n",
       "      <th>TranID</th>\n",
       "      <th>Time</th>\n",
       "      <th>Price</th>\n",
       "      <th>Volume</th>\n",
       "      <th>SaleOrderVolume</th>\n",
       "      <th>BuyOrderVolume</th>\n",
       "      <th>Type</th>\n",
       "      <th>SaleOrderID</th>\n",
       "      <th>SaleOrderPrice</th>\n",
       "      <th>BuyOrderID</th>\n",
       "      <th>BuyOrderPrice</th>\n",
       "      <th>Code</th>\n",
       "      <th>Name1</th>\n",
       "    </tr>\n",
       "  </thead>\n",
       "  <tbody>\n",
       "    <tr>\n",
       "      <th>0</th>\n",
       "      <td>1</td>\n",
       "      <td>09:25:00</td>\n",
       "      <td>59.1</td>\n",
       "      <td>400</td>\n",
       "      <td>400</td>\n",
       "      <td>1400</td>\n",
       "      <td>S</td>\n",
       "      <td>1</td>\n",
       "      <td>53.87</td>\n",
       "      <td>1</td>\n",
       "      <td>65.84</td>\n",
       "      <td>000651</td>\n",
       "      <td>格力电气</td>\n",
       "    </tr>\n",
       "  </tbody>\n",
       "</table>\n",
       "</div>"
      ],
      "text/plain": [
       "   TranID      Time  Price  Volume  SaleOrderVolume  BuyOrderVolume Type  \\\n",
       "0       1  09:25:00   59.1     400              400            1400    S   \n",
       "\n",
       "  SaleOrderID  SaleOrderPrice BuyOrderID  BuyOrderPrice    Code Name1  \n",
       "0           1           53.87          1          65.84  000651  格力电气  "
      ]
     },
     "execution_count": 12,
     "metadata": {},
     "output_type": "execute_result"
    }
   ],
   "source": [
    "df.head(1)"
   ]
  },
  {
   "cell_type": "markdown",
   "id": "14e9f118-cad1-44ca-8546-f53bab7798e1",
   "metadata": {},
   "source": [
    "#### **方法2：Series.map(fun)**\n",
    "**此时，fun的参数是Series的每个元素的值**"
   ]
  },
  {
   "cell_type": "code",
   "execution_count": 13,
   "id": "b891eb71-5af3-4e21-888b-734b8081a250",
   "metadata": {
    "tags": []
   },
   "outputs": [],
   "source": [
    "#使用lambda函数\n",
    "df['name2']=df['Code'].map(lambda x:dict_name[x])"
   ]
  },
  {
   "cell_type": "code",
   "execution_count": 14,
   "id": "7510ee54-3192-43e9-abdb-76f0ac2d9a47",
   "metadata": {
    "tags": []
   },
   "outputs": [
    {
     "data": {
      "text/html": [
       "<div>\n",
       "<style scoped>\n",
       "    .dataframe tbody tr th:only-of-type {\n",
       "        vertical-align: middle;\n",
       "    }\n",
       "\n",
       "    .dataframe tbody tr th {\n",
       "        vertical-align: top;\n",
       "    }\n",
       "\n",
       "    .dataframe thead th {\n",
       "        text-align: right;\n",
       "    }\n",
       "</style>\n",
       "<table border=\"1\" class=\"dataframe\">\n",
       "  <thead>\n",
       "    <tr style=\"text-align: right;\">\n",
       "      <th></th>\n",
       "      <th>TranID</th>\n",
       "      <th>Time</th>\n",
       "      <th>Price</th>\n",
       "      <th>Volume</th>\n",
       "      <th>SaleOrderVolume</th>\n",
       "      <th>BuyOrderVolume</th>\n",
       "      <th>Type</th>\n",
       "      <th>SaleOrderID</th>\n",
       "      <th>SaleOrderPrice</th>\n",
       "      <th>BuyOrderID</th>\n",
       "      <th>BuyOrderPrice</th>\n",
       "      <th>Code</th>\n",
       "      <th>Name1</th>\n",
       "      <th>name2</th>\n",
       "    </tr>\n",
       "  </thead>\n",
       "  <tbody>\n",
       "    <tr>\n",
       "      <th>0</th>\n",
       "      <td>1</td>\n",
       "      <td>09:25:00</td>\n",
       "      <td>59.1</td>\n",
       "      <td>400</td>\n",
       "      <td>400</td>\n",
       "      <td>1400</td>\n",
       "      <td>S</td>\n",
       "      <td>1</td>\n",
       "      <td>53.87</td>\n",
       "      <td>1</td>\n",
       "      <td>65.84</td>\n",
       "      <td>000651</td>\n",
       "      <td>格力电气</td>\n",
       "      <td>格力电气</td>\n",
       "    </tr>\n",
       "  </tbody>\n",
       "</table>\n",
       "</div>"
      ],
      "text/plain": [
       "   TranID      Time  Price  Volume  SaleOrderVolume  BuyOrderVolume Type  \\\n",
       "0       1  09:25:00   59.1     400              400            1400    S   \n",
       "\n",
       "  SaleOrderID  SaleOrderPrice BuyOrderID  BuyOrderPrice    Code Name1 name2  \n",
       "0           1           53.87          1          65.84  000651  格力电气  格力电气  "
      ]
     },
     "execution_count": 14,
     "metadata": {},
     "output_type": "execute_result"
    }
   ],
   "source": [
    "df.head(1)"
   ]
  },
  {
   "cell_type": "code",
   "execution_count": 17,
   "id": "c5abdf22-85bc-4ad7-8680-a5df1d2605ca",
   "metadata": {
    "tags": []
   },
   "outputs": [],
   "source": [
    "#使用一个自定义的标准函数。df['Code']是一个Series，函数fun1(x)的入口参数是这个Series的每个元素值\n",
    "def fun1(x):\n",
    "    return dict_name[x]+'**'\n",
    "df['name_fun1']=df['Code'].map(fun1)"
   ]
  },
  {
   "cell_type": "code",
   "execution_count": 18,
   "id": "342874b1-316e-4303-9fd3-1b7fc2b0a37e",
   "metadata": {
    "tags": []
   },
   "outputs": [
    {
     "data": {
      "text/html": [
       "<div>\n",
       "<style scoped>\n",
       "    .dataframe tbody tr th:only-of-type {\n",
       "        vertical-align: middle;\n",
       "    }\n",
       "\n",
       "    .dataframe tbody tr th {\n",
       "        vertical-align: top;\n",
       "    }\n",
       "\n",
       "    .dataframe thead th {\n",
       "        text-align: right;\n",
       "    }\n",
       "</style>\n",
       "<table border=\"1\" class=\"dataframe\">\n",
       "  <thead>\n",
       "    <tr style=\"text-align: right;\">\n",
       "      <th></th>\n",
       "      <th>TranID</th>\n",
       "      <th>Time</th>\n",
       "      <th>Price</th>\n",
       "      <th>Volume</th>\n",
       "      <th>SaleOrderVolume</th>\n",
       "      <th>BuyOrderVolume</th>\n",
       "      <th>Type</th>\n",
       "      <th>SaleOrderID</th>\n",
       "      <th>SaleOrderPrice</th>\n",
       "      <th>BuyOrderID</th>\n",
       "      <th>BuyOrderPrice</th>\n",
       "      <th>Code</th>\n",
       "      <th>Name1</th>\n",
       "      <th>name2</th>\n",
       "      <th>name_fun1</th>\n",
       "    </tr>\n",
       "  </thead>\n",
       "  <tbody>\n",
       "    <tr>\n",
       "      <th>0</th>\n",
       "      <td>1</td>\n",
       "      <td>09:25:00</td>\n",
       "      <td>59.1</td>\n",
       "      <td>400</td>\n",
       "      <td>400</td>\n",
       "      <td>1400</td>\n",
       "      <td>S</td>\n",
       "      <td>1</td>\n",
       "      <td>53.87</td>\n",
       "      <td>1</td>\n",
       "      <td>65.84</td>\n",
       "      <td>000651</td>\n",
       "      <td>格力电气</td>\n",
       "      <td>格力电气</td>\n",
       "      <td>格力电气**</td>\n",
       "    </tr>\n",
       "  </tbody>\n",
       "</table>\n",
       "</div>"
      ],
      "text/plain": [
       "   TranID      Time  Price  Volume  SaleOrderVolume  BuyOrderVolume Type  \\\n",
       "0       1  09:25:00   59.1     400              400            1400    S   \n",
       "\n",
       "  SaleOrderID  SaleOrderPrice BuyOrderID  BuyOrderPrice    Code Name1 name2  \\\n",
       "0           1           53.87          1          65.84  000651  格力电气  格力电气   \n",
       "\n",
       "  name_fun1  \n",
       "0    格力电气**  "
      ]
     },
     "execution_count": 18,
     "metadata": {},
     "output_type": "execute_result"
    }
   ],
   "source": [
    "df.head(1)"
   ]
  },
  {
   "cell_type": "markdown",
   "id": "de2e4f82-0d5d-41f7-b20a-f388205670ad",
   "metadata": {},
   "source": [
    "### **17.2 apply用于Series和DataFrame的转换**"
   ]
  },
  {
   "cell_type": "markdown",
   "id": "c5a813a5-a2f8-4042-afd3-71e585fcc328",
   "metadata": {},
   "source": [
    "#### **1. apply(function)只能使用fun作为参数，不能使用dict作为参数**\n",
    "#### **2. Series.apply(function),function的参数是Series的每个值**\n",
    "#### **3. DataFrame.apply(function),function的参数是Series**"
   ]
  },
  {
   "cell_type": "markdown",
   "id": "4dfe32bf-2be3-4ecf-89e7-1eaa9c03366d",
   "metadata": {},
   "source": [
    "### **17.2.1 Series.apply(fun)**\n",
    "**fun的参数是Series的每个值**"
   ]
  },
  {
   "cell_type": "code",
   "execution_count": 21,
   "id": "b8b476e9-a4c1-4cb5-aca3-b2351bdf21b4",
   "metadata": {
    "tags": []
   },
   "outputs": [],
   "source": [
    "#与Series.map(fun)相似\n",
    "df['name3']=df['Code'].apply(lambda x:dict_name[x])"
   ]
  },
  {
   "cell_type": "code",
   "execution_count": 22,
   "id": "036a86d0-0042-4300-832b-4049deb2ca35",
   "metadata": {
    "jupyter": {
     "source_hidden": true
    },
    "tags": []
   },
   "outputs": [
    {
     "data": {
      "text/html": [
       "<div>\n",
       "<style scoped>\n",
       "    .dataframe tbody tr th:only-of-type {\n",
       "        vertical-align: middle;\n",
       "    }\n",
       "\n",
       "    .dataframe tbody tr th {\n",
       "        vertical-align: top;\n",
       "    }\n",
       "\n",
       "    .dataframe thead th {\n",
       "        text-align: right;\n",
       "    }\n",
       "</style>\n",
       "<table border=\"1\" class=\"dataframe\">\n",
       "  <thead>\n",
       "    <tr style=\"text-align: right;\">\n",
       "      <th></th>\n",
       "      <th>TranID</th>\n",
       "      <th>Time</th>\n",
       "      <th>Price</th>\n",
       "      <th>Volume</th>\n",
       "      <th>SaleOrderVolume</th>\n",
       "      <th>BuyOrderVolume</th>\n",
       "      <th>Type</th>\n",
       "      <th>SaleOrderID</th>\n",
       "      <th>SaleOrderPrice</th>\n",
       "      <th>BuyOrderID</th>\n",
       "      <th>BuyOrderPrice</th>\n",
       "      <th>Code</th>\n",
       "      <th>Name1</th>\n",
       "      <th>name2</th>\n",
       "      <th>name_fun1</th>\n",
       "      <th>name3</th>\n",
       "    </tr>\n",
       "  </thead>\n",
       "  <tbody>\n",
       "    <tr>\n",
       "      <th>0</th>\n",
       "      <td>1</td>\n",
       "      <td>09:25:00</td>\n",
       "      <td>59.1</td>\n",
       "      <td>400</td>\n",
       "      <td>400</td>\n",
       "      <td>1400</td>\n",
       "      <td>S</td>\n",
       "      <td>1</td>\n",
       "      <td>53.87</td>\n",
       "      <td>1</td>\n",
       "      <td>65.84</td>\n",
       "      <td>000651</td>\n",
       "      <td>格力电气</td>\n",
       "      <td>格力电气</td>\n",
       "      <td>格力电气**</td>\n",
       "      <td>格力电气</td>\n",
       "    </tr>\n",
       "  </tbody>\n",
       "</table>\n",
       "</div>"
      ],
      "text/plain": [
       "   TranID      Time  Price  Volume  SaleOrderVolume  BuyOrderVolume Type  \\\n",
       "0       1  09:25:00   59.1     400              400            1400    S   \n",
       "\n",
       "  SaleOrderID  SaleOrderPrice BuyOrderID  BuyOrderPrice    Code Name1 name2  \\\n",
       "0           1           53.87          1          65.84  000651  格力电气  格力电气   \n",
       "\n",
       "  name_fun1 name3  \n",
       "0    格力电气**  格力电气  "
      ]
     },
     "execution_count": 22,
     "metadata": {},
     "output_type": "execute_result"
    }
   ],
   "source": [
    "df.head(1)"
   ]
  },
  {
   "cell_type": "markdown",
   "id": "02a1b270-ede0-4bc6-aef4-66d877947c71",
   "metadata": {},
   "source": [
    "### **17.2.2 DataFrame.apply(fun)**\n",
    "**fun的参数是DataFrame对应轴的Serie**"
   ]
  },
  {
   "cell_type": "code",
   "execution_count": 25,
   "id": "6de7df64-f858-4412-b936-bba7592e84b4",
   "metadata": {
    "tags": []
   },
   "outputs": [],
   "source": [
    "#执行速度慢\n",
    "df['name4']=df.apply(lambda x:dict_name[x['Code']],axis=1)"
   ]
  },
  {
   "cell_type": "markdown",
   "id": "2930c40a-c38a-4c05-b248-de46256d3d8a",
   "metadata": {},
   "source": [
    "注意：\n",
    "- apply函数是在df这个DataFrame上调用的\n",
    "- lambda x 中的 x 是一个Series，应为指定了axis=1，所以Series的key是df的列名，可以用df['Code']获取列的值"
   ]
  },
  {
   "cell_type": "code",
   "execution_count": 24,
   "id": "423b4652-98b3-4166-b7eb-60b65518e131",
   "metadata": {
    "tags": []
   },
   "outputs": [
    {
     "data": {
      "text/html": [
       "<div>\n",
       "<style scoped>\n",
       "    .dataframe tbody tr th:only-of-type {\n",
       "        vertical-align: middle;\n",
       "    }\n",
       "\n",
       "    .dataframe tbody tr th {\n",
       "        vertical-align: top;\n",
       "    }\n",
       "\n",
       "    .dataframe thead th {\n",
       "        text-align: right;\n",
       "    }\n",
       "</style>\n",
       "<table border=\"1\" class=\"dataframe\">\n",
       "  <thead>\n",
       "    <tr style=\"text-align: right;\">\n",
       "      <th></th>\n",
       "      <th>TranID</th>\n",
       "      <th>Time</th>\n",
       "      <th>Price</th>\n",
       "      <th>Volume</th>\n",
       "      <th>SaleOrderVolume</th>\n",
       "      <th>BuyOrderVolume</th>\n",
       "      <th>Type</th>\n",
       "      <th>SaleOrderID</th>\n",
       "      <th>SaleOrderPrice</th>\n",
       "      <th>BuyOrderID</th>\n",
       "      <th>BuyOrderPrice</th>\n",
       "      <th>Code</th>\n",
       "      <th>Name1</th>\n",
       "      <th>name2</th>\n",
       "      <th>name_fun1</th>\n",
       "      <th>name3</th>\n",
       "      <th>name4</th>\n",
       "    </tr>\n",
       "  </thead>\n",
       "  <tbody>\n",
       "    <tr>\n",
       "      <th>0</th>\n",
       "      <td>1</td>\n",
       "      <td>09:25:00</td>\n",
       "      <td>59.1</td>\n",
       "      <td>400</td>\n",
       "      <td>400</td>\n",
       "      <td>1400</td>\n",
       "      <td>S</td>\n",
       "      <td>1</td>\n",
       "      <td>53.87</td>\n",
       "      <td>1</td>\n",
       "      <td>65.84</td>\n",
       "      <td>000651</td>\n",
       "      <td>格力电气</td>\n",
       "      <td>格力电气</td>\n",
       "      <td>格力电气**</td>\n",
       "      <td>格力电气</td>\n",
       "      <td>格力电气</td>\n",
       "    </tr>\n",
       "  </tbody>\n",
       "</table>\n",
       "</div>"
      ],
      "text/plain": [
       "   TranID      Time  Price  Volume  SaleOrderVolume  BuyOrderVolume Type  \\\n",
       "0       1  09:25:00   59.1     400              400            1400    S   \n",
       "\n",
       "  SaleOrderID  SaleOrderPrice BuyOrderID  BuyOrderPrice    Code Name1 name2  \\\n",
       "0           1           53.87          1          65.84  000651  格力电气  格力电气   \n",
       "\n",
       "  name_fun1 name3 name4  \n",
       "0    格力电气**  格力电气  格力电气  "
      ]
     },
     "execution_count": 24,
     "metadata": {},
     "output_type": "execute_result"
    }
   ],
   "source": [
    "df.head(1)"
   ]
  },
  {
   "cell_type": "markdown",
   "id": "83a4cfab-5b37-48e7-89d5-78d3f1d48cdd",
   "metadata": {},
   "source": [
    "### **17.3 applymap用于DataFrame所有值的转换**"
   ]
  },
  {
   "cell_type": "code",
   "execution_count": 36,
   "id": "efc24310-8d4b-4fe8-ab36-0bc7bca24465",
   "metadata": {
    "tags": []
   },
   "outputs": [],
   "source": [
    "df_sub=df[['Price','SaleOrderPrice','BuyOrderPrice','SaleOrderVolume','BuyOrderVolume']]"
   ]
  },
  {
   "cell_type": "code",
   "execution_count": 38,
   "id": "f86ba90a-8136-45d8-ac7d-5b99d93b6e25",
   "metadata": {
    "tags": []
   },
   "outputs": [
    {
     "data": {
      "text/html": [
       "<div>\n",
       "<style scoped>\n",
       "    .dataframe tbody tr th:only-of-type {\n",
       "        vertical-align: middle;\n",
       "    }\n",
       "\n",
       "    .dataframe tbody tr th {\n",
       "        vertical-align: top;\n",
       "    }\n",
       "\n",
       "    .dataframe thead th {\n",
       "        text-align: right;\n",
       "    }\n",
       "</style>\n",
       "<table border=\"1\" class=\"dataframe\">\n",
       "  <thead>\n",
       "    <tr style=\"text-align: right;\">\n",
       "      <th></th>\n",
       "      <th>Price</th>\n",
       "      <th>SaleOrderPrice</th>\n",
       "      <th>BuyOrderPrice</th>\n",
       "      <th>SaleOrderVolume</th>\n",
       "      <th>BuyOrderVolume</th>\n",
       "    </tr>\n",
       "  </thead>\n",
       "  <tbody>\n",
       "    <tr>\n",
       "      <th>0</th>\n",
       "      <td>59.1</td>\n",
       "      <td>53.87</td>\n",
       "      <td>65.84</td>\n",
       "      <td>400</td>\n",
       "      <td>1400</td>\n",
       "    </tr>\n",
       "    <tr>\n",
       "      <th>1</th>\n",
       "      <td>59.1</td>\n",
       "      <td>53.87</td>\n",
       "      <td>65.84</td>\n",
       "      <td>300</td>\n",
       "      <td>1400</td>\n",
       "    </tr>\n",
       "    <tr>\n",
       "      <th>2</th>\n",
       "      <td>59.1</td>\n",
       "      <td>53.87</td>\n",
       "      <td>65.84</td>\n",
       "      <td>200</td>\n",
       "      <td>1400</td>\n",
       "    </tr>\n",
       "    <tr>\n",
       "      <th>3</th>\n",
       "      <td>59.1</td>\n",
       "      <td>53.87</td>\n",
       "      <td>65.84</td>\n",
       "      <td>200</td>\n",
       "      <td>1400</td>\n",
       "    </tr>\n",
       "    <tr>\n",
       "      <th>4</th>\n",
       "      <td>59.1</td>\n",
       "      <td>53.87</td>\n",
       "      <td>65.84</td>\n",
       "      <td>5900</td>\n",
       "      <td>1400</td>\n",
       "    </tr>\n",
       "  </tbody>\n",
       "</table>\n",
       "</div>"
      ],
      "text/plain": [
       "   Price  SaleOrderPrice  BuyOrderPrice  SaleOrderVolume  BuyOrderVolume\n",
       "0   59.1           53.87          65.84              400            1400\n",
       "1   59.1           53.87          65.84              300            1400\n",
       "2   59.1           53.87          65.84              200            1400\n",
       "3   59.1           53.87          65.84              200            1400\n",
       "4   59.1           53.87          65.84             5900            1400"
      ]
     },
     "execution_count": 38,
     "metadata": {},
     "output_type": "execute_result"
    }
   ],
   "source": [
    "df_sub.head(5)"
   ]
  },
  {
   "cell_type": "code",
   "execution_count": 39,
   "id": "1867b4ae-714f-4575-b4f1-663bab66f68a",
   "metadata": {
    "tags": []
   },
   "outputs": [
    {
     "data": {
      "text/html": [
       "<div>\n",
       "<style scoped>\n",
       "    .dataframe tbody tr th:only-of-type {\n",
       "        vertical-align: middle;\n",
       "    }\n",
       "\n",
       "    .dataframe tbody tr th {\n",
       "        vertical-align: top;\n",
       "    }\n",
       "\n",
       "    .dataframe thead th {\n",
       "        text-align: right;\n",
       "    }\n",
       "</style>\n",
       "<table border=\"1\" class=\"dataframe\">\n",
       "  <thead>\n",
       "    <tr style=\"text-align: right;\">\n",
       "      <th></th>\n",
       "      <th>Price</th>\n",
       "      <th>SaleOrderPrice</th>\n",
       "      <th>BuyOrderPrice</th>\n",
       "      <th>SaleOrderVolume</th>\n",
       "      <th>BuyOrderVolume</th>\n",
       "    </tr>\n",
       "  </thead>\n",
       "  <tbody>\n",
       "    <tr>\n",
       "      <th>0</th>\n",
       "      <td>59</td>\n",
       "      <td>53</td>\n",
       "      <td>65</td>\n",
       "      <td>400</td>\n",
       "      <td>1400</td>\n",
       "    </tr>\n",
       "    <tr>\n",
       "      <th>1</th>\n",
       "      <td>59</td>\n",
       "      <td>53</td>\n",
       "      <td>65</td>\n",
       "      <td>300</td>\n",
       "      <td>1400</td>\n",
       "    </tr>\n",
       "    <tr>\n",
       "      <th>2</th>\n",
       "      <td>59</td>\n",
       "      <td>53</td>\n",
       "      <td>65</td>\n",
       "      <td>200</td>\n",
       "      <td>1400</td>\n",
       "    </tr>\n",
       "    <tr>\n",
       "      <th>3</th>\n",
       "      <td>59</td>\n",
       "      <td>53</td>\n",
       "      <td>65</td>\n",
       "      <td>200</td>\n",
       "      <td>1400</td>\n",
       "    </tr>\n",
       "    <tr>\n",
       "      <th>4</th>\n",
       "      <td>59</td>\n",
       "      <td>53</td>\n",
       "      <td>65</td>\n",
       "      <td>5900</td>\n",
       "      <td>1400</td>\n",
       "    </tr>\n",
       "    <tr>\n",
       "      <th>...</th>\n",
       "      <td>...</td>\n",
       "      <td>...</td>\n",
       "      <td>...</td>\n",
       "      <td>...</td>\n",
       "      <td>...</td>\n",
       "    </tr>\n",
       "    <tr>\n",
       "      <th>196762</th>\n",
       "      <td>85</td>\n",
       "      <td>85</td>\n",
       "      <td>85</td>\n",
       "      <td>243258</td>\n",
       "      <td>100</td>\n",
       "    </tr>\n",
       "    <tr>\n",
       "      <th>196763</th>\n",
       "      <td>85</td>\n",
       "      <td>85</td>\n",
       "      <td>85</td>\n",
       "      <td>243258</td>\n",
       "      <td>100</td>\n",
       "    </tr>\n",
       "    <tr>\n",
       "      <th>196764</th>\n",
       "      <td>85</td>\n",
       "      <td>85</td>\n",
       "      <td>85</td>\n",
       "      <td>243258</td>\n",
       "      <td>25500</td>\n",
       "    </tr>\n",
       "    <tr>\n",
       "      <th>196765</th>\n",
       "      <td>85</td>\n",
       "      <td>85</td>\n",
       "      <td>85</td>\n",
       "      <td>262500</td>\n",
       "      <td>1000</td>\n",
       "    </tr>\n",
       "    <tr>\n",
       "      <th>196766</th>\n",
       "      <td>85</td>\n",
       "      <td>85</td>\n",
       "      <td>85</td>\n",
       "      <td>262500</td>\n",
       "      <td>1000</td>\n",
       "    </tr>\n",
       "  </tbody>\n",
       "</table>\n",
       "<p>534037 rows × 5 columns</p>\n",
       "</div>"
      ],
      "text/plain": [
       "        Price  SaleOrderPrice  BuyOrderPrice  SaleOrderVolume  BuyOrderVolume\n",
       "0          59              53             65              400            1400\n",
       "1          59              53             65              300            1400\n",
       "2          59              53             65              200            1400\n",
       "3          59              53             65              200            1400\n",
       "4          59              53             65             5900            1400\n",
       "...       ...             ...            ...              ...             ...\n",
       "196762     85              85             85           243258             100\n",
       "196763     85              85             85           243258             100\n",
       "196764     85              85             85           243258           25500\n",
       "196765     85              85             85           262500            1000\n",
       "196766     85              85             85           262500            1000\n",
       "\n",
       "[534037 rows x 5 columns]"
      ]
     },
     "execution_count": 39,
     "metadata": {},
     "output_type": "execute_result"
    }
   ],
   "source": [
    "#将数据取整，应用于所有元素\n",
    "df_sub.applymap(lambda x:int(x))"
   ]
  },
  {
   "cell_type": "code",
   "execution_count": 55,
   "id": "57ac20b7-6cd4-4c5c-a7a9-83da0dd2d029",
   "metadata": {
    "tags": []
   },
   "outputs": [],
   "source": [
    "df_sub.reset_index(drop=True,inplace=True)"
   ]
  },
  {
   "cell_type": "code",
   "execution_count": null,
   "id": "b38d1359-5981-4509-920c-c2961d328300",
   "metadata": {},
   "outputs": [],
   "source": []
  },
  {
   "cell_type": "markdown",
   "id": "eb3410ee-412b-479c-a319-a88a8c976305",
   "metadata": {},
   "source": [
    "----"
   ]
  },
  {
   "cell_type": "code",
   "execution_count": null,
   "id": "40a73342-aa7f-4745-8ddd-60fdd91fb939",
   "metadata": {},
   "outputs": [],
   "source": []
  },
  {
   "cell_type": "markdown",
   "id": "1c85b4c4-15b6-4c6d-9cdb-b9d56bff25b1",
   "metadata": {},
   "source": [
    "## **18. Pandas怎样对每个groupby分组应用apply**"
   ]
  },
  {
   "cell_type": "markdown",
   "id": "3ef49eee-23f9-4354-bb6a-0a5356f8a404",
   "metadata": {},
   "source": [
    "### **18.1 知识**"
   ]
  },
  {
   "cell_type": "markdown",
   "id": "351ea7a7-ce5a-46dc-a8cf-b59dc1b27098",
   "metadata": {},
   "source": [
    "#### Pandas的groupby的实现过程"
   ]
  },
  {
   "cell_type": "markdown",
   "id": "d543493e-0a00-4d9b-a179-5b04765e6241",
   "metadata": {},
   "source": [
    "**pandas的groupby遵重split,apply,combine模式，如图所示：**"
   ]
  },
  {
   "cell_type": "markdown",
   "id": "b967780e-dd68-479a-8485-8b5bba77590f",
   "metadata": {},
   "source": [
    "![GroupBy模式](groupby.png)"
   ]
  },
  {
   "cell_type": "code",
   "execution_count": null,
   "id": "27d20e0b-0afa-4188-add5-0241e32cd9aa",
   "metadata": {},
   "outputs": [],
   "source": []
  }
 ],
 "metadata": {
  "kernelspec": {
   "display_name": "Python 3 (ipykernel)",
   "language": "python",
   "name": "python3"
  },
  "language_info": {
   "codemirror_mode": {
    "name": "ipython",
    "version": 3
   },
   "file_extension": ".py",
   "mimetype": "text/x-python",
   "name": "python",
   "nbconvert_exporter": "python",
   "pygments_lexer": "ipython3",
   "version": "3.9.9"
  }
 },
 "nbformat": 4,
 "nbformat_minor": 5
}
