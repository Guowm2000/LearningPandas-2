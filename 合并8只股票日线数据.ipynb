{
 "cells": [
  {
   "cell_type": "markdown",
   "id": "ee98f828-2378-4676-93cc-8f963cc4bc70",
   "metadata": {},
   "source": [
    "# 合并8只股票的日线数据，生成一个较大的数据文件"
   ]
  },
  {
   "cell_type": "markdown",
   "id": "5535a36b-febe-4cb1-bc38-a71cd9a90835",
   "metadata": {},
   "source": [
    "### 1. 分别读取8只股票数据装入dataframe"
   ]
  },
  {
   "cell_type": "code",
   "execution_count": 1,
   "id": "7d89cb67-8447-41f6-aefa-1a442a01f68c",
   "metadata": {},
   "outputs": [],
   "source": [
    "import pandas as pd"
   ]
  },
  {
   "cell_type": "code",
   "execution_count": 2,
   "id": "9a605bf3-173c-486a-b49e-350fb078b94e",
   "metadata": {},
   "outputs": [],
   "source": [
    "df588000=pd.read_csv('./stocks/SH#588000.txt')"
   ]
  },
  {
   "cell_type": "code",
   "execution_count": 3,
   "id": "cd0c1ccb-72f1-4f05-898d-c9eacb3cdb18",
   "metadata": {},
   "outputs": [],
   "source": [
    "#增加列‘code'\n",
    "df588000['code']='588000'"
   ]
  },
  {
   "cell_type": "code",
   "execution_count": 4,
   "id": "8b3af2c2-5807-4aa2-ae78-831cc07113cb",
   "metadata": {},
   "outputs": [
    {
     "data": {
      "text/plain": [
       "rq       object\n",
       "kp      float64\n",
       "zg      float64\n",
       "zd      float64\n",
       "sp      float64\n",
       "cjl       int64\n",
       "cje     float64\n",
       "code     object\n",
       "dtype: object"
      ]
     },
     "execution_count": 4,
     "metadata": {},
     "output_type": "execute_result"
    }
   ],
   "source": [
    "df588000.dtypes"
   ]
  },
  {
   "cell_type": "code",
   "execution_count": 5,
   "id": "5852b27b-77ec-4b7b-aefa-e67521e6172b",
   "metadata": {},
   "outputs": [
    {
     "data": {
      "text/html": [
       "<div>\n",
       "<style scoped>\n",
       "    .dataframe tbody tr th:only-of-type {\n",
       "        vertical-align: middle;\n",
       "    }\n",
       "\n",
       "    .dataframe tbody tr th {\n",
       "        vertical-align: top;\n",
       "    }\n",
       "\n",
       "    .dataframe thead th {\n",
       "        text-align: right;\n",
       "    }\n",
       "</style>\n",
       "<table border=\"1\" class=\"dataframe\">\n",
       "  <thead>\n",
       "    <tr style=\"text-align: right;\">\n",
       "      <th></th>\n",
       "      <th>rq</th>\n",
       "      <th>kp</th>\n",
       "      <th>zg</th>\n",
       "      <th>zd</th>\n",
       "      <th>sp</th>\n",
       "      <th>cjl</th>\n",
       "      <th>cje</th>\n",
       "      <th>code</th>\n",
       "    </tr>\n",
       "  </thead>\n",
       "  <tbody>\n",
       "    <tr>\n",
       "      <th>0</th>\n",
       "      <td>2020/11/16</td>\n",
       "      <td>1.556</td>\n",
       "      <td>1.620</td>\n",
       "      <td>1.451</td>\n",
       "      <td>1.465</td>\n",
       "      <td>1445363837</td>\n",
       "      <td>2.119241e+09</td>\n",
       "      <td>588000</td>\n",
       "    </tr>\n",
       "    <tr>\n",
       "      <th>1</th>\n",
       "      <td>2020/11/17</td>\n",
       "      <td>1.460</td>\n",
       "      <td>1.460</td>\n",
       "      <td>1.430</td>\n",
       "      <td>1.436</td>\n",
       "      <td>1080636535</td>\n",
       "      <td>1.553722e+09</td>\n",
       "      <td>588000</td>\n",
       "    </tr>\n",
       "    <tr>\n",
       "      <th>2</th>\n",
       "      <td>2020/11/18</td>\n",
       "      <td>1.435</td>\n",
       "      <td>1.445</td>\n",
       "      <td>1.422</td>\n",
       "      <td>1.424</td>\n",
       "      <td>863188131</td>\n",
       "      <td>1.234789e+09</td>\n",
       "      <td>588000</td>\n",
       "    </tr>\n",
       "    <tr>\n",
       "      <th>3</th>\n",
       "      <td>2020/11/19</td>\n",
       "      <td>1.424</td>\n",
       "      <td>1.440</td>\n",
       "      <td>1.412</td>\n",
       "      <td>1.438</td>\n",
       "      <td>685401807</td>\n",
       "      <td>9.803946e+08</td>\n",
       "      <td>588000</td>\n",
       "    </tr>\n",
       "    <tr>\n",
       "      <th>4</th>\n",
       "      <td>2020/11/20</td>\n",
       "      <td>1.436</td>\n",
       "      <td>1.444</td>\n",
       "      <td>1.431</td>\n",
       "      <td>1.435</td>\n",
       "      <td>601003363</td>\n",
       "      <td>8.626239e+08</td>\n",
       "      <td>588000</td>\n",
       "    </tr>\n",
       "  </tbody>\n",
       "</table>\n",
       "</div>"
      ],
      "text/plain": [
       "           rq     kp     zg     zd     sp         cjl           cje    code\n",
       "0  2020/11/16  1.556  1.620  1.451  1.465  1445363837  2.119241e+09  588000\n",
       "1  2020/11/17  1.460  1.460  1.430  1.436  1080636535  1.553722e+09  588000\n",
       "2  2020/11/18  1.435  1.445  1.422  1.424   863188131  1.234789e+09  588000\n",
       "3  2020/11/19  1.424  1.440  1.412  1.438   685401807  9.803946e+08  588000\n",
       "4  2020/11/20  1.436  1.444  1.431  1.435   601003363  8.626239e+08  588000"
      ]
     },
     "execution_count": 5,
     "metadata": {},
     "output_type": "execute_result"
    }
   ],
   "source": [
    "df588000.head()"
   ]
  },
  {
   "cell_type": "code",
   "execution_count": 6,
   "id": "e2808df5-ad89-451e-9daf-249fcb39ec05",
   "metadata": {},
   "outputs": [],
   "source": [
    "df601012=pd.read_csv('./stocks/SH#601012.txt')"
   ]
  },
  {
   "cell_type": "code",
   "execution_count": 7,
   "id": "89ed9afd-ccf2-43b5-b8c5-b82652db9260",
   "metadata": {},
   "outputs": [],
   "source": [
    "#增加列‘code'\n",
    "df601012['code']='601012'"
   ]
  },
  {
   "cell_type": "code",
   "execution_count": 8,
   "id": "893b4b0f-59dd-4eb5-ae55-66dc7e4725c7",
   "metadata": {},
   "outputs": [],
   "source": [
    "df601288=pd.read_csv('./stocks/SH#601288.txt')"
   ]
  },
  {
   "cell_type": "code",
   "execution_count": 9,
   "id": "581ffce2-590f-48ee-b319-8003bf9edb9a",
   "metadata": {},
   "outputs": [],
   "source": [
    "#增加列‘code'\n",
    "df601288['code']='601288'"
   ]
  },
  {
   "cell_type": "code",
   "execution_count": 10,
   "id": "9929152f-a10d-4f67-8445-c5e28d5397c9",
   "metadata": {
    "tags": []
   },
   "outputs": [],
   "source": [
    "df601318=pd.read_csv('./stocks/SH#601318.txt')"
   ]
  },
  {
   "cell_type": "code",
   "execution_count": 11,
   "id": "b5bfb688-6e69-495a-995d-31a1d68ff7d0",
   "metadata": {},
   "outputs": [],
   "source": [
    "df601318['code']='601318'"
   ]
  },
  {
   "cell_type": "code",
   "execution_count": 12,
   "id": "db12c100-40c4-474b-b92a-011be9b3bfdf",
   "metadata": {
    "tags": []
   },
   "outputs": [],
   "source": [
    "df000651=pd.read_csv('./stocks/SZ#000651.txt')"
   ]
  },
  {
   "cell_type": "code",
   "execution_count": 13,
   "id": "da9ace33-e1a5-4f40-88db-904d48d02f3c",
   "metadata": {},
   "outputs": [],
   "source": [
    "df000651['code']='000651'"
   ]
  },
  {
   "cell_type": "code",
   "execution_count": 14,
   "id": "2ddd7022-df60-4146-b43e-551edb2f1ddb",
   "metadata": {},
   "outputs": [
    {
     "data": {
      "text/html": [
       "<div>\n",
       "<style scoped>\n",
       "    .dataframe tbody tr th:only-of-type {\n",
       "        vertical-align: middle;\n",
       "    }\n",
       "\n",
       "    .dataframe tbody tr th {\n",
       "        vertical-align: top;\n",
       "    }\n",
       "\n",
       "    .dataframe thead th {\n",
       "        text-align: right;\n",
       "    }\n",
       "</style>\n",
       "<table border=\"1\" class=\"dataframe\">\n",
       "  <thead>\n",
       "    <tr style=\"text-align: right;\">\n",
       "      <th></th>\n",
       "      <th>rq</th>\n",
       "      <th>kp</th>\n",
       "      <th>zg</th>\n",
       "      <th>zd</th>\n",
       "      <th>sp</th>\n",
       "      <th>cjl</th>\n",
       "      <th>cje</th>\n",
       "      <th>code</th>\n",
       "    </tr>\n",
       "  </thead>\n",
       "  <tbody>\n",
       "    <tr>\n",
       "      <th>0</th>\n",
       "      <td>2015/09/02</td>\n",
       "      <td>17.55</td>\n",
       "      <td>18.20</td>\n",
       "      <td>17.25</td>\n",
       "      <td>17.85</td>\n",
       "      <td>161098239</td>\n",
       "      <td>2.876194e+09</td>\n",
       "      <td>000651</td>\n",
       "    </tr>\n",
       "    <tr>\n",
       "      <th>1</th>\n",
       "      <td>2015/09/07</td>\n",
       "      <td>17.88</td>\n",
       "      <td>18.36</td>\n",
       "      <td>17.20</td>\n",
       "      <td>17.32</td>\n",
       "      <td>98055248</td>\n",
       "      <td>1.740423e+09</td>\n",
       "      <td>000651</td>\n",
       "    </tr>\n",
       "    <tr>\n",
       "      <th>2</th>\n",
       "      <td>2015/09/08</td>\n",
       "      <td>17.20</td>\n",
       "      <td>17.67</td>\n",
       "      <td>17.02</td>\n",
       "      <td>17.60</td>\n",
       "      <td>57352881</td>\n",
       "      <td>9.946880e+08</td>\n",
       "      <td>000651</td>\n",
       "    </tr>\n",
       "    <tr>\n",
       "      <th>3</th>\n",
       "      <td>2015/09/09</td>\n",
       "      <td>17.61</td>\n",
       "      <td>18.08</td>\n",
       "      <td>17.47</td>\n",
       "      <td>17.85</td>\n",
       "      <td>109881594</td>\n",
       "      <td>1.957843e+09</td>\n",
       "      <td>000651</td>\n",
       "    </tr>\n",
       "    <tr>\n",
       "      <th>4</th>\n",
       "      <td>2015/09/10</td>\n",
       "      <td>17.60</td>\n",
       "      <td>17.80</td>\n",
       "      <td>17.40</td>\n",
       "      <td>17.45</td>\n",
       "      <td>57359762</td>\n",
       "      <td>1.008975e+09</td>\n",
       "      <td>000651</td>\n",
       "    </tr>\n",
       "  </tbody>\n",
       "</table>\n",
       "</div>"
      ],
      "text/plain": [
       "           rq     kp     zg     zd     sp        cjl           cje    code\n",
       "0  2015/09/02  17.55  18.20  17.25  17.85  161098239  2.876194e+09  000651\n",
       "1  2015/09/07  17.88  18.36  17.20  17.32   98055248  1.740423e+09  000651\n",
       "2  2015/09/08  17.20  17.67  17.02  17.60   57352881  9.946880e+08  000651\n",
       "3  2015/09/09  17.61  18.08  17.47  17.85  109881594  1.957843e+09  000651\n",
       "4  2015/09/10  17.60  17.80  17.40  17.45   57359762  1.008975e+09  000651"
      ]
     },
     "execution_count": 14,
     "metadata": {},
     "output_type": "execute_result"
    }
   ],
   "source": [
    "df000651.head()"
   ]
  },
  {
   "cell_type": "code",
   "execution_count": 15,
   "id": "b9dc9c34-150f-462e-8bd1-5e8d2464435a",
   "metadata": {},
   "outputs": [
    {
     "data": {
      "text/plain": [
       "rq       object\n",
       "kp      float64\n",
       "zg      float64\n",
       "zd      float64\n",
       "sp      float64\n",
       "cjl       int64\n",
       "cje     float64\n",
       "code     object\n",
       "dtype: object"
      ]
     },
     "execution_count": 15,
     "metadata": {},
     "output_type": "execute_result"
    }
   ],
   "source": [
    "df000651.dtypes"
   ]
  },
  {
   "cell_type": "code",
   "execution_count": 16,
   "id": "025d1f89-e539-4eb5-b654-5176411e8f06",
   "metadata": {
    "tags": []
   },
   "outputs": [],
   "source": [
    "df002241=pd.read_csv('./stocks/SZ#002241.txt')"
   ]
  },
  {
   "cell_type": "code",
   "execution_count": 17,
   "id": "d24fb261-f2fd-49d9-b0ab-f46b161faa55",
   "metadata": {},
   "outputs": [],
   "source": [
    "df002241['code']='002241'"
   ]
  },
  {
   "cell_type": "code",
   "execution_count": 18,
   "id": "9ab2d6c9-a592-40b9-a8dc-439cad814836",
   "metadata": {
    "tags": []
   },
   "outputs": [],
   "source": [
    "df002475=pd.read_csv('./stocks/SZ#002475.txt')"
   ]
  },
  {
   "cell_type": "code",
   "execution_count": 19,
   "id": "b44a190d-c353-47e4-afa1-d728f07e3326",
   "metadata": {},
   "outputs": [],
   "source": [
    "df002475['code']='002475'"
   ]
  },
  {
   "cell_type": "code",
   "execution_count": 20,
   "id": "513e138e-f40c-46d9-896a-15283b0d37af",
   "metadata": {},
   "outputs": [
    {
     "data": {
      "text/html": [
       "<div>\n",
       "<style scoped>\n",
       "    .dataframe tbody tr th:only-of-type {\n",
       "        vertical-align: middle;\n",
       "    }\n",
       "\n",
       "    .dataframe tbody tr th {\n",
       "        vertical-align: top;\n",
       "    }\n",
       "\n",
       "    .dataframe thead th {\n",
       "        text-align: right;\n",
       "    }\n",
       "</style>\n",
       "<table border=\"1\" class=\"dataframe\">\n",
       "  <thead>\n",
       "    <tr style=\"text-align: right;\">\n",
       "      <th></th>\n",
       "      <th>rq</th>\n",
       "      <th>kp</th>\n",
       "      <th>zg</th>\n",
       "      <th>zd</th>\n",
       "      <th>sp</th>\n",
       "      <th>cjl</th>\n",
       "      <th>cje</th>\n",
       "      <th>code</th>\n",
       "    </tr>\n",
       "  </thead>\n",
       "  <tbody>\n",
       "    <tr>\n",
       "      <th>0</th>\n",
       "      <td>2015/09/02</td>\n",
       "      <td>26.98</td>\n",
       "      <td>29.07</td>\n",
       "      <td>26.80</td>\n",
       "      <td>28.96</td>\n",
       "      <td>14340258</td>\n",
       "      <td>406649184.0</td>\n",
       "      <td>002475</td>\n",
       "    </tr>\n",
       "    <tr>\n",
       "      <th>1</th>\n",
       "      <td>2015/09/07</td>\n",
       "      <td>29.10</td>\n",
       "      <td>29.98</td>\n",
       "      <td>26.28</td>\n",
       "      <td>26.88</td>\n",
       "      <td>12802749</td>\n",
       "      <td>361820384.0</td>\n",
       "      <td>002475</td>\n",
       "    </tr>\n",
       "    <tr>\n",
       "      <th>2</th>\n",
       "      <td>2015/09/08</td>\n",
       "      <td>26.02</td>\n",
       "      <td>27.59</td>\n",
       "      <td>26.00</td>\n",
       "      <td>27.55</td>\n",
       "      <td>9437963</td>\n",
       "      <td>251334848.0</td>\n",
       "      <td>002475</td>\n",
       "    </tr>\n",
       "    <tr>\n",
       "      <th>3</th>\n",
       "      <td>2015/09/09</td>\n",
       "      <td>28.01</td>\n",
       "      <td>28.80</td>\n",
       "      <td>27.60</td>\n",
       "      <td>28.42</td>\n",
       "      <td>12051510</td>\n",
       "      <td>340712480.0</td>\n",
       "      <td>002475</td>\n",
       "    </tr>\n",
       "    <tr>\n",
       "      <th>4</th>\n",
       "      <td>2015/09/10</td>\n",
       "      <td>28.00</td>\n",
       "      <td>28.19</td>\n",
       "      <td>27.20</td>\n",
       "      <td>27.26</td>\n",
       "      <td>6211740</td>\n",
       "      <td>172308976.0</td>\n",
       "      <td>002475</td>\n",
       "    </tr>\n",
       "  </tbody>\n",
       "</table>\n",
       "</div>"
      ],
      "text/plain": [
       "           rq     kp     zg     zd     sp       cjl          cje    code\n",
       "0  2015/09/02  26.98  29.07  26.80  28.96  14340258  406649184.0  002475\n",
       "1  2015/09/07  29.10  29.98  26.28  26.88  12802749  361820384.0  002475\n",
       "2  2015/09/08  26.02  27.59  26.00  27.55   9437963  251334848.0  002475\n",
       "3  2015/09/09  28.01  28.80  27.60  28.42  12051510  340712480.0  002475\n",
       "4  2015/09/10  28.00  28.19  27.20  27.26   6211740  172308976.0  002475"
      ]
     },
     "execution_count": 20,
     "metadata": {},
     "output_type": "execute_result"
    }
   ],
   "source": [
    "df002475.head()"
   ]
  },
  {
   "cell_type": "code",
   "execution_count": 21,
   "id": "5c2be1d9-d19e-40b4-af4d-ec1d299e806f",
   "metadata": {
    "tags": []
   },
   "outputs": [],
   "source": [
    "df300124=pd.read_csv('./stocks/SZ#300124.txt')"
   ]
  },
  {
   "cell_type": "code",
   "execution_count": 22,
   "id": "4a00bfb1-7ff4-444d-8d7f-c9a4149f0199",
   "metadata": {},
   "outputs": [],
   "source": [
    "df300124['code']='300124'"
   ]
  },
  {
   "cell_type": "markdown",
   "id": "d747bdd9-9210-4ed5-bf3a-977338daf5da",
   "metadata": {},
   "source": [
    "### 2. 合并"
   ]
  },
  {
   "cell_type": "code",
   "execution_count": 23,
   "id": "e5c33ced-98c1-4bd9-b7fe-3d73a48164d8",
   "metadata": {},
   "outputs": [],
   "source": [
    "df8=pd.concat([df588000,df601012,df601288,df601318,df000651,df002241,df002475,df300124],axis=0)"
   ]
  },
  {
   "cell_type": "code",
   "execution_count": 24,
   "id": "c143a488-0b97-4043-a28a-25049b2e8b43",
   "metadata": {},
   "outputs": [
    {
     "data": {
      "text/html": [
       "<div>\n",
       "<style scoped>\n",
       "    .dataframe tbody tr th:only-of-type {\n",
       "        vertical-align: middle;\n",
       "    }\n",
       "\n",
       "    .dataframe tbody tr th {\n",
       "        vertical-align: top;\n",
       "    }\n",
       "\n",
       "    .dataframe thead th {\n",
       "        text-align: right;\n",
       "    }\n",
       "</style>\n",
       "<table border=\"1\" class=\"dataframe\">\n",
       "  <thead>\n",
       "    <tr style=\"text-align: right;\">\n",
       "      <th></th>\n",
       "      <th>rq</th>\n",
       "      <th>kp</th>\n",
       "      <th>zg</th>\n",
       "      <th>zd</th>\n",
       "      <th>sp</th>\n",
       "      <th>cjl</th>\n",
       "      <th>cje</th>\n",
       "      <th>code</th>\n",
       "    </tr>\n",
       "  </thead>\n",
       "  <tbody>\n",
       "    <tr>\n",
       "      <th>0</th>\n",
       "      <td>2020/11/16</td>\n",
       "      <td>1.556</td>\n",
       "      <td>1.620</td>\n",
       "      <td>1.451</td>\n",
       "      <td>1.465</td>\n",
       "      <td>1445363837</td>\n",
       "      <td>2.119241e+09</td>\n",
       "      <td>588000</td>\n",
       "    </tr>\n",
       "    <tr>\n",
       "      <th>1</th>\n",
       "      <td>2020/11/17</td>\n",
       "      <td>1.460</td>\n",
       "      <td>1.460</td>\n",
       "      <td>1.430</td>\n",
       "      <td>1.436</td>\n",
       "      <td>1080636535</td>\n",
       "      <td>1.553722e+09</td>\n",
       "      <td>588000</td>\n",
       "    </tr>\n",
       "    <tr>\n",
       "      <th>2</th>\n",
       "      <td>2020/11/18</td>\n",
       "      <td>1.435</td>\n",
       "      <td>1.445</td>\n",
       "      <td>1.422</td>\n",
       "      <td>1.424</td>\n",
       "      <td>863188131</td>\n",
       "      <td>1.234789e+09</td>\n",
       "      <td>588000</td>\n",
       "    </tr>\n",
       "    <tr>\n",
       "      <th>3</th>\n",
       "      <td>2020/11/19</td>\n",
       "      <td>1.424</td>\n",
       "      <td>1.440</td>\n",
       "      <td>1.412</td>\n",
       "      <td>1.438</td>\n",
       "      <td>685401807</td>\n",
       "      <td>9.803946e+08</td>\n",
       "      <td>588000</td>\n",
       "    </tr>\n",
       "    <tr>\n",
       "      <th>4</th>\n",
       "      <td>2020/11/20</td>\n",
       "      <td>1.436</td>\n",
       "      <td>1.444</td>\n",
       "      <td>1.431</td>\n",
       "      <td>1.435</td>\n",
       "      <td>601003363</td>\n",
       "      <td>8.626239e+08</td>\n",
       "      <td>588000</td>\n",
       "    </tr>\n",
       "  </tbody>\n",
       "</table>\n",
       "</div>"
      ],
      "text/plain": [
       "           rq     kp     zg     zd     sp         cjl           cje    code\n",
       "0  2020/11/16  1.556  1.620  1.451  1.465  1445363837  2.119241e+09  588000\n",
       "1  2020/11/17  1.460  1.460  1.430  1.436  1080636535  1.553722e+09  588000\n",
       "2  2020/11/18  1.435  1.445  1.422  1.424   863188131  1.234789e+09  588000\n",
       "3  2020/11/19  1.424  1.440  1.412  1.438   685401807  9.803946e+08  588000\n",
       "4  2020/11/20  1.436  1.444  1.431  1.435   601003363  8.626239e+08  588000"
      ]
     },
     "execution_count": 24,
     "metadata": {},
     "output_type": "execute_result"
    }
   ],
   "source": [
    "df8.head()"
   ]
  },
  {
   "cell_type": "code",
   "execution_count": 26,
   "id": "fa7ef95c-7e4f-46cc-bb9f-be90cef15281",
   "metadata": {},
   "outputs": [
    {
     "data": {
      "text/plain": [
       "rq       object\n",
       "kp      float64\n",
       "zg      float64\n",
       "zd      float64\n",
       "sp      float64\n",
       "cjl       int64\n",
       "cje     float64\n",
       "code     object\n",
       "dtype: object"
      ]
     },
     "execution_count": 26,
     "metadata": {},
     "output_type": "execute_result"
    }
   ],
   "source": [
    "df8.dtypes"
   ]
  },
  {
   "cell_type": "code",
   "execution_count": 34,
   "id": "2ef57893-cc63-4ea4-a8b2-90e42e74d5e0",
   "metadata": {},
   "outputs": [
    {
     "data": {
      "text/plain": [
       "rq      13321\n",
       "kp      13321\n",
       "zg      13321\n",
       "zd      13321\n",
       "sp      13321\n",
       "cjl     13321\n",
       "cje     13321\n",
       "code    13321\n",
       "dtype: int64"
      ]
     },
     "execution_count": 34,
     "metadata": {},
     "output_type": "execute_result"
    }
   ],
   "source": [
    "df8.count()"
   ]
  },
  {
   "cell_type": "code",
   "execution_count": 36,
   "id": "ebcd85eb-ab25-4aa3-8b9d-a35211b1bc02",
   "metadata": {},
   "outputs": [
    {
     "data": {
      "text/html": [
       "<div>\n",
       "<style scoped>\n",
       "    .dataframe tbody tr th:only-of-type {\n",
       "        vertical-align: middle;\n",
       "    }\n",
       "\n",
       "    .dataframe tbody tr th {\n",
       "        vertical-align: top;\n",
       "    }\n",
       "\n",
       "    .dataframe thead th {\n",
       "        text-align: right;\n",
       "    }\n",
       "</style>\n",
       "<table border=\"1\" class=\"dataframe\">\n",
       "  <thead>\n",
       "    <tr style=\"text-align: right;\">\n",
       "      <th></th>\n",
       "      <th>rq</th>\n",
       "      <th>kp</th>\n",
       "      <th>zg</th>\n",
       "      <th>zd</th>\n",
       "      <th>sp</th>\n",
       "      <th>cjl</th>\n",
       "      <th>cje</th>\n",
       "      <th>code</th>\n",
       "    </tr>\n",
       "  </thead>\n",
       "  <tbody>\n",
       "    <tr>\n",
       "      <th>0</th>\n",
       "      <td>2020/11/16</td>\n",
       "      <td>1.556</td>\n",
       "      <td>1.620</td>\n",
       "      <td>1.451</td>\n",
       "      <td>1.465</td>\n",
       "      <td>1445363837</td>\n",
       "      <td>2.119241e+09</td>\n",
       "      <td>588000</td>\n",
       "    </tr>\n",
       "    <tr>\n",
       "      <th>1</th>\n",
       "      <td>2020/11/17</td>\n",
       "      <td>1.460</td>\n",
       "      <td>1.460</td>\n",
       "      <td>1.430</td>\n",
       "      <td>1.436</td>\n",
       "      <td>1080636535</td>\n",
       "      <td>1.553722e+09</td>\n",
       "      <td>588000</td>\n",
       "    </tr>\n",
       "    <tr>\n",
       "      <th>2</th>\n",
       "      <td>2020/11/18</td>\n",
       "      <td>1.435</td>\n",
       "      <td>1.445</td>\n",
       "      <td>1.422</td>\n",
       "      <td>1.424</td>\n",
       "      <td>863188131</td>\n",
       "      <td>1.234789e+09</td>\n",
       "      <td>588000</td>\n",
       "    </tr>\n",
       "    <tr>\n",
       "      <th>3</th>\n",
       "      <td>2020/11/19</td>\n",
       "      <td>1.424</td>\n",
       "      <td>1.440</td>\n",
       "      <td>1.412</td>\n",
       "      <td>1.438</td>\n",
       "      <td>685401807</td>\n",
       "      <td>9.803946e+08</td>\n",
       "      <td>588000</td>\n",
       "    </tr>\n",
       "    <tr>\n",
       "      <th>4</th>\n",
       "      <td>2020/11/20</td>\n",
       "      <td>1.436</td>\n",
       "      <td>1.444</td>\n",
       "      <td>1.431</td>\n",
       "      <td>1.435</td>\n",
       "      <td>601003363</td>\n",
       "      <td>8.626239e+08</td>\n",
       "      <td>588000</td>\n",
       "    </tr>\n",
       "  </tbody>\n",
       "</table>\n",
       "</div>"
      ],
      "text/plain": [
       "           rq     kp     zg     zd     sp         cjl           cje    code\n",
       "0  2020/11/16  1.556  1.620  1.451  1.465  1445363837  2.119241e+09  588000\n",
       "1  2020/11/17  1.460  1.460  1.430  1.436  1080636535  1.553722e+09  588000\n",
       "2  2020/11/18  1.435  1.445  1.422  1.424   863188131  1.234789e+09  588000\n",
       "3  2020/11/19  1.424  1.440  1.412  1.438   685401807  9.803946e+08  588000\n",
       "4  2020/11/20  1.436  1.444  1.431  1.435   601003363  8.626239e+08  588000"
      ]
     },
     "execution_count": 36,
     "metadata": {},
     "output_type": "execute_result"
    }
   ],
   "source": [
    "df8.head(5)"
   ]
  },
  {
   "cell_type": "code",
   "execution_count": null,
   "id": "fefa8b1c-c94d-4adf-a1a0-24e8df84439c",
   "metadata": {},
   "outputs": [],
   "source": []
  },
  {
   "cell_type": "markdown",
   "id": "53f545fa-0607-4aa2-8e1d-4a32b235e0ba",
   "metadata": {},
   "source": [
    "### 3. 写入csv文件"
   ]
  },
  {
   "cell_type": "code",
   "execution_count": 27,
   "id": "1183bd99-28f1-44f5-8825-2a2b509306be",
   "metadata": {},
   "outputs": [],
   "source": [
    "df8.to_csv('./stocks/df8.csv',index=False)"
   ]
  },
  {
   "cell_type": "code",
   "execution_count": null,
   "id": "5862fe71-3fac-4c0c-a110-1133c5b1f383",
   "metadata": {},
   "outputs": [],
   "source": []
  }
 ],
 "metadata": {
  "kernelspec": {
   "display_name": "Python 3 (ipykernel)",
   "language": "python",
   "name": "python3"
  },
  "language_info": {
   "codemirror_mode": {
    "name": "ipython",
    "version": 3
   },
   "file_extension": ".py",
   "mimetype": "text/x-python",
   "name": "python",
   "nbconvert_exporter": "python",
   "pygments_lexer": "ipython3",
   "version": "3.10.9"
  }
 },
 "nbformat": 4,
 "nbformat_minor": 5
}
