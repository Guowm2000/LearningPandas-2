{
 "cells": [
  {
   "cell_type": "markdown",
   "id": "9f1d1654-da46-402e-9ae5-a51bc6ab0a14",
   "metadata": {},
   "source": [
    "## 资金流入分析"
   ]
  },
  {
   "cell_type": "code",
   "execution_count": 2,
   "id": "4161bf3b-29a7-44cd-b6b1-5a9ea3177e2e",
   "metadata": {
    "tags": []
   },
   "outputs": [],
   "source": [
    "import pandas as pd\n",
    "import numpy as np"
   ]
  },
  {
   "cell_type": "code",
   "execution_count": 3,
   "id": "b273dcf4-aee3-4faa-8c96-901ee608f0d6",
   "metadata": {
    "tags": []
   },
   "outputs": [],
   "source": [
    "df=pd.read_excel('隆基绿能历史资金流向.xlsx',skiprows=2)"
   ]
  },
  {
   "cell_type": "code",
   "execution_count": 4,
   "id": "b6deb33c-d9ff-4238-a15c-981f1d8010e6",
   "metadata": {
    "tags": []
   },
   "outputs": [
    {
     "data": {
      "text/html": [
       "<div>\n",
       "<style scoped>\n",
       "    .dataframe tbody tr th:only-of-type {\n",
       "        vertical-align: middle;\n",
       "    }\n",
       "\n",
       "    .dataframe tbody tr th {\n",
       "        vertical-align: top;\n",
       "    }\n",
       "\n",
       "    .dataframe thead th {\n",
       "        text-align: right;\n",
       "    }\n",
       "</style>\n",
       "<table border=\"1\" class=\"dataframe\">\n",
       "  <thead>\n",
       "    <tr style=\"text-align: right;\">\n",
       "      <th></th>\n",
       "      <th>rq</th>\n",
       "      <th>spj</th>\n",
       "      <th>zf</th>\n",
       "      <th>zl</th>\n",
       "      <th>zl_zb</th>\n",
       "      <th>cdd</th>\n",
       "      <th>cdd_zb</th>\n",
       "      <th>dd</th>\n",
       "      <th>dd_zb</th>\n",
       "      <th>zd</th>\n",
       "      <th>zd_zb</th>\n",
       "      <th>xd</th>\n",
       "      <th>xd_zb</th>\n",
       "    </tr>\n",
       "  </thead>\n",
       "  <tbody>\n",
       "    <tr>\n",
       "      <th>0</th>\n",
       "      <td>2023-05-04</td>\n",
       "      <td>3.58</td>\n",
       "      <td>0.0468</td>\n",
       "      <td>1014.13万</td>\n",
       "      <td>0.0038</td>\n",
       "      <td>-6384.10万</td>\n",
       "      <td>-0.0242</td>\n",
       "      <td>7398.23万</td>\n",
       "      <td>0.0281</td>\n",
       "      <td>7797.99万</td>\n",
       "      <td>0.0296</td>\n",
       "      <td>-8812.11万</td>\n",
       "      <td>-0.0334</td>\n",
       "    </tr>\n",
       "    <tr>\n",
       "      <th>1</th>\n",
       "      <td>2023-04-28</td>\n",
       "      <td>3.42</td>\n",
       "      <td>0.0000</td>\n",
       "      <td>-1464.30万</td>\n",
       "      <td>-0.0110</td>\n",
       "      <td>-4568.09万</td>\n",
       "      <td>-0.0342</td>\n",
       "      <td>3103.79万</td>\n",
       "      <td>0.0232</td>\n",
       "      <td>-2534.07万</td>\n",
       "      <td>-0.0190</td>\n",
       "      <td>3998.38万</td>\n",
       "      <td>0.0299</td>\n",
       "    </tr>\n",
       "    <tr>\n",
       "      <th>2</th>\n",
       "      <td>2023-04-27</td>\n",
       "      <td>3.42</td>\n",
       "      <td>0.0088</td>\n",
       "      <td>-3750.24万</td>\n",
       "      <td>-0.0241</td>\n",
       "      <td>-3439.89万</td>\n",
       "      <td>-0.0221</td>\n",
       "      <td>-310.35万</td>\n",
       "      <td>-0.0020</td>\n",
       "      <td>2863.54万</td>\n",
       "      <td>0.0184</td>\n",
       "      <td>886.69万</td>\n",
       "      <td>0.0057</td>\n",
       "    </tr>\n",
       "    <tr>\n",
       "      <th>3</th>\n",
       "      <td>2023-04-26</td>\n",
       "      <td>36.26</td>\n",
       "      <td>0.0357</td>\n",
       "      <td>2.93亿</td>\n",
       "      <td>0.0691</td>\n",
       "      <td>3.75亿</td>\n",
       "      <td>0.0885</td>\n",
       "      <td>-8230.52万</td>\n",
       "      <td>-0.0194</td>\n",
       "      <td>-1.82亿</td>\n",
       "      <td>-0.0429</td>\n",
       "      <td>-1.11亿</td>\n",
       "      <td>-0.0262</td>\n",
       "    </tr>\n",
       "    <tr>\n",
       "      <th>4</th>\n",
       "      <td>2023-04-25</td>\n",
       "      <td>35.01</td>\n",
       "      <td>-0.0337</td>\n",
       "      <td>-6.84亿</td>\n",
       "      <td>-0.2012</td>\n",
       "      <td>-4.43亿</td>\n",
       "      <td>-0.1301</td>\n",
       "      <td>-2.42亿</td>\n",
       "      <td>-0.0711</td>\n",
       "      <td>1.84亿</td>\n",
       "      <td>0.0541</td>\n",
       "      <td>5.00亿</td>\n",
       "      <td>0.1471</td>\n",
       "    </tr>\n",
       "  </tbody>\n",
       "</table>\n",
       "</div>"
      ],
      "text/plain": [
       "          rq    spj      zf         zl   zl_zb        cdd  cdd_zb         dd  \\\n",
       "0 2023-05-04   3.58  0.0468   1014.13万  0.0038  -6384.10万 -0.0242   7398.23万   \n",
       "1 2023-04-28   3.42  0.0000  -1464.30万 -0.0110  -4568.09万 -0.0342   3103.79万   \n",
       "2 2023-04-27   3.42  0.0088  -3750.24万 -0.0241  -3439.89万 -0.0221   -310.35万   \n",
       "3 2023-04-26  36.26  0.0357      2.93亿  0.0691      3.75亿  0.0885  -8230.52万   \n",
       "4 2023-04-25  35.01 -0.0337     -6.84亿 -0.2012     -4.43亿 -0.1301     -2.42亿   \n",
       "\n",
       "    dd_zb         zd   zd_zb         xd   xd_zb  \n",
       "0  0.0281   7797.99万  0.0296  -8812.11万 -0.0334  \n",
       "1  0.0232  -2534.07万 -0.0190   3998.38万  0.0299  \n",
       "2 -0.0020   2863.54万  0.0184    886.69万  0.0057  \n",
       "3 -0.0194     -1.82亿 -0.0429     -1.11亿 -0.0262  \n",
       "4 -0.0711      1.84亿  0.0541      5.00亿  0.1471  "
      ]
     },
     "execution_count": 4,
     "metadata": {},
     "output_type": "execute_result"
    }
   ],
   "source": [
    "df.head(5)"
   ]
  },
  {
   "cell_type": "markdown",
   "id": "46c887d8-6411-4198-aeac-b58f9fa23d1a",
   "metadata": {},
   "source": [
    "### 先学习replace函数和apply函数的使用"
   ]
  },
  {
   "cell_type": "code",
   "execution_count": 19,
   "id": "32cfa1e9-862f-4027-a5a1-68df1e04672e",
   "metadata": {
    "tags": []
   },
   "outputs": [
    {
     "ename": "TypeError",
     "evalue": "replace() got an unexpected keyword argument 'replace_to'",
     "output_type": "error",
     "traceback": [
      "\u001b[0;31m---------------------------------------------------------------------------\u001b[0m",
      "\u001b[0;31mTypeError\u001b[0m                                 Traceback (most recent call last)",
      "Cell \u001b[0;32mIn[19], line 1\u001b[0m\n\u001b[0;32m----> 1\u001b[0m \u001b[43mdf\u001b[49m\u001b[43m[\u001b[49m\u001b[38;5;124;43m'\u001b[39;49m\u001b[38;5;124;43mzl\u001b[39;49m\u001b[38;5;124;43m'\u001b[39;49m\u001b[43m]\u001b[49m\u001b[38;5;241;43m.\u001b[39;49m\u001b[43mreplace\u001b[49m\u001b[43m(\u001b[49m\u001b[43mreplace_to\u001b[49m\u001b[38;5;241;43m=\u001b[39;49m\u001b[43m[\u001b[49m\u001b[38;5;124;43m'\u001b[39;49m\u001b[38;5;124;43m万\u001b[39;49m\u001b[38;5;124;43m'\u001b[39;49m\u001b[43m,\u001b[49m\u001b[38;5;124;43m'\u001b[39;49m\u001b[38;5;124;43m亿\u001b[39;49m\u001b[38;5;124;43m'\u001b[39;49m\u001b[43m]\u001b[49m\u001b[43m,\u001b[49m\u001b[43mvalue\u001b[49m\u001b[38;5;241;43m=\u001b[39;49m\u001b[43m[\u001b[49m\u001b[38;5;124;43m'\u001b[39;49m\u001b[38;5;124;43m'\u001b[39;49m\u001b[43m,\u001b[49m\u001b[38;5;124;43m'\u001b[39;49m\u001b[38;5;124;43m'\u001b[39;49m\u001b[43m]\u001b[49m\u001b[43m)\u001b[49m\n",
      "File \u001b[0;32m~/.local/lib/python3.9/site-packages/pandas/util/_decorators.py:331\u001b[0m, in \u001b[0;36mdeprecate_nonkeyword_arguments.<locals>.decorate.<locals>.wrapper\u001b[0;34m(*args, **kwargs)\u001b[0m\n\u001b[1;32m    325\u001b[0m \u001b[38;5;28;01mif\u001b[39;00m \u001b[38;5;28mlen\u001b[39m(args) \u001b[38;5;241m>\u001b[39m num_allow_args:\n\u001b[1;32m    326\u001b[0m     warnings\u001b[38;5;241m.\u001b[39mwarn(\n\u001b[1;32m    327\u001b[0m         msg\u001b[38;5;241m.\u001b[39mformat(arguments\u001b[38;5;241m=\u001b[39m_format_argument_list(allow_args)),\n\u001b[1;32m    328\u001b[0m         \u001b[38;5;167;01mFutureWarning\u001b[39;00m,\n\u001b[1;32m    329\u001b[0m         stacklevel\u001b[38;5;241m=\u001b[39mfind_stack_level(),\n\u001b[1;32m    330\u001b[0m     )\n\u001b[0;32m--> 331\u001b[0m \u001b[38;5;28;01mreturn\u001b[39;00m \u001b[43mfunc\u001b[49m\u001b[43m(\u001b[49m\u001b[38;5;241;43m*\u001b[39;49m\u001b[43margs\u001b[49m\u001b[43m,\u001b[49m\u001b[43m \u001b[49m\u001b[38;5;241;43m*\u001b[39;49m\u001b[38;5;241;43m*\u001b[39;49m\u001b[43mkwargs\u001b[49m\u001b[43m)\u001b[49m\n",
      "\u001b[0;31mTypeError\u001b[0m: replace() got an unexpected keyword argument 'replace_to'"
     ]
    }
   ],
   "source": [
    "df['zl'].replace(replace_to=['万','亿'],value=['',''])"
   ]
  },
  {
   "cell_type": "code",
   "execution_count": null,
   "id": "552621c2-c859-4ff8-8895-d1533d398edb",
   "metadata": {},
   "outputs": [],
   "source": []
  }
 ],
 "metadata": {
  "kernelspec": {
   "display_name": "Python 3 (ipykernel)",
   "language": "python",
   "name": "python3"
  },
  "language_info": {
   "codemirror_mode": {
    "name": "ipython",
    "version": 3
   },
   "file_extension": ".py",
   "mimetype": "text/x-python",
   "name": "python",
   "nbconvert_exporter": "python",
   "pygments_lexer": "ipython3",
   "version": "3.9.9"
  }
 },
 "nbformat": 4,
 "nbformat_minor": 5
}
