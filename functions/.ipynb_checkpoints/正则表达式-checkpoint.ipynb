{
 "cells": [
  {
   "cell_type": "markdown",
   "id": "68a6ff7d-b617-47b3-8737-af73b4f94375",
   "metadata": {},
   "source": [
    "# 正则表达式"
   ]
  },
  {
   "cell_type": "markdown",
   "id": "3bb3c580-0095-43db-ae3f-e3f99b5f1ee3",
   "metadata": {},
   "source": [
    "## **Python正则表达式中group与groups的用法详解**"
   ]
  },
  {
   "cell_type": "markdown",
   "id": "56e80fd2-dbe3-4696-9f8b-44593109174d",
   "metadata": {},
   "source": [
    "### 在Python中，正则表达式的group和groups方法用于处理匹配结果的分组信息。\n",
    "\n",
    "- #### group方法是re.MatchObject类中的一个函数，用于返回匹配对象的**整个**匹配结果或特定的**分组**匹配结果。\n",
    "- #### groups方法同样是re.MatchObject类中的函数，它返回的是所有分组匹配结果组成的**元组**。\n"
   ]
  },
  {
   "cell_type": "markdown",
   "id": "124d64e6-0fcd-420c-8424-cf3a6a68b24e",
   "metadata": {},
   "source": [
    "### 1 .group函数"
   ]
  },
  {
   "cell_type": "markdown",
   "id": "86c05ec6-81f0-4c52-a4f8-76dec2dfbba0",
   "metadata": {},
   "source": [
    "#### 1.1 返回整个匹配结果"
   ]
  },
  {
   "cell_type": "markdown",
   "id": "0d2e9f13-0766-4839-bf6f-bebf7b01047a",
   "metadata": {},
   "source": [
    "当group方法不带参数时，它将返回整个匹配结果。例如，以下代码将匹配字符串中的数字和字母，并返回整个匹配结果："
   ]
  },
  {
   "cell_type": "code",
   "execution_count": 8,
   "id": "a7074144-c9dc-4dc9-a0a3-dbf0c783f5cb",
   "metadata": {
    "tags": []
   },
   "outputs": [],
   "source": [
    "import re"
   ]
  },
  {
   "cell_type": "code",
   "execution_count": 19,
   "id": "98771421-04c6-47d2-99a8-4e3e32d9edd9",
   "metadata": {
    "tags": []
   },
   "outputs": [
    {
     "name": "stdout",
     "output_type": "stream",
     "text": [
      "bc123de\n"
     ]
    }
   ],
   "source": [
    "text =\"abc123def456\"\n",
    "pattern =\"b\\w{6}\"\n",
    "match =re.search(pattern, text)\n",
    "print(match.group())"
   ]
  },
  {
   "cell_type": "code",
   "execution_count": null,
   "id": "8816eecb-6302-40f7-b32a-447836547109",
   "metadata": {},
   "outputs": [],
   "source": []
  },
  {
   "cell_type": "markdown",
   "id": "4f70e941-04de-49fb-99f7-0619fa83f6c9",
   "metadata": {},
   "source": [
    "### **python_正则表达式中在模板字符串前加 r 怎么理解**"
   ]
  },
  {
   "cell_type": "markdown",
   "id": "c089ef6f-1fde-4446-af87-c1cc4637854f",
   "metadata": {},
   "source": [
    "在字符串前加r，表示字符串内没有特殊的、功能性字符。可以使转义字符不转义。该过程仅仅是只该字符串本身。如：  \n",
    "\n",
    "r’\\s\\d’就是一个长度为4个字符的字符串。  \n",
    "但是当其作为macth函数的pattern参数时，\\s就表示任意空白字符、\\d将表示任意一个数字  \n",
    "这与r’\\s\\d’本身表示一个没有特殊含义的字符串没有任何关系。"
   ]
  },
  {
   "cell_type": "code",
   "execution_count": 1,
   "id": "8f15508f-bcf3-469e-a08f-03f5a34bb12a",
   "metadata": {
    "tags": []
   },
   "outputs": [],
   "source": [
    "import re"
   ]
  },
  {
   "cell_type": "code",
   "execution_count": 7,
   "id": "48d5ce61-d6f5-4d44-aa43-ecdc1ea1f5c3",
   "metadata": {
    "tags": []
   },
   "outputs": [
    {
     "name": "stdout",
     "output_type": "stream",
     "text": [
      "1\\n2\n",
      " 9\n",
      "\t9\n"
     ]
    }
   ],
   "source": [
    "print(r'1\\n2') #直接输出字符串'1\\n2'\n",
    "print(re.match(r'\\s\\d', ' 9').group()) #此时，\\s表示任意空白字符，\\d表示任意一个数字\n",
    "print(re.match(r'\\s\\d', '\\t9').group()) #此时，\\t表示Tab,\\s表示任意空白字符、\\d表示任意一个数字"
   ]
  },
  {
   "cell_type": "markdown",
   "id": "20f97499-84a7-4aab-9018-bd750c8bdb6a",
   "metadata": {},
   "source": [
    "再以美元符号$为例，如果我们想要匹配文本中含有$的部分，但是$在正则表达式中表示匹配字符串的结束位置。"
   ]
  },
  {
   "cell_type": "code",
   "execution_count": null,
   "id": "dfe2fbb1-46a3-47c1-a4e4-812dbd377f66",
   "metadata": {},
   "outputs": [],
   "source": [
    "s = 'banana price is $12, apple price is $15'\n",
    "# 需求，$12,$15,\n",
    "result = re.search(r'.*($\\d+).*(\\$\\d+)', s)\n",
    "print(result.group(1))  # 匹配第一个数据\n",
    "print(result.group(2))  # 匹配第二个数据"
   ]
  },
  {
   "cell_type": "code",
   "execution_count": null,
   "id": "b21e24f9-74dc-4964-83a0-f7eb17fb2377",
   "metadata": {},
   "outputs": [],
   "source": [
    "这样写结果匹配失败，报错。\n",
    "应当在模板的$符号前加转义字符。\n",
    "转义字符虽然在字符串中并无作用，但是在正则表达式的函数中转义字符的作用会表现出来。"
   ]
  },
  {
   "cell_type": "code",
   "execution_count": null,
   "id": "54dca476-2077-4337-bd03-79201055f0c2",
   "metadata": {},
   "outputs": [],
   "source": [
    "import re\n",
    "s = 'banana price is $12, apple price is $15'\n",
    "# 需求，$12,$15,\n",
    "result = re.search(r'.*(\\$\\d+).*(\\$\\d+)', s)\n",
    "print(result.group(1))  # 匹配第一个数据\n",
    "print(result.group(2))  # 匹配第二个数据"
   ]
  }
 ],
 "metadata": {
  "kernelspec": {
   "display_name": "Python 3 (ipykernel)",
   "language": "python",
   "name": "python3"
  },
  "language_info": {
   "codemirror_mode": {
    "name": "ipython",
    "version": 3
   },
   "file_extension": ".py",
   "mimetype": "text/x-python",
   "name": "python",
   "nbconvert_exporter": "python",
   "pygments_lexer": "ipython3",
   "version": "3.9.9"
  }
 },
 "nbformat": 4,
 "nbformat_minor": 5
}
